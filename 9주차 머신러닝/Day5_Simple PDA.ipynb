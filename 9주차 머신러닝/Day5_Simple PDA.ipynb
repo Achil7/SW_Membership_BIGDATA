{
 "cells": [
  {
   "cell_type": "markdown",
   "id": "6fd05f65",
   "metadata": {},
   "source": [
    "## 라이브러리 호출"
   ]
  },
  {
   "cell_type": "code",
   "execution_count": 1,
   "id": "71fc6553",
   "metadata": {},
   "outputs": [],
   "source": [
    "import pandas as pd\n",
    "import matplotlib as mpl\n",
    "import matplotlib.pyplot as plt\n",
    "import seaborn as sns\n",
    "import plotly.express as px\n",
    "import scipy.stats as stats\n",
    "\n",
    "mpl.rc('font', family = 'Malgun Gothic')"
   ]
  },
  {
   "cell_type": "code",
   "execution_count": 2,
   "id": "20e5c904",
   "metadata": {},
   "outputs": [
    {
     "data": {
      "text/html": [
       "<div>\n",
       "<style scoped>\n",
       "    .dataframe tbody tr th:only-of-type {\n",
       "        vertical-align: middle;\n",
       "    }\n",
       "\n",
       "    .dataframe tbody tr th {\n",
       "        vertical-align: top;\n",
       "    }\n",
       "\n",
       "    .dataframe thead th {\n",
       "        text-align: right;\n",
       "    }\n",
       "</style>\n",
       "<table border=\"1\" class=\"dataframe\">\n",
       "  <thead>\n",
       "    <tr style=\"text-align: right;\">\n",
       "      <th></th>\n",
       "      <th>DATE</th>\n",
       "      <th>Target</th>\n",
       "      <th>Etching1</th>\n",
       "      <th>Etching2</th>\n",
       "      <th>Etching3</th>\n",
       "      <th>CVD1</th>\n",
       "      <th>CVD2</th>\n",
       "      <th>CVD3</th>\n",
       "      <th>Photo1</th>\n",
       "      <th>Photo2</th>\n",
       "      <th>...</th>\n",
       "      <th>D2TI17106 5</th>\n",
       "      <th>D2TI17107 14</th>\n",
       "      <th>D2TI17109 6</th>\n",
       "      <th>D2TI17109 9</th>\n",
       "      <th>D2TI17109 14</th>\n",
       "      <th>D2TI17109 15</th>\n",
       "      <th>D2TI18038 13</th>\n",
       "      <th>D2TIC13007 7</th>\n",
       "      <th>D2TIC13007 8</th>\n",
       "      <th>D2TIC13111 11</th>\n",
       "    </tr>\n",
       "  </thead>\n",
       "  <tbody>\n",
       "    <tr>\n",
       "      <th>0</th>\n",
       "      <td>2017-01-23</td>\n",
       "      <td>0.1</td>\n",
       "      <td>34.120371</td>\n",
       "      <td>16.241512</td>\n",
       "      <td>0.007016</td>\n",
       "      <td>0.006515</td>\n",
       "      <td>0.010939</td>\n",
       "      <td>26.249821</td>\n",
       "      <td>35.0</td>\n",
       "      <td>70.398824</td>\n",
       "      <td>...</td>\n",
       "      <td>127.181492</td>\n",
       "      <td>108.038794</td>\n",
       "      <td>146.584835</td>\n",
       "      <td>146.692649</td>\n",
       "      <td>146.402181</td>\n",
       "      <td>146.540817</td>\n",
       "      <td>152.007281</td>\n",
       "      <td>128.020216</td>\n",
       "      <td>127.977392</td>\n",
       "      <td>191.225271</td>\n",
       "    </tr>\n",
       "    <tr>\n",
       "      <th>1</th>\n",
       "      <td>2017-01-23</td>\n",
       "      <td>0.4</td>\n",
       "      <td>35.555397</td>\n",
       "      <td>17.488486</td>\n",
       "      <td>0.006235</td>\n",
       "      <td>0.006704</td>\n",
       "      <td>0.011216</td>\n",
       "      <td>26.249998</td>\n",
       "      <td>35.0</td>\n",
       "      <td>73.097358</td>\n",
       "      <td>...</td>\n",
       "      <td>125.351569</td>\n",
       "      <td>107.532383</td>\n",
       "      <td>146.761584</td>\n",
       "      <td>147.266826</td>\n",
       "      <td>146.865518</td>\n",
       "      <td>146.908826</td>\n",
       "      <td>151.954929</td>\n",
       "      <td>128.062277</td>\n",
       "      <td>128.041426</td>\n",
       "      <td>190.769580</td>\n",
       "    </tr>\n",
       "  </tbody>\n",
       "</table>\n",
       "<p>2 rows × 67 columns</p>\n",
       "</div>"
      ],
      "text/plain": [
       "         DATE  Target   Etching1   Etching2  Etching3      CVD1      CVD2  \\\n",
       "0  2017-01-23     0.1  34.120371  16.241512  0.007016  0.006515  0.010939   \n",
       "1  2017-01-23     0.4  35.555397  17.488486  0.006235  0.006704  0.011216   \n",
       "\n",
       "        CVD3  Photo1     Photo2  ...  D2TI17106 5  D2TI17107 14  D2TI17109 6  \\\n",
       "0  26.249821    35.0  70.398824  ...   127.181492    108.038794   146.584835   \n",
       "1  26.249998    35.0  73.097358  ...   125.351569    107.532383   146.761584   \n",
       "\n",
       "   D2TI17109 9  D2TI17109 14  D2TI17109 15  D2TI18038 13  D2TIC13007 7  \\\n",
       "0   146.692649    146.402181    146.540817    152.007281    128.020216   \n",
       "1   147.266826    146.865518    146.908826    151.954929    128.062277   \n",
       "\n",
       "   D2TIC13007 8  D2TIC13111 11  \n",
       "0    127.977392     191.225271  \n",
       "1    128.041426     190.769580  \n",
       "\n",
       "[2 rows x 67 columns]"
      ]
     },
     "execution_count": 2,
     "metadata": {},
     "output_type": "execute_result"
    }
   ],
   "source": [
    "df = pd.read_csv('./data/08_Data.csv')\n",
    "df.head(2)"
   ]
  },
  {
   "cell_type": "markdown",
   "id": "922abd1b",
   "metadata": {},
   "source": [
    "# 지도학습\n",
    "- 공정의 주요 인자를 X로 넣었을 때, 품질의 상태를 따지는 Y를 ('Target')을 예측하는 Model을 생성"
   ]
  },
  {
   "cell_type": "code",
   "execution_count": 3,
   "id": "abdbe893",
   "metadata": {},
   "outputs": [
    {
     "data": {
      "text/plain": [
       "DATE             0\n",
       "Target           8\n",
       "Etching1         0\n",
       "Etching2         0\n",
       "Etching3         0\n",
       "                ..\n",
       "D2TI17109 15     0\n",
       "D2TI18038 13     0\n",
       "D2TIC13007 7     0\n",
       "D2TIC13007 8     0\n",
       "D2TIC13111 11    0\n",
       "Length: 67, dtype: int64"
      ]
     },
     "execution_count": 3,
     "metadata": {},
     "output_type": "execute_result"
    }
   ],
   "source": [
    "df.isnull().sum()"
   ]
  },
  {
   "cell_type": "code",
   "execution_count": 4,
   "id": "a27bfc5a",
   "metadata": {},
   "outputs": [],
   "source": [
    "df1 = df.dropna()"
   ]
  },
  {
   "cell_type": "code",
   "execution_count": 5,
   "id": "1422a18b",
   "metadata": {},
   "outputs": [],
   "source": [
    "# 1) 학습에 있어 X, Y 선언\n",
    "X = df1[['CVD1','CVD2','CVD3','Etching1','Etching2','Etching3']]\n",
    "Y = df1['Target']\n",
    "\n",
    "# X는 DF\n",
    "# Y는 Series"
   ]
  },
  {
   "cell_type": "code",
   "execution_count": 6,
   "id": "f607b067",
   "metadata": {},
   "outputs": [],
   "source": [
    "# 지도학습에 사용될 라이브러리 호출\n",
    "from sklearn.model_selection import train_test_split\n",
    "from sklearn.tree import DecisionTreeRegressor\n",
    "from sklearn.metrics import r2_score\n",
    "# from sklearn.metrics import "
   ]
  },
  {
   "cell_type": "code",
   "execution_count": 7,
   "id": "d597c9dd",
   "metadata": {},
   "outputs": [
    {
     "data": {
      "text/html": [
       "<style>#sk-container-id-1 {color: black;background-color: white;}#sk-container-id-1 pre{padding: 0;}#sk-container-id-1 div.sk-toggleable {background-color: white;}#sk-container-id-1 label.sk-toggleable__label {cursor: pointer;display: block;width: 100%;margin-bottom: 0;padding: 0.3em;box-sizing: border-box;text-align: center;}#sk-container-id-1 label.sk-toggleable__label-arrow:before {content: \"▸\";float: left;margin-right: 0.25em;color: #696969;}#sk-container-id-1 label.sk-toggleable__label-arrow:hover:before {color: black;}#sk-container-id-1 div.sk-estimator:hover label.sk-toggleable__label-arrow:before {color: black;}#sk-container-id-1 div.sk-toggleable__content {max-height: 0;max-width: 0;overflow: hidden;text-align: left;background-color: #f0f8ff;}#sk-container-id-1 div.sk-toggleable__content pre {margin: 0.2em;color: black;border-radius: 0.25em;background-color: #f0f8ff;}#sk-container-id-1 input.sk-toggleable__control:checked~div.sk-toggleable__content {max-height: 200px;max-width: 100%;overflow: auto;}#sk-container-id-1 input.sk-toggleable__control:checked~label.sk-toggleable__label-arrow:before {content: \"▾\";}#sk-container-id-1 div.sk-estimator input.sk-toggleable__control:checked~label.sk-toggleable__label {background-color: #d4ebff;}#sk-container-id-1 div.sk-label input.sk-toggleable__control:checked~label.sk-toggleable__label {background-color: #d4ebff;}#sk-container-id-1 input.sk-hidden--visually {border: 0;clip: rect(1px 1px 1px 1px);clip: rect(1px, 1px, 1px, 1px);height: 1px;margin: -1px;overflow: hidden;padding: 0;position: absolute;width: 1px;}#sk-container-id-1 div.sk-estimator {font-family: monospace;background-color: #f0f8ff;border: 1px dotted black;border-radius: 0.25em;box-sizing: border-box;margin-bottom: 0.5em;}#sk-container-id-1 div.sk-estimator:hover {background-color: #d4ebff;}#sk-container-id-1 div.sk-parallel-item::after {content: \"\";width: 100%;border-bottom: 1px solid gray;flex-grow: 1;}#sk-container-id-1 div.sk-label:hover label.sk-toggleable__label {background-color: #d4ebff;}#sk-container-id-1 div.sk-serial::before {content: \"\";position: absolute;border-left: 1px solid gray;box-sizing: border-box;top: 0;bottom: 0;left: 50%;z-index: 0;}#sk-container-id-1 div.sk-serial {display: flex;flex-direction: column;align-items: center;background-color: white;padding-right: 0.2em;padding-left: 0.2em;position: relative;}#sk-container-id-1 div.sk-item {position: relative;z-index: 1;}#sk-container-id-1 div.sk-parallel {display: flex;align-items: stretch;justify-content: center;background-color: white;position: relative;}#sk-container-id-1 div.sk-item::before, #sk-container-id-1 div.sk-parallel-item::before {content: \"\";position: absolute;border-left: 1px solid gray;box-sizing: border-box;top: 0;bottom: 0;left: 50%;z-index: -1;}#sk-container-id-1 div.sk-parallel-item {display: flex;flex-direction: column;z-index: 1;position: relative;background-color: white;}#sk-container-id-1 div.sk-parallel-item:first-child::after {align-self: flex-end;width: 50%;}#sk-container-id-1 div.sk-parallel-item:last-child::after {align-self: flex-start;width: 50%;}#sk-container-id-1 div.sk-parallel-item:only-child::after {width: 0;}#sk-container-id-1 div.sk-dashed-wrapped {border: 1px dashed gray;margin: 0 0.4em 0.5em 0.4em;box-sizing: border-box;padding-bottom: 0.4em;background-color: white;}#sk-container-id-1 div.sk-label label {font-family: monospace;font-weight: bold;display: inline-block;line-height: 1.2em;}#sk-container-id-1 div.sk-label-container {text-align: center;}#sk-container-id-1 div.sk-container {/* jupyter's `normalize.less` sets `[hidden] { display: none; }` but bootstrap.min.css set `[hidden] { display: none !important; }` so we also need the `!important` here to be able to override the default hidden behavior on the sphinx rendered scikit-learn.org. See: https://github.com/scikit-learn/scikit-learn/issues/21755 */display: inline-block !important;position: relative;}#sk-container-id-1 div.sk-text-repr-fallback {display: none;}</style><div id=\"sk-container-id-1\" class=\"sk-top-container\"><div class=\"sk-text-repr-fallback\"><pre>DecisionTreeRegressor(random_state=7)</pre><b>In a Jupyter environment, please rerun this cell to show the HTML representation or trust the notebook. <br />On GitHub, the HTML representation is unable to render, please try loading this page with nbviewer.org.</b></div><div class=\"sk-container\" hidden><div class=\"sk-item\"><div class=\"sk-estimator sk-toggleable\"><input class=\"sk-toggleable__control sk-hidden--visually\" id=\"sk-estimator-id-1\" type=\"checkbox\" checked><label for=\"sk-estimator-id-1\" class=\"sk-toggleable__label sk-toggleable__label-arrow\">DecisionTreeRegressor</label><div class=\"sk-toggleable__content\"><pre>DecisionTreeRegressor(random_state=7)</pre></div></div></div></div></div>"
      ],
      "text/plain": [
       "DecisionTreeRegressor(random_state=7)"
      ]
     },
     "execution_count": 7,
     "metadata": {},
     "output_type": "execute_result"
    }
   ],
   "source": [
    "# 데이터 분할\n",
    "x_train, x_test, y_train, y_test = train_test_split(X,Y, test_size = 0.3, random_state = 42)\n",
    "\n",
    "# 학습 수행\n",
    "model = DecisionTreeRegressor(random_state = 7)\n",
    "model.fit(x_train,y_train)"
   ]
  },
  {
   "cell_type": "code",
   "execution_count": 8,
   "id": "76c2719d",
   "metadata": {},
   "outputs": [
    {
     "name": "stdout",
     "output_type": "stream",
     "text": [
      "학습 능력 평가 : 1.0\n",
      "일반화 능력 평가 : -0.7402157241106335\n"
     ]
    }
   ],
   "source": [
    "# 평가\n",
    "y_train_pred = model.predict(x_train)\n",
    "y_test_pred = model.predict(x_test)\n",
    "print('학습 능력 평가 :', r2_score(y_train, y_train_pred))\n",
    "print('일반화 능력 평가 :', r2_score(y_test, y_test_pred))"
   ]
  },
  {
   "cell_type": "code",
   "execution_count": 9,
   "id": "bf11874d",
   "metadata": {},
   "outputs": [
    {
     "name": "stdout",
     "output_type": "stream",
     "text": [
      "CVD1값을 입력하시오 :10\n",
      "CVD2값을 입력하시오 :20\n",
      "CVD3값을 입력하시오 :300\n",
      "Etching1값을 입력하시오 :300\n",
      "Etching2값을 입력하시오 :20\n",
      "Etching3값을 입력하시오 :10\n"
     ]
    },
    {
     "data": {
      "text/html": [
       "<div>\n",
       "<style scoped>\n",
       "    .dataframe tbody tr th:only-of-type {\n",
       "        vertical-align: middle;\n",
       "    }\n",
       "\n",
       "    .dataframe tbody tr th {\n",
       "        vertical-align: top;\n",
       "    }\n",
       "\n",
       "    .dataframe thead th {\n",
       "        text-align: right;\n",
       "    }\n",
       "</style>\n",
       "<table border=\"1\" class=\"dataframe\">\n",
       "  <thead>\n",
       "    <tr style=\"text-align: right;\">\n",
       "      <th></th>\n",
       "      <th>CVD1</th>\n",
       "      <th>CVD2</th>\n",
       "      <th>CVD3</th>\n",
       "      <th>Etching1</th>\n",
       "      <th>Etching2</th>\n",
       "      <th>Etching3</th>\n",
       "    </tr>\n",
       "  </thead>\n",
       "  <tbody>\n",
       "    <tr>\n",
       "      <th>0</th>\n",
       "      <td>10</td>\n",
       "      <td>20</td>\n",
       "      <td>300</td>\n",
       "      <td>300</td>\n",
       "      <td>20</td>\n",
       "      <td>10</td>\n",
       "    </tr>\n",
       "  </tbody>\n",
       "</table>\n",
       "</div>"
      ],
      "text/plain": [
       "  CVD1 CVD2 CVD3 Etching1 Etching2 Etching3\n",
       "0   10   20  300      300       20       10"
      ]
     },
     "execution_count": 9,
     "metadata": {},
     "output_type": "execute_result"
    }
   ],
   "source": [
    "# 새로운 데이터로 예측\n",
    "x1 = input('CVD1값을 입력하시오 :')\n",
    "x2 = input('CVD2값을 입력하시오 :')\n",
    "x3 = input('CVD3값을 입력하시오 :')\n",
    "x4 = input('Etching1값을 입력하시오 :')\n",
    "x5 = input('Etching2값을 입력하시오 :')\n",
    "x6 = input('Etching3값을 입력하시오 :')\n",
    "\n",
    "new_data = pd.DataFrame(data=[[x1,x2,x3,x4,x5,x6]], columns = X.columns)\n",
    "new_data"
   ]
  },
  {
   "cell_type": "code",
   "execution_count": 10,
   "id": "79cb2654",
   "metadata": {},
   "outputs": [
    {
     "data": {
      "text/plain": [
       "1.0"
      ]
     },
     "execution_count": 10,
     "metadata": {},
     "output_type": "execute_result"
    }
   ],
   "source": [
    "# 입력 값에 대한 값 예측\n",
    "model.predict(new_data)[0]"
   ]
  },
  {
   "cell_type": "code",
   "execution_count": 11,
   "id": "2a0c90f1",
   "metadata": {},
   "outputs": [],
   "source": [
    "# 생성한 모델을 파일 형태로 저장\n",
    "import pickle\n",
    "\n",
    "pickle.dump(model, open('./실습 저장파일/model.sav', 'wb')) # 앞서 만든 mocel 변수를 파일로 생성"
   ]
  },
  {
   "cell_type": "markdown",
   "id": "ee1b4078",
   "metadata": {},
   "source": [
    "# 분류 모델"
   ]
  },
  {
   "cell_type": "code",
   "execution_count": 12,
   "id": "4e5d7c2d",
   "metadata": {},
   "outputs": [
    {
     "data": {
      "text/html": [
       "<div>\n",
       "<style scoped>\n",
       "    .dataframe tbody tr th:only-of-type {\n",
       "        vertical-align: middle;\n",
       "    }\n",
       "\n",
       "    .dataframe tbody tr th {\n",
       "        vertical-align: top;\n",
       "    }\n",
       "\n",
       "    .dataframe thead th {\n",
       "        text-align: right;\n",
       "    }\n",
       "</style>\n",
       "<table border=\"1\" class=\"dataframe\">\n",
       "  <thead>\n",
       "    <tr style=\"text-align: right;\">\n",
       "      <th></th>\n",
       "      <th>Index</th>\n",
       "      <th>Member_ID</th>\n",
       "      <th>Sales_Type</th>\n",
       "      <th>Contract_Type</th>\n",
       "      <th>Channel</th>\n",
       "      <th>Datetime</th>\n",
       "      <th>Term</th>\n",
       "      <th>Payment_Type</th>\n",
       "      <th>Product_Type</th>\n",
       "      <th>Amount_Month</th>\n",
       "      <th>Customer_Type</th>\n",
       "      <th>Age</th>\n",
       "      <th>Address1</th>\n",
       "      <th>Address2</th>\n",
       "      <th>State</th>\n",
       "      <th>Overdue_count</th>\n",
       "      <th>Overdue_Type</th>\n",
       "      <th>Gender</th>\n",
       "      <th>Credit_Rank</th>\n",
       "      <th>Bank</th>\n",
       "    </tr>\n",
       "  </thead>\n",
       "  <tbody>\n",
       "    <tr>\n",
       "      <th>0</th>\n",
       "      <td>1</td>\n",
       "      <td>66758234</td>\n",
       "      <td>렌탈</td>\n",
       "      <td>일반계약</td>\n",
       "      <td>영업방판</td>\n",
       "      <td>2019-05-06</td>\n",
       "      <td>60</td>\n",
       "      <td>CMS</td>\n",
       "      <td>DES-1</td>\n",
       "      <td>96900</td>\n",
       "      <td>개인</td>\n",
       "      <td>42.0</td>\n",
       "      <td>경기도</td>\n",
       "      <td>경기도</td>\n",
       "      <td>계약확정</td>\n",
       "      <td>0</td>\n",
       "      <td>없음</td>\n",
       "      <td>여자</td>\n",
       "      <td>9.0</td>\n",
       "      <td>새마을금고</td>\n",
       "    </tr>\n",
       "  </tbody>\n",
       "</table>\n",
       "</div>"
      ],
      "text/plain": [
       "   Index  Member_ID Sales_Type Contract_Type Channel    Datetime  Term  \\\n",
       "0      1   66758234         렌탈          일반계약    영업방판  2019-05-06    60   \n",
       "\n",
       "  Payment_Type Product_Type  Amount_Month Customer_Type   Age Address1  \\\n",
       "0          CMS        DES-1         96900            개인  42.0      경기도   \n",
       "\n",
       "  Address2 State  Overdue_count Overdue_Type Gender  Credit_Rank   Bank  \n",
       "0      경기도  계약확정              0           없음     여자          9.0  새마을금고  "
      ]
     },
     "execution_count": 12,
     "metadata": {},
     "output_type": "execute_result"
    }
   ],
   "source": [
    "# 01_Data.csv\n",
    "df2 = pd.read_csv('./data/01_Data.csv')\n",
    "df2.head(1)"
   ]
  },
  {
   "cell_type": "code",
   "execution_count": 13,
   "id": "d5eba0a6",
   "metadata": {},
   "outputs": [
    {
     "data": {
      "text/plain": [
       "array(['계약확정', '기간만료', '해약확정', '해약진행중'], dtype=object)"
      ]
     },
     "execution_count": 13,
     "metadata": {},
     "output_type": "execute_result"
    }
   ],
   "source": [
    "# 1) 데이터 핸들링\n",
    "df2['State'].unique()"
   ]
  },
  {
   "cell_type": "code",
   "execution_count": 14,
   "id": "59923003",
   "metadata": {},
   "outputs": [
    {
     "data": {
      "text/plain": [
       "정상    50620\n",
       "해약      681\n",
       "Name: 해약여부, dtype: int64"
      ]
     },
     "execution_count": 14,
     "metadata": {},
     "output_type": "execute_result"
    }
   ],
   "source": [
    "df2['해약여부'] = df2['State'].replace({'계약확정' : '정상', '기간만료' : '해약', '해약확정' : '해약', '해약진행중' : '해약'})\n",
    "df2['해약여부'].value_counts()"
   ]
  },
  {
   "cell_type": "code",
   "execution_count": 15,
   "id": "006e847d",
   "metadata": {},
   "outputs": [],
   "source": [
    "# 결측치 제거\n",
    "df3 = df2.dropna()"
   ]
  },
  {
   "cell_type": "code",
   "execution_count": 16,
   "id": "1e537fc3",
   "metadata": {},
   "outputs": [],
   "source": [
    "# 2) 목표변수 / 설명변수 설정\n",
    "X = df3[['Age','Credit_Rank','Amount_Month', 'Term']]\n",
    "Y = df3['해약여부']"
   ]
  },
  {
   "cell_type": "code",
   "execution_count": 17,
   "id": "11f5b284",
   "metadata": {},
   "outputs": [
    {
     "data": {
      "text/html": [
       "<style>#sk-container-id-2 {color: black;background-color: white;}#sk-container-id-2 pre{padding: 0;}#sk-container-id-2 div.sk-toggleable {background-color: white;}#sk-container-id-2 label.sk-toggleable__label {cursor: pointer;display: block;width: 100%;margin-bottom: 0;padding: 0.3em;box-sizing: border-box;text-align: center;}#sk-container-id-2 label.sk-toggleable__label-arrow:before {content: \"▸\";float: left;margin-right: 0.25em;color: #696969;}#sk-container-id-2 label.sk-toggleable__label-arrow:hover:before {color: black;}#sk-container-id-2 div.sk-estimator:hover label.sk-toggleable__label-arrow:before {color: black;}#sk-container-id-2 div.sk-toggleable__content {max-height: 0;max-width: 0;overflow: hidden;text-align: left;background-color: #f0f8ff;}#sk-container-id-2 div.sk-toggleable__content pre {margin: 0.2em;color: black;border-radius: 0.25em;background-color: #f0f8ff;}#sk-container-id-2 input.sk-toggleable__control:checked~div.sk-toggleable__content {max-height: 200px;max-width: 100%;overflow: auto;}#sk-container-id-2 input.sk-toggleable__control:checked~label.sk-toggleable__label-arrow:before {content: \"▾\";}#sk-container-id-2 div.sk-estimator input.sk-toggleable__control:checked~label.sk-toggleable__label {background-color: #d4ebff;}#sk-container-id-2 div.sk-label input.sk-toggleable__control:checked~label.sk-toggleable__label {background-color: #d4ebff;}#sk-container-id-2 input.sk-hidden--visually {border: 0;clip: rect(1px 1px 1px 1px);clip: rect(1px, 1px, 1px, 1px);height: 1px;margin: -1px;overflow: hidden;padding: 0;position: absolute;width: 1px;}#sk-container-id-2 div.sk-estimator {font-family: monospace;background-color: #f0f8ff;border: 1px dotted black;border-radius: 0.25em;box-sizing: border-box;margin-bottom: 0.5em;}#sk-container-id-2 div.sk-estimator:hover {background-color: #d4ebff;}#sk-container-id-2 div.sk-parallel-item::after {content: \"\";width: 100%;border-bottom: 1px solid gray;flex-grow: 1;}#sk-container-id-2 div.sk-label:hover label.sk-toggleable__label {background-color: #d4ebff;}#sk-container-id-2 div.sk-serial::before {content: \"\";position: absolute;border-left: 1px solid gray;box-sizing: border-box;top: 0;bottom: 0;left: 50%;z-index: 0;}#sk-container-id-2 div.sk-serial {display: flex;flex-direction: column;align-items: center;background-color: white;padding-right: 0.2em;padding-left: 0.2em;position: relative;}#sk-container-id-2 div.sk-item {position: relative;z-index: 1;}#sk-container-id-2 div.sk-parallel {display: flex;align-items: stretch;justify-content: center;background-color: white;position: relative;}#sk-container-id-2 div.sk-item::before, #sk-container-id-2 div.sk-parallel-item::before {content: \"\";position: absolute;border-left: 1px solid gray;box-sizing: border-box;top: 0;bottom: 0;left: 50%;z-index: -1;}#sk-container-id-2 div.sk-parallel-item {display: flex;flex-direction: column;z-index: 1;position: relative;background-color: white;}#sk-container-id-2 div.sk-parallel-item:first-child::after {align-self: flex-end;width: 50%;}#sk-container-id-2 div.sk-parallel-item:last-child::after {align-self: flex-start;width: 50%;}#sk-container-id-2 div.sk-parallel-item:only-child::after {width: 0;}#sk-container-id-2 div.sk-dashed-wrapped {border: 1px dashed gray;margin: 0 0.4em 0.5em 0.4em;box-sizing: border-box;padding-bottom: 0.4em;background-color: white;}#sk-container-id-2 div.sk-label label {font-family: monospace;font-weight: bold;display: inline-block;line-height: 1.2em;}#sk-container-id-2 div.sk-label-container {text-align: center;}#sk-container-id-2 div.sk-container {/* jupyter's `normalize.less` sets `[hidden] { display: none; }` but bootstrap.min.css set `[hidden] { display: none !important; }` so we also need the `!important` here to be able to override the default hidden behavior on the sphinx rendered scikit-learn.org. See: https://github.com/scikit-learn/scikit-learn/issues/21755 */display: inline-block !important;position: relative;}#sk-container-id-2 div.sk-text-repr-fallback {display: none;}</style><div id=\"sk-container-id-2\" class=\"sk-top-container\"><div class=\"sk-text-repr-fallback\"><pre>DecisionTreeClassifier()</pre><b>In a Jupyter environment, please rerun this cell to show the HTML representation or trust the notebook. <br />On GitHub, the HTML representation is unable to render, please try loading this page with nbviewer.org.</b></div><div class=\"sk-container\" hidden><div class=\"sk-item\"><div class=\"sk-estimator sk-toggleable\"><input class=\"sk-toggleable__control sk-hidden--visually\" id=\"sk-estimator-id-2\" type=\"checkbox\" checked><label for=\"sk-estimator-id-2\" class=\"sk-toggleable__label sk-toggleable__label-arrow\">DecisionTreeClassifier</label><div class=\"sk-toggleable__content\"><pre>DecisionTreeClassifier()</pre></div></div></div></div></div>"
      ],
      "text/plain": [
       "DecisionTreeClassifier()"
      ]
     },
     "execution_count": 17,
     "metadata": {},
     "output_type": "execute_result"
    }
   ],
   "source": [
    "# 3) 데이터 분한\n",
    "x_train, x_test, y_train, y_test = train_test_split(X,Y, test_size = 0.3, random_state = 42)\n",
    "\n",
    "# 4) model fit\n",
    "from sklearn.tree import DecisionTreeClassifier\n",
    "from sklearn.metrics import accuracy_score, confusion_matrix, f1_score, precision_score, recall_score, classification_report\n",
    "\n",
    "model = DecisionTreeClassifier()\n",
    "model.fit(x_train,y_train)"
   ]
  },
  {
   "cell_type": "code",
   "execution_count": 18,
   "id": "c6bdcbaa",
   "metadata": {},
   "outputs": [],
   "source": [
    "y_train_pred = model.predict(x_train)\n",
    "y_test_pred = model.predict(x_test)"
   ]
  },
  {
   "cell_type": "code",
   "execution_count": 19,
   "id": "a3518a0e",
   "metadata": {},
   "outputs": [
    {
     "name": "stdout",
     "output_type": "stream",
     "text": [
      "Train 능력 평가 : 0.9887881344017995\n",
      "Test 능력 평가 : 0.9831078310783108\n"
     ]
    }
   ],
   "source": [
    "print('Train 능력 평가 :', accuracy_score(y_train, y_train_pred))\n",
    "print('Test 능력 평가 :', accuracy_score(y_test, y_test_pred))"
   ]
  },
  {
   "cell_type": "code",
   "execution_count": 20,
   "id": "b38fb9e3",
   "metadata": {},
   "outputs": [
    {
     "name": "stdout",
     "output_type": "stream",
     "text": [
      "f1 : 0.9914777428429588\n",
      "precision(정밀도) : 0.9852820259825686\n",
      "recall(재현율) : 0.997751873438801\n",
      "\n",
      "오차행렬 :\n",
      "[[11983    27]\n",
      " [  179     6]]\n"
     ]
    }
   ],
   "source": [
    "# Test 셋에 대한\n",
    "print('f1 :', f1_score(y_test,y_test_pred, pos_label='정상'))\n",
    "print('precision(정밀도) :', precision_score(y_test,y_test_pred, pos_label='정상'))\n",
    "print('recall(재현율) :', recall_score(y_test,y_test_pred, pos_label='정상'))\n",
    "print('')\n",
    "print('오차행렬 :')\n",
    "print(confusion_matrix(y_test,y_test_pred))"
   ]
  },
  {
   "cell_type": "code",
   "execution_count": 21,
   "id": "cb5ee223",
   "metadata": {},
   "outputs": [
    {
     "name": "stdout",
     "output_type": "stream",
     "text": [
      "[[11983    27]\n",
      " [  179     6]]\n"
     ]
    }
   ],
   "source": [
    "cm = confusion_matrix(y_test,y_test_pred)\n",
    "print(cm)\n",
    "precision = cm[0][0] / (cm[0][0] + cm[1][0]) # TN + FP"
   ]
  },
  {
   "cell_type": "code",
   "execution_count": 22,
   "id": "f8938858",
   "metadata": {},
   "outputs": [
    {
     "name": "stdout",
     "output_type": "stream",
     "text": [
      "              precision    recall  f1-score   support\n",
      "\n",
      "          정상       0.99      1.00      0.99     28094\n",
      "          해약       0.88      0.13      0.22       358\n",
      "\n",
      "    accuracy                           0.99     28452\n",
      "   macro avg       0.94      0.56      0.61     28452\n",
      "weighted avg       0.99      0.99      0.98     28452\n",
      "\n",
      "              precision    recall  f1-score   support\n",
      "\n",
      "          정상       0.99      1.00      0.99     12010\n",
      "          해약       0.18      0.03      0.06       185\n",
      "\n",
      "    accuracy                           0.98     12195\n",
      "   macro avg       0.58      0.52      0.52     12195\n",
      "weighted avg       0.97      0.98      0.98     12195\n",
      "\n"
     ]
    }
   ],
   "source": [
    "print(classification_report(y_train,y_train_pred))\n",
    "print(classification_report(y_test,y_test_pred))"
   ]
  },
  {
   "cell_type": "code",
   "execution_count": 23,
   "id": "a48c3ac2",
   "metadata": {},
   "outputs": [
    {
     "data": {
      "text/html": [
       "<div>\n",
       "<style scoped>\n",
       "    .dataframe tbody tr th:only-of-type {\n",
       "        vertical-align: middle;\n",
       "    }\n",
       "\n",
       "    .dataframe tbody tr th {\n",
       "        vertical-align: top;\n",
       "    }\n",
       "\n",
       "    .dataframe thead th {\n",
       "        text-align: right;\n",
       "    }\n",
       "</style>\n",
       "<table border=\"1\" class=\"dataframe\">\n",
       "  <thead>\n",
       "    <tr style=\"text-align: right;\">\n",
       "      <th></th>\n",
       "      <th>precision</th>\n",
       "      <th>recall</th>\n",
       "      <th>f1-score</th>\n",
       "      <th>support</th>\n",
       "    </tr>\n",
       "  </thead>\n",
       "  <tbody>\n",
       "    <tr>\n",
       "      <th>정상</th>\n",
       "      <td>0.985282</td>\n",
       "      <td>0.997752</td>\n",
       "      <td>0.991478</td>\n",
       "      <td>12010.000000</td>\n",
       "    </tr>\n",
       "    <tr>\n",
       "      <th>해약</th>\n",
       "      <td>0.181818</td>\n",
       "      <td>0.032432</td>\n",
       "      <td>0.055046</td>\n",
       "      <td>185.000000</td>\n",
       "    </tr>\n",
       "    <tr>\n",
       "      <th>accuracy</th>\n",
       "      <td>0.983108</td>\n",
       "      <td>0.983108</td>\n",
       "      <td>0.983108</td>\n",
       "      <td>0.983108</td>\n",
       "    </tr>\n",
       "    <tr>\n",
       "      <th>macro avg</th>\n",
       "      <td>0.583550</td>\n",
       "      <td>0.515092</td>\n",
       "      <td>0.523262</td>\n",
       "      <td>12195.000000</td>\n",
       "    </tr>\n",
       "    <tr>\n",
       "      <th>weighted avg</th>\n",
       "      <td>0.973093</td>\n",
       "      <td>0.983108</td>\n",
       "      <td>0.977272</td>\n",
       "      <td>12195.000000</td>\n",
       "    </tr>\n",
       "  </tbody>\n",
       "</table>\n",
       "</div>"
      ],
      "text/plain": [
       "              precision    recall  f1-score       support\n",
       "정상             0.985282  0.997752  0.991478  12010.000000\n",
       "해약             0.181818  0.032432  0.055046    185.000000\n",
       "accuracy       0.983108  0.983108  0.983108      0.983108\n",
       "macro avg      0.583550  0.515092  0.523262  12195.000000\n",
       "weighted avg   0.973093  0.983108  0.977272  12195.000000"
      ]
     },
     "execution_count": 23,
     "metadata": {},
     "output_type": "execute_result"
    }
   ],
   "source": [
    "report = classification_report(y_test, y_test_pred, output_dict=True)\n",
    "res = pd.DataFrame(report).T\n",
    "res"
   ]
  },
  {
   "cell_type": "markdown",
   "id": "d47d47ce",
   "metadata": {},
   "source": [
    "# Mission 7.\n",
    "- '01_Data.csv'파일을 가져와 df1로 선언한 뒤, 아래의 문제를 해결하시오"
   ]
  },
  {
   "cell_type": "code",
   "execution_count": 24,
   "id": "07005b13",
   "metadata": {},
   "outputs": [
    {
     "data": {
      "text/html": [
       "<div>\n",
       "<style scoped>\n",
       "    .dataframe tbody tr th:only-of-type {\n",
       "        vertical-align: middle;\n",
       "    }\n",
       "\n",
       "    .dataframe tbody tr th {\n",
       "        vertical-align: top;\n",
       "    }\n",
       "\n",
       "    .dataframe thead th {\n",
       "        text-align: right;\n",
       "    }\n",
       "</style>\n",
       "<table border=\"1\" class=\"dataframe\">\n",
       "  <thead>\n",
       "    <tr style=\"text-align: right;\">\n",
       "      <th></th>\n",
       "      <th>Total_Amount</th>\n",
       "    </tr>\n",
       "    <tr>\n",
       "      <th>Index</th>\n",
       "      <th></th>\n",
       "    </tr>\n",
       "  </thead>\n",
       "  <tbody>\n",
       "    <tr>\n",
       "      <th>1</th>\n",
       "      <td>5814000</td>\n",
       "    </tr>\n",
       "    <tr>\n",
       "      <th>2</th>\n",
       "      <td>6174000</td>\n",
       "    </tr>\n",
       "    <tr>\n",
       "      <th>3</th>\n",
       "      <td>5814000</td>\n",
       "    </tr>\n",
       "    <tr>\n",
       "      <th>4</th>\n",
       "      <td>802800</td>\n",
       "    </tr>\n",
       "    <tr>\n",
       "      <th>5</th>\n",
       "      <td>802800</td>\n",
       "    </tr>\n",
       "    <tr>\n",
       "      <th>...</th>\n",
       "      <td>...</td>\n",
       "    </tr>\n",
       "    <tr>\n",
       "      <th>51298</th>\n",
       "      <td>5814000</td>\n",
       "    </tr>\n",
       "    <tr>\n",
       "      <th>51299</th>\n",
       "      <td>5814000</td>\n",
       "    </tr>\n",
       "    <tr>\n",
       "      <th>51300</th>\n",
       "      <td>4715100</td>\n",
       "    </tr>\n",
       "    <tr>\n",
       "      <th>51301</th>\n",
       "      <td>5814000</td>\n",
       "    </tr>\n",
       "    <tr>\n",
       "      <th>51302</th>\n",
       "      <td>5814000</td>\n",
       "    </tr>\n",
       "  </tbody>\n",
       "</table>\n",
       "<p>51301 rows × 1 columns</p>\n",
       "</div>"
      ],
      "text/plain": [
       "       Total_Amount\n",
       "Index              \n",
       "1           5814000\n",
       "2           6174000\n",
       "3           5814000\n",
       "4            802800\n",
       "5            802800\n",
       "...             ...\n",
       "51298       5814000\n",
       "51299       5814000\n",
       "51300       4715100\n",
       "51301       5814000\n",
       "51302       5814000\n",
       "\n",
       "[51301 rows x 1 columns]"
      ]
     },
     "execution_count": 24,
     "metadata": {},
     "output_type": "execute_result"
    }
   ],
   "source": [
    "# 1. 'Amount_Month'(월랜탈비용)과 'Term'(계약기간)데이터를 곱하여\n",
    "# 계약기간동안 한명의 고객이 총 납부하는 'Total_Amount'(총 금액) 파생변수 생성\n",
    "df1 = pd.read_csv('./data/01_Data.csv', index_col = 0)\n",
    "df1['Total_Amount'] = df1['Amount_Month'] * df1['Term']\n",
    "df1[['Total_Amount']]"
   ]
  },
  {
   "cell_type": "code",
   "execution_count": 25,
   "id": "d77f2ae7",
   "metadata": {},
   "outputs": [
    {
     "data": {
      "text/plain": [
       "Special    21145\n",
       "Normal     20909\n",
       "VIP         9247\n",
       "Name: 고객등급, dtype: int64"
      ]
     },
     "execution_count": 25,
     "metadata": {},
     "output_type": "execute_result"
    }
   ],
   "source": [
    "# 2. Total_Amount(총금액) 값에 따라 고객의 등급을 분류하고자 한다.\n",
    "# '총금액'이 상위 10% 고객은 VIP\n",
    "# 상위 30% 고객은 Special\n",
    "# 나머지 고객은 Normal로 계산하여 '고객등급'이라는 파생변수 생성\n",
    "df1['고객등급'] = 'Normal'\n",
    "df1.loc[df1['Total_Amount'] >= df1['Total_Amount'].quantile(0.70), '고객등급'] = 'Special'\n",
    "df1.loc[df1['Total_Amount'] >= df1['Total_Amount'].quantile(0.90), '고객등급'] = 'VIP'\n",
    "df1['고객등급'].value_counts()"
   ]
  },
  {
   "cell_type": "code",
   "execution_count": 26,
   "id": "9a36aa94",
   "metadata": {},
   "outputs": [
    {
     "data": {
      "text/html": [
       "<div>\n",
       "<style scoped>\n",
       "    .dataframe tbody tr th:only-of-type {\n",
       "        vertical-align: middle;\n",
       "    }\n",
       "\n",
       "    .dataframe tbody tr th {\n",
       "        vertical-align: top;\n",
       "    }\n",
       "\n",
       "    .dataframe thead th {\n",
       "        text-align: right;\n",
       "    }\n",
       "</style>\n",
       "<table border=\"1\" class=\"dataframe\">\n",
       "  <thead>\n",
       "    <tr style=\"text-align: right;\">\n",
       "      <th></th>\n",
       "      <th>Channel</th>\n",
       "      <th>Total_Amount</th>\n",
       "    </tr>\n",
       "  </thead>\n",
       "  <tbody>\n",
       "    <tr>\n",
       "      <th>0</th>\n",
       "      <td>대형마트A</td>\n",
       "      <td>6.657713e+06</td>\n",
       "    </tr>\n",
       "    <tr>\n",
       "      <th>1</th>\n",
       "      <td>대형마트C</td>\n",
       "      <td>6.534000e+06</td>\n",
       "    </tr>\n",
       "    <tr>\n",
       "      <th>2</th>\n",
       "      <td>대형마트E</td>\n",
       "      <td>6.697143e+06</td>\n",
       "    </tr>\n",
       "    <tr>\n",
       "      <th>3</th>\n",
       "      <td>대형마트H</td>\n",
       "      <td>6.498000e+06</td>\n",
       "    </tr>\n",
       "    <tr>\n",
       "      <th>4</th>\n",
       "      <td>영업방판</td>\n",
       "      <td>6.731221e+06</td>\n",
       "    </tr>\n",
       "    <tr>\n",
       "      <th>5</th>\n",
       "      <td>자체홈페이지</td>\n",
       "      <td>6.452250e+06</td>\n",
       "    </tr>\n",
       "    <tr>\n",
       "      <th>6</th>\n",
       "      <td>재계약</td>\n",
       "      <td>6.354000e+06</td>\n",
       "    </tr>\n",
       "    <tr>\n",
       "      <th>7</th>\n",
       "      <td>전단홍보</td>\n",
       "      <td>6.794096e+06</td>\n",
       "    </tr>\n",
       "    <tr>\n",
       "      <th>8</th>\n",
       "      <td>전문매장H</td>\n",
       "      <td>6.638545e+06</td>\n",
       "    </tr>\n",
       "    <tr>\n",
       "      <th>9</th>\n",
       "      <td>전문매장Z</td>\n",
       "      <td>6.602187e+06</td>\n",
       "    </tr>\n",
       "    <tr>\n",
       "      <th>10</th>\n",
       "      <td>직영계열사B</td>\n",
       "      <td>7.074000e+06</td>\n",
       "    </tr>\n",
       "    <tr>\n",
       "      <th>11</th>\n",
       "      <td>직영유통사</td>\n",
       "      <td>6.507000e+06</td>\n",
       "    </tr>\n",
       "    <tr>\n",
       "      <th>12</th>\n",
       "      <td>홈쇼핑/방송</td>\n",
       "      <td>6.518552e+06</td>\n",
       "    </tr>\n",
       "    <tr>\n",
       "      <th>13</th>\n",
       "      <td>홈쇼핑/인터넷</td>\n",
       "      <td>6.476565e+06</td>\n",
       "    </tr>\n",
       "  </tbody>\n",
       "</table>\n",
       "</div>"
      ],
      "text/plain": [
       "    Channel  Total_Amount\n",
       "0     대형마트A  6.657713e+06\n",
       "1     대형마트C  6.534000e+06\n",
       "2     대형마트E  6.697143e+06\n",
       "3     대형마트H  6.498000e+06\n",
       "4      영업방판  6.731221e+06\n",
       "5    자체홈페이지  6.452250e+06\n",
       "6       재계약  6.354000e+06\n",
       "7      전단홍보  6.794096e+06\n",
       "8     전문매장H  6.638545e+06\n",
       "9     전문매장Z  6.602187e+06\n",
       "10   직영계열사B  7.074000e+06\n",
       "11    직영유통사  6.507000e+06\n",
       "12   홈쇼핑/방송  6.518552e+06\n",
       "13  홈쇼핑/인터넷  6.476565e+06"
      ]
     },
     "metadata": {},
     "output_type": "display_data"
    }
   ],
   "source": [
    "# 3. 앞서 계산된 '고객등급' 데이터에서 'VIP'등급의 고객 특성을 확인하고자 한다.\n",
    "# 'VIP'고객만 따로 추출하여, 'Channel'(유입경로)에 따른 '총금액'(Total_Amount) 값의 평균을 계산하고\n",
    "# 층별화 시각화하여라.\n",
    "pivot_q3 = df1.loc[df1['고객등급'] == 'VIP'].pivot_table(index='Channel', values = 'Total_Amount', aggfunc = 'mean').reset_index()\n",
    "display(pivot_q3)"
   ]
  },
  {
   "cell_type": "code",
   "execution_count": 47,
   "id": "438f762b",
   "metadata": {},
   "outputs": [
    {
     "data": {
      "image/png": "[encoded data removed]",
      "text/plain": [
       "<Figure size 1500x800 with 1 Axes>"
      ]
     },
     "metadata": {},
     "output_type": "display_data"
    }
   ],
   "source": [
    "plt.figure(figsize = (15,8))\n",
    "sns.barplot(data = pivot_q3, x = 'Channel', y = 'Total_Amount')\n",
    "plt.axhline(pivot_q3['Total_Amount'].mean(), 0, 1, color='black', linestyle='--', linewidth=2) # 평균선 표시\n",
    "plt.ylim(6000000,7200000)\n",
    "plt.show()"
   ]
  },
  {
   "cell_type": "code",
   "execution_count": 28,
   "id": "52aa5ef2",
   "metadata": {},
   "outputs": [
    {
     "data": {
      "text/plain": [
       "Index(['영업방판', '대형마트A', '대형마트E'], dtype='object', name='Channel')"
      ]
     },
     "execution_count": 28,
     "metadata": {},
     "output_type": "execute_result"
    }
   ],
   "source": [
    "# 4. 'VIP'고객들의 'Channel'(유입경로)에서 'Total_Amount'(총금액)의 합이 가장 높은 상위 3개의 유입경로를 확인\n",
    "# 각 경로별 'Total_Amount'값의 평균의 차이가 있는지 검정\n",
    "# 3집단 / stats.kruskal(), stats.f_oneway()\n",
    "\n",
    "top_list = df1.loc[df1['고객등급'] == 'VIP'].pivot_table(index = 'Channel',\n",
    "            values = 'Total_Amount', aggfunc = 'sum').sort_values(by = 'Total_Amount', ascending = False).index[:3]\n",
    "top_list"
   ]
  },
  {
   "cell_type": "code",
   "execution_count": 29,
   "id": "fec0835b",
   "metadata": {},
   "outputs": [
    {
     "data": {
      "text/plain": [
       "NormaltestResult(statistic=3682.234297413674, pvalue=0.0)"
      ]
     },
     "execution_count": 29,
     "metadata": {},
     "output_type": "execute_result"
    }
   ],
   "source": [
    "df1_vip = df1.loc[df1['고객등급'] == 'VIP']\n",
    "\n",
    "# 1) Total_Amount에 대한 정규성 검정\n",
    "# H0 : Total_Amount의 분포는 정규성을 따른다.\n",
    "# H1 : Total_Amount의 분포는 정규성을 따르지 않는다.\n",
    "stats.normaltest(df1_vip['Total_Amount'])\n",
    "# p-value < 0.05 이므로 H0 기각한다\n",
    "# 따라서 Total_Amount의 분포는 정규성을 따르지 않는다."
   ]
  },
  {
   "cell_type": "code",
   "execution_count": 30,
   "id": "28242491",
   "metadata": {},
   "outputs": [
    {
     "name": "stdout",
     "output_type": "stream",
     "text": [
      "영업방판 평균 : 6731221.191135734\n",
      "대형마트A 평균 : 6657712.537612839\n",
      "대형마트E 평균 : 6697142.980561555\n"
     ]
    }
   ],
   "source": [
    "# 2) 정규성을 따르지 않고 세 집단에 대한 평균검정\n",
    "# >>>> stats.kruskal()\n",
    "# H0 : 세 집단의 평균은 모두 같다.\n",
    "# H1 : 세 집단 중 적어도 한 집단의 평균은 다르다.\n",
    "df1_vip_영업방판 = df1_vip.loc[df1_vip['Channel'] == '영업방판']\n",
    "df1_vip_대형A = df1_vip.loc[df1_vip['Channel'] == '대형마트A']\n",
    "df1_vip_대형E = df1_vip.loc[df1_vip['Channel'] == '대형마트E']\n",
    "\n",
    "stats.kruskal(df1_vip_영업방판['Total_Amount'], df1_vip_대형A['Total_Amount'], df1_vip_대형E['Total_Amount'])\n",
    "# p-value < 0.05 이므로 H0 기각\n",
    "# 따라서 세 집단 중 적어도 한 집단의 평균은 다르다고 볼 수 있다.\n",
    "print('영업방판 평균 :',df1_vip_영업방판['Total_Amount'].mean())\n",
    "print('대형마트A 평균 :',df1_vip_대형A['Total_Amount'].mean())\n",
    "print('대형마트E 평균 :',df1_vip_대형E['Total_Amount'].mean())"
   ]
  },
  {
   "cell_type": "code",
   "execution_count": 31,
   "id": "be1e0dac",
   "metadata": {},
   "outputs": [
    {
     "data": {
      "text/html": [
       "<div>\n",
       "<style scoped>\n",
       "    .dataframe tbody tr th:only-of-type {\n",
       "        vertical-align: middle;\n",
       "    }\n",
       "\n",
       "    .dataframe tbody tr th {\n",
       "        vertical-align: top;\n",
       "    }\n",
       "\n",
       "    .dataframe thead th {\n",
       "        text-align: right;\n",
       "    }\n",
       "</style>\n",
       "<table border=\"1\" class=\"dataframe\">\n",
       "  <thead>\n",
       "    <tr style=\"text-align: right;\">\n",
       "      <th>Product_Type</th>\n",
       "      <th>DES-1</th>\n",
       "      <th>DES-2</th>\n",
       "      <th>DES-3A</th>\n",
       "      <th>DES-R4</th>\n",
       "      <th>ERA</th>\n",
       "      <th>MMC</th>\n",
       "    </tr>\n",
       "    <tr>\n",
       "      <th>고객등급</th>\n",
       "      <th></th>\n",
       "      <th></th>\n",
       "      <th></th>\n",
       "      <th></th>\n",
       "      <th></th>\n",
       "      <th></th>\n",
       "    </tr>\n",
       "  </thead>\n",
       "  <tbody>\n",
       "    <tr>\n",
       "      <th>Normal</th>\n",
       "      <td>10414</td>\n",
       "      <td>8478</td>\n",
       "      <td>1366</td>\n",
       "      <td>7</td>\n",
       "      <td>644</td>\n",
       "      <td>0</td>\n",
       "    </tr>\n",
       "    <tr>\n",
       "      <th>Special</th>\n",
       "      <td>20137</td>\n",
       "      <td>377</td>\n",
       "      <td>631</td>\n",
       "      <td>0</td>\n",
       "      <td>0</td>\n",
       "      <td>0</td>\n",
       "    </tr>\n",
       "    <tr>\n",
       "      <th>VIP</th>\n",
       "      <td>8582</td>\n",
       "      <td>141</td>\n",
       "      <td>84</td>\n",
       "      <td>320</td>\n",
       "      <td>0</td>\n",
       "      <td>120</td>\n",
       "    </tr>\n",
       "  </tbody>\n",
       "</table>\n",
       "</div>"
      ],
      "text/plain": [
       "Product_Type  DES-1  DES-2  DES-3A  DES-R4  ERA  MMC\n",
       "고객등급                                                \n",
       "Normal        10414   8478    1366       7  644    0\n",
       "Special       20137    377     631       0    0    0\n",
       "VIP            8582    141      84     320    0  120"
      ]
     },
     "execution_count": 31,
     "metadata": {},
     "output_type": "execute_result"
    }
   ],
   "source": [
    "# 5. 고객등급에 따라 사용하는 제품군을 확인(Product_Type)\n",
    "# '고객등급'과 '제품군'의 빈도수를 Table형태로 계산\n",
    "# Contingecy Table -> crosstab(교차분석)\n",
    "cross_q5 = pd.crosstab(df1['고객등급'],df1['Product_Type'])\n",
    "cross_q5"
   ]
  },
  {
   "cell_type": "code",
   "execution_count": 32,
   "id": "eb26fdc2",
   "metadata": {},
   "outputs": [
    {
     "name": "stdout",
     "output_type": "stream",
     "text": [
      "p_value 값 : 0.0\n"
     ]
    },
    {
     "data": {
      "text/plain": [
       "(17400.408970458084,\n",
       " 0.0,\n",
       " 10,\n",
       " array([[15949.62860373,  3666.54381006,   848.16336914,   133.27699265,\n",
       "           262.47823629,    48.90898813],\n",
       "        [16129.65215103,  3707.92811056,   857.73659383,   134.78129081,\n",
       "           265.44082961,    49.46102415],\n",
       "        [ 7053.71924524,  1621.52807937,   375.10003704,    58.94171654,\n",
       "           116.08093409,    21.62998772]]))"
      ]
     },
     "execution_count": 32,
     "metadata": {},
     "output_type": "execute_result"
    }
   ],
   "source": [
    "# 6. '고객등급'과 '제품군'의 연관성이 있는지 가설검정 수행\n",
    "# 1) 연관성 검정 -> 카이제곱 검정\n",
    "# H0 : 두 범주형 데이터는 서로 독립이다.(연관성이 없다.)\n",
    "# H1 : 두 범주형 데이터는 서로 독립이 아니다.(연관성이 있다.)\n",
    "\n",
    "print('p_value 값 :',stats.chi2_contingency(cross_q5)[1])\n",
    "stats.chi2_contingency(cross_q5)\n",
    "# p-value < 0.05 이므로 H0 기각한다\n",
    "# 따라서 두 데이터는 서로 독립이 아니라고 볼 수 있다."
   ]
  },
  {
   "cell_type": "code",
   "execution_count": 33,
   "id": "557cf7b8",
   "metadata": {},
   "outputs": [
    {
     "name": "stdout",
     "output_type": "stream",
     "text": [
      "Train 셋 평가 : 0.16934003058327007\n",
      "Test 셋 평가 : -0.07900686738767915\n"
     ]
    }
   ],
   "source": [
    "# 7. '연체건수'(Overdue_count)를 예측하는 모델을 구성하고자 한다. 아래의 조건에 맞게 Model 생성\n",
    "# 1. X : 'Age', 'Term','Amount_Month'\n",
    "# 2. Y : 'Overdue_count'\n",
    "# 3. Train : Test = 8 : 2\n",
    "# 4. DecisionTreeRegressor 알고리즘\n",
    "# 5. 평가 : 학습데이터의 R2와 테스트 데이터의 R2를 계산\n",
    "\n",
    "from sklearn.model_selection import train_test_split\n",
    "from sklearn.tree import DecisionTreeRegressor\n",
    "from sklearn.metrics import r2_score\n",
    "\n",
    "df2 = df1[['Age','Term','Amount_Month','Overdue_count']]\n",
    "df3 = df2.dropna()\n",
    "\n",
    "X = df3[['Age','Term','Amount_Month']]\n",
    "Y = df3['Overdue_count']\n",
    "\n",
    "x_train, x_test, y_train, y_test = train_test_split(X,Y, test_size = 0.2, random_state = 42)\n",
    "model = DecisionTreeRegressor(random_state = 7)\n",
    "model.fit(x_train,y_train)\n",
    "\n",
    "y_train_pred = model.predict(x_train)\n",
    "y_test_pred = model.predict(x_test)\n",
    "\n",
    "print('Train 셋 평가 :', r2_score(y_train,y_train_pred))\n",
    "print('Test 셋 평가 :', r2_score(y_test,y_test_pred))"
   ]
  },
  {
   "cell_type": "code",
   "execution_count": 34,
   "id": "a7d8e3c8",
   "metadata": {},
   "outputs": [
    {
     "data": {
      "text/html": [
       "<div>\n",
       "<style scoped>\n",
       "    .dataframe tbody tr th:only-of-type {\n",
       "        vertical-align: middle;\n",
       "    }\n",
       "\n",
       "    .dataframe tbody tr th {\n",
       "        vertical-align: top;\n",
       "    }\n",
       "\n",
       "    .dataframe thead tr th {\n",
       "        text-align: left;\n",
       "    }\n",
       "</style>\n",
       "<table border=\"1\" class=\"dataframe\">\n",
       "  <thead>\n",
       "    <tr>\n",
       "      <th></th>\n",
       "      <th>Product_Type</th>\n",
       "      <th>sum</th>\n",
       "      <th>count</th>\n",
       "    </tr>\n",
       "    <tr>\n",
       "      <th></th>\n",
       "      <th></th>\n",
       "      <th>Total_Amount</th>\n",
       "      <th>Total_Amount</th>\n",
       "    </tr>\n",
       "  </thead>\n",
       "  <tbody>\n",
       "    <tr>\n",
       "      <th>0</th>\n",
       "      <td>DES-1</td>\n",
       "      <td>209786169096</td>\n",
       "      <td>39133</td>\n",
       "    </tr>\n",
       "    <tr>\n",
       "      <th>1</th>\n",
       "      <td>DES-2</td>\n",
       "      <td>44744720760</td>\n",
       "      <td>8996</td>\n",
       "    </tr>\n",
       "    <tr>\n",
       "      <th>2</th>\n",
       "      <td>DES-3A</td>\n",
       "      <td>11745786960</td>\n",
       "      <td>2081</td>\n",
       "    </tr>\n",
       "    <tr>\n",
       "      <th>3</th>\n",
       "      <td>DES-R4</td>\n",
       "      <td>2514207600</td>\n",
       "      <td>327</td>\n",
       "    </tr>\n",
       "    <tr>\n",
       "      <th>4</th>\n",
       "      <td>ERA</td>\n",
       "      <td>3007508400</td>\n",
       "      <td>644</td>\n",
       "    </tr>\n",
       "    <tr>\n",
       "      <th>5</th>\n",
       "      <td>MMC</td>\n",
       "      <td>886626000</td>\n",
       "      <td>120</td>\n",
       "    </tr>\n",
       "  </tbody>\n",
       "</table>\n",
       "</div>"
      ],
      "text/plain": [
       "  Product_Type           sum        count\n",
       "                Total_Amount Total_Amount\n",
       "0        DES-1  209786169096        39133\n",
       "1        DES-2   44744720760         8996\n",
       "2       DES-3A   11745786960         2081\n",
       "3       DES-R4    2514207600          327\n",
       "4          ERA    3007508400          644\n",
       "5          MMC     886626000          120"
      ]
     },
     "execution_count": 34,
     "metadata": {},
     "output_type": "execute_result"
    }
   ],
   "source": [
    "# 8. Product_Type별 계약건수(row) 대비 Total_Amount 값을 계산하시오\n",
    "# 각 제품 군 별 계약금액 합 / 계약 건수\n",
    "\n",
    "df1_q8 = df1.pivot_table(index = 'Product_Type',values = 'Total_Amount', aggfunc = ['sum', 'count']).reset_index()\n",
    "df1_q8"
   ]
  },
  {
   "cell_type": "code",
   "execution_count": 35,
   "id": "a6b49d52",
   "metadata": {},
   "outputs": [
    {
     "data": {
      "text/html": [
       "<div>\n",
       "<style scoped>\n",
       "    .dataframe tbody tr th:only-of-type {\n",
       "        vertical-align: middle;\n",
       "    }\n",
       "\n",
       "    .dataframe tbody tr th {\n",
       "        vertical-align: top;\n",
       "    }\n",
       "\n",
       "    .dataframe thead tr th {\n",
       "        text-align: left;\n",
       "    }\n",
       "</style>\n",
       "<table border=\"1\" class=\"dataframe\">\n",
       "  <thead>\n",
       "    <tr>\n",
       "      <th></th>\n",
       "      <th>Product_Type</th>\n",
       "      <th>sum</th>\n",
       "      <th>count</th>\n",
       "      <th>sum_div_count</th>\n",
       "    </tr>\n",
       "    <tr>\n",
       "      <th></th>\n",
       "      <th></th>\n",
       "      <th>Total_Amount</th>\n",
       "      <th>Total_Amount</th>\n",
       "      <th></th>\n",
       "    </tr>\n",
       "  </thead>\n",
       "  <tbody>\n",
       "    <tr>\n",
       "      <th>0</th>\n",
       "      <td>DES-1</td>\n",
       "      <td>209786169096</td>\n",
       "      <td>39133</td>\n",
       "      <td>5.360851e+06</td>\n",
       "    </tr>\n",
       "    <tr>\n",
       "      <th>1</th>\n",
       "      <td>DES-2</td>\n",
       "      <td>44744720760</td>\n",
       "      <td>8996</td>\n",
       "      <td>4.973846e+06</td>\n",
       "    </tr>\n",
       "    <tr>\n",
       "      <th>2</th>\n",
       "      <td>DES-3A</td>\n",
       "      <td>11745786960</td>\n",
       "      <td>2081</td>\n",
       "      <td>5.644299e+06</td>\n",
       "    </tr>\n",
       "    <tr>\n",
       "      <th>3</th>\n",
       "      <td>DES-R4</td>\n",
       "      <td>2514207600</td>\n",
       "      <td>327</td>\n",
       "      <td>7.688708e+06</td>\n",
       "    </tr>\n",
       "    <tr>\n",
       "      <th>4</th>\n",
       "      <td>ERA</td>\n",
       "      <td>3007508400</td>\n",
       "      <td>644</td>\n",
       "      <td>4.670044e+06</td>\n",
       "    </tr>\n",
       "    <tr>\n",
       "      <th>5</th>\n",
       "      <td>MMC</td>\n",
       "      <td>886626000</td>\n",
       "      <td>120</td>\n",
       "      <td>7.388550e+06</td>\n",
       "    </tr>\n",
       "  </tbody>\n",
       "</table>\n",
       "</div>"
      ],
      "text/plain": [
       "  Product_Type           sum        count sum_div_count\n",
       "                Total_Amount Total_Amount              \n",
       "0        DES-1  209786169096        39133  5.360851e+06\n",
       "1        DES-2   44744720760         8996  4.973846e+06\n",
       "2       DES-3A   11745786960         2081  5.644299e+06\n",
       "3       DES-R4    2514207600          327  7.688708e+06\n",
       "4          ERA    3007508400          644  4.670044e+06\n",
       "5          MMC     886626000          120  7.388550e+06"
      ]
     },
     "execution_count": 35,
     "metadata": {},
     "output_type": "execute_result"
    }
   ],
   "source": [
    "df1_q8['sum_div_count'] = (df1_q8['sum'] / df1_q8['count'])\n",
    "df1_q8"
   ]
  }
 ],
 "metadata": {
  "kernelspec": {
   "display_name": "Python 3 (ipykernel)",
   "language": "python",
   "name": "python3"
  },
  "language_info": {
   "codemirror_mode": {
    "name": "ipython",
    "version": 3
   },
   "file_extension": ".py",
   "mimetype": "text/x-python",
   "name": "python",
   "nbconvert_exporter": "python",
   "pygments_lexer": "ipython3",
   "version": "3.11.3"
  }
 },
 "nbformat": 4,
 "nbformat_minor": 5
}
