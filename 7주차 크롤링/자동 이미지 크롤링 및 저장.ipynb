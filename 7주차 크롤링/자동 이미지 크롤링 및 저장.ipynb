{
 "cells": [
  {
   "cell_type": "markdown",
   "id": "7682aa58",
   "metadata": {},
   "source": [
    "# Google"
   ]
  },
  {
   "cell_type": "code",
   "execution_count": 62,
   "id": "607d3cd6",
   "metadata": {
    "scrolled": true
   },
   "outputs": [],
   "source": [
    "from selenium import webdriver\n",
    "from selenium.webdriver.common.keys import Keys\n",
    "from selenium.webdriver.common.by import By\n",
    "import time\n",
    "import urllib.request \n",
    "\n",
    "driver = webdriver.Chrome()\n",
    "driver.get(\"https://www.google.co.kr/imghp?hl=ko&ogbl\")\n",
    "\n",
    "\n",
    "elem = driver.find_element(By.NAME, \"q\")\n",
    "\n",
    "# 검색창을 깨끗이 함. \n",
    "elem.clear()\n",
    "\n",
    "# 검색어 입력\n",
    "elem.send_keys(\"인공지능\")\n",
    "\n",
    "# 엔터\n",
    "elem.send_keys(Keys.RETURN)\n",
    "\n",
    "time.sleep(2) # 1.5 ~ 3초 사이\n",
    "\n",
    "# 작은 그림을 클릭 \n",
    "imgs = driver.find_elements(By.CSS_SELECTOR, \".rg_i.Q4LuWd\")\n",
    "\n",
    "cnt = 1\n",
    "for img in imgs:\n",
    "    try:\n",
    "        img.click()\n",
    "        time.sleep(2)\n",
    "\n",
    "        # 작은 그림이 큰 그림으로 나옴\n",
    "        # 큰 그림을 선택\n",
    "        img_url = driver.find_element(By.CSS_SELECTOR, \".r48jcc.pT0Scc.iPVvYb\").get_attribute(\"src\") # src\n",
    "\n",
    "        time.sleep(2)\n",
    "        # 다운받을 코드\n",
    "        urllib.request.urlretrieve(img_url, './data/word_cloud_mask_img/auto_google/test{0}.jpg'.format(cnt))\n",
    "        cnt += 1\n",
    "    except:\n",
    "        pass\n",
    "    \n",
    "driver.close"
   ]
  },
  {
   "cell_type": "markdown",
   "id": "94e77fa5",
   "metadata": {},
   "source": [
    "# Naver"
   ]
  },
  {
   "cell_type": "code",
   "execution_count": 68,
   "id": "723dd44c",
   "metadata": {},
   "outputs": [
    {
     "data": {
      "text/plain": [
       "<bound method WebDriver.close of <selenium.webdriver.chrome.webdriver.WebDriver (session=\"16043cd661ef86833230ed13bed54da2\")>>"
      ]
     },
     "execution_count": 68,
     "metadata": {},
     "output_type": "execute_result"
    }
   ],
   "source": [
    "from selenium import webdriver\n",
    "from selenium.webdriver.common.keys import Keys\n",
    "from selenium.webdriver.common.by import By\n",
    "import time\n",
    "import urllib.request \n",
    "\n",
    "driver = webdriver.Chrome()\n",
    "driver.get(\"https://www.naver.com/\")\n",
    "\n",
    "\n",
    "elem = driver.find_element(By.NAME, \"query\")\n",
    "\n",
    "elem.clear()\n",
    "\n",
    "elem.send_keys(\"데이터\")\n",
    "\n",
    "elem.send_keys(Keys.RETURN)\n",
    "\n",
    "# 이미지 창 들어가기\n",
    "submit_button = driver.find_element(By.XPATH, '//*[@id=\"lnb\"]/div[1]/div/ul/li[4]/a')\n",
    "submit_button.click()\n",
    "\n",
    "time.sleep(2)\n",
    "\n",
    "# 작은 그림을 클릭 \n",
    "imgs = driver.find_elements(By.CSS_SELECTOR, \"._image._listImage\")\n",
    "\n",
    "# 폴더 생성\n",
    "os.mkdir(\"./data/word_cloud_mask_img/auto_naver\")\n",
    "\n",
    "cnt = 1\n",
    "for img in imgs:\n",
    "    try:\n",
    "        img.click()\n",
    "        time.sleep(1)\n",
    "\n",
    "        # 작은 그림이 큰 그림으로 나옴\n",
    "        # 큰 그림을 선택\n",
    "        img_url = driver.find_element(By.XPATH, '//*[@id=\"main_pack\"]/section[2]/div/div[2]/div/div/div[1]/div[1]/div/div/div[1]/div[1]/img').get_attribute(\"src\") # src\n",
    "\n",
    "        time.sleep(1)\n",
    "        # 다운받을 코드\n",
    "        urllib.request.urlretrieve(img_url, './data/word_cloud_mask_img/auto_naver/test{0}.jpg'.format(cnt))\n",
    "        cnt += 1\n",
    "    except:\n",
    "        pass\n",
    "    \n",
    "driver.close"
   ]
  }
 ],
 "metadata": {
  "kernelspec": {
   "display_name": "Python 3 (ipykernel)",
   "language": "python",
   "name": "python3"
  },
  "language_info": {
   "codemirror_mode": {
    "name": "ipython",
    "version": 3
   },
   "file_extension": ".py",
   "mimetype": "text/x-python",
   "name": "python",
   "nbconvert_exporter": "python",
   "pygments_lexer": "ipython3",
   "version": "3.11.3"
  }
 },
 "nbformat": 4,
 "nbformat_minor": 5
}
