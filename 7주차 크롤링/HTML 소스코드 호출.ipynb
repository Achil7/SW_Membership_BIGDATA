{
 "cells": [
  {
   "cell_type": "code",
   "execution_count": 1,
   "id": "7a528e85",
   "metadata": {},
   "outputs": [],
   "source": [
    "from bs4 import BeautifulSoup\n",
    "\n",
    "# 테스트용 HTML 코드\n",
    "html2 = \"\"\"\n",
    "<html>\n",
    " <head>\n",
    "  <title>작품과 작가 모음</title>\n",
    " </head>\n",
    " <body>\n",
    "  <h1>책 정보</h1>\n",
    "  <p id=\"book_title\">노인과 바다</p>\n",
    "  <p id='author'>헤밍웨이</p>\n",
    "    \n",
    "  <p id=\"book_title\">잡식동물의 딜레마</p>\n",
    "  <p id='author'>마이클 폴란</p>\n",
    "  \n",
    "  <p id=\"book_title\">위대한 개츠비</p>\n",
    "  <p id='author'>F. 스콧 피츠제럴드</p>\n",
    "  \n",
    "  <p id=\"book_title\">해리포터:마법사의 돌</p>\n",
    "  <p id='author'>J.K.롤링</p>\n",
    " </body>  \n",
    "</html>\n",
    "\"\"\""
   ]
  },
  {
   "cell_type": "code",
   "execution_count": 2,
   "id": "d4eef514",
   "metadata": {},
   "outputs": [
    {
     "data": {
      "text/plain": [
       "<html>\n",
       "<head>\n",
       "<title>작품과 작가 모음</title>\n",
       "</head>\n",
       "<body>\n",
       "<h1>책 정보</h1>\n",
       "<p id=\"book_title\">노인과 바다</p>\n",
       "<p id=\"author\">헤밍웨이</p>\n",
       "<p id=\"book_title\">잡식동물의 딜레마</p>\n",
       "<p id=\"author\">마이클 폴란</p>\n",
       "<p id=\"book_title\">위대한 개츠비</p>\n",
       "<p id=\"author\">F. 스콧 피츠제럴드</p>\n",
       "<p id=\"book_title\">해리포터:마법사의 돌</p>\n",
       "<p id=\"author\">J.K.롤링</p>\n",
       "</body>\n",
       "</html>"
      ]
     },
     "execution_count": 2,
     "metadata": {},
     "output_type": "execute_result"
    }
   ],
   "source": [
    "# HTML parsing\n",
    "soup2 = BeautifulSoup(html2)\n",
    "soup2"
   ]
  },
  {
   "cell_type": "code",
   "execution_count": 3,
   "id": "a4eecced",
   "metadata": {},
   "outputs": [
    {
     "data": {
      "text/plain": [
       "<title>작품과 작가 모음</title>"
      ]
     },
     "execution_count": 3,
     "metadata": {},
     "output_type": "execute_result"
    }
   ],
   "source": [
    "# 3번째 방법\n",
    "soup2.title"
   ]
  },
  {
   "cell_type": "code",
   "execution_count": 4,
   "id": "765ea45d",
   "metadata": {},
   "outputs": [
    {
     "data": {
      "text/plain": [
       "<h1>책 정보</h1>"
      ]
     },
     "execution_count": 4,
     "metadata": {},
     "output_type": "execute_result"
    }
   ],
   "source": [
    "soup2.body.h1"
   ]
  },
  {
   "cell_type": "code",
   "execution_count": 5,
   "id": "29cc41a1",
   "metadata": {},
   "outputs": [
    {
     "data": {
      "text/plain": [
       "[<p id=\"book_title\">노인과 바다</p>,\n",
       " <p id=\"author\">헤밍웨이</p>,\n",
       " <p id=\"book_title\">잡식동물의 딜레마</p>,\n",
       " <p id=\"author\">마이클 폴란</p>,\n",
       " <p id=\"book_title\">위대한 개츠비</p>,\n",
       " <p id=\"author\">F. 스콧 피츠제럴드</p>,\n",
       " <p id=\"book_title\">해리포터:마법사의 돌</p>,\n",
       " <p id=\"author\">J.K.롤링</p>]"
      ]
     },
     "execution_count": 5,
     "metadata": {},
     "output_type": "execute_result"
    }
   ],
   "source": [
    "# 2번째 방법 find_all\n",
    "soup2.find_all('p')"
   ]
  },
  {
   "cell_type": "markdown",
   "id": "3fb014b5",
   "metadata": {},
   "source": [
    " 만약 위의 요소에서 책 제목과 작가를 분리해서 가져오고 싶다면\n",
    " \n",
    " 아래처럼 find()나 find_all()을 활용할때 '태그'뿐 만 아니라\n",
    " \n",
    " 태그 내의 '속성(attribute)'도 함께 지정하면 대부분(95%)정도 원하는 결과를 얻을 수 있다."
   ]
  },
  {
   "cell_type": "markdown",
   "id": "d05a445b",
   "metadata": {},
   "source": [
    "- `BeautifulSoup.find_all('태그', '속성')`\n",
    "\n",
    "- `BeautifulSoup.find('태그', '속성')`"
   ]
  },
  {
   "cell_type": "code",
   "execution_count": 6,
   "id": "2efc90a0",
   "metadata": {},
   "outputs": [],
   "source": [
    "# book_title 만 가져오기\n",
    "book_titles = soup2.find_all('p',{'id':'book_title'})"
   ]
  },
  {
   "cell_type": "code",
   "execution_count": 7,
   "id": "63476d63",
   "metadata": {},
   "outputs": [
    {
     "data": {
      "text/plain": [
       "[<p id=\"author\">헤밍웨이</p>,\n",
       " <p id=\"author\">마이클 폴란</p>,\n",
       " <p id=\"author\">F. 스콧 피츠제럴드</p>,\n",
       " <p id=\"author\">J.K.롤링</p>]"
      ]
     },
     "execution_count": 7,
     "metadata": {},
     "output_type": "execute_result"
    }
   ],
   "source": [
    "# author 만 가져오기\n",
    "soup2.find_all('p',{'id':'author'})"
   ]
  },
  {
   "cell_type": "code",
   "execution_count": 8,
   "id": "001cacdb",
   "metadata": {},
   "outputs": [
    {
     "name": "stdout",
     "output_type": "stream",
     "text": [
      "노인과 바다::헤밍웨이\n",
      "잡식동물의 딜레마::마이클 폴란\n",
      "위대한 개츠비::F. 스콧 피츠제럴드\n",
      "해리포터:마법사의 돌::J.K.롤링\n"
     ]
    }
   ],
   "source": [
    "# 만약 태그를 제외하고 해당하는 내용만 뽑고 싶다면?\n",
    "from bs4 import BeautifulSoup\n",
    "soup2 = BeautifulSoup(html2,'lxml')\n",
    "book_titles = soup2.find_all('p',{'id' : 'book_title'})\n",
    "authors = soup2.find_all('p',{'id':'author'})\n",
    "\n",
    "for book, author in zip(book_titles, authors):\n",
    "    print(book.get_text() + '::' + author.get_text())"
   ]
  },
  {
   "cell_type": "markdown",
   "id": "ac5f0e54",
   "metadata": {},
   "source": [
    "Beautiful Soup에서도 `BeautifulSoup.select('태그 및 속성')`을 통해 CSS 선택자를 지원한다.\n",
    "\n",
    "`BeautifulSoup.select()`의 인자로 '태그 및 속성'을 단계적으로 입력하면 원하는 요소를 찾을 수 있다.\n",
    "\n",
    "예를 들어 앞선 html2 변수에 할당된 HTML소스에서 body 태그 요소 내에 h1 태그 요소를 가지고 오려면 아래와 같이 작성하면 된다."
   ]
  },
  {
   "cell_type": "code",
   "execution_count": 9,
   "id": "330703f5",
   "metadata": {},
   "outputs": [
    {
     "data": {
      "text/plain": [
       "<html>\n",
       "<head>\n",
       "<title>작품과 작가 모음</title>\n",
       "</head>\n",
       "<body>\n",
       "<h1>책 정보</h1>\n",
       "<p id=\"book_title\">노인과 바다</p>\n",
       "<p id=\"author\">헤밍웨이</p>\n",
       "<p id=\"book_title\">잡식동물의 딜레마</p>\n",
       "<p id=\"author\">마이클 폴란</p>\n",
       "<p id=\"book_title\">위대한 개츠비</p>\n",
       "<p id=\"author\">F. 스콧 피츠제럴드</p>\n",
       "<p id=\"book_title\">해리포터:마법사의 돌</p>\n",
       "<p id=\"author\">J.K.롤링</p>\n",
       "</body>\n",
       "</html>"
      ]
     },
     "execution_count": 9,
     "metadata": {},
     "output_type": "execute_result"
    }
   ],
   "source": [
    "soup2"
   ]
  },
  {
   "cell_type": "code",
   "execution_count": 10,
   "id": "50297d12",
   "metadata": {},
   "outputs": [
    {
     "data": {
      "text/plain": [
       "[<h1>책 정보</h1>]"
      ]
     },
     "execution_count": 10,
     "metadata": {},
     "output_type": "execute_result"
    }
   ],
   "source": [
    "# css의 select의 방식을 활용\n",
    "soup2.select('h1')"
   ]
  },
  {
   "cell_type": "code",
   "execution_count": 11,
   "id": "3117d821",
   "metadata": {},
   "outputs": [
    {
     "data": {
      "text/plain": [
       "[<h1>책 정보</h1>]"
      ]
     },
     "execution_count": 11,
     "metadata": {},
     "output_type": "execute_result"
    }
   ],
   "source": [
    "soup2.select('body h1')"
   ]
  },
  {
   "cell_type": "code",
   "execution_count": 12,
   "id": "fdabad70",
   "metadata": {},
   "outputs": [
    {
     "data": {
      "text/plain": [
       "[<p id=\"book_title\">노인과 바다</p>,\n",
       " <p id=\"author\">헤밍웨이</p>,\n",
       " <p id=\"book_title\">잡식동물의 딜레마</p>,\n",
       " <p id=\"author\">마이클 폴란</p>,\n",
       " <p id=\"book_title\">위대한 개츠비</p>,\n",
       " <p id=\"author\">F. 스콧 피츠제럴드</p>,\n",
       " <p id=\"book_title\">해리포터:마법사의 돌</p>,\n",
       " <p id=\"author\">J.K.롤링</p>]"
      ]
     },
     "execution_count": 12,
     "metadata": {},
     "output_type": "execute_result"
    }
   ],
   "source": [
    "soup2.select('body p')"
   ]
  }
 ],
 "metadata": {
  "kernelspec": {
   "display_name": "Python 3 (ipykernel)",
   "language": "python",
   "name": "python3"
  },
  "language_info": {
   "codemirror_mode": {
    "name": "ipython",
    "version": 3
   },
   "file_extension": ".py",
   "mimetype": "text/x-python",
   "name": "python",
   "nbconvert_exporter": "python",
   "pygments_lexer": "ipython3",
   "version": "3.10.9"
  }
 },
 "nbformat": 4,
 "nbformat_minor": 5
}
