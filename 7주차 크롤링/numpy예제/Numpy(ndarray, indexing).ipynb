{
 "cells": [
  {
   "cell_type": "code",
   "execution_count": 1,
   "id": "798b9ad0",
   "metadata": {},
   "outputs": [
    {
     "name": "stdout",
     "output_type": "stream",
     "text": [
      "<class 'list'>\n",
      "<class 'numpy.ndarray'>\n"
     ]
    }
   ],
   "source": [
    "import numpy as np\n",
    "l1 = [1,2,3]\n",
    "array_1 = np.array(l1)\n",
    "print(type(l1))\n",
    "print(type(array_1))"
   ]
  },
  {
   "cell_type": "code",
   "execution_count": 2,
   "id": "b1c9d4ee",
   "metadata": {},
   "outputs": [
    {
     "name": "stdout",
     "output_type": "stream",
     "text": [
      "(3,)\n"
     ]
    }
   ],
   "source": [
    "print(array_1.shape) # >> (3,)으로 나오는 이유는 Tuple은 , 먼저 나올 수 없기 때문이다\n",
    "\n",
    "# (,3)\n",
    "# >> 오류\n",
    "\n",
    "# (3,)\n",
    "# >> 정상"
   ]
  },
  {
   "cell_type": "code",
   "execution_count": 3,
   "id": "7fc243d9",
   "metadata": {},
   "outputs": [
    {
     "name": "stderr",
     "output_type": "stream",
     "text": [
      "C:\\Users\\admin\\AppData\\Local\\Temp\\ipykernel_23024\\1422353208.py:1: VisibleDeprecationWarning: Creating an ndarray from ragged nested sequences (which is a list-or-tuple of lists-or-tuples-or ndarrays with different lengths or shapes) is deprecated. If you meant to do this, you must specify 'dtype=object' when creating the ndarray.\n",
      "  array_2 = np.array(  [[11,22,33],\n"
     ]
    }
   ],
   "source": [
    "array_2 = np.array(  [[11,22,33],\n",
    "                      [1,2]]  )\n",
    "\n",
    "# warning이 아닌 오류가 나면 restart"
   ]
  },
  {
   "cell_type": "code",
   "execution_count": 4,
   "id": "fd98751a",
   "metadata": {},
   "outputs": [
    {
     "name": "stdout",
     "output_type": "stream",
     "text": [
      "1\n"
     ]
    }
   ],
   "source": [
    "print(array_1.ndim)"
   ]
  },
  {
   "cell_type": "code",
   "execution_count": 5,
   "id": "ee11a4e4",
   "metadata": {},
   "outputs": [
    {
     "name": "stdout",
     "output_type": "stream",
     "text": [
      "array1d type : <class 'numpy.ndarray'>\n",
      "array1d array형태 : (3,)\n"
     ]
    }
   ],
   "source": [
    "array1d = np.array([1,2,3])\n",
    "print('array1d type :', type(array1d))\n",
    "print('array1d array형태 :', array1d.shape)"
   ]
  },
  {
   "cell_type": "code",
   "execution_count": 6,
   "id": "8100c126",
   "metadata": {},
   "outputs": [
    {
     "name": "stdout",
     "output_type": "stream",
     "text": [
      "array2d type : <class 'numpy.ndarray'>\n",
      "array2d array형태 : (1, 3)\n"
     ]
    }
   ],
   "source": [
    "array2d = np.array([[1,2,3]])\n",
    "print('array2d type :', type(array2d))\n",
    "print('array2d array형태 :', array2d.shape)"
   ]
  },
  {
   "cell_type": "code",
   "execution_count": 7,
   "id": "406352c5",
   "metadata": {},
   "outputs": [
    {
     "name": "stdout",
     "output_type": "stream",
     "text": [
      "array3d type : <class 'numpy.ndarray'>\n",
      "array3d array형태 : (1, 1, 3)\n"
     ]
    }
   ],
   "source": [
    "array3d = np.array([[[1,2,3]]])\n",
    "print('array3d type :', type(array3d))\n",
    "print('array3d array형태 :', array3d.shape)"
   ]
  },
  {
   "cell_type": "code",
   "execution_count": 8,
   "id": "d2740127",
   "metadata": {},
   "outputs": [
    {
     "name": "stdout",
     "output_type": "stream",
     "text": [
      "\n",
      "array1d : 1차원,\n",
      "array2d : 2차원,\n",
      "array3d : 3차원\n"
     ]
    }
   ],
   "source": [
    "print(f'''\n",
    "array1d :{array1d.ndim:2}차원,\n",
    "array2d :{array2d.ndim:2}차원,\n",
    "array3d :{array3d.ndim:2}차원''')"
   ]
  },
  {
   "cell_type": "markdown",
   "id": "d71ab9a6",
   "metadata": {},
   "source": [
    "### numpy ndarray 자료의 특성"
   ]
  },
  {
   "cell_type": "code",
   "execution_count": 9,
   "id": "354a2a6c",
   "metadata": {},
   "outputs": [
    {
     "name": "stdout",
     "output_type": "stream",
     "text": [
      "['1' '2' 'test'] <U11\n",
      "[1.  2.  3.5] float64\n"
     ]
    }
   ],
   "source": [
    "l2 = [1,2,'test']\n",
    "array2 = np.array(l2)\n",
    "print(array2, array2.dtype)\n",
    "\n",
    "l3 = [1,2,3.5]\n",
    "array3 = np.array(l3)\n",
    "print(array3, array3.dtype)"
   ]
  },
  {
   "cell_type": "markdown",
   "id": "27acb400",
   "metadata": {},
   "source": [
    "### 자료형 변환"
   ]
  },
  {
   "cell_type": "code",
   "execution_count": 10,
   "id": "ba7fab91",
   "metadata": {},
   "outputs": [
    {
     "name": "stdout",
     "output_type": "stream",
     "text": [
      "[1. 2. 3.] float64\n",
      "[1 2 3] int32\n"
     ]
    }
   ],
   "source": [
    "# int -> float\n",
    "# float -> int\n",
    "\n",
    "array_int = np.array([1,2,3]) # integer\n",
    "array_float = array_int.astype('float64')\n",
    "print(array_float, array_float.dtype)\n",
    "\n",
    "array_float2 = np.array([1.1,2.2,3.3]) # float\n",
    "array_int2 = array_float2.astype('int32')\n",
    "print(array_int2, array_int2.dtype)"
   ]
  },
  {
   "cell_type": "markdown",
   "id": "f6005e83",
   "metadata": {},
   "source": [
    "###  ndarray를 편리하게 생성"
   ]
  },
  {
   "cell_type": "code",
   "execution_count": 11,
   "id": "6483d7e2",
   "metadata": {},
   "outputs": [
    {
     "name": "stdout",
     "output_type": "stream",
     "text": [
      "1 2 3 4 "
     ]
    }
   ],
   "source": [
    "for i in range(1,5):\n",
    "    print(i, end=' ')"
   ]
  },
  {
   "cell_type": "code",
   "execution_count": 12,
   "id": "42c2c09e",
   "metadata": {},
   "outputs": [
    {
     "data": {
      "text/plain": [
       "array([0, 1, 2, 3, 4, 5, 6, 7, 8, 9])"
      ]
     },
     "execution_count": 12,
     "metadata": {},
     "output_type": "execute_result"
    }
   ],
   "source": [
    "# np.arange\n",
    "\n",
    "seq_array = np.arange(0,10)\n",
    "len(seq_array)\n",
    "seq_array"
   ]
  },
  {
   "cell_type": "code",
   "execution_count": 13,
   "id": "7cbd1322",
   "metadata": {},
   "outputs": [
    {
     "data": {
      "text/plain": [
       "array([[0, 1, 2, 3, 4],\n",
       "       [5, 6, 7, 8, 9]])"
      ]
     },
     "execution_count": 13,
     "metadata": {},
     "output_type": "execute_result"
    }
   ],
   "source": [
    "# reshape\n",
    "seq_array.reshape(2,5)"
   ]
  },
  {
   "cell_type": "code",
   "execution_count": 14,
   "id": "08071596",
   "metadata": {},
   "outputs": [
    {
     "name": "stdout",
     "output_type": "stream",
     "text": [
      "[[0 0]\n",
      " [0 0]\n",
      " [0 0]]\n",
      "int32 (3, 2)\n"
     ]
    }
   ],
   "source": [
    "# np.zeros\n",
    "zero_array = np.zeros((3,2), dtype = 'int32')\n",
    "print(zero_array)\n",
    "print(zero_array.dtype, zero_array.shape)"
   ]
  },
  {
   "cell_type": "code",
   "execution_count": 15,
   "id": "161ae748",
   "metadata": {},
   "outputs": [
    {
     "name": "stdout",
     "output_type": "stream",
     "text": [
      "[[1 1]\n",
      " [1 1]\n",
      " [1 1]]\n",
      "int32 (3, 2)\n"
     ]
    }
   ],
   "source": [
    "# np.ones\n",
    "one_array = np.ones((3,2), dtype='int32')\n",
    "print(one_array)\n",
    "print(one_array.dtype, one_array.shape)"
   ]
  },
  {
   "cell_type": "code",
   "execution_count": 16,
   "id": "96112278",
   "metadata": {},
   "outputs": [
    {
     "data": {
      "text/plain": [
       "array([[0],\n",
       "       [1],\n",
       "       [2],\n",
       "       [3],\n",
       "       [4],\n",
       "       [5],\n",
       "       [6],\n",
       "       [7]])"
      ]
     },
     "execution_count": 16,
     "metadata": {},
     "output_type": "execute_result"
    }
   ],
   "source": [
    "# 8개 요소 데이터 생성\n",
    "array1 = np.arange(8)\n",
    "array3d = array1.reshape((2,2,2))\n",
    "\n",
    "\n",
    "# 3차원 ndarray -> 2차원 ndarray 로 변환 \n",
    "array2d = array3d.reshape(-1,1)\n",
    "array2d"
   ]
  },
  {
   "cell_type": "markdown",
   "id": "e12dadec",
   "metadata": {},
   "source": [
    "---"
   ]
  },
  {
   "cell_type": "markdown",
   "id": "9d47bea0",
   "metadata": {},
   "source": [
    "# 넘파이의 ndarray의 데이터 셋 선택하기 - indexing"
   ]
  },
  {
   "cell_type": "code",
   "execution_count": 17,
   "id": "e4053d97",
   "metadata": {},
   "outputs": [],
   "source": [
    "# 1. 특정한 데이터만 추출\n",
    "# 2. 슬라이싱\n",
    "# 3. 팬시 인덱싱(Fancy)"
   ]
  },
  {
   "cell_type": "markdown",
   "id": "9fb35ab9",
   "metadata": {},
   "source": [
    "##### 1. 특정한 데이터만 추출"
   ]
  },
  {
   "cell_type": "code",
   "execution_count": 18,
   "id": "f6570f02",
   "metadata": {},
   "outputs": [
    {
     "data": {
      "text/plain": [
       "array([1, 2, 3, 4, 5, 6, 7, 8, 9])"
      ]
     },
     "execution_count": 18,
     "metadata": {},
     "output_type": "execute_result"
    }
   ],
   "source": [
    "# 1 ~ 9 까지 array행렬\n",
    "array1 = np.arange(1,10)\n",
    "array1"
   ]
  },
  {
   "cell_type": "code",
   "execution_count": 19,
   "id": "6ff7f21c",
   "metadata": {},
   "outputs": [
    {
     "name": "stdout",
     "output_type": "stream",
     "text": [
      "맨 뒤의 값: 9 \n",
      "맨 뒤에서 2번째 값: 8\n"
     ]
    },
    {
     "data": {
      "text/plain": [
       "array([  1,   2,   3,   4,   5,   6,   7,   8, 100])"
      ]
     },
     "execution_count": 19,
     "metadata": {},
     "output_type": "execute_result"
    }
   ],
   "source": [
    "# 맨 뒤의 값\n",
    "print('맨 뒤의 값:', array1[-1],'\\n맨 뒤에서 2번째 값:', array1[-2])\n",
    "array1[-1] = 100\n",
    "array1"
   ]
  },
  {
   "cell_type": "code",
   "execution_count": 20,
   "id": "730f9b94",
   "metadata": {},
   "outputs": [
    {
     "name": "stdout",
     "output_type": "stream",
     "text": [
      "[[1 2 3]\n",
      " [4 5 6]\n",
      " [7 8 9]]\n"
     ]
    }
   ],
   "source": [
    "# 2차원 데이터 인덱싱\n",
    "array1d = np.array([[1,2,3],[4,5,6],[7,8,9]])\n",
    "array2d = array1d.reshape(3,3)\n",
    "print(array2d)"
   ]
  },
  {
   "cell_type": "code",
   "execution_count": 21,
   "id": "66dd5f0a",
   "metadata": {},
   "outputs": [
    {
     "name": "stdout",
     "output_type": "stream",
     "text": [
      "1 2 4 9\n"
     ]
    }
   ],
   "source": [
    "# 1,2,4,9의 값들을 호출해주세요\n",
    "print(array2d[0][0],array2d[0][1],array2d[1][0],array2d[2][2])"
   ]
  },
  {
   "cell_type": "markdown",
   "id": "ee202698",
   "metadata": {},
   "source": [
    "##### 2. 슬라이싱"
   ]
  },
  {
   "cell_type": "code",
   "execution_count": 22,
   "id": "b7fc6644",
   "metadata": {},
   "outputs": [
    {
     "data": {
      "text/plain": [
       "array([1, 2, 3])"
      ]
     },
     "execution_count": 22,
     "metadata": {},
     "output_type": "execute_result"
    }
   ],
   "source": [
    "array1 = np.arange(1,10)\n",
    "array1[:3]"
   ]
  },
  {
   "cell_type": "code",
   "execution_count": 23,
   "id": "d810d67d",
   "metadata": {},
   "outputs": [
    {
     "data": {
      "text/plain": [
       "array([[1, 2, 3],\n",
       "       [4, 5, 6],\n",
       "       [7, 8, 9]])"
      ]
     },
     "execution_count": 23,
     "metadata": {},
     "output_type": "execute_result"
    }
   ],
   "source": [
    "array2d = array1.reshape(3,3)\n",
    "array2d"
   ]
  },
  {
   "cell_type": "code",
   "execution_count": 24,
   "id": "38547bbb",
   "metadata": {},
   "outputs": [
    {
     "name": "stdout",
     "output_type": "stream",
     "text": [
      "array2d\n",
      " [[1 2]\n",
      " [4 5]]\n"
     ]
    }
   ],
   "source": [
    "print('array2d\\n', array2d[:2,:2])"
   ]
  },
  {
   "cell_type": "code",
   "execution_count": 25,
   "id": "7a2cc697",
   "metadata": {
    "scrolled": true
   },
   "outputs": [
    {
     "data": {
      "text/plain": [
       "array([[4, 5, 6],\n",
       "       [7, 8, 9]])"
      ]
     },
     "execution_count": 25,
     "metadata": {},
     "output_type": "execute_result"
    }
   ],
   "source": [
    "# q1. 4 5 6 7 8 9 가져오기\n",
    "array2d[1:,:]"
   ]
  },
  {
   "cell_type": "code",
   "execution_count": 26,
   "id": "f323ae7e",
   "metadata": {},
   "outputs": [
    {
     "data": {
      "text/plain": [
       "array([[1],\n",
       "       [4]])"
      ]
     },
     "execution_count": 26,
     "metadata": {},
     "output_type": "execute_result"
    }
   ],
   "source": [
    "# q2. 1 4 가져오기(열로)\n",
    "array2d[:2,:1]"
   ]
  },
  {
   "cell_type": "code",
   "execution_count": 27,
   "id": "6f2f524c",
   "metadata": {},
   "outputs": [
    {
     "data": {
      "text/plain": [
       "array([1, 4])"
      ]
     },
     "execution_count": 27,
     "metadata": {},
     "output_type": "execute_result"
    }
   ],
   "source": [
    "# q3. 1 4 가져오기(행으로) >> 2차원을 1차원으로 차원축소\n",
    "array2d[:2,0]\n",
    "# array2d[:2,:1].flatten()"
   ]
  },
  {
   "cell_type": "markdown",
   "id": "54814ee0",
   "metadata": {},
   "source": [
    "##### 3. 팬시 인덱싱(Fancy)"
   ]
  },
  {
   "cell_type": "code",
   "execution_count": 28,
   "id": "938ef99e",
   "metadata": {},
   "outputs": [
    {
     "name": "stdout",
     "output_type": "stream",
     "text": [
      "[3 6]\n",
      "[[1 2]\n",
      " [4 5]]\n",
      "[[1 2 3]\n",
      " [4 5 6]]\n"
     ]
    }
   ],
   "source": [
    "array2d\n",
    "\n",
    "# array2d[[0,1],2]\n",
    "print(array2d[[0,1],2])\n",
    "\n",
    "# array2d[[0,1],0:2]\n",
    "print(array2d[[0,1],0:2])\n",
    "\n",
    "# array2d[[0,1]]\n",
    "print(array2d[[0,1]])"
   ]
  }
 ],
 "metadata": {
  "kernelspec": {
   "display_name": "Python 3 (ipykernel)",
   "language": "python",
   "name": "python3"
  },
  "language_info": {
   "codemirror_mode": {
    "name": "ipython",
    "version": 3
   },
   "file_extension": ".py",
   "mimetype": "text/x-python",
   "name": "python",
   "nbconvert_exporter": "python",
   "pygments_lexer": "ipython3",
   "version": "3.11.3"
  }
 },
 "nbformat": 4,
 "nbformat_minor": 5
}
