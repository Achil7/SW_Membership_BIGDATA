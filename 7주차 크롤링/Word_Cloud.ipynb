{
 "cells": [
  {
   "cell_type": "code",
   "execution_count": 1,
   "id": "5cd1446a",
   "metadata": {},
   "outputs": [],
   "source": [
    "# !pip install wordcloud"
   ]
  },
  {
   "cell_type": "markdown",
   "id": "69a4c812",
   "metadata": {},
   "source": [
    "# 실습 1"
   ]
  },
  {
   "cell_type": "code",
   "execution_count": 2,
   "id": "f2752a65",
   "metadata": {},
   "outputs": [],
   "source": [
    "from wordcloud import WordCloud\n",
    "import matplotlib.pyplot as plt\n",
    "\n",
    "f_name = './data/littleprince_djvu.txt'\n",
    "with open(f_name) as f:   # utf - 8 또는 cp949 오류가 날때 >> with open(f_name, encoding = 'utf-8' 또는 'cp949' 추가)\n",
    "    text = f.read() # 파일 내용 읽기\n",
    "\n",
    "print(text[:100])\n",
    "print(text[-100:])"
   ]
  },
  {
   "cell_type": "code",
   "execution_count": 3,
   "id": "85b9e1d8",
   "metadata": {},
   "outputs": [],
   "source": [
    "## 워드 클라우드의 이미지 생성\n",
    "\n",
    "wc_img = WordCloud().generate(text)\n",
    "\n",
    "# 생성 워드클라우드의 이미지를 화면에 표시\n",
    "plt.imshow(wc_img)\n",
    "plt.axis('off');"
   ]
  },
  {
   "cell_type": "code",
   "execution_count": 4,
   "id": "f9bdfd06",
   "metadata": {},
   "outputs": [],
   "source": [
    "white_wordcloud = WordCloud(max_font_size = 300,\n",
    "                        width=480, height=480,\n",
    "                      background_color='white').generate(text)\n",
    "\n",
    "black_wordcloud = WordCloud(width=480, height=480,\n",
    "                      background_color='black').generate(text)\n",
    "\n",
    "\n",
    "fig,ax = plt.subplots(1,2, figsize=(10,5))\n",
    "fig.tight_layout();\n",
    "\n",
    "ax[0].imshow(white_wordcloud)\n",
    "ax[0].axis('off');\n",
    "\n",
    "ax[1].imshow(black_wordcloud)\n",
    "ax[1].axis('off');"
   ]
  },
  {
   "cell_type": "code",
   "execution_count": 5,
   "id": "4b75be0a",
   "metadata": {},
   "outputs": [],
   "source": [
    "palettes = ['spring', 'summer', 'seismic','PuBu']\n",
    "fig,ax = plt.subplots(2,2, figsize = (10,10))\n",
    "fig.tight_layout()\n",
    "axes = [ax[0,0],ax[0,1],ax[1,0],ax[1,1]]\n",
    "# plt.subplots_adjust(wspace=0.1, \n",
    "#                     hspace=0.1)\n",
    "\n",
    "for i in range(4):\n",
    "    wordcloud = WordCloud(background_color = 'white',\n",
    "                      width = 800, height=800,\n",
    "                      colormap = palettes[i]).generate(text)\n",
    "    axes[i].imshow(wordcloud)\n",
    "    axes[i].axis('off')"
   ]
  },
  {
   "cell_type": "markdown",
   "id": "80021a64",
   "metadata": {},
   "source": [
    "# 실습 2"
   ]
  },
  {
   "cell_type": "code",
   "execution_count": 6,
   "id": "de6f89ca",
   "metadata": {},
   "outputs": [],
   "source": [
    "# Transformer pdf를 python으로 읽어오기\n",
    "from pdfminer.high_level import extract_text\n",
    "\n",
    "pdf_transformer = extract_text('./data/transformer.pdf')\n",
    "print(pdf_transformer[:100], pdf_transformer[-100:])"
   ]
  },
  {
   "cell_type": "code",
   "execution_count": 7,
   "id": "56fad9e7",
   "metadata": {},
   "outputs": [],
   "source": [
    "# 읽어온 텍스트를 Transforer.txt를 생성하여 넣어주기\n",
    "f = open('Transformer.txt','w',encoding='utf-8')\n",
    "f.write(pdf_transformer)"
   ]
  },
  {
   "cell_type": "code",
   "execution_count": 8,
   "id": "107af1d3",
   "metadata": {},
   "outputs": [],
   "source": [
    "f_name = './data/Transformer.txt'\n",
    "with open(f_name, encoding = 'utf-8') as f:   # utf - 8 또는 cp949 오류가 날때 >> with open(f_name, encoding = 'utf-8' 또는 'cp949' 추가)\n",
    "    text = f.read() # 파일 내용 읽기\n",
    "\n",
    "\n",
    "wc_img = WordCloud(background_color='white', width = 1000, height = 800,\n",
    "                  max_font_size = 200).generate(text)\n",
    "\n",
    "plt.imshow(wc_img)\n",
    "plt.axis('off');"
   ]
  },
  {
   "cell_type": "markdown",
   "id": "95943bca",
   "metadata": {},
   "source": [
    "### 마스크 입히기"
   ]
  },
  {
   "cell_type": "code",
   "execution_count": 9,
   "id": "aa53866a",
   "metadata": {},
   "outputs": [],
   "source": [
    "from PIL import Image\n",
    "import numpy as np"
   ]
  },
  {
   "cell_type": "code",
   "execution_count": 10,
   "id": "af3998cb",
   "metadata": {},
   "outputs": [],
   "source": [
    "# 마스크가 될 이미지 불러오기\n",
    "import numpy as np\n",
    "from PIL import Image\n",
    "import matplotlib.pyplot as plt\n",
    "\n",
    "icon = Image.open(\"./data/1234.png\")\n",
    "print(icon.mode)  # Check the mode of the image\n",
    "\n",
    "# Convert the image to include an alpha channel if needed\n",
    "icon = icon.convert(\"RGBA\")\n",
    "\n",
    "# Create a new image with an alpha channel for the mask\n",
    "mask = Image.new(\"RGBA\", icon.size, (255, 255, 255, 0))\n",
    "\n",
    "# Paste the icon onto the mask\n",
    "mask.paste(icon, (0, 0), icon)\n",
    "\n",
    "# Convert the mask to a numpy array\n",
    "mask = np.array(mask)\n",
    "\n",
    "# Display the result\n",
    "plt.imshow(mask)\n",
    "plt.show()"
   ]
  },
  {
   "cell_type": "code",
   "execution_count": 11,
   "id": "ba6c432d",
   "metadata": {},
   "outputs": [],
   "source": [
    "wc = WordCloud( max_font_size = 500,\n",
    "               background_color='white',                              #배경색\n",
    "               width=100, height=100,                                #사이즈설정\n",
    "#                max_words=200,                                         #단어갯수\n",
    "               mask=mask)                                             #마스크설정   \n",
    "\n",
    "cloud = wc.generate(text)                            #사전형태의 데이터\n",
    "\n",
    "# plt.figure(figsize=(10,10))                                           #액자사이즈설정\n",
    "plt.axis('off')                                                       #테두리 선 없애기\n",
    "plt.imshow(cloud) # ,interpolation=\"bilinear\""
   ]
  }
 ],
 "metadata": {
  "kernelspec": {
   "display_name": "Python 3 (ipykernel)",
   "language": "python",
   "name": "python3"
  },
  "language_info": {
   "codemirror_mode": {
    "name": "ipython",
    "version": 3
   },
   "file_extension": ".py",
   "mimetype": "text/x-python",
   "name": "python",
   "nbconvert_exporter": "python",
   "pygments_lexer": "ipython3",
   "version": "3.11.3"
  }
 },
 "nbformat": 4,
 "nbformat_minor": 5
}
