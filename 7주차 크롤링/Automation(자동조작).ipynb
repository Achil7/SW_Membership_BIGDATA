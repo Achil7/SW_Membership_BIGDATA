{
 "cells": [
  {
   "cell_type": "markdown",
   "id": "4c2a08f4",
   "metadata": {},
   "source": [
    "### 크롬드라이버\n",
    "### https://chromedriver.chromium.org/downloads"
   ]
  },
  {
   "cell_type": "markdown",
   "id": "f74dd643",
   "metadata": {},
   "source": [
    "---"
   ]
  },
  {
   "cell_type": "markdown",
   "id": "20e8e0a5",
   "metadata": {},
   "source": [
    "### 셀레니움\n",
    "### https://pypi.org/project/selenium/"
   ]
  },
  {
   "cell_type": "code",
   "execution_count": 1,
   "id": "43a7eec4",
   "metadata": {},
   "outputs": [],
   "source": [
    "# !pip install selenium\n",
    "# !pip install chromedriver"
   ]
  },
  {
   "cell_type": "markdown",
   "id": "c97e7905",
   "metadata": {},
   "source": [
    "### 예제 1"
   ]
  },
  {
   "cell_type": "code",
   "execution_count": 2,
   "id": "e39a7ec2",
   "metadata": {},
   "outputs": [],
   "source": [
    "from selenium import webdriver\n",
    "from selenium.webdriver.common.keys import Keys\n",
    "from selenium.webdriver.common.by import By\n",
    "\n",
    "driver = webdriver.Chrome()\n",
    "driver.get(\"http://www.python.org\")\n",
    "# assert \"Python\" in driver.title\n",
    "elem = driver.find_element(By.NAME, \"q\")\n",
    "elem.clear()\n",
    "elem.send_keys(\"pycon\")      # 검색창에 pycon 자동 입력\n",
    "elem.send_keys(Keys.RETURN)  # 엔터키 입력\n",
    "driver.close()"
   ]
  },
  {
   "cell_type": "markdown",
   "id": "78757603",
   "metadata": {},
   "source": [
    "### 예제 2"
   ]
  },
  {
   "cell_type": "code",
   "execution_count": 3,
   "id": "dd8eb493",
   "metadata": {},
   "outputs": [
    {
     "name": "stdout",
     "output_type": "stream",
     "text": [
      "Login Test is Okay\n"
     ]
    }
   ],
   "source": [
    "from selenium import webdriver\n",
    "from selenium.webdriver.common.keys import Keys\n",
    "from selenium.webdriver.common.by import By\n",
    "import time\n",
    "\n",
    "driver = webdriver.Chrome()\n",
    "driver.get(\"https://opensource-demo.orangehrmlive.com/\")\n",
    "\n",
    "# 사이트 로딩 전 입력이 되어있기에 delay걸어줌\n",
    "time.sleep(1)     # 10초 기다림\n",
    "\n",
    "id = driver.find_element(By.NAME, \"username\")\n",
    "id.clear()\n",
    "id.send_keys(\"Admin\")           # username에 Admin 자동 입력\n",
    "\n",
    "pw = driver.find_element(By.NAME, \"password\")\n",
    "pw.clear()\n",
    "pw.send_keys(\"admin123\")      # password에 admin123 자동 입력\n",
    "\n",
    "\n",
    "# 버튼을 클릭하는 과정\n",
    "submit_button = driver.find_element(By.XPATH, '//*[@id=\"app\"]/div[1]/div/div[1]/div/div[2]/div[2]/form/div[3]/button')\n",
    "submit_button.click()\n",
    "\n",
    "### check the title\n",
    "pred_title = driver.title\n",
    "act_title = 'OrangeHRM'\n",
    "\n",
    "if pred_title == act_title:\n",
    "    print('Login Test is Okay')\n",
    "else:\n",
    "    print('Login Test Failed')"
   ]
  },
  {
   "cell_type": "markdown",
   "id": "e7df64c5",
   "metadata": {},
   "source": [
    "### 예제 3 : 구글지도 검색"
   ]
  },
  {
   "cell_type": "code",
   "execution_count": 4,
   "id": "bd12bfe9",
   "metadata": {},
   "outputs": [],
   "source": [
    "from selenium import webdriver\n",
    "from selenium.webdriver.common.keys import Keys\n",
    "from selenium.webdriver.common.by import By\n",
    "import time\n",
    "\n",
    "driver = webdriver.Chrome()\n",
    "driver.get(\"https://www.google.co.kr/maps/?hl=ko\")\n",
    "\n",
    "time.sleep(1)\n",
    "\n",
    "elem = driver.find_element(By.NAME, \"q\")\n",
    "elem.clear()\n",
    "elem.send_keys(\"서울시청\")\n",
    "\n",
    "elem.send_keys(Keys.RETURN)  # 엔터키 입력\n",
    "# driver.close()"
   ]
  }
 ],
 "metadata": {
  "kernelspec": {
   "display_name": "Python 3 (ipykernel)",
   "language": "python",
   "name": "python3"
  },
  "language_info": {
   "codemirror_mode": {
    "name": "ipython",
    "version": 3
   },
   "file_extension": ".py",
   "mimetype": "text/x-python",
   "name": "python",
   "nbconvert_exporter": "python",
   "pygments_lexer": "ipython3",
   "version": "3.11.3"
  }
 },
 "nbformat": 4,
 "nbformat_minor": 5
}
