{
 "cells": [
  {
   "cell_type": "code",
   "execution_count": 1,
   "id": "2ad3f52a",
   "metadata": {},
   "outputs": [],
   "source": [
    "# !pip install selenium \n",
    "# pip install webdriver_manager"
   ]
  },
  {
   "cell_type": "code",
   "execution_count": 2,
   "id": "3d8c31be",
   "metadata": {},
   "outputs": [
    {
     "name": "stderr",
     "output_type": "stream",
     "text": [
      "C:\\Users\\admin\\AppData\\Local\\Temp\\ipykernel_9780\\1978608517.py:4: DeprecationWarning: executable_path has been deprecated, please pass in a Service object\n",
      "  driver=webdriver.Chrome(ChromeDriverManager().install())\n"
     ]
    }
   ],
   "source": [
    "from webdriver_manager.chrome import ChromeDriverManager\n",
    "from selenium import webdriver\n",
    "\n",
    "driver=webdriver.Chrome(ChromeDriverManager().install())\n",
    "\n",
    "URL = 'https://comic.naver.com/index'\n",
    "driver.get(url=URL)\n",
    "\n",
    "driver.implicitly_wait(time_to_wait=10)"
   ]
  },
  {
   "cell_type": "code",
   "execution_count": 3,
   "id": "a4b00571",
   "metadata": {},
   "outputs": [],
   "source": [
    "from selenium.webdriver.common.keys import Keys\n",
    "from selenium.webdriver.common.by import By"
   ]
  },
  {
   "cell_type": "code",
   "execution_count": 4,
   "id": "43ba0dd9",
   "metadata": {},
   "outputs": [
    {
     "name": "stdout",
     "output_type": "stream",
     "text": [
      "\n"
     ]
    }
   ],
   "source": [
    "titles = []\n",
    "image = driver.find_element(By.CSS_SELECTOR, '#container > div.HomeView__daily_section--bBwGG > div.DailyList__flicking_wrap--g2el0 > div.flicking-viewport > div > ul > li:nth-child(1) > a > div > img')\n",
    "titles.append(image.get_attribute('alt'))\n",
    "image = driver.find_element(By.CSS_SELECTOR, '#container > div.HomeView__daily_section--bBwGG > div.DailyList__flicking_wrap--g2el0 > div.flicking-viewport > div > ul > li:nth-child(2) > a > div > img')\n",
    "titles.append(image.get_attribute('alt'))\n",
    "image = driver.find_element(By.CSS_SELECTOR, '#container > div.HomeView__daily_section--bBwGG > div.DailyList__flicking_wrap--g2el0 > div.flicking-viewport > div > ul > li:nth-child(3) > a > div > img')\n",
    "titles.append(image.get_attribute('alt'))\n",
    "image = driver.find_element(By.CSS_SELECTOR, '#container > div.HomeView__daily_section--bBwGG > div.DailyList__flicking_wrap--g2el0 > div.flicking-viewport > div > ul > li:nth-child(4) > a > div > img')\n",
    "titles.append(image.get_attribute('alt'))\n",
    "image = driver.find_element(By.CSS_SELECTOR, '#container > div.HomeView__daily_section--bBwGG > div.DailyList__flicking_wrap--g2el0 > div.flicking-viewport > div > ul > li:nth-child(5) > a > div > img')\n",
    "titles.append(image.get_attribute('alt'))\n",
    "\n",
    "print('')\n",
    "\n"
   ]
  },
  {
   "cell_type": "code",
   "execution_count": 5,
   "id": "a6520ecd",
   "metadata": {},
   "outputs": [
    {
     "data": {
      "text/plain": [
       "['윗집 그 남자', '신과함께 돌아온 기사왕님', '은주의 방 2~3부', '랜덤채팅의 그녀!', '삼국지톡']"
      ]
     },
     "execution_count": 5,
     "metadata": {},
     "output_type": "execute_result"
    }
   ],
   "source": [
    "titles"
   ]
  }
 ],
 "metadata": {
  "kernelspec": {
   "display_name": "Python 3 (ipykernel)",
   "language": "python",
   "name": "python3"
  },
  "language_info": {
   "codemirror_mode": {
    "name": "ipython",
    "version": 3
   },
   "file_extension": ".py",
   "mimetype": "text/x-python",
   "name": "python",
   "nbconvert_exporter": "python",
   "pygments_lexer": "ipython3",
   "version": "3.11.3"
  }
 },
 "nbformat": 4,
 "nbformat_minor": 5
}
