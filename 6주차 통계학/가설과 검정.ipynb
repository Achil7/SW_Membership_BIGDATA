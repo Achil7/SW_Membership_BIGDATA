{
 "cells": [
  {
   "attachments": {},
   "cell_type": "markdown",
   "metadata": {},
   "source": [
    "# 검정"
   ]
  },
  {
   "attachments": {},
   "cell_type": "markdown",
   "metadata": {
    "vscode": {
     "languageId": "plaintext"
    }
   },
   "source": [
    "1. 단일표본 t검정 (One-Sample t-test)"
   ]
  },
  {
   "cell_type": "code",
   "execution_count": 1,
   "metadata": {},
   "outputs": [
    {
     "name": "stdout",
     "output_type": "stream",
     "text": [
      "H0: mu >= 1500\n",
      "H1: mu < 1500\n",
      "\n",
      "t-stat(검정통계량) = -4.0000\n",
      "critical value(임계치) = -1.6604\n",
      "유의수준 0.05에서 H0 기각하고, H1을 채택한다\n"
     ]
    }
   ],
   "source": [
    "\n",
    "import numpy as np\n",
    "from scipy.stats import t\n",
    "n = 100 # 표본개수\n",
    "mu = 1500 # 모평균\n",
    "x_bar = 1420 # 표본평균\n",
    "s = 200 # 표본 표준편차\n",
    "\n",
    "\n",
    "# t 검정통계량\n",
    "stat = (x_bar-mu) / (s/np.sqrt(n))\n",
    "\n",
    "# 임계치 alpha = 0.05  # 좌측 검정이기때문에 0.05\n",
    "c_val = t.ppf(0.05,df=n-1)\n",
    "\n",
    "print('H0: mu >= 1500')\n",
    "print('H1: mu < 1500\\n')\n",
    "print('t-stat(검정통계량) = %.4f\\ncritical value(임계치) = %.4f' % (stat,c_val))\n",
    "\n",
    "\n",
    "if stat>c_val:\n",
    "    print('유의수준 0.05에서 H0 채택하고, H1을 기각한다')\n",
    "else:\n",
    "    print('유의수준 0.05에서 H0 기각하고, H1을 채택한다')"
   ]
  },
  {
   "attachments": {},
   "cell_type": "markdown",
   "metadata": {},
   "source": [
    "2. 쌍체비교"
   ]
  },
  {
   "cell_type": "code",
   "execution_count": 2,
   "metadata": {},
   "outputs": [],
   "source": [
    "import numpy as np\n",
    "from scipy.stats import t\n",
    "\n",
    "x_0 = [82,54,74,75,71,76,70,62,77,75,72,83,78,74,68,76,75,75,75,71]\n",
    "x_1 = [75,50,74,71,69,73,68,62,68,72,70,77,71,74,67,73,77,71,76,74]\n",
    "n = len(x_0) # 표본 개수\n",
    "\n",
    "xd = sum(x_0) - sum(x_1) # x_0(전) - x_1(후) 합의 차이\n",
    "\n",
    "xd_bar = xd / len(x_0) # 평균\n",
    "\n",
    "a = []\n",
    "for i in range(20):\n",
    "    a.append(((x_0[i] - x_1[i]) - xd_bar)**2)\n",
    "a = sum(a) # (개인별 몸무게 차이 - 개인별 몸무게 차이의 평균)^2\n",
    "\n",
    "sd = np.sqrt(a/(n - 1)) # 표준편차\n",
    "\n",
    "s_d_bar = sd/np.sqrt(n) # 표준오차\n",
    "# 또는 (x_0 - x_1).std(ddof = 1)"
   ]
  },
  {
   "cell_type": "code",
   "execution_count": 3,
   "metadata": {},
   "outputs": [
    {
     "name": "stdout",
     "output_type": "stream",
     "text": [
      "H0: mu <= 0 또는 mu = 0 \n",
      "H1: mu > 0 \n",
      "\n",
      "t-stat(검정통계량) = 3.6355\n",
      "critical value(임계치) = 1.7291\n",
      "유의수준 0.05에서 H0 기각하고, H1을 채택한다\n"
     ]
    }
   ],
   "source": [
    "mu = 0\n",
    "\n",
    "# t 검정통계량\n",
    "stat = (xd_bar - mu) / (sd/np.sqrt(n))\n",
    "\n",
    "# 임계치 alpha = 0.95  # 우측검정이기에 0.95\n",
    "c_val = t.ppf(0.95,df=n-1)\n",
    "\n",
    "print('H0: mu <= 0 또는 mu = 0 ')\n",
    "print('H1: mu > 0 \\n')\n",
    "print('t-stat(검정통계량) = %.4f\\ncritical value(임계치) = %.4f' % (stat,c_val))\n",
    "\n",
    "\n",
    "if stat>c_val:\n",
    "    print('유의수준 0.05에서 H0 기각하고, H1을 채택한다')\n",
    "else:\n",
    "    print('유의수준 0.05에서 H0 채택하고, H1을 기각한다')"
   ]
  },
  {
   "cell_type": "code",
   "execution_count": 4,
   "metadata": {},
   "outputs": [
    {
     "name": "stdout",
     "output_type": "stream",
     "text": [
      "H0 : mu_before <= mu_after\n",
      "H1 : mu_before > mu_after\n",
      "\n",
      "t-stat = 3.6355\n",
      "p = 0.0018\n",
      "H0 기각하고, H1을 채택한다\n"
     ]
    }
   ],
   "source": [
    "# 쉽게 하기\n",
    "from scipy.stats import ttest_rel\n",
    "\n",
    "x_before = [82,54,74,75,71,76,70,62,77,75,72,83,78,74,68,76,75,75,75,71]\n",
    "x_after = [75,50,74,71,69,73,68,62,68,72,70,77,71,74,67,73,77,71,76,74]\n",
    "stat, p = ttest_rel(x_before, x_after)\n",
    "\n",
    "print('H0 : mu_before <= mu_after')\n",
    "print('H1 : mu_before > mu_after\\n')\n",
    "\n",
    "print('t-stat = %.4f\\np = %.4f' % (stat,p))\n",
    "\n",
    "if p > 0.05:\n",
    "    print('H0 채택하고, H1을 기각한다')\n",
    "else:\n",
    "    print('H0 기각하고, H1을 채택한다')"
   ]
  },
  {
   "attachments": {},
   "cell_type": "markdown",
   "metadata": {},
   "source": [
    "3. 두모집단 비교(Two_sample t-test)"
   ]
  },
  {
   "cell_type": "code",
   "execution_count": 5,
   "metadata": {},
   "outputs": [
    {
     "name": "stdout",
     "output_type": "stream",
     "text": [
      "H0 : mu_before <= mu_after\n",
      "H1 : mu_before > mu_after\n",
      "\n",
      "t-stat = 1.2863\n",
      "p = 0.2061\n",
      "H0 채택하고, H1을 기각한다\n"
     ]
    }
   ],
   "source": [
    "from scipy.stats import ttest_ind\n",
    "\n",
    "x_before = [82,54,74,75,71,76,70,62,77,75,72,83,78,74,68,76,75,75,75,71]\n",
    "x_after = [75,50,74,71,69,73,68,62,68,72,70,77,71,74,67,73,77,71,76,74]\n",
    "stat, p = ttest_ind(x_before, x_after)\n",
    "\n",
    "print('H0 : mu_before <= mu_after')\n",
    "print('H1 : mu_before > mu_after\\n')\n",
    "\n",
    "print('t-stat = %.4f\\np = %.4f' % (stat,p))\n",
    "\n",
    "if p > 0.05:\n",
    "    print('H0 채택하고, H1을 기각한다')\n",
    "else:\n",
    "    print('H0 기각하고, H1을 채택한다')"
   ]
  },
  {
   "attachments": {},
   "cell_type": "markdown",
   "metadata": {},
   "source": [
    "4. 두 모집단평균"
   ]
  },
  {
   "cell_type": "code",
   "execution_count": 6,
   "metadata": {},
   "outputs": [
    {
     "name": "stdout",
     "output_type": "stream",
     "text": [
      "자유도 : 56.674330538274276\n",
      "H0: muA = muB\n",
      "H1: muA != muB\n",
      "\n",
      "t-stat(검정통계량) = -3.4655\n",
      "critical value(임계치) = -1.6722\n",
      "-3.4655 < -1.6722 이기 때문에\n",
      "유의수준 0.05에서 H0 기각하고, H1을 채택한다\n"
     ]
    }
   ],
   "source": [
    "import numpy as np\n",
    "from scipy.stats import t\n",
    "A_n = 30\n",
    "A_x_bar = 48500\n",
    "A_sd = 3600\n",
    "\n",
    "B_n = 30\n",
    "B_x_bar = 52000\n",
    "B_sd = 4200\n",
    "\n",
    "# t 검정통계량\n",
    "stat = (A_x_bar - B_x_bar) / np.sqrt((A_sd**2/A_n) + (B_sd**2/B_n))\n",
    "\n",
    "# 자유도\n",
    "A_new = A_sd**2/A_n\n",
    "B_new = B_sd**2/B_n\n",
    "df = (A_new + B_new)**2 / ((A_new**2 / (A_n - 1)) + (B_new**2 / (B_n-1)))\n",
    "print('자유도 :',df)\n",
    "\n",
    "# 임계치 alpha = 0.05\n",
    "c_val = t.ppf(0.05,df)\n",
    "\n",
    "print('H0: muA = muB')\n",
    "print('H1: muA != muB\\n')\n",
    "print('t-stat(검정통계량) = %.4f\\ncritical value(임계치) = %.4f' % (stat,c_val))\n",
    "\n",
    "\n",
    "\n",
    "if stat < 0:\n",
    "    print(f'{stat:.4f} < {c_val:.4f} 이기 때문에')\n",
    "    if stat < c_val:\n",
    "        print('유의수준 0.05에서 H0 기각하고, H1을 채택한다')\n",
    "    else:\n",
    "        print('유의수준 0.05에서 H0 채택하고, H1을 기각한다')\n",
    "else:\n",
    "    print(f'{stat:.4f} > {c_val:.4f} 이기 때문에')\n",
    "    if stat > c_val:\n",
    "        print('유의수준 0.05에서 H0 기각하고, H1을 채택한다')\n",
    "    else:\n",
    "        print('유의수준 0.05에서 H0 채택하고, H1을 기각한다')    "
   ]
  },
  {
   "attachments": {},
   "cell_type": "markdown",
   "metadata": {},
   "source": [
    "5. 단일 모집단분산"
   ]
  },
  {
   "cell_type": "code",
   "execution_count": 7,
   "metadata": {},
   "outputs": [
    {
     "name": "stdout",
     "output_type": "stream",
     "text": [
      "H0: sigma^2 = 1.2\n",
      "H1: sigma^2 != 1.2\n",
      "\n",
      "chi2-stat(검정통계량) = 41.0833\n",
      "critical value(임계치) = -1.6722\n",
      "16.0471 < 41.0833 < 45.7223 이기 때문에\n",
      "유의수준 0.05에서 H0 채택하고, H1을 기각한다\n"
     ]
    }
   ],
   "source": [
    "from scipy.stats import chi2\n",
    "\n",
    "alpha = 0.05\n",
    "\n",
    "import numpy as np\n",
    "from scipy.stats import t\n",
    "n = 30\n",
    "n_sigma = 1.2\n",
    "n_sd = 1.7\n",
    "\n",
    "\n",
    "# chi2 검정통계량\n",
    "stat = (n-1)*n_sd / n_sigma\n",
    "\n",
    "# 임계치 alpha = 0.05\n",
    "c_val_right = chi2.ppf(1-0.05/2,df = n-1)\n",
    "c_val_left = chi2.ppf(0.05/2,df = n-1)\n",
    "# print(c_val_left,c_val_right)\n",
    "\n",
    "print('H0: sigma^2 = 1.2')\n",
    "print('H1: sigma^2 != 1.2\\n')\n",
    "print('chi2-stat(검정통계량) = %.4f\\ncritical value(임계치) = %.4f' % (stat,c_val))\n",
    "\n",
    "\n",
    "\n",
    "if c_val_left < stat < c_val_right:\n",
    "    print(f'{c_val_left:.4f} < {stat:.4f} < {c_val_right:.4f} 이기 때문에')\n",
    "    if stat < c_val_right:\n",
    "        print('유의수준 0.05에서 H0 채택하고, H1을 기각한다')\n",
    "    else:\n",
    "        print('유의수준 0.05에서 H0 기각하고, H1을 채택한다')\n",
    "else:\n",
    "    print(f'{c_val_left:.4f} > {stat:.4f} 또는\\n {stat:.4f} > {c_val_right:.4f} 이기 때문에')\n",
    "    if stat > c_val:\n",
    "        print('유의수준 0.05에서 H0 기각하고, H1을 채택한다')\n",
    "    else:\n",
    "        print('유의수준 0.05에서 H0 채택하고, H1을 기각한다')    "
   ]
  },
  {
   "attachments": {},
   "cell_type": "markdown",
   "metadata": {},
   "source": [
    "6. 두 모집단분산"
   ]
  },
  {
   "cell_type": "code",
   "execution_count": 8,
   "metadata": {},
   "outputs": [
    {
     "name": "stdout",
     "output_type": "stream",
     "text": [
      "H0: s2_a = s2_b\n",
      "H1: s2_a < s2_b\n",
      "\n",
      "F-stat(검정통계량) = 0.3803\n",
      "critical value(임계치) = 0.4476\n",
      "H0 기각하고, H1을 채택한다\n"
     ]
    }
   ],
   "source": [
    "from scipy.stats import f\n",
    "\n",
    "n_a = 16\n",
    "s2_a = 37.5\n",
    "\n",
    "n_b = 20\n",
    "s2_b = 98.6\n",
    "\n",
    "stat = s2_a/s2_b\n",
    "\n",
    "c_val = f.ppf(0.05,n_b-1, n_a-1)\n",
    "\n",
    "print('H0: s2_a = s2_b')\n",
    "print('H1: s2_a < s2_b\\n')\n",
    "print('F-stat(검정통계량) = %.4f\\ncritical value(임계치) = %.4f' % (stat,c_val))\n",
    "\n",
    "\n",
    "if stat > c_val:\n",
    "    print('H0 채택하고, H1을 기각한다')\n",
    "else:\n",
    "    print('H0 기각하고, H1을 채택한다')"
   ]
  }
 ],
 "metadata": {
  "kernelspec": {
   "display_name": "Python 3",
   "language": "python",
   "name": "python3"
  },
  "language_info": {
   "codemirror_mode": {
    "name": "ipython",
    "version": 3
   },
   "file_extension": ".py",
   "mimetype": "text/x-python",
   "name": "python",
   "nbconvert_exporter": "python",
   "pygments_lexer": "ipython3",
   "version": "3.11.3"
  },
  "orig_nbformat": 4
 },
 "nbformat": 4,
 "nbformat_minor": 2
}
