{
 "cells": [
  {
   "cell_type": "markdown",
   "metadata": {},
   "source": [
    "https://chriver58.quarto.pub/blog/posts/3_Python_Statistics/01_%ED%8C%8C%EC%9D%B4%EC%8D%AC%EA%B8%B0%EC%B4%88.html"
   ]
  },
  {
   "cell_type": "code",
   "execution_count": 1,
   "metadata": {},
   "outputs": [
    {
     "name": "stdout",
     "output_type": "stream",
     "text": [
      "123\n"
     ]
    },
    {
     "data": {
      "text/plain": [
       "int"
      ]
     },
     "execution_count": 1,
     "metadata": {},
     "output_type": "execute_result"
    }
   ],
   "source": [
    "# 파이썬 기본 자료 구조\n",
    "x = 123 # int\n",
    "print(x) # 함수\n",
    "type(x)"
   ]
  },
  {
   "cell_type": "code",
   "execution_count": 2,
   "metadata": {},
   "outputs": [
    {
     "name": "stdout",
     "output_type": "stream",
     "text": [
      "abc\n"
     ]
    },
    {
     "data": {
      "text/plain": [
       "str"
      ]
     },
     "execution_count": 2,
     "metadata": {},
     "output_type": "execute_result"
    }
   ],
   "source": [
    "# string\n",
    "y = 'abc'\n",
    "print(y)\n",
    "type(y)"
   ]
  },
  {
   "cell_type": "code",
   "execution_count": 3,
   "metadata": {},
   "outputs": [
    {
     "name": "stdout",
     "output_type": "stream",
     "text": [
      "['abc', 123]\n"
     ]
    }
   ],
   "source": [
    "# list\n",
    "z = [y,x]\n",
    "print(z)"
   ]
  },
  {
   "cell_type": "code",
   "execution_count": 4,
   "metadata": {},
   "outputs": [
    {
     "name": "stdout",
     "output_type": "stream",
     "text": [
      "['abc', 123]\n"
     ]
    },
    {
     "data": {
      "text/plain": [
       "list"
      ]
     },
     "execution_count": 4,
     "metadata": {},
     "output_type": "execute_result"
    }
   ],
   "source": [
    "# list\n",
    "z = [y,x]\n",
    "print(z)\n",
    "type(z)"
   ]
  },
  {
   "cell_type": "code",
   "execution_count": 5,
   "metadata": {},
   "outputs": [
    {
     "name": "stdout",
     "output_type": "stream",
     "text": [
      "('abc', 123)\n"
     ]
    },
    {
     "data": {
      "text/plain": [
       "tuple"
      ]
     },
     "execution_count": 5,
     "metadata": {},
     "output_type": "execute_result"
    }
   ],
   "source": [
    "# tuple\n",
    "u = (y,x)\n",
    "print(u)\n",
    "type(u)"
   ]
  },
  {
   "cell_type": "code",
   "execution_count": 6,
   "metadata": {},
   "outputs": [
    {
     "name": "stdout",
     "output_type": "stream",
     "text": [
      "{'name': '크리버', 'id': 1234}\n"
     ]
    },
    {
     "data": {
      "text/plain": [
       "dict"
      ]
     },
     "execution_count": 6,
     "metadata": {},
     "output_type": "execute_result"
    }
   ],
   "source": [
    "# dictionary\n",
    "v = {'name' : '크리버', 'id' : 1234} # dictionary\n",
    "print(v)\n",
    "type(v)"
   ]
  },
  {
   "cell_type": "code",
   "execution_count": 7,
   "metadata": {},
   "outputs": [
    {
     "name": "stdout",
     "output_type": "stream",
     "text": [
      "abc ==> a\n",
      "['abc', 123] ==> abc\n",
      "('abc', 123) ==> abc\n",
      "{'name': '크리버', 'id': 1234} ==> 크리버\n"
     ]
    }
   ],
   "source": [
    "# index\n",
    "print(y, '==>', y[0])\n",
    "print(z, '==>', z[0])\n",
    "print(u, '==>', u[0])\n",
    "print(v, '==>', v['name'])"
   ]
  },
  {
   "cell_type": "code",
   "execution_count": 8,
   "metadata": {},
   "outputs": [
    {
     "name": "stdout",
     "output_type": "stream",
     "text": [
      "abc ==> ab\n",
      "['abc', 123] ==> ['abc', 123]\n",
      "('abc', 123) ==> ('abc', 123)\n"
     ]
    }
   ],
   "source": [
    "# slicing\n",
    "print(y, '==>', y[0:2])\n",
    "print(z, '==>', z[0:2])\n",
    "print(u, '==>', u[0:2])"
   ]
  },
  {
   "cell_type": "code",
   "execution_count": 9,
   "metadata": {},
   "outputs": [
    {
     "name": "stdout",
     "output_type": "stream",
     "text": [
      "걸어간다\n"
     ]
    }
   ],
   "source": [
    "# 제어문 - 분기문\n",
    "money = 1000\n",
    "if money <= 5000:\n",
    "    print('걸어간다')\n",
    "elif money <= 2500:\n",
    "    print('버스탄다')\n",
    "else:\n",
    "    print('택시탄다')"
   ]
  },
  {
   "cell_type": "markdown",
   "metadata": {},
   "source": [
    "- error는 크게 2종류가 있음\n",
    "- 1. syntax error  (문법오류)\n",
    "- 2. logical error (논리오류)"
   ]
  },
  {
   "cell_type": "code",
   "execution_count": 10,
   "metadata": {},
   "outputs": [
    {
     "name": "stdout",
     "output_type": "stream",
     "text": [
      "n = 1\n",
      "n = 2\n",
      "n = 3\n",
      "n = 4\n",
      "n = 5\n",
      "n = 6\n",
      "n = 7\n",
      "n = 8\n",
      "n = 9\n",
      "n = 10\n"
     ]
    }
   ],
   "source": [
    "# 반복문 - while\n",
    "n = 0\n",
    "while n < 10:\n",
    "    n = n + 1\n",
    "    print('n =', n)"
   ]
  },
  {
   "cell_type": "code",
   "execution_count": 11,
   "metadata": {},
   "outputs": [
    {
     "name": "stdout",
     "output_type": "stream",
     "text": [
      "n= 1\n",
      "n= 2\n",
      "n= 3\n",
      "n= 4\n",
      "n= 5\n",
      "n= 6\n",
      "n= 7\n",
      "n= 8\n",
      "n= 9\n",
      "n= 10\n"
     ]
    }
   ],
   "source": [
    "# 반복문 - for\n",
    "for n in range(10):\n",
    "    n = n+1\n",
    "    print('n=',n)"
   ]
  },
  {
   "cell_type": "code",
   "execution_count": 12,
   "metadata": {},
   "outputs": [
    {
     "name": "stdout",
     "output_type": "stream",
     "text": [
      "n= 1\n",
      "n= 3\n",
      "n= 5\n",
      "n= 7\n",
      "n= 9\n"
     ]
    }
   ],
   "source": [
    "# 반복문 - for\n",
    "for n in range(0,10,2):\n",
    "    n = n+1\n",
    "    print('n=',n)"
   ]
  },
  {
   "cell_type": "code",
   "execution_count": 13,
   "metadata": {},
   "outputs": [
    {
     "name": "stdout",
     "output_type": "stream",
     "text": [
      "n= -1\n",
      "n= -2\n",
      "n= -3\n",
      "n= -4\n",
      "n= -5\n",
      "n= -6\n",
      "n= -7\n",
      "n= -8\n",
      "n= -9\n",
      "n= -10\n"
     ]
    }
   ],
   "source": [
    "# 반복문 - for\n",
    "for n in range(0,-10,-1):\n",
    "    n = n-1\n",
    "    print('n=',n)"
   ]
  },
  {
   "cell_type": "code",
   "execution_count": 14,
   "metadata": {},
   "outputs": [
    {
     "name": "stdout",
     "output_type": "stream",
     "text": [
      "*\n",
      "**\n",
      "***\n",
      "****\n",
      "*****\n",
      "\n"
     ]
    }
   ],
   "source": [
    "# ex)\n",
    "n = ''\n",
    "for i in range(1,6):\n",
    "    for j in range(0,i):\n",
    "        n += '*'\n",
    "    n += '\\n'\n",
    "print(n)"
   ]
  },
  {
   "cell_type": "code",
   "execution_count": 15,
   "metadata": {},
   "outputs": [
    {
     "name": "stdout",
     "output_type": "stream",
     "text": [
      "-4\n"
     ]
    }
   ],
   "source": [
    "# 함수\n",
    "def minus(a,b):\n",
    "    result = a-b\n",
    "    return result\n",
    "a = minus(3,7)\n",
    "print(a)"
   ]
  },
  {
   "cell_type": "code",
   "execution_count": 16,
   "metadata": {},
   "outputs": [
    {
     "data": {
      "image/png": "[encoded data removed]",
      "text/plain": [
       "<Figure size 640x480 with 1 Axes>"
      ]
     },
     "metadata": {},
     "output_type": "display_data"
    }
   ],
   "source": [
    "# 패키지\n",
    "import matplotlib.pyplot as plt\n",
    "\n",
    "plt.plot([10,20,30,40],[1,4,9,16], 'rs--',\n",
    "         [10,20,30,40],[11,24,9,6], 'g^-')\n",
    "plt.show()"
   ]
  },
  {
   "cell_type": "code",
   "execution_count": 17,
   "metadata": {},
   "outputs": [
    {
     "name": "stdout",
     "output_type": "stream",
     "text": [
      "   age          job   marital  education default  balance housing loan  \\\n",
      "0   58   management   married   tertiary      no     2143     yes   no   \n",
      "1   36   technician    single  secondary      no      265     yes  yes   \n",
      "2   25  blue-collar   married  secondary      no       -7     yes   no   \n",
      "3   53   technician   married  secondary      no       -3      no   no   \n",
      "4   24   technician    single  secondary      no     -103     yes  yes   \n",
      "5   60      retired   married   tertiary      no      100      no   no   \n",
      "6   55   technician   married  secondary      no     1205     yes   no   \n",
      "7   54   management   married  secondary      no      282     yes  yes   \n",
      "8   55     services  divorced  secondary      no       91      no   no   \n",
      "9   56       admin.   married  secondary      no       45      no   no   \n",
      "\n",
      "  contact  day month  duration  campaign  pdays  previous poutcome    y  \n",
      "0     NaN    5   may       261         1     -1         0      NaN   no  \n",
      "1     NaN    5   may       348         1     -1         0      NaN   no  \n",
      "2     NaN    5   may       365         1     -1         0      NaN   no  \n",
      "3     NaN    5   may      1666         1     -1         0      NaN   no  \n",
      "4     NaN    5   may       145         1     -1         0      NaN   no  \n",
      "5     NaN    5   may       528         1     -1         0      NaN   no  \n",
      "6     NaN    5   may       158         2     -1         0      NaN   no  \n",
      "7     NaN    5   may       154         1     -1         0      NaN   no  \n",
      "8     NaN    5   may       349         1     -1         0      NaN   no  \n",
      "9     NaN    5   may      1467         1     -1         0      NaN  yes  \n",
      "      age            job  marital  education default  balance housing loan  \\\n",
      "7224   63        retired  married    primary      no     3738      no   no   \n",
      "7225   29         admin.   single  secondary      no      464      no   no   \n",
      "7226   33         admin.   single  secondary      no      690      no   no   \n",
      "7227   36         admin.   single   tertiary      no      980      no   no   \n",
      "7228   38   entrepreneur   single  secondary      no     2543      no   no   \n",
      "7229   25       services   single  secondary      no      199      no   no   \n",
      "7230   28  self-employed   single   tertiary      no      159      no   no   \n",
      "7231   59     management  married   tertiary      no      138     yes  yes   \n",
      "7232   37     management  married   tertiary      no     1428      no   no   \n",
      "7233   25     technician   single  secondary      no      505      no  yes   \n",
      "\n",
      "        contact  day month  duration  campaign  pdays  previous poutcome    y  \n",
      "7224  telephone    9   nov       301         1    456         4  failure   no  \n",
      "7225   cellular    9   nov       208         2     91         3  success  yes  \n",
      "7226   cellular   10   nov       223         3    555        16  failure   no  \n",
      "7227   cellular   11   nov       118         4    104         7  failure   no  \n",
      "7228   cellular   11   nov       357         3     93         5  success  yes  \n",
      "7229   cellular   16   nov       173         1     92         5  failure   no  \n",
      "7230   cellular   16   nov       449         2     33         4  success  yes  \n",
      "7231   cellular   16   nov       162         2    187         5  failure   no  \n",
      "7232   cellular   16   nov       333         2     -1         0      NaN   no  \n",
      "7233   cellular   17   nov       386         2     -1         0      NaN  yes  \n"
     ]
    }
   ],
   "source": [
    "import pandas as pd\n",
    "\n",
    "# 불러올 파일의 경로를 filename 변수에 저장\n",
    "filename = 'C:/Users/admin/Desktop/빅데이터/1주차 _ 빅데이터개론(하정훈교수)/Spyder_python/bank분석/bank.csv'\n",
    "\n",
    "# pandas read_csv 로 불러오기\n",
    "data = pd.read_csv(filename)\n",
    "print(data.head(10))\n",
    "print(data.tail(10))"
   ]
  },
  {
   "cell_type": "code",
   "execution_count": 18,
   "metadata": {},
   "outputs": [
    {
     "data": {
      "text/html": [
       "<div>\n",
       "<style scoped>\n",
       "    .dataframe tbody tr th:only-of-type {\n",
       "        vertical-align: middle;\n",
       "    }\n",
       "\n",
       "    .dataframe tbody tr th {\n",
       "        vertical-align: top;\n",
       "    }\n",
       "\n",
       "    .dataframe thead th {\n",
       "        text-align: right;\n",
       "    }\n",
       "</style>\n",
       "<table border=\"1\" class=\"dataframe\">\n",
       "  <thead>\n",
       "    <tr style=\"text-align: right;\">\n",
       "      <th></th>\n",
       "      <th>0</th>\n",
       "      <th>1</th>\n",
       "      <th>2</th>\n",
       "    </tr>\n",
       "  </thead>\n",
       "  <tbody>\n",
       "    <tr>\n",
       "      <th>0</th>\n",
       "      <td>1</td>\n",
       "      <td>2</td>\n",
       "      <td>3</td>\n",
       "    </tr>\n",
       "    <tr>\n",
       "      <th>1</th>\n",
       "      <td>4</td>\n",
       "      <td>5</td>\n",
       "      <td>6</td>\n",
       "    </tr>\n",
       "  </tbody>\n",
       "</table>\n",
       "</div>"
      ],
      "text/plain": [
       "   0  1  2\n",
       "0  1  2  3\n",
       "1  4  5  6"
      ]
     },
     "execution_count": 18,
     "metadata": {},
     "output_type": "execute_result"
    }
   ],
   "source": [
    "# pandas 다루기\n",
    "import numpy as np\n",
    "import pandas as pd\n",
    "\n",
    "# 2D array를 dataframe으로 변환\n",
    "my_2darray = np.array([[1,2,3],[4,5,6]])\n",
    "pd.DataFrame(my_2darray)"
   ]
  },
  {
   "cell_type": "code",
   "execution_count": 19,
   "metadata": {},
   "outputs": [
    {
     "data": {
      "text/html": [
       "<div>\n",
       "<style scoped>\n",
       "    .dataframe tbody tr th:only-of-type {\n",
       "        vertical-align: middle;\n",
       "    }\n",
       "\n",
       "    .dataframe tbody tr th {\n",
       "        vertical-align: top;\n",
       "    }\n",
       "\n",
       "    .dataframe thead th {\n",
       "        text-align: right;\n",
       "    }\n",
       "</style>\n",
       "<table border=\"1\" class=\"dataframe\">\n",
       "  <thead>\n",
       "    <tr style=\"text-align: right;\">\n",
       "      <th></th>\n",
       "      <th>a</th>\n",
       "      <th>b</th>\n",
       "      <th>c</th>\n",
       "    </tr>\n",
       "  </thead>\n",
       "  <tbody>\n",
       "    <tr>\n",
       "      <th>0</th>\n",
       "      <td>1</td>\n",
       "      <td>1</td>\n",
       "      <td>2</td>\n",
       "    </tr>\n",
       "    <tr>\n",
       "      <th>1</th>\n",
       "      <td>3</td>\n",
       "      <td>2</td>\n",
       "      <td>4</td>\n",
       "    </tr>\n",
       "  </tbody>\n",
       "</table>\n",
       "</div>"
      ],
      "text/plain": [
       "   a  b  c\n",
       "0  1  1  2\n",
       "1  3  2  4"
      ]
     },
     "execution_count": 19,
     "metadata": {},
     "output_type": "execute_result"
    }
   ],
   "source": [
    "# dictionary를 dataframe으로 변환\n",
    "my_dict = {'a':['1','3'],'b':['1','2'],'c':['2','4']}\n",
    "pd.DataFrame(my_dict)"
   ]
  },
  {
   "cell_type": "code",
   "execution_count": 20,
   "metadata": {},
   "outputs": [
    {
     "name": "stdout",
     "output_type": "stream",
     "text": [
      "   A  B  C\n",
      "1  1  2  3\n",
      "2  4  5  6\n"
     ]
    }
   ],
   "source": [
    "# 직접 dataframe 작성\n",
    "my_df = pd.DataFrame(data=np.array([[1,2,3],[4,5,6]]), index = range(1,3),\n",
    "                     columns = ['A','B','C'])\n",
    "print(pd.DataFrame(my_df))"
   ]
  },
  {
   "cell_type": "code",
   "execution_count": 21,
   "metadata": {},
   "outputs": [
    {
     "name": "stdout",
     "output_type": "stream",
     "text": [
      "                         0\n",
      "United Kingdom      London\n",
      "India            New delhi\n",
      "United States   Washington\n",
      "Belgium           brussels\n"
     ]
    }
   ],
   "source": [
    "# Series를 dataframe으로 변환\n",
    "my_series = pd.Series({'United Kingdom':'London', 'India':'New delhi', 'United States':'Washington','Belgium':'brussels'})\n",
    "print(pd.DataFrame(my_series))"
   ]
  },
  {
   "cell_type": "code",
   "execution_count": 22,
   "metadata": {},
   "outputs": [
    {
     "name": "stdout",
     "output_type": "stream",
     "text": [
      "   A  B  C\n",
      "1  1  2  3\n",
      "2  4  5  6\n",
      "3  7  8  9\n"
     ]
    },
    {
     "data": {
      "text/html": [
       "<div>\n",
       "<style scoped>\n",
       "    .dataframe tbody tr th:only-of-type {\n",
       "        vertical-align: middle;\n",
       "    }\n",
       "\n",
       "    .dataframe tbody tr th {\n",
       "        vertical-align: top;\n",
       "    }\n",
       "\n",
       "    .dataframe thead th {\n",
       "        text-align: right;\n",
       "    }\n",
       "</style>\n",
       "<table border=\"1\" class=\"dataframe\">\n",
       "  <thead>\n",
       "    <tr style=\"text-align: right;\">\n",
       "      <th></th>\n",
       "      <th>A</th>\n",
       "      <th>C</th>\n",
       "    </tr>\n",
       "  </thead>\n",
       "  <tbody>\n",
       "    <tr>\n",
       "      <th>1</th>\n",
       "      <td>1</td>\n",
       "      <td>3</td>\n",
       "    </tr>\n",
       "    <tr>\n",
       "      <th>2</th>\n",
       "      <td>4</td>\n",
       "      <td>6</td>\n",
       "    </tr>\n",
       "    <tr>\n",
       "      <th>3</th>\n",
       "      <td>7</td>\n",
       "      <td>9</td>\n",
       "    </tr>\n",
       "  </tbody>\n",
       "</table>\n",
       "</div>"
      ],
      "text/plain": [
       "   A  C\n",
       "1  1  3\n",
       "2  4  6\n",
       "3  7  9"
      ]
     },
     "execution_count": 22,
     "metadata": {},
     "output_type": "execute_result"
    }
   ],
   "source": [
    "df = pd.DataFrame({'A':[1,4,7], 'B':[2,5,8], 'C':[3,6,9]}, index = range(1,4))\n",
    "print(df)\n",
    "\n",
    "df[['A','C']]"
   ]
  }
 ],
 "metadata": {
  "anaconda-cloud": {},
  "kernelspec": {
   "display_name": "Python 3 (ipykernel)",
   "language": "python",
   "name": "python3"
  },
  "language_info": {
   "codemirror_mode": {
    "name": "ipython",
    "version": 3
   },
   "file_extension": ".py",
   "mimetype": "text/x-python",
   "name": "python",
   "nbconvert_exporter": "python",
   "pygments_lexer": "ipython3",
   "version": "3.10.9"
  }
 },
 "nbformat": 4,
 "nbformat_minor": 4
}
