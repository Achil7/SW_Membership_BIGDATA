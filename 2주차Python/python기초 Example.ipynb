{
 "cells": [
  {
   "cell_type": "markdown",
   "metadata": {},
   "source": [
    "# Python 기초 Example"
   ]
  },
  {
   "cell_type": "markdown",
   "metadata": {},
   "source": [
    "### 목차\n",
    "\n",
    "[1. 문자열 ](#문자열-Example)\\\n",
    "[2. List ](#List-Example)\\\n",
    "[3. Dictionary ](#Dictionary-Example)\\\n",
    "[4. Set ](#Set-Example)\\\n",
    "[5. IF ](#조건문-If)\\\n",
    "[6. While ](#반복문-While)\\\n",
    "[7. For ](#반복문-For)\\\n",
    "[8. 함수 ](#Function)\\\n",
    "[8-1. 기타 함수 ](#기타-함수)\\\n",
    "[9. 입출력 ](#입출력-Example)\\\n",
    "[10. Module & Package ](#Module-&-Package-Example)\\\n",
    "[#. 쉬어가는 문제](#쉬어가기-문제)"
   ]
  },
  {
   "cell_type": "markdown",
   "metadata": {},
   "source": [
    "## 문자열 Example"
   ]
  },
  {
   "cell_type": "code",
   "execution_count": 1,
   "metadata": {},
   "outputs": [
    {
     "name": "stdout",
     "output_type": "stream",
     "text": [
      "['881120', '1068234']\n"
     ]
    }
   ],
   "source": [
    "# Q1. 홍길동의 주민번호는 881120-1068234이다. 연월일(YYMMDD)부분과 그 뒤의 숫자 부분으로 나누어보자\n",
    "hong = '881120-1068234'\n",
    "print(hong.split('-'))"
   ]
  },
  {
   "cell_type": "code",
   "execution_count": 2,
   "metadata": {},
   "outputs": [
    {
     "name": "stdout",
     "output_type": "stream",
     "text": [
      "남자\n"
     ]
    }
   ],
   "source": [
    "# Q2. 주민번호 뒷자리의 맨 첫번째 숫자는 성별을 나타낸다. 홍길동의 성별을 나타내는 숫자를 출력해보자\n",
    "hong[7]\n",
    "\n",
    "if hong[7] == '1':\n",
    "    print('남자')\n",
    "else:\n",
    "    print('여자')"
   ]
  },
  {
   "cell_type": "code",
   "execution_count": 3,
   "metadata": {},
   "outputs": [
    {
     "data": {
      "text/plain": [
       "'a#b#c#d'"
      ]
     },
     "execution_count": 3,
     "metadata": {},
     "output_type": "execute_result"
    }
   ],
   "source": [
    "# Q3. a:b:c:d를 replace를 활용해서 a#b#c#d를 출력해보자\n",
    "ex3 = 'a:b:c:d'\n",
    "ex3.replace(':','#')"
   ]
  },
  {
   "cell_type": "code",
   "execution_count": 4,
   "metadata": {},
   "outputs": [],
   "source": [
    "# Q4. 인터넷 사이트 암호 만들기\n",
    "# http://naver.com\n",
    "# 규칙1 : http:// 부분은 제외 => naver.com\n",
    "# 규칙2 : 처음 만나는 점(.) 이후 부분은 제외 => naver\n",
    "# 규칙3 : 남은 글자 중 처음 세자리 + 글자 갯수 + 글자 내 'e' 갯수 + '!'로 구성\n",
    "#                   (nav)           (5)         (1)                 (!)\n",
    "# ex) 생성된 비밀번호 : nav51!"
   ]
  },
  {
   "cell_type": "code",
   "execution_count": 5,
   "metadata": {},
   "outputs": [
    {
     "name": "stdout",
     "output_type": "stream",
     "text": [
      "www.google.com\n",
      "www.g\n",
      "www 5 0 !\n",
      "www50!\n"
     ]
    }
   ],
   "source": [
    "# 내 풀이\n",
    "addr = 'https://www.google.com'\n",
    "len(addr)\n",
    "addr.find('/')\n",
    "addr_1 = addr[addr.find('/')+2:]\n",
    "print(addr_1)\n",
    "addr_1.find('.')\n",
    "addr_2 = addr_1[:5]\n",
    "print(addr_2)\n",
    "a = addr_2[:3]\n",
    "b = len(addr_2)\n",
    "c = addr_2.count('e')\n",
    "d = '!'\n",
    "print(a,b,c,d)\n",
    "password = a+str(b)+str(c)+d\n",
    "print(password)"
   ]
  },
  {
   "cell_type": "code",
   "execution_count": 6,
   "metadata": {},
   "outputs": [
    {
     "name": "stdout",
     "output_type": "stream",
     "text": [
      "nav51!\n"
     ]
    }
   ],
   "source": [
    "# 답안\n",
    "url = 'http://naver.com'\n",
    "my_str = url.replace('http://', '')\n",
    "my_str = my_str[:my_str.index('.')]\n",
    "password = my_str[:3] + str(len(my_str)) + str(my_str.count('e')) + '!'\n",
    "print(password)"
   ]
  },
  {
   "cell_type": "markdown",
   "metadata": {},
   "source": [
    "[목차로 돌아가기](#목차)"
   ]
  },
  {
   "cell_type": "markdown",
   "metadata": {},
   "source": [
    "## List Example"
   ]
  },
  {
   "cell_type": "code",
   "execution_count": 7,
   "metadata": {},
   "outputs": [
    {
     "name": "stdout",
     "output_type": "stream",
     "text": [
      "[2, 4, 6, 8, 10]\n"
     ]
    }
   ],
   "source": [
    "# 리스트의 생성\n",
    "# Q1. 1부터 10까지의 숫자 중 짝수를 요소로 가지는 even_list라는 리스트를 생성(10을 포함)\n",
    "# print()를 사용해서 even_list = [2,4,6,8,10]을 출력\n",
    "print(list(range(2,11,2)))"
   ]
  },
  {
   "cell_type": "code",
   "execution_count": 8,
   "metadata": {},
   "outputs": [
    {
     "name": "stdout",
     "output_type": "stream",
     "text": [
      "[0, 1, 2, 3, 4, 5, 6, 7, 8, 9, 10, 11, 12, 13, 14]\n"
     ]
    }
   ],
   "source": [
    "# 리스트의 슬라이싱\n",
    "# Q1. range(15) 함수를 사용하여 다음과 같은 리스트를 생성하라\n",
    "# n_list = [0,1,2,3,4,5,6,7,8,9,10,11,12,13,14]\n",
    "print(list(range(15)))"
   ]
  },
  {
   "cell_type": "code",
   "execution_count": 9,
   "metadata": {},
   "outputs": [
    {
     "name": "stdout",
     "output_type": "stream",
     "text": [
      "[0, 1, 2, 3, 4, 5, 6, 7, 8, 9, 10, 11, 12, 13, 14]\n",
      "[0, 1, 2, 3, 4]\n",
      "[5, 6, 7, 8, 9, 10]\n",
      "[11, 12, 13, 14]\n",
      "[2, 4, 6, 8, 10]\n",
      "[10, 9, 8, 7, 6]\n",
      "[10, 8, 6, 4, 2]\n"
     ]
    }
   ],
   "source": [
    "# Q2. Q1의 n_list로부터 슬라이싱을 수행하여 다음과 같은 리스트 생성\n",
    "n_list = [0,1,2,3,4,5,6,7,8,9,10,11,12,13,14]\n",
    "print(n_list)\n",
    "print(n_list[:5])\n",
    "print(n_list[5:11])\n",
    "print(n_list[11:15])\n",
    "print(n_list[2:11:2])\n",
    "print(n_list[10:5:-1])\n",
    "print(n_list[10:1:-2])"
   ]
  },
  {
   "cell_type": "code",
   "execution_count": 10,
   "metadata": {},
   "outputs": [
    {
     "name": "stdout",
     "output_type": "stream",
     "text": [
      "[1, 2, 3, [10, 20, 30]]\n",
      "[1, 2, 3, 10, 20, 30]\n"
     ]
    }
   ],
   "source": [
    "# 리스트 메소드의 응용\n",
    "# Q1. a의 리스트 원소 값이 [1,2,3]이고 b 리스트의 원소 값이 [10,20,30]이다.\n",
    "# a 리스트에 append(b)와 extend(b)를 할 때 어떻게 나타날까?\n",
    "# 1\n",
    "a = [1,2,3]\n",
    "b = [10,20,30]\n",
    "a.append(b)\n",
    "print(a)\n",
    "\n",
    "# 2\n",
    "a = [1,2,3]\n",
    "b = [10,20,30]\n",
    "a.extend(b)\n",
    "print(a)"
   ]
  },
  {
   "cell_type": "code",
   "execution_count": 11,
   "metadata": {},
   "outputs": [
    {
     "data": {
      "text/plain": [
       "[1, 2, 3, 4, 5, 6, 7, 8, 9, 10]"
      ]
     },
     "execution_count": 11,
     "metadata": {},
     "output_type": "execute_result"
    }
   ],
   "source": [
    "# Q2. 1부터 10까지의 정수 값을 원소로 가지는 nlist를 생성하여 다음과 같이 출력하자\n",
    "nlist = [1,2,3,4,5,6,7,8,9,10]\n",
    "list(range(1,11))"
   ]
  },
  {
   "cell_type": "code",
   "execution_count": 12,
   "metadata": {},
   "outputs": [
    {
     "data": {
      "text/plain": [
       "[0, 1, 2, 3, 4, 5, 6, 7, 8, 9, 10]"
      ]
     },
     "execution_count": 12,
     "metadata": {},
     "output_type": "execute_result"
    }
   ],
   "source": [
    "# Q3. insert를 활용하여 nlist의 맨 앞에 0을 삽입하라\n",
    "nlist.insert(0,0)\n",
    "nlist"
   ]
  },
  {
   "cell_type": "code",
   "execution_count": 13,
   "metadata": {},
   "outputs": [
    {
     "data": {
      "text/plain": [
       "[10, 9, 8, 7, 6, 5, 4, 3, 2, 1, 0]"
      ]
     },
     "execution_count": 13,
     "metadata": {},
     "output_type": "execute_result"
    }
   ],
   "source": [
    "# Q4. nlist를 역순으로 다시 배열 reverse활용\n",
    "nlist.reverse()\n",
    "nlist"
   ]
  },
  {
   "cell_type": "code",
   "execution_count": 14,
   "metadata": {},
   "outputs": [
    {
     "data": {
      "text/plain": [
       "[10, 9, 8, 7, 6, 5, 4, 3, 2, 1]"
      ]
     },
     "execution_count": 14,
     "metadata": {},
     "output_type": "execute_result"
    }
   ],
   "source": [
    "# Q5. nlist의 마지막 원소를 pop활용하여 출력 및 삭제\n",
    "nlist.pop(-1)\n",
    "nlist"
   ]
  },
  {
   "cell_type": "code",
   "execution_count": 15,
   "metadata": {},
   "outputs": [
    {
     "name": "stdout",
     "output_type": "stream",
     "text": [
      "you too\n"
     ]
    }
   ],
   "source": [
    "# Q6. 리스트 인덱싱\n",
    "a = ['Life','is','too','short','you','need','python']\n",
    "print(a[4]+ ' '+a[2])"
   ]
  },
  {
   "cell_type": "code",
   "execution_count": 16,
   "metadata": {},
   "outputs": [
    {
     "data": {
      "text/plain": [
       "'Life is too short'"
      ]
     },
     "execution_count": 16,
     "metadata": {},
     "output_type": "execute_result"
    }
   ],
   "source": [
    "# Q7.리스트 조인\n",
    "a = ' '\n",
    "a.join(['Life','is','too','short'])\n"
   ]
  },
  {
   "cell_type": "code",
   "execution_count": 17,
   "metadata": {},
   "outputs": [
    {
     "data": {
      "text/plain": [
       "3"
      ]
     },
     "execution_count": 17,
     "metadata": {},
     "output_type": "execute_result"
    }
   ],
   "source": [
    "# Q8.리스트 갯수\n",
    "a = [1,2,3]\n",
    "len(a)"
   ]
  },
  {
   "cell_type": "code",
   "execution_count": 18,
   "metadata": {},
   "outputs": [
    {
     "data": {
      "text/plain": [
       "[1, 2, 3, [4, 5]]"
      ]
     },
     "execution_count": 18,
     "metadata": {},
     "output_type": "execute_result"
    }
   ],
   "source": [
    "# Q9.리스트의 append & extend\n",
    "a = [1,2,3]\n",
    "a.append([4,5])\n",
    "a"
   ]
  },
  {
   "cell_type": "code",
   "execution_count": 19,
   "metadata": {},
   "outputs": [
    {
     "data": {
      "text/plain": [
       "[1, 2, 3, 4, 5]"
      ]
     },
     "execution_count": 19,
     "metadata": {},
     "output_type": "execute_result"
    }
   ],
   "source": [
    "a = [1,2,3]\n",
    "a.extend([4,5])\n",
    "a"
   ]
  },
  {
   "cell_type": "code",
   "execution_count": 20,
   "metadata": {},
   "outputs": [
    {
     "data": {
      "text/plain": [
       "[5, 4, 3, 2, 1]"
      ]
     },
     "execution_count": 20,
     "metadata": {},
     "output_type": "execute_result"
    }
   ],
   "source": [
    "# Q.리스트 정렬\n",
    "a = [1,3,5,4,2]\n",
    "a.sort()\n",
    "a.reverse()\n",
    "a"
   ]
  },
  {
   "cell_type": "code",
   "execution_count": 21,
   "metadata": {},
   "outputs": [
    {
     "data": {
      "text/plain": [
       "[5, 4, 3, 2, 1]"
      ]
     },
     "execution_count": 21,
     "metadata": {},
     "output_type": "execute_result"
    }
   ],
   "source": [
    "# 또는\n",
    "a = [1,3,5,4,2]\n",
    "a.sort(reverse=True)\n",
    "a"
   ]
  },
  {
   "cell_type": "code",
   "execution_count": 22,
   "metadata": {},
   "outputs": [
    {
     "data": {
      "text/plain": [
       "[1, 3, 5]"
      ]
     },
     "execution_count": 22,
     "metadata": {},
     "output_type": "execute_result"
    }
   ],
   "source": [
    "# Q.리스트 삭제\n",
    "a = [1,2,3,4,5]\n",
    "a.remove(2)\n",
    "a.remove(4)\n",
    "a"
   ]
  },
  {
   "cell_type": "markdown",
   "metadata": {},
   "source": [
    "[목차로 돌아가기](#목차)"
   ]
  },
  {
   "cell_type": "markdown",
   "metadata": {},
   "source": [
    "## Dictionary Example"
   ]
  },
  {
   "cell_type": "code",
   "execution_count": 23,
   "metadata": {},
   "outputs": [
    {
     "data": {
      "text/plain": [
       "{'name': '홍길동', 'birth': '1128', 'age': 30}"
      ]
     },
     "execution_count": 23,
     "metadata": {},
     "output_type": "execute_result"
    }
   ],
   "source": [
    "# Q1. 딕셔너리 만들기\n",
    "q1 = {'name':'홍길동', 'birth':'1128', 'age':30}\n",
    "q1"
   ]
  },
  {
   "cell_type": "code",
   "execution_count": 24,
   "metadata": {},
   "outputs": [
    {
     "name": "stdout",
     "output_type": "stream",
     "text": [
      "80\n"
     ]
    },
    {
     "data": {
      "text/plain": [
       "{'A': 90, 'C': 70}"
      ]
     },
     "execution_count": 24,
     "metadata": {},
     "output_type": "execute_result"
    }
   ],
   "source": [
    "# Q2. 딕셔너리 값 추출1\n",
    "# 그리고 삭제 >> Pop\n",
    "a = {'A':90, 'B':80, 'C':70}\n",
    "print(a.pop('B'))\n",
    "a"
   ]
  },
  {
   "cell_type": "code",
   "execution_count": 25,
   "metadata": {},
   "outputs": [
    {
     "data": {
      "text/plain": [
       "70"
      ]
     },
     "execution_count": 25,
     "metadata": {},
     "output_type": "execute_result"
    }
   ],
   "source": [
    "# Q3. 딕셔너리 값 추출2\n",
    "a = {'A':90, 'B':80}\n",
    "# a['C'] # >> 에러\n",
    "a.get('C',70)"
   ]
  },
  {
   "cell_type": "code",
   "execution_count": 26,
   "metadata": {},
   "outputs": [
    {
     "data": {
      "text/plain": [
       "70"
      ]
     },
     "execution_count": 26,
     "metadata": {},
     "output_type": "execute_result"
    }
   ],
   "source": [
    "# Q4.\n",
    "a = {'A':90, 'B':80, 'C':70}\n",
    "min(a.values())"
   ]
  },
  {
   "cell_type": "code",
   "execution_count": 27,
   "metadata": {},
   "outputs": [
    {
     "data": {
      "text/plain": [
       "[('A', 90), ('B', 80), ('C', 70)]"
      ]
     },
     "execution_count": 27,
     "metadata": {},
     "output_type": "execute_result"
    }
   ],
   "source": [
    "# Q5. 딕려너리 리스트 변환 >> key와 value가 tuple형식으로 뽑힌 후 리스트로 묶임\n",
    "a = {'A':90, 'B':80, 'C':70}\n",
    "list(a.items())"
   ]
  },
  {
   "cell_type": "code",
   "execution_count": 28,
   "metadata": {},
   "outputs": [
    {
     "name": "stdout",
     "output_type": "stream",
     "text": [
      "['apple', 'melon', 'banana', 'orange']\n",
      "[6000, 3000, 5000, 4000]\n",
      "fruits_dic 딕셔너리의 항목의 개수 : 4\n",
      "True\n"
     ]
    }
   ],
   "source": [
    "# 딕셔너리 활용\n",
    "# Q1. key와 value를 list형식으로 출력\n",
    "fruits_dic = {'apple':6000,'melon':3000,'banana':5000,'orange':4000}\n",
    "print(list(fruits_dic.keys()))\n",
    "print(list(fruits_dic.values()))\n",
    "print('fruits_dic 딕셔너리의 항목의 개수 :',len(fruits_dic))\n",
    "print('apple' in fruits_dic)"
   ]
  },
  {
   "cell_type": "markdown",
   "metadata": {},
   "source": [
    "[목차로 돌아가기](#목차)"
   ]
  },
  {
   "cell_type": "markdown",
   "metadata": {},
   "source": [
    "## Set Example"
   ]
  },
  {
   "cell_type": "code",
   "execution_count": 29,
   "metadata": {},
   "outputs": [
    {
     "data": {
      "text/plain": [
       "{'a', 'b', 'c'}"
      ]
     },
     "execution_count": 29,
     "metadata": {},
     "output_type": "execute_result"
    }
   ],
   "source": [
    "s = {'a','b','c'}\n",
    "s"
   ]
  },
  {
   "cell_type": "code",
   "execution_count": 30,
   "metadata": {},
   "outputs": [
    {
     "data": {
      "text/plain": [
       "[1, 2, 3, 4, 5]"
      ]
     },
     "execution_count": 30,
     "metadata": {},
     "output_type": "execute_result"
    }
   ],
   "source": [
    "# 중복 제거\n",
    "a = [1,1,1,2,2,3,3,3,4,4,5]\n",
    "list(set(a))"
   ]
  },
  {
   "cell_type": "code",
   "execution_count": 31,
   "metadata": {},
   "outputs": [
    {
     "data": {
      "text/plain": [
       "{'a', 'b'}"
      ]
     },
     "execution_count": 31,
     "metadata": {},
     "output_type": "execute_result"
    }
   ],
   "source": [
    "# s1에서 s2 중복값을 제거\n",
    "s1 = set(['a','b','c','d','e'])\n",
    "s2 = set(['c','d','e','f','g'])\n",
    "s1-s2"
   ]
  },
  {
   "cell_type": "code",
   "execution_count": 32,
   "metadata": {},
   "outputs": [
    {
     "name": "stdout",
     "output_type": "stream",
     "text": [
      "{'c', 'a', 'b'}\n",
      "<class 'set'>\n"
     ]
    }
   ],
   "source": [
    "a = {'a','b','c'}\n",
    "print(a)\n",
    "print(type(a))"
   ]
  },
  {
   "cell_type": "code",
   "execution_count": 33,
   "metadata": {},
   "outputs": [
    {
     "data": {
      "text/plain": [
       "set"
      ]
     },
     "execution_count": 33,
     "metadata": {},
     "output_type": "execute_result"
    }
   ],
   "source": [
    "# set 타입 변환\n",
    "a = {}\n",
    "type(a)\n",
    "type(set(a))"
   ]
  },
  {
   "cell_type": "code",
   "execution_count": 34,
   "metadata": {},
   "outputs": [
    {
     "data": {
      "text/plain": [
       "{'a', 'b', 'c', 'd', 'e', 'f'}"
      ]
     },
     "execution_count": 34,
     "metadata": {},
     "output_type": "execute_result"
    }
   ],
   "source": [
    "# 값 여러개 추가하기\n",
    "a = {'a','b','c'}\n",
    "a.update(['d','e','f'])\n",
    "a"
   ]
  },
  {
   "cell_type": "code",
   "execution_count": 35,
   "metadata": {},
   "outputs": [
    {
     "data": {
      "text/plain": [
       "False"
      ]
     },
     "execution_count": 35,
     "metadata": {},
     "output_type": "execute_result"
    }
   ],
   "source": [
    "# Q. 리스트 복사1\n",
    "a = [1,2,3]\n",
    "b = a[:]\n",
    "a is b"
   ]
  },
  {
   "cell_type": "code",
   "execution_count": 36,
   "metadata": {},
   "outputs": [
    {
     "name": "stdout",
     "output_type": "stream",
     "text": [
      "[1, 4, 3]\n"
     ]
    },
    {
     "data": {
      "text/plain": [
       "[1, 2, 3]"
      ]
     },
     "execution_count": 36,
     "metadata": {},
     "output_type": "execute_result"
    }
   ],
   "source": [
    "a = [1,2,3]\n",
    "b = a[:]\n",
    "a[1] = 4\n",
    "print(a)\n",
    "b"
   ]
  },
  {
   "cell_type": "code",
   "execution_count": 37,
   "metadata": {},
   "outputs": [
    {
     "name": "stdout",
     "output_type": "stream",
     "text": [
      "a의 주소 : 1829958492288\n",
      "a+[4,5]를 한 주소 : 1829958229952\n"
     ]
    },
    {
     "data": {
      "text/plain": [
       "[1, 2, 3, 4, 5]"
      ]
     },
     "execution_count": 37,
     "metadata": {},
     "output_type": "execute_result"
    }
   ],
   "source": [
    "# Q. 리스트 더하기와 extend(주소 차이) / 리스트 복사2\n",
    "a = [1,2,3]\n",
    "print('a의 주소 :',id(a))\n",
    "a = a+[4,5]\n",
    "print('a+[4,5]를 한 주소 :',id(a))\n",
    "a"
   ]
  },
  {
   "cell_type": "code",
   "execution_count": 38,
   "metadata": {},
   "outputs": [
    {
     "name": "stdout",
     "output_type": "stream",
     "text": [
      "a의 주소 : 1829958185216\n",
      "a.extend([4,5])를 한 주소 : 1829958185216\n"
     ]
    },
    {
     "data": {
      "text/plain": [
       "[1, 2, 3, 4, 5]"
      ]
     },
     "execution_count": 38,
     "metadata": {},
     "output_type": "execute_result"
    }
   ],
   "source": [
    "a = [1,2,3]\n",
    "print('a의 주소 :', id(a))\n",
    "a.extend([4,5])\n",
    "print('a.extend([4,5])를 한 주소 :', id(a))\n",
    "a"
   ]
  },
  {
   "cell_type": "code",
   "execution_count": 39,
   "metadata": {},
   "outputs": [
    {
     "name": "stdout",
     "output_type": "stream",
     "text": [
      "[1, [5, 3], 4]\n",
      "[1, [5, 3], 4]\n"
     ]
    }
   ],
   "source": [
    "# Q. 리스트 복사3  >> 목록형 데이터인 경우 slice를 해도 동기화됨(예외 example)\n",
    "a = [1,[2,3],4]\n",
    "b = a[:]\n",
    "\n",
    "a[1][0] = 5\n",
    "print(a)\n",
    "print(b)"
   ]
  },
  {
   "cell_type": "markdown",
   "metadata": {},
   "source": [
    "[목차로 돌아가기](#목차)"
   ]
  },
  {
   "cell_type": "markdown",
   "metadata": {},
   "source": [
    "## 조건문 IF Example"
   ]
  },
  {
   "cell_type": "code",
   "execution_count": 40,
   "metadata": {},
   "outputs": [
    {
     "name": "stdout",
     "output_type": "stream",
     "text": [
      "당신은 고수입니다\n"
     ]
    }
   ],
   "source": [
    "# 조건문\n",
    "# 실습1\n",
    "game_score = 1300\n",
    "if game_score >= 1000:\n",
    "    print('당신은 고수입니다')"
   ]
  },
  {
   "cell_type": "code",
   "execution_count": 41,
   "metadata": {},
   "outputs": [
    {
     "name": "stdout",
     "output_type": "stream",
     "text": [
      "두 값이 불일치합니다\n"
     ]
    }
   ],
   "source": [
    "# 실습2\n",
    "num_a = 100\n",
    "num_b =200\n",
    "# num_a, num_b = 100,200\n",
    "\n",
    "if num_a == num_b:\n",
    "    print('두 값이 일치합니다')\n",
    "else:\n",
    "    print('두 값이 불일치합니다')"
   ]
  },
  {
   "cell_type": "code",
   "execution_count": 42,
   "metadata": {},
   "outputs": [
    {
     "name": "stdout",
     "output_type": "stream",
     "text": [
      "정수를 입력하세요 :1243\n",
      "1243 은 홀수입니다\n"
     ]
    }
   ],
   "source": [
    "# Q. 임의의 숫자를 받아온 후 짝수 홀수 구분하기\n",
    "n = int(input('정수를 입력하세요 :'))\n",
    "if n%2 == 0:\n",
    "    print(n,'은 짝수입니다')\n",
    "else:\n",
    "    print(n,'은 홀수입니다')"
   ]
  },
  {
   "cell_type": "code",
   "execution_count": 43,
   "metadata": {},
   "outputs": [
    {
     "name": "stdout",
     "output_type": "stream",
     "text": [
      "-100에서 100까지의 정수를 입력하시오 :111\n",
      "다시 -100에서 100까지의 정수를 입력하시오\n",
      "-100에서 100까지의 정수를 입력하시오 :-111\n",
      "다시 -100에서 100까지의 정수를 입력하시오\n",
      "-100에서 100까지의 정수를 입력하시오 :50\n",
      "50 은(는) 자연수입니다\n"
     ]
    }
   ],
   "source": [
    "# Q. -100에서 100의 임의의 정수를 입력받아 x에 입력\n",
    "# 1. x출력\n",
    "# 2. x가 0보다 큰 정수이면 '...은 자연수입니다'\n",
    "# 3. 그렇지 않을 경우 x를 단순 출력\n",
    "\n",
    "while True:\n",
    "    x = int(input('-100에서 100까지의 정수를 입력하시오 :'))\n",
    "    if (x<-100 or x>100):\n",
    "        print('다시 -100에서 100까지의 정수를 입력하시오')\n",
    "    elif x>0:\n",
    "        print(x,'은(는) 자연수입니다')\n",
    "        break\n",
    "    else:\n",
    "        print(x)\n",
    "        break"
   ]
  },
  {
   "cell_type": "code",
   "execution_count": 44,
   "metadata": {},
   "outputs": [
    {
     "name": "stdout",
     "output_type": "stream",
     "text": [
      "True\n"
     ]
    }
   ],
   "source": [
    "# 복합 조건식의 이해\n",
    "# Q1.\n",
    "num = 2\n",
    "if (num >=1 and num <= 10):\n",
    "    print(1 <= num <= 10)"
   ]
  },
  {
   "cell_type": "code",
   "execution_count": 45,
   "metadata": {},
   "outputs": [],
   "source": [
    "# Q2.\n",
    "age = 9\n",
    "if (age>10 and age<19):\n",
    "    print('청소년입니다')"
   ]
  },
  {
   "cell_type": "code",
   "execution_count": 46,
   "metadata": {},
   "outputs": [
    {
     "name": "stdout",
     "output_type": "stream",
     "text": [
      "자동차 속도(speed km/h)를 입력하시오 :99\n",
      "중속\n"
     ]
    }
   ],
   "source": [
    "# Q1. if elif else\n",
    "# 자동차 속도를 입력받자\n",
    "# 100이상이면 '고속'\n",
    "# 60이상 100미만 이면 '중속'\n",
    "# 60미만 이면 '저속'을 출력\n",
    "\n",
    "x = int(input('자동차 속도(speed km/h)를 입력하시오 :'))\n",
    "if x >= 100:\n",
    "    print('고속')\n",
    "elif x >= 60:\n",
    "    print('중속')\n",
    "else:\n",
    "    print('저속')"
   ]
  },
  {
   "cell_type": "code",
   "execution_count": 47,
   "metadata": {},
   "outputs": [
    {
     "name": "stdout",
     "output_type": "stream",
     "text": [
      "걸어가시오\n"
     ]
    }
   ],
   "source": [
    "# Q1. 조건문\n",
    "money = 3000\n",
    "card = False\n",
    "hong = [money, card]\n",
    "\n",
    "if money in hong:\n",
    "    if money >= 4000 or card:\n",
    "        print('택시를 타시오')\n",
    "    else:\n",
    "        print('걸어가시오')"
   ]
  },
  {
   "cell_type": "code",
   "execution_count": 48,
   "metadata": {},
   "outputs": [
    {
     "name": "stdout",
     "output_type": "stream",
     "text": [
      "야호\n"
     ]
    }
   ],
   "source": [
    "# Q2. 조건문\n",
    "# 홍길동의 행운번호는 23이다.\n",
    "# 당첨리스트 lucky_list = [1,9,23,46]\n",
    "# 당첨되었다면 '야호'를 출력하라\n",
    "hong = 9\n",
    "lucky_list = [1,9,23,46]\n",
    "if hong in lucky_list:\n",
    "    print('야호')"
   ]
  },
  {
   "cell_type": "code",
   "execution_count": 49,
   "metadata": {},
   "outputs": [
    {
     "name": "stdout",
     "output_type": "stream",
     "text": [
      "NO\n"
     ]
    }
   ],
   "source": [
    "# Q3. 나이가 30미만이고 키가 175이상인 경우 'YES'출력 아닌 경우 'NO'출력\n",
    "data = '나이:30, 키:180'\n",
    "data = data.split(',')\n",
    "\n",
    "data_age = data[0].split(':')\n",
    "data_height = data[1].split(':')\n",
    "\n",
    "if int(data_age[1]) < 30 and int(data_height[1]) >= 175:\n",
    "    print('YES')\n",
    "else:\n",
    "    print('NO')"
   ]
  },
  {
   "cell_type": "code",
   "execution_count": 50,
   "metadata": {},
   "outputs": [
    {
     "name": "stdout",
     "output_type": "stream",
     "text": [
      "shirt\n"
     ]
    }
   ],
   "source": [
    "# Q4. 다음 코드의 결과값은?\n",
    "a = 'life is too short, you need python'\n",
    "if 'wife' in a:\n",
    "    print('wife')\n",
    "elif 'python' in a and 'you' not in a:\n",
    "    print('python')\n",
    "elif 'shirt' not in a:\n",
    "    print('shirt')  # ! short가 아님 주의 !\n",
    "elif 'need' in a:\n",
    "    print('need')\n",
    "else:\n",
    "    print('none')"
   ]
  },
  {
   "cell_type": "markdown",
   "metadata": {},
   "source": [
    "[목차로 돌아가기](#목차)"
   ]
  },
  {
   "cell_type": "markdown",
   "metadata": {},
   "source": [
    "## 반복문 While Example"
   ]
  },
  {
   "cell_type": "code",
   "execution_count": 51,
   "metadata": {},
   "outputs": [
    {
     "name": "stdout",
     "output_type": "stream",
     "text": [
      "5050\n"
     ]
    }
   ],
   "source": [
    "# Q1. 1부터 100까지 더하기\n",
    "n = 0\n",
    "sum1 = 0\n",
    "while n<=100:\n",
    "    sum1 = sum1 + n\n",
    "    n = n + 1\n",
    "print(sum1)"
   ]
  },
  {
   "cell_type": "code",
   "execution_count": 52,
   "metadata": {},
   "outputs": [
    {
     "name": "stdout",
     "output_type": "stream",
     "text": [
      "166833\n"
     ]
    }
   ],
   "source": [
    "# Q2. 1부터 1000까지의 자연수 중 3의 배수의 합\n",
    "n=0\n",
    "sum2=0\n",
    "while n<=1000:\n",
    "    if n%3 == 0:\n",
    "        sum2 = sum2+n\n",
    "    n += 1\n",
    "print(sum2)"
   ]
  },
  {
   "cell_type": "code",
   "execution_count": 53,
   "metadata": {},
   "outputs": [
    {
     "name": "stdout",
     "output_type": "stream",
     "text": [
      "481\n"
     ]
    }
   ],
   "source": [
    "# Q3. 50점 이상의 총합\n",
    "A = [20,55,67,82,45,33,90,87,100,25]\n",
    "i = 0\n",
    "sum3 = 0\n",
    "\n",
    "while i<=(len(A)-1):\n",
    "    if A[i] >= 50:\n",
    "        sum3 = sum3 + A[i]\n",
    "        i += 1\n",
    "        \n",
    "    else:\n",
    "        i += 1\n",
    "print(sum3)"
   ]
  },
  {
   "cell_type": "code",
   "execution_count": 54,
   "metadata": {},
   "outputs": [
    {
     "name": "stdout",
     "output_type": "stream",
     "text": [
      "*\n",
      "**\n",
      "***\n",
      "****\n"
     ]
    }
   ],
   "source": [
    "# Q4. 별 표시하기\n",
    "n = '*'\n",
    "i = 1\n",
    "while i<=4:\n",
    "    print(n*i)\n",
    "    i += 1"
   ]
  },
  {
   "cell_type": "markdown",
   "metadata": {},
   "source": [
    "[목차로 돌아가기](#목차)"
   ]
  },
  {
   "cell_type": "markdown",
   "metadata": {},
   "source": [
    "## 반복문 For Example"
   ]
  },
  {
   "cell_type": "code",
   "execution_count": 55,
   "metadata": {},
   "outputs": [
    {
     "name": "stdout",
     "output_type": "stream",
     "text": [
      "[1, 2, 3, 4, 5, 6, 7, 8, 9, 10, 11, 12, 13, 14, 15, 16, 17, 18, 19, 20, 21, 22, 23, 24, 25, 26, 27, 28, 29, 30, 31, 32, 33, 34, 35, 36, 37, 38, 39, 40, 41, 42, 43, 44, 45, 46, 47, 48, 49, 50, 51, 52, 53, 54, 55, 56, 57, 58, 59, 60, 61, 62, 63, 64, 65, 66, 67, 68, 69, 70, 71, 72, 73, 74, 75, 76, 77, 78, 79, 80, 81, 82, 83, 84, 85, 86, 87, 88, 89, 90, 91, 92, 93, 94, 95, 96, 97, 98, 99, 100]\n"
     ]
    }
   ],
   "source": [
    "# range와 list를 사용하여 1이상 100이하의 자연수 리스트를 만드시오.\n",
    "print(list(range(1,101)))"
   ]
  },
  {
   "cell_type": "code",
   "execution_count": 56,
   "metadata": {},
   "outputs": [
    {
     "name": "stdout",
     "output_type": "stream",
     "text": [
      "[0, 2, 4, 6, 8, 10, 12, 14, 16, 18, 20, 22, 24, 26, 28, 30, 32, 34, 36, 38, 40, 42, 44, 46, 48, 50, 52, 54, 56, 58, 60, 62, 64, 66, 68, 70, 72, 74, 76, 78, 80, 82, 84, 86, 88, 90, 92, 94, 96, 98, 100]\n",
      "[1, 3, 5, 7, 9, 11, 13, 15, 17, 19, 21, 23, 25, 27, 29, 31, 33, 35, 37, 39, 41, 43, 45, 47, 49, 51, 53, 55, 57, 59, 61, 63, 65, 67, 69, 71, 73, 75, 77, 79, 81, 83, 85, 87, 89, 91, 93, 95, 97, 99]\n"
     ]
    }
   ],
   "source": [
    "# 1이상 100이하의 짝수, 홀수\n",
    "print(list(range(0,101,2)))\n",
    "print(list(range(1,101,2)))"
   ]
  },
  {
   "cell_type": "code",
   "execution_count": 57,
   "metadata": {},
   "outputs": [
    {
     "name": "stdout",
     "output_type": "stream",
     "text": [
      "[-1, -2, -3, -4, -5, -6, -7, -8, -9, -10, -11, -12, -13, -14, -15, -16, -17, -18, -19, -20, -21, -22, -23, -24, -25, -26, -27, -28, -29, -30, -31, -32, -33, -34, -35, -36, -37, -38, -39, -40, -41, -42, -43, -44, -45, -46, -47, -48, -49, -50, -51, -52, -53, -54, -55, -56, -57, -58, -59, -60, -61, -62, -63, -64, -65, -66, -67, -68, -69, -70, -71, -72, -73, -74, -75, -76, -77, -78, -79, -80, -81, -82, -83, -84, -85, -86, -87, -88, -89, -90, -91, -92, -93, -94, -95, -96, -97, -98, -99, -100]\n"
     ]
    }
   ],
   "source": [
    "# -100보다 크고 0보다 작은 음수 리스트\n",
    "print(list(range(-1,-101,-1)))"
   ]
  },
  {
   "cell_type": "code",
   "execution_count": 58,
   "metadata": {},
   "outputs": [
    {
     "name": "stdout",
     "output_type": "stream",
     "text": [
      "[1, 2, 3, 4, 5, 6, 7, 8, 9, 10, 11, 12, 13, 14, 15, 16, 17, 18, 19, 20, 21, 22, 23, 24, 25, 26, 27, 28, 29, 30, 31, 32, 33, 34, 35, 36, 37, 38, 39, 40, 41, 42, 43, 44, 45, 46, 47, 48, 49, 50, 51, 52, 53, 54, 55, 56, 57, 58, 59, 60, 61, 62, 63, 64, 65, 66, 67, 68, 69, 70, 71, 72, 73, 74, 75, 76, 77, 78, 79, 80, 81, 82, 83, 84, 85, 86, 87, 88, 89, 90, 91, 92, 93, 94, 95, 96, 97, 98, 99, 100]\n"
     ]
    }
   ],
   "source": [
    "# Q1. 1부터 100까지 출력\n",
    "result = [x for x in range(1,101)]\n",
    "print(result)"
   ]
  },
  {
   "cell_type": "code",
   "execution_count": 59,
   "metadata": {},
   "outputs": [],
   "source": [
    "result = [x for x in range(1,1001) if x%5==0]\n"
   ]
  },
  {
   "cell_type": "code",
   "execution_count": 60,
   "metadata": {},
   "outputs": [
    {
     "name": "stdout",
     "output_type": "stream",
     "text": [
      "100500\n"
     ]
    }
   ],
   "source": [
    "# Q2. 5의 배수 총합 (1부터 1000까지)\n",
    "result = [x for x in range(1,1001) if x%5==0]\n",
    "\n",
    "s = 0\n",
    "for i in range(1,1001):\n",
    "    if i % 5 == 0:\n",
    "        s += i\n",
    "print(s)"
   ]
  },
  {
   "cell_type": "code",
   "execution_count": 61,
   "metadata": {},
   "outputs": [
    {
     "data": {
      "text/plain": [
       "799"
      ]
     },
     "execution_count": 61,
     "metadata": {},
     "output_type": "execute_result"
    }
   ],
   "source": [
    "A = [79,60,55,75,95,90,80,80,85,100]\n",
    "sum(A)"
   ]
  },
  {
   "cell_type": "code",
   "execution_count": 62,
   "metadata": {},
   "outputs": [
    {
     "name": "stdout",
     "output_type": "stream",
     "text": [
      "79.9\n"
     ]
    }
   ],
   "source": [
    "# Q3. 학급의 평균 점수 >> A의 평균 점수\n",
    "A = [79,60,55,75,95,90,80,80,85,100]\n",
    "for i in A:\n",
    "    A_avg = sum(A)/len(A)\n",
    "print(A_avg)"
   ]
  },
  {
   "cell_type": "code",
   "execution_count": 63,
   "metadata": {},
   "outputs": [
    {
     "name": "stdout",
     "output_type": "stream",
     "text": [
      "혈액형 A의 학생 수 : 3\n",
      "혈액형 B의 학생 수 : 3\n",
      "혈액형 O의 학생 수 : 3\n",
      "혈액형 AB의 학생 수 : 2\n"
     ]
    }
   ],
   "source": [
    "# Q4. 각 혈액형별 학생수의 합계\n",
    "b_A = 0\n",
    "b_B = 0\n",
    "b_O = 0\n",
    "b_AB = 0\n",
    "blood_type = ['A','B','A','O','AB','AB','O','A','B','O','B','AB']\n",
    "for i in range(len(blood_type)-1):\n",
    "    if blood_type[i] == 'A':\n",
    "        b_A = b_A + 1\n",
    "    elif blood_type[i] == 'B':\n",
    "        b_B = b_B + 1\n",
    "    elif blood_type[i] == 'O':\n",
    "        b_O = b_O + 1\n",
    "    else:\n",
    "        b_AB = b_AB + 1\n",
    "\n",
    "print('혈액형 A의 학생 수 :',b_A)\n",
    "print('혈액형 B의 학생 수 :',b_B)\n",
    "print('혈액형 O의 학생 수 :',b_O)\n",
    "print('혈액형 AB의 학생 수 :',b_AB)"
   ]
  },
  {
   "cell_type": "code",
   "execution_count": 64,
   "metadata": {},
   "outputs": [
    {
     "name": "stdout",
     "output_type": "stream",
     "text": [
      "[2, 6, 10]\n"
     ]
    }
   ],
   "source": [
    "# Q5. 리스트 내포\n",
    "# 다음은 리스트 중 홀수에만 2를 곱하여 저장하는 코드이다\n",
    "numbers = [1,2,3,4,5]\n",
    "result = []\n",
    "for n in numbers:\n",
    "    if n % 2 == 1:\n",
    "        result.append(n*2)\n",
    "\n",
    "\n",
    "# 위 코드를 리스트 내포를 활용하여 표현하라\n",
    "result = [n*2 for n in numbers if n%2 == 1]\n",
    "print(result)"
   ]
  },
  {
   "cell_type": "markdown",
   "metadata": {},
   "source": [
    "[목차로 돌아가기](#목차)"
   ]
  },
  {
   "cell_type": "markdown",
   "metadata": {},
   "source": [
    "## Function Example"
   ]
  },
  {
   "cell_type": "code",
   "execution_count": 65,
   "metadata": {},
   "outputs": [
    {
     "name": "stdout",
     "output_type": "stream",
     "text": [
      "10 와 20 의 차는 -10 입니다\n"
     ]
    }
   ],
   "source": [
    "# Q1.\n",
    "def print_sub(a,b):\n",
    "    result = a - b\n",
    "    print(a,'와',b,'의 차는', result, '입니다')\n",
    "print_sub(10,20)"
   ]
  },
  {
   "cell_type": "code",
   "execution_count": 66,
   "metadata": {},
   "outputs": [
    {
     "name": "stdout",
     "output_type": "stream",
     "text": [
      "10 와 20 의 곱은 200 입니다\n"
     ]
    }
   ],
   "source": [
    "# Q2.\n",
    "def print_mult(a,b):\n",
    "    result = a * b\n",
    "    print(a,'와',b,'의 곱은', result,'입니다')\n",
    "print_mult(10,20)"
   ]
  },
  {
   "cell_type": "code",
   "execution_count": 67,
   "metadata": {},
   "outputs": [
    {
     "data": {
      "text/plain": [
       "(70, 9000)"
      ]
     },
     "execution_count": 67,
     "metadata": {},
     "output_type": "execute_result"
    }
   ],
   "source": [
    "# 가변인자\n",
    "# Q1.\n",
    "# 가변 인자를 사용하는 sum_nums()함수를 수정하여 인자들을 튜플 형식으로 출력한 후 모든 값들의 합과 평균을 출력하시오\n",
    "def sum_nums(*number):\n",
    "    num_sum = 0\n",
    "    num_mul = 1\n",
    "    for i in number:\n",
    "        num_sum = num_sum + i\n",
    "        num_mul = num_mul * i\n",
    "    return num_sum, num_mul\n",
    "\n",
    "sum_nums(10,30,30)"
   ]
  },
  {
   "cell_type": "code",
   "execution_count": 68,
   "metadata": {},
   "outputs": [
    {
     "data": {
      "text/plain": [
       "-134"
      ]
     },
     "execution_count": 68,
     "metadata": {},
     "output_type": "execute_result"
    }
   ],
   "source": [
    "# 가변인자\n",
    "# Q2. 가변 인자를 사용하는 min_nums() 함수를 구현.이 함수는 정수를 인자로 받을 수 있는데 개수가 가변적이다.\n",
    "# min_nums(20,40,50,10) >> 최소값은 10\n",
    "\n",
    "def min_nums(*number):\n",
    "    num_min = min(number)\n",
    "    return num_min\n",
    "\n",
    "min_nums(10,20,1,-1,40,-21,30,-134)"
   ]
  },
  {
   "cell_type": "code",
   "execution_count": 69,
   "metadata": {},
   "outputs": [
    {
     "name": "stdout",
     "output_type": "stream",
     "text": [
      "1234 은 짝수 입니다\n"
     ]
    }
   ],
   "source": [
    "# Q1.\n",
    "# 홀수 짝수 판별\n",
    "def is_odd(n):\n",
    "    if n%2 == 0:\n",
    "        print(n,'은 짝수 입니다')\n",
    "    else:\n",
    "        print(n,'은 홀수 입니다')\n",
    "\n",
    "is_odd(1234)"
   ]
  },
  {
   "cell_type": "code",
   "execution_count": 70,
   "metadata": {},
   "outputs": [
    {
     "data": {
      "text/plain": [
       "50.0"
      ]
     },
     "execution_count": 70,
     "metadata": {},
     "output_type": "execute_result"
    }
   ],
   "source": [
    "# Q2.\n",
    "# 평균값 계산\n",
    "def mean_number(*number):\n",
    "    a = sum(number) / len(number)\n",
    "    return a\n",
    "\n",
    "mean_number(10,50,90)"
   ]
  },
  {
   "cell_type": "code",
   "execution_count": 71,
   "metadata": {},
   "outputs": [
    {
     "name": "stdout",
     "output_type": "stream",
     "text": [
      "7*1 = 7\n",
      "7*2 = 14\n",
      "7*3 = 21\n",
      "7*4 = 28\n",
      "7*5 = 35\n",
      "7*6 = 42\n",
      "7*7 = 49\n",
      "7*8 = 56\n",
      "7*9 = 63\n"
     ]
    }
   ],
   "source": [
    "# Q3.\n",
    "# 구구단 출력\n",
    "# 자연수를 받았을 때, 해당되는 값의 구구단을 출력한다.\n",
    "def time_number(n):\n",
    "    for i in range(1,10):\n",
    "        print('{}*{} = {:d}'.format(n,i,n*i))\n",
    "\n",
    "time_number(7)"
   ]
  },
  {
   "cell_type": "markdown",
   "metadata": {},
   "source": [
    "[목차로 돌아가기](#목차)"
   ]
  },
  {
   "cell_type": "markdown",
   "metadata": {},
   "source": [
    "## 기타 함수 Example"
   ]
  },
  {
   "cell_type": "code",
   "execution_count": 72,
   "metadata": {},
   "outputs": [
    {
     "name": "stdout",
     "output_type": "stream",
     "text": [
      "200 - 100 =  100\n"
     ]
    }
   ],
   "source": [
    "# Q1.\n",
    "# lambda함수를 활용하여 \n",
    "# 200 - 100 = 100과 같이 출력하여라\n",
    "print('200 - 100 = ', (lambda x,y:x-y)(200,100))"
   ]
  },
  {
   "cell_type": "code",
   "execution_count": 73,
   "metadata": {},
   "outputs": [
    {
     "name": "stdout",
     "output_type": "stream",
     "text": [
      "[2, 4, 6, 8, 10]\n",
      "[2, 4, 6, 8, 10]\n"
     ]
    }
   ],
   "source": [
    "# Q2.\n",
    "# 정수 요소값을 가진 list = [1,2,3,4,5,6,7,8,9,10]가 있다.\n",
    "# list에서 짝수 값을 가진 even_list라는 리스트를 lambda함수를 활용하여\n",
    "# even_list = [2,4,6,8,10]을 만들어보자\n",
    "\n",
    "n_list = [1,2,3,4,5,6,7,8,9,10]\n",
    "even_list = []\n",
    "for x in filter(lambda x:x%2==0,n_list):\n",
    "    even_list.append(x)\n",
    "    \n",
    "print(even_list)\n",
    "\n",
    "\n",
    "# 또는\n",
    " \n",
    "n_list = [1,2,3,4,5,6,7,8,9,10]\n",
    "even_list = list(filter(lambda x:x%2==0,n_list))\n",
    "    \n",
    "print(even_list)"
   ]
  },
  {
   "cell_type": "code",
   "execution_count": 74,
   "metadata": {},
   "outputs": [
    {
     "name": "stdout",
     "output_type": "stream",
     "text": [
      "[1, 3, 5, 7, 9]\n"
     ]
    }
   ],
   "source": [
    "# Q3.\n",
    "# 2번과 같이, 대신 홀수로\n",
    "n_list = [1,2,3,4,5,6,7,8,9,10]\n",
    "odd_list = []\n",
    "for x in filter(lambda x:x%2==1,n_list):\n",
    "    odd_list.append(x)\n",
    "    \n",
    "print(odd_list)\n"
   ]
  },
  {
   "cell_type": "code",
   "execution_count": 75,
   "metadata": {},
   "outputs": [
    {
     "name": "stdout",
     "output_type": "stream",
     "text": [
      "['A', 'B', 'C', 'D']\n",
      "['A', 'B', 'C', 'D']\n"
     ]
    }
   ],
   "source": [
    "# 맵 함수\n",
    "# Q1.\n",
    "# ['a','b','c','d']와 같은 소문자가 들어있는 a_list라는 이름의 리스트를\n",
    "# ['A','B','C','D']와 같이 대문자각 들어있는 upper_a_list라는 리스트로 변환\n",
    "a_list = ['a','b','c','d']\n",
    "\n",
    "def to_upper(n):\n",
    "    nlist=[]\n",
    "    for i in n:\n",
    "        nlist.append(i.upper())\n",
    "    return nlist\n",
    "print(to_upper(a_list))\n",
    "\n",
    "# 또는\n",
    "\n",
    "upper_a_list = list(map(lambda x:x.upper(),a_list))\n",
    "print(upper_a_list)\n",
    "\n"
   ]
  },
  {
   "cell_type": "code",
   "execution_count": 76,
   "metadata": {},
   "outputs": [
    {
     "name": "stdout",
     "output_type": "stream",
     "text": [
      "[20, 40, 60]\n",
      "[30, 60, 90]\n",
      "[20, 40, 60]\n",
      "[30, 60, 90]\n"
     ]
    }
   ],
   "source": [
    "# 맵 함수\n",
    "# Q2.\n",
    "# n_list = [10,20,30] 를 map()함수에 넣은 후 결과는 다음과 같다\n",
    "# 입력 값의 두 배 : [20,40,60]\n",
    "# 입력 값의 세 배 : [30,60,90]\n",
    "\n",
    "# 함수활용\n",
    "n_list = [10,20,30]\n",
    "\n",
    "def twice(n):\n",
    "    nlist=[]\n",
    "    for i in n:\n",
    "        nlist.append(i*2)\n",
    "    return nlist\n",
    "\n",
    "def triple(n):\n",
    "    nlist=[]\n",
    "    for i in n:\n",
    "        nlist.append(i*3)\n",
    "    return nlist\n",
    "\n",
    "print(twice(n_list))\n",
    "print(triple(n_list))\n",
    "\n",
    "\n",
    "\n",
    "# map 함수 활용\n",
    "twice_map = list(map(lambda x:x*2,n_list))\n",
    "print(twice_map)\n",
    "\n",
    "triple_map = list(map(lambda x:x*3,n_list))\n",
    "print(triple_map)"
   ]
  },
  {
   "cell_type": "code",
   "execution_count": 77,
   "metadata": {},
   "outputs": [
    {
     "name": "stdout",
     "output_type": "stream",
     "text": [
      "5050\n"
     ]
    }
   ],
   "source": [
    "# Reduce 함수\n",
    "# Q1.\n",
    "# 1에서 100까지의 합\n",
    "from functools import reduce\n",
    "\n",
    "q1 = range(1,101)\n",
    "n = reduce(lambda x,y:x+y,q1)\n",
    "print(n)"
   ]
  },
  {
   "cell_type": "code",
   "execution_count": 78,
   "metadata": {},
   "outputs": [
    {
     "name": "stdout",
     "output_type": "stream",
     "text": [
      "3628800\n"
     ]
    }
   ],
   "source": [
    "# Q2. 10 팩토리얼 계산\n",
    "q2 = range(1,11)\n",
    "n = reduce(lambda x,y:x*y,q2)\n",
    "print(n)"
   ]
  },
  {
   "cell_type": "code",
   "execution_count": 79,
   "metadata": {},
   "outputs": [
    {
     "name": "stdout",
     "output_type": "stream",
     "text": [
      "[1, 8, 27, 64, 125, 216, 343, 512, 729, 1000]\n"
     ]
    }
   ],
   "source": [
    "# 리스트 축약\n",
    "# Q1.\n",
    "# 1에서 10사이 정수의 세제곱 계산\n",
    "cubic = [x ** 3 for x in range(1,11)]\n",
    "print(cubic)"
   ]
  },
  {
   "cell_type": "code",
   "execution_count": 80,
   "metadata": {},
   "outputs": [
    {
     "data": {
      "text/plain": [
       "['w', 't', 't', 'p', 'w']"
      ]
     },
     "execution_count": 80,
     "metadata": {},
     "output_type": "execute_result"
    }
   ],
   "source": [
    "# 리스트 측약\n",
    "# Q2.\n",
    "# a = ['welcome', 'to', 'the', 'python', 'world'] 에서 a로부터 첫 알파벳을 추출한 first_a라는 리스트 생성\n",
    "\n",
    "a = ['welcome', 'to', 'the', 'python', 'world']\n",
    "\n",
    "first_a = [x[0] for x in a]\n",
    "first_a"
   ]
  },
  {
   "cell_type": "code",
   "execution_count": 81,
   "metadata": {},
   "outputs": [
    {
     "data": {
      "text/plain": [
       "[1, 8, 27, 64, 125, 216, 343]"
      ]
     },
     "execution_count": 81,
     "metadata": {},
     "output_type": "execute_result"
    }
   ],
   "source": [
    "# 리스트 축약과 if 조건식\n",
    "# Q1.\n",
    "# 1에서 10사이 정수의 세제곱 값 중에서 500이하만 출력\n",
    "cubic = [1,8,27,64,125,216,343]\n",
    "\n",
    "cubic = [x**3 for x in range(1,11) if x**3 <= 500]\n",
    "cubic"
   ]
  },
  {
   "cell_type": "code",
   "execution_count": 82,
   "metadata": {},
   "outputs": [
    {
     "data": {
      "text/plain": [
       "['1', '2', '3', '4']"
      ]
     },
     "execution_count": 82,
     "metadata": {},
     "output_type": "execute_result"
    }
   ],
   "source": [
    "# 리스트 축약과 if 조건식\n",
    "# Q2.\n",
    "\n",
    "# st = 'Hello 1234 Python' 문자열에서 1234를 추출하여 다음과 같이 생성하자\n",
    "# ['1','2','3','4']\n",
    "# isdigit()을 사용\n",
    "st = 'Hello 1234 Python'\n",
    "st1 = [x for x in st.split()[1] if st.isdigit() == False]\n",
    "st1"
   ]
  },
  {
   "cell_type": "code",
   "execution_count": 83,
   "metadata": {},
   "outputs": [
    {
     "name": "stdout",
     "output_type": "stream",
     "text": [
      "0 2 4 6 8 "
     ]
    }
   ],
   "source": [
    "# 반복자 객체 만들기\n",
    "# Q1.\n",
    "# 짝수를 순차적으로 반환하는 __next__() 메소드를 가진 EvenCounter라는 이름의 클래스를\n",
    "# 정의하고 my_even 객체를 생성하라\n",
    "# 출력결과\n",
    "# >> 0 2 4 6 8\n",
    "\n",
    "class EvenCounter:\n",
    "    def __init__(self, n=0):\n",
    "        self.n=n\n",
    "    def __iter__(self):\n",
    "        return self\n",
    "    def __next__(self):\n",
    "        t = self.n\n",
    "        self.n += 2\n",
    "        return t\n",
    "    \n",
    "my_even = EvenCounter()\n",
    "for x in my_even:\n",
    "    if x >= 10:\n",
    "        break\n",
    "    print(x,end=' ')"
   ]
  },
  {
   "cell_type": "code",
   "execution_count": 84,
   "metadata": {},
   "outputs": [
    {
     "name": "stdout",
     "output_type": "stream",
     "text": [
      "0 2 4 6 8 10 12 14 16 18 20 "
     ]
    }
   ],
   "source": [
    "# Q2.\n",
    "# 1번 문제를 통해 생성한 my_even 객체를 이용하여 for 문에서 20이하의 짝수를 출력\n",
    "\n",
    "class EvenCounter:\n",
    "    def __init__(self, n=0):\n",
    "        self.n=n\n",
    "    def __iter__(self):\n",
    "        return self\n",
    "    def __next__(self):\n",
    "        if self.n <= 20:\n",
    "            t = self.n\n",
    "            self.n += 2\n",
    "            return t\n",
    "        raise StopIteration\n",
    "    \n",
    "my_even = EvenCounter()\n",
    "for x in my_even:\n",
    "    print(x,end=' ')"
   ]
  },
  {
   "cell_type": "markdown",
   "metadata": {},
   "source": [
    "[목차로 돌아가기](#목차)"
   ]
  },
  {
   "cell_type": "markdown",
   "metadata": {},
   "source": [
    "## 입출력 Example"
   ]
  },
  {
   "cell_type": "code",
   "execution_count": 85,
   "metadata": {},
   "outputs": [
    {
     "name": "stdout",
     "output_type": "stream",
     "text": [
      "youneedpython\n",
      "youneedpython\n",
      "you need python\n",
      "youneedpython\n"
     ]
    }
   ],
   "source": [
    "# format 메소드\n",
    "# 다음 중 출력결과가 다른 것 한 개는?\n",
    "print('you' 'need' 'python')\n",
    "print('you'+'need'+'python')\n",
    "print('you','need','python')  # print()에서 ,는 띄어쓰기랑 같음\n",
    "print(''.join(['you','need','python']))   # join 중요!!"
   ]
  },
  {
   "cell_type": "code",
   "execution_count": 86,
   "metadata": {},
   "outputs": [
    {
     "name": "stdout",
     "output_type": "stream",
     "text": [
      "정수를 입력하시오 :12,43,62\n"
     ]
    },
    {
     "data": {
      "text/plain": [
       "117"
      ]
     },
     "execution_count": 86,
     "metadata": {},
     "output_type": "execute_result"
    }
   ],
   "source": [
    "# 숫자를 입력받아 총합을 구하라(이때 숫자는 , 로 구분함)\n",
    "number = eval(input('정수를 입력하시오 :'))\n",
    "sum(number)"
   ]
  },
  {
   "cell_type": "markdown",
   "metadata": {},
   "source": [
    "---"
   ]
  },
  {
   "cell_type": "code",
   "execution_count": 87,
   "metadata": {},
   "outputs": [
    {
     "name": "stdout",
     "output_type": "stream",
     "text": [
      "\n"
     ]
    }
   ],
   "source": [
    "# 파일 읽고 출력하기\n",
    "# Q1.\n",
    "f1 = open('test.txt', 'w')\n",
    "f1.write('Life is too short')\n",
    "# f1.close()\n",
    "\n",
    "f2 = open('test.txt', 'r')\n",
    "print(f2.read())\n",
    "# f2.close()"
   ]
  },
  {
   "cell_type": "code",
   "execution_count": 88,
   "metadata": {},
   "outputs": [
    {
     "name": "stdout",
     "output_type": "stream",
     "text": [
      "저장할 내용을 입력하세요 : 안녕\n"
     ]
    }
   ],
   "source": [
    "# 파일저장\n",
    "# Q2.\n",
    "# 사용자의 입력을 파일에 저장하는 프로그램 작성\n",
    "# 파일에 새로운 내용 추가하기\n",
    "\n",
    "f3 = open('test.txt', 'a')\n",
    "data = input('저장할 내용을 입력하세요 : ')\n",
    "f3.write(data)\n",
    "f3.close()"
   ]
  },
  {
   "cell_type": "code",
   "execution_count": 89,
   "metadata": {},
   "outputs": [],
   "source": [
    "# Q3.\n",
    "# test.txt가 있다.\n",
    "# 파일의 내용중 java라는 문자열을 python으로 저장해보자.\n",
    "# replace 사용\n",
    "with open('test.txt', mode='r') as file:\n",
    "    lst = file.readlines()\n",
    "    lst_new=[]\n",
    "    for i in lst:\n",
    "        i = i.replace('java', 'python')\n",
    "        lst_new.append(i)\n",
    "        \n",
    "with open('test.txt', mode='w') as file:\n",
    "    for i in lst_new:\n",
    "        file.write(i)"
   ]
  },
  {
   "cell_type": "code",
   "execution_count": 90,
   "metadata": {},
   "outputs": [],
   "source": [
    "# 평균값 구하기\n",
    "# Q4.\n",
    "# sample.txt\n",
    "# 70, 60, 55, 75, 95, 95, 80, 80, 85, 100\n",
    "# sample.txt 파일의 숫자값을 모두 읽어 총합과 평균값을 구한 후 평균값을 result.txt라는 파일에 쓰자\n",
    "\n",
    "with open('C:/Users/admin/Desktop/빅데이터/2주차 _ 파이썬(전홍배교수)/예제문서파일/test_평균값.txt', mode='r') as file:\n",
    "    lines = file.readlines()\n",
    "    sum_test = 0\n",
    "    for i in lines:\n",
    "        sum_test=sum_test+int(i)\n",
    "        \n",
    "    avg_test = sum_test/len(lines)\n",
    "\n",
    "with open('test_result.txt', mode='w') as file:\n",
    "    file.write(str(sum_test))\n",
    "    file.write('\\n')\n",
    "    file.write(str(avg_test))\n"
   ]
  },
  {
   "cell_type": "code",
   "execution_count": 91,
   "metadata": {},
   "outputs": [
    {
     "name": "stdout",
     "output_type": "stream",
     "text": [
      "abc\n"
     ]
    }
   ],
   "source": [
    "# Q5.\n",
    "# s_list = ['abc','bcd','bcdefg','abba','ccdc','opq']와 같은 문자열을\n",
    "# 가진 리스트가 존재한다\n",
    "# 이 리스트에 대하여 다음과 같은 기능을 구현하라\n",
    "# 1. min함수나 sort를 사용하지 말고, s_list내의 문자열 항목중에서 가장 길이가 짧은 문자열을 출력\n",
    "# 길이가 가장 짧은 문자열이 여러개 있을 경우 아래 출력과 같이 제일 먼저 나타나는 문자열을 출력\n",
    "\n",
    "s_list = ['abc','bcd','bcdefg','abba','ccdc','opq']\n",
    "min_len = len(s_list[0])\n",
    "min_list = s_list[0]\n",
    "\n",
    "for s in s_list:\n",
    "    l = len(s)\n",
    "    if min_len > l:\n",
    "        min_len = l\n",
    "        min_list = s\n",
    "\n",
    "print(min_list)\n",
    "        "
   ]
  },
  {
   "cell_type": "markdown",
   "metadata": {},
   "source": [
    "[목차로 돌아가기](#목차)"
   ]
  },
  {
   "cell_type": "markdown",
   "metadata": {},
   "source": [
    "## Module & Package Example"
   ]
  },
  {
   "cell_type": "code",
   "execution_count": 92,
   "metadata": {},
   "outputs": [],
   "source": [
    "# Q1. 다음코드인 mymod.py 파일 새로 만들기 \n",
    "def mysum(a,b):\n",
    "    return a+b"
   ]
  },
  {
   "cell_type": "code",
   "execution_count": 93,
   "metadata": {},
   "outputs": [
    {
     "data": {
      "text/plain": [
       "3"
      ]
     },
     "execution_count": 93,
     "metadata": {},
     "output_type": "execute_result"
    }
   ],
   "source": [
    "import sys\n",
    "sys.path.append('C:/doit')\n",
    "from mymod import mysum\n",
    "mysum(1,2)"
   ]
  },
  {
   "cell_type": "markdown",
   "metadata": {},
   "source": [
    "[목차로 돌아가기](#목차)"
   ]
  },
  {
   "cell_type": "markdown",
   "metadata": {},
   "source": [
    "# 쉬어가기 문제\n"
   ]
  },
  {
   "cell_type": "code",
   "execution_count": 94,
   "metadata": {},
   "outputs": [
    {
     "name": "stdout",
     "output_type": "stream",
     "text": [
      "2023-04-26 10:58:14.738151\n"
     ]
    },
    {
     "data": {
      "text/plain": [
       "(2023, 4, 26)"
      ]
     },
     "execution_count": 94,
     "metadata": {},
     "output_type": "execute_result"
    }
   ],
   "source": [
    "# Q1.\n",
    "# datetime 모듈을 이용한 현재시간 구하기\n",
    "import datetime\n",
    "date = datetime.datetime.now()\n",
    "print(date)\n",
    "\n",
    "y,m,d = date.year, date.month, date.day\n",
    "y,m,d"
   ]
  },
  {
   "cell_type": "code",
   "execution_count": 95,
   "metadata": {},
   "outputs": [
    {
     "name": "stdout",
     "output_type": "stream",
     "text": [
      "2023-04-26 10:58:14.754560\n",
      "현재 시간은 2023-04-26일 입니다\n",
      "지금 태어난 아이의 주민등록번호 앞자리는 : 230426\n"
     ]
    }
   ],
   "source": [
    "# Q2.\n",
    "# 현재시간을 바탕으로 태어난 사람의 주민번호 첫 6자를 결정하여 다음과 같이 표시하라\n",
    "# 1. 현재 시간은 0000-00-00일 입니다\n",
    "# 2. 지금 태어난 아이의 주민등록번호 앞자리는 : 000000\n",
    "\n",
    "import datetime\n",
    "date = datetime.datetime.now()\n",
    "print(date)\n",
    "\n",
    "y,m,d = date.year, date.month, date.day\n",
    "print(f'현재 시간은 {y}-{m:02d}-{d}일 입니다')\n",
    "print(f'지금 태어난 아이의 주민등록번호 앞자리는 : {y-2000}{m:02d}{d}' )"
   ]
  },
  {
   "cell_type": "code",
   "execution_count": 96,
   "metadata": {},
   "outputs": [
    {
     "name": "stdout",
     "output_type": "stream",
     "text": [
      "여러 단어로 이루어진 글을 입력하세요 : 임의의 문장을 입력:출력, 이것은 테스트 문장. 가:가나:나:나나:다람쥐 : 마린보이.\n",
      "['가', '가나', '나', '나나', '다람쥐', '마린보이', '문장', '문장을', '이것은', '임의의', '입력', '출력', '테스트']\n"
     ]
    }
   ],
   "source": [
    "# Q3.\n",
    "# 임의의 문장들을 입력하면, 이 문장들에 포함된 단어를 모두 추출하여 사전 배열 순서로\n",
    "# 정렬하여 출력하는 프로그램을 작성하여 다음과 같이 쉼표와 마침표 등과 같은 ㅜ두점들은\n",
    "# 모두 제거하여 단어들을 추출하도록 작성하라.\n",
    "\n",
    "\n",
    "# 실행 결과\n",
    "'''\n",
    "여러 단어로 이루어진 글을 입력하세요 : 임의의 문장을 입력 : 출력, 이것은 테스트 문장.\n",
    "가:가나:나:나나:다람쥐 : 마린보이.\n",
    "\n",
    "\n",
    "['가','가나','나','나나','다람쥐','마린보이','문장','문장을','이것은','임의의','입력','출력','테스트']\n",
    "'''\n",
    "\n",
    "\n",
    "\n",
    "string_q3 = input('여러 단어로 이루어진 글을 입력하세요 : ')\n",
    "\n",
    "# 입력문장은 >>>> 임의의 문장을 입력:출력, 이것은 테스트 문장. 가:가나:나:나나:다람쥐 : 마린보이.\n",
    "string_q3 = string_q3.replace(':',' ')\n",
    "string_q3 = string_q3.replace('.',' ')\n",
    "string_q3 = string_q3.replace(',',' ')\n",
    "string_q3 = string_q3.split()\n",
    "string_sort = string_q3.sort()\n",
    "print(string_q3)"
   ]
  },
  {
   "cell_type": "code",
   "execution_count": 97,
   "metadata": {},
   "outputs": [
    {
     "name": "stdout",
     "output_type": "stream",
     "text": [
      "여러 단어로 이루어진 글을 입력하세요: 임의의 문장을 입력:출력, 이것은 테스트 문장. 가:가나:나:나나:다람쥐 : 마린보이.\n",
      "정렬 결과 :\n",
      "['가', '가나', '나', '나나', '다람쥐', '마린보이', '문장', '문장을', '이것은', '임의의', '입력', '출력', '테스트']\n"
     ]
    }
   ],
   "source": [
    "# 답안 예시\n",
    "def removePuncuations(string) :\n",
    "    punctuations = ['.', ',', '!', '?', ':', ';']\n",
    "    for mark in punctuations:\n",
    "        string = string.replace(mark, ' ')\n",
    "    return string\n",
    "\n",
    "inputStr = input('여러 단어로 이루어진 글을 입력하세요: ')\n",
    "# 입력문장 >>>>>> 임의의 문장을 입력:출력, 이것은 테스트 문장. 가:가나:나:나나:다람쥐 : 마린보이.\n",
    "inputStr = removePuncuations(inputStr).lower()\n",
    "words = inputStr.split()\n",
    "words.sort()\n",
    "print('정렬 결과 :')\n",
    "print(words)\n"
   ]
  },
  {
   "cell_type": "code",
   "execution_count": 98,
   "metadata": {},
   "outputs": [
    {
     "data": {
      "text/plain": [
       "'\\nKang Young Min(은)는 KANGYOUNGMIN(으)로 수정됨\\nKang Young-Min(은)는 KANGYOUNGMIN(으)로 수정됨\\nPark Dong Min(은)는 PARKDONGMIN(으)로 수정됨\\nPark Dong-Yun(은)는 PARKDONGYUN(으)로 수정됨\\nKANGYOUNGMIN : 3 개의 N이 나타남\\nKANGYOUNGMIN : 3 개의 N이 나타남\\nPARKDONGMIN : 2 개의 N이 나타남\\nPARKDONGYUN : 2 개의 N이 나타남\\n'"
      ]
     },
     "execution_count": 98,
     "metadata": {},
     "output_type": "execute_result"
    }
   ],
   "source": [
    "# Q4.\n",
    "# 이름을 나타내는 문자열 네 개가 다음과 같이 네 개의 변수에 저장되어 있다.\n",
    "# 문자열들에 있는 공백과 \n",
    "# 변경된 이후에 각 문자열에서 문자 'N'이 몇 번 나타나는지 표시하라.\n",
    "\n",
    "# HINT\n",
    "# replace 활용\n",
    "\n",
    "# 실행결과\n",
    "'''\n",
    "Kang Young Min(은)는 KANGYOUNGMIN(으)로 수정됨\n",
    "Kang Young-Min(은)는 KANGYOUNGMIN(으)로 수정됨\n",
    "Park Dong Min(은)는 PARKDONGMIN(으)로 수정됨\n",
    "Park Dong-Yun(은)는 PARKDONGYUN(으)로 수정됨\n",
    "KANGYOUNGMIN : 3 개의 N이 나타남\n",
    "KANGYOUNGMIN : 3 개의 N이 나타남\n",
    "PARKDONGMIN : 2 개의 N이 나타남\n",
    "PARKDONGYUN : 2 개의 N이 나타남\n",
    "'''"
   ]
  },
  {
   "cell_type": "code",
   "execution_count": 99,
   "metadata": {},
   "outputs": [
    {
     "name": "stdout",
     "output_type": "stream",
     "text": [
      "Kang Young Min(은)는 KANGYOUNGMIN(으)로 수정됨\n",
      " Kang Young-Min(은)는 KANGYOUNGMIN(으)로 수정됨\n",
      "Park Dong Min(은)는 PARKDONGMIN(으)로 수정됨\n",
      " Park Dong-Yun(은)는 PARKDONGYUN(으)로 수정됨\n",
      "KANGYOUNGMIN : 3개의 N이 나타남\n",
      "KANGYOUNGMIN : 3개의 N이 나타남\n",
      "PARKDONGMIN : 2개의 N이 나타남\n",
      "PARKDONGYUN : 2개의 N이 나타남\n"
     ]
    }
   ],
   "source": [
    "def removePuncuations(string) :\n",
    "    punctuations = [' ', '-']\n",
    "    for mark in punctuations:\n",
    "        string = string.replace(mark, '')\n",
    "    return string\n",
    "\n",
    "s1 = 'Kang Young Min'\n",
    "s2 = ' Kang Young-Min'\n",
    "s3 = 'Park Dong Min'\n",
    "s4 = ' Park Dong-Yun'\n",
    "name = [s1,s2,s3,s4]\n",
    "name_new = []\n",
    "for i in name:\n",
    "    name_new.append(removePuncuations(i).upper())\n",
    "name_new\n",
    "\n",
    "for i in range(4):\n",
    "    print(f'{name[i]}(은)는 {name_new[i]}(으)로 수정됨')\n",
    "\n",
    "N_count = []\n",
    "for i in range(4):\n",
    "    N_count.append(name_new[i].count('N'))\n",
    "    print(f'{name_new[i]} : {N_count[i]}개의 N이 나타남')"
   ]
  },
  {
   "cell_type": "code",
   "execution_count": 100,
   "metadata": {},
   "outputs": [
    {
     "name": "stdout",
     "output_type": "stream",
     "text": [
      "주민등록번호 첫 6숫자 형식 입력 : 980623\n",
      "1998년 06월 23일\n"
     ]
    }
   ],
   "source": [
    "# Q5.\n",
    "# 주민등록번호의 앞 6자리 생년월일은 두 자리의 년도, 두 자리의 월, 두자리의 날짜로 표현된다\n",
    "# 예를 들어 921030은 1992년 10월 30일을 의미한다.\n",
    "# 이렇게 주민번호 형식의 생년월일이 입력될 때\n",
    "# '1992년 10월 30일'과 같은 형태로 날짜를 출력하는 코드를 작성하라\n",
    "# 입력되는 날짜의 연도는 1950년 이후부터 입력된다.\n",
    "# 즉, 511010은 1951년 10월 10일이지만, 491010은 2049년 10월 10일로 판단해야한다.\n",
    "\n",
    "# 결과\n",
    "# >> \n",
    "# 주민등록번호 첫 6숫자 형식 입력: 570312\n",
    "# 1957년 3월 12일\n",
    "\n",
    "pb = input('주민등록번호 첫 6숫자 형식 입력 : ')\n",
    "pb_y = pb[:2]\n",
    "pb_m = pb[2:4]\n",
    "pb_d = pb[4:6]\n",
    "\n",
    "if int(pb_y) >= 50:\n",
    "    year = 1900 + int(pb_y)\n",
    "else:\n",
    "    year = 2000 + int(pb_y)\n",
    "\n",
    "print(f'{year}년 {pb_m}월 {pb_d}일')"
   ]
  },
  {
   "cell_type": "code",
   "execution_count": 101,
   "metadata": {},
   "outputs": [
    {
     "name": "stdout",
     "output_type": "stream",
     "text": [
      "1부터 10까지의 정수를 입력하시오 : 9\n",
      "1\n",
      "2\n",
      "3\n",
      "4\n",
      "5\n",
      "6\n",
      "7\n",
      "8\n",
      "9\n",
      "\n"
     ]
    }
   ],
   "source": [
    "# Q6.\n",
    "# 다음과 같은 내용의 값을 가진 number1to10txt.파일을 읽어들인 다음,\n",
    "# 사용자로부터 양의 정수 n을 입력으로 받아서 최초의 n번째 줄까지\n",
    "# 화면에 출력하는 프로그램 작성하시오\n",
    "'''\n",
    "1\n",
    "2\n",
    "3\n",
    "4\n",
    "5\n",
    "6\n",
    "7\n",
    "8\n",
    "9\n",
    "10\n",
    "'''\n",
    "with open('C:/Users/admin/Desktop/빅데이터/2주차 _ 파이썬(전홍배교수)/예제문서파일/number1to10.txt', mode='r') as file:\n",
    "    num = int(input('1부터 10까지의 정수를 입력하시오 : '))\n",
    "    while True:\n",
    "        if num > 10:\n",
    "            num = int(input('1부터 10까지의 정수를 입력하시오 : '))\n",
    "        else:\n",
    "            break\n",
    "    lines = file.read(num*2)\n",
    "    print(lines)\n",
    "    "
   ]
  },
  {
   "cell_type": "code",
   "execution_count": 102,
   "metadata": {},
   "outputs": [
    {
     "name": "stdout",
     "output_type": "stream",
     "text": [
      "몇 번째 라인까지 출력하시겠습니까?3\n",
      "1\n",
      "2\n",
      "3\n"
     ]
    }
   ],
   "source": [
    "# 답안 예시\n",
    "f = open('C:/Users/admin/Desktop/빅데이터/2주차 _ 파이썬(전홍배교수)/예제문서파일/number1to10.txt', 'r')\n",
    "n = int(input('몇 번째 라인까지 출력하시겠습니까?'))\n",
    "for i in range(1,n+1):\n",
    "    s = f.readline()\n",
    "    print(s, end='')\n",
    "f.close()"
   ]
  },
  {
   "cell_type": "code",
   "execution_count": 103,
   "metadata": {},
   "outputs": [],
   "source": [
    "# Q7.\n",
    "# 다음과 같은 기능을 수행하는 프로그램 작성\n",
    "# random 모듈의 randint()를 사용하여 1에서 1000까지의 임의의 정수를 10개 생성하여\n",
    "# ranom_numbers.txt 라는 이름의 파일로 저장하여라.\n",
    "\n",
    "# 결과\n",
    "# random_numbers.txt 파일\n",
    "# 32 492 392 593 592 492 12 49 39 50"
   ]
  },
  {
   "cell_type": "code",
   "execution_count": 104,
   "metadata": {},
   "outputs": [
    {
     "name": "stdout",
     "output_type": "stream",
     "text": [
      "708 932 870 334 320 595 749 745 512 955 "
     ]
    }
   ],
   "source": [
    "import random\n",
    "\n",
    "with open('random_numbers.txt', mode='w') as file:\n",
    "    for n in range(10):\n",
    "        n = random.randint(1,1001)\n",
    "        file.write(str(n)+' ')\n",
    "        print(str(n), end = ' ')\n"
   ]
  },
  {
   "cell_type": "code",
   "execution_count": 105,
   "metadata": {},
   "outputs": [],
   "source": [
    "# Q8.\n",
    "# 랜덤 숫자 맞추기 게임프로그램을 작성하라. 먼저 랜덤하게 1~20까지의 생성된 숫자 x와\n",
    "\n",
    "# 결과\n",
    "# 1~20까지의 숫자를 입력하세요 : 3\n",
    "# 3보다 큽니다!\n",
    "# 1~20까지의 숫자를 입력하세요 : 9\n",
    "# 9 보다 작습니다!\n",
    "# 1~20까지의 숫자를 입력하세요 : 6\n",
    "# 6 보다 작습니다!\n",
    "# 1~20까지의 숫자를 입력하세요 : 5\n",
    "# 5 보다 작습니다!\n",
    "# 1~20까지의 숫자를 입력하세요 : 4\n",
    "# 정답입니다!\n",
    "# 5 번만에 맞추셨네요. 잘했어요^^"
   ]
  },
  {
   "cell_type": "code",
   "execution_count": 106,
   "metadata": {},
   "outputs": [
    {
     "name": "stdout",
     "output_type": "stream",
     "text": [
      "12\n",
      "1~20까지의 숫자를 입력하세요 : 1\n",
      "1보다 큽니다!\n",
      "1~20까지의 숫자를 입력하세요 : 5\n",
      "5보다 큽니다!\n",
      "1~20까지의 숫자를 입력하세요 : 15\n",
      "15보다 작습니다!\n",
      "1~20까지의 숫자를 입력하세요 : 13\n",
      "13보다 작습니다!\n",
      "1~20까지의 숫자를 입력하세요 : 12\n",
      "정답입니다!\n",
      "6 번만에 맞추셨네요. 잘했어요!\n",
      "걸린시간 6.459460496902466 초\n"
     ]
    }
   ],
   "source": [
    "import time     # 시간재기\n",
    "start = time.time()\n",
    "\n",
    "\n",
    "\n",
    "import random\n",
    "answer = random.randint(1,20)\n",
    "print(answer)\n",
    "\n",
    "i = 1\n",
    "\n",
    "while True:\n",
    "    num = int(input('1~20까지의 숫자를 입력하세요 : '))\n",
    "    i += 1\n",
    "    if num > answer:\n",
    "        print(f'{num}보다 작습니다!')    \n",
    "    elif num < answer:\n",
    "        print(f'{num}보다 큽니다!')\n",
    "    else:\n",
    "        print('정답입니다!')\n",
    "        print(f'{i} 번만에 맞추셨네요. 잘했어요!')\n",
    "        break\n",
    "    \n",
    "    \n",
    "end = time.time()\n",
    "\n",
    "print('걸린시간' , end-start,'초')"
   ]
  },
  {
   "cell_type": "markdown",
   "metadata": {},
   "source": [
    "[목차로 돌아가기](#목차)"
   ]
  }
 ],
 "metadata": {
  "kernelspec": {
   "display_name": "Python 3 (ipykernel)",
   "language": "python",
   "name": "python3"
  },
  "language_info": {
   "codemirror_mode": {
    "name": "ipython",
    "version": 3
   },
   "file_extension": ".py",
   "mimetype": "text/x-python",
   "name": "python",
   "nbconvert_exporter": "python",
   "pygments_lexer": "ipython3",
   "version": "3.10.9"
  }
 },
 "nbformat": 4,
 "nbformat_minor": 2
}
