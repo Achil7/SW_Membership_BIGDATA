{
 "cells": [
  {
   "attachments": {},
   "cell_type": "markdown",
   "metadata": {},
   "source": [
    "# Python 응용"
   ]
  },
  {
   "attachments": {},
   "cell_type": "markdown",
   "metadata": {},
   "source": [
    "### 목차\n",
    "[1. Class ](#Class)\\\n",
    "[2. Numpy ](#Numpy)\\\n",
    "[3. Pandas ](#Pandas)\\\n",
    "[4. 예외처리 ](#예외처리)"
   ]
  },
  {
   "attachments": {},
   "cell_type": "markdown",
   "metadata": {},
   "source": [
    "## Class"
   ]
  },
  {
   "cell_type": "code",
   "execution_count": 69,
   "metadata": {},
   "outputs": [],
   "source": [
    "# class 는 Field(속성,변수) 와 Method(함수) 로 이루어져 있음"
   ]
  },
  {
   "cell_type": "code",
   "execution_count": 70,
   "metadata": {},
   "outputs": [
    {
     "name": "stdout",
     "output_type": "stream",
     "text": [
      "010-1234-5678\n",
      "engineerk@engineerk.com\n",
      "EngineerK\n"
     ]
    }
   ],
   "source": [
    "# Example1\n",
    "class User:\n",
    "    phone_number = ''\n",
    "    email_address = ''\n",
    "    name = ''\n",
    "    \n",
    "    def init(self, phone_number, email_address,name):\n",
    "        self.phone_number = phone_number\n",
    "        self.email_address = email_address\n",
    "        self.name = name\n",
    "    \n",
    "    def getPhoneNumber(self):\n",
    "        return self.phone_number\n",
    "\n",
    "    def getEmail(self):\n",
    "        return self.email_address\n",
    "\n",
    "    def getName(self):\n",
    "        return self.name\n",
    "    \n",
    "user1 = User()\n",
    "user1.init('010-1234-5678', 'engineerk@engineerk.com', 'EngineerK')\n",
    "print(user1.getPhoneNumber())\n",
    "print(user1.getEmail())\n",
    "print(user1.getName())"
   ]
  },
  {
   "cell_type": "code",
   "execution_count": 71,
   "metadata": {},
   "outputs": [
    {
     "name": "stdout",
     "output_type": "stream",
     "text": [
      "3\n",
      "7\n",
      "3\n",
      "10\n"
     ]
    }
   ],
   "source": [
    "# Example2\n",
    "class Calculator: # 클래스 Calculator 정의\n",
    "    def __init__(self): # 초기자(initializer)\n",
    "        self.result = 0\n",
    "        \n",
    "    def add(self,num): # 메소드(method)\n",
    "        self.result += num\n",
    "        return self.result\n",
    "\n",
    "cal1 = Calculator() # 클래스 Calculator의 인스턴스 cal1 생성\n",
    "cal2 = Calculator() # 클래스 Calculator의 인스턴스 cal1 생성\n",
    "\n",
    "print(cal1.add(3))\n",
    "print(cal1.add(4))\n",
    "print(cal2.add(3))\n",
    "print(cal2.add(7))"
   ]
  },
  {
   "cell_type": "code",
   "execution_count": 72,
   "metadata": {},
   "outputs": [
    {
     "name": "stdout",
     "output_type": "stream",
     "text": [
      "4\n",
      "2\n",
      "7\n",
      "8\n"
     ]
    }
   ],
   "source": [
    "# self\n",
    "class FourCal:\n",
    "    def setdata(self,first,second):\n",
    "        self.first = first\n",
    "        self.second = second\n",
    "\n",
    "a = FourCal() # 인스턴스 생성\n",
    "\n",
    "a.setdata(4,2) # 인스턴스 메소드 실행\n",
    "\n",
    "print(a.first) # = self.first = 4        \n",
    "print(a.second) # = self.second = 2\n",
    "\n",
    "FourCal.setdata(a,7,8) # 클래스 메소드로 실행\n",
    "print(a.first) # = self.first = 7\n",
    "print(a.second) # = self.second = 8"
   ]
  },
  {
   "cell_type": "code",
   "execution_count": 73,
   "metadata": {},
   "outputs": [
    {
     "name": "stdout",
     "output_type": "stream",
     "text": [
      "4\n",
      "2\n",
      "6\n",
      "1\n",
      "15\n",
      "2\n",
      "6\n",
      "3\n",
      "15\n",
      "4\n",
      "4\n",
      "4\n"
     ]
    }
   ],
   "source": [
    "# 클래스 변수와 인스턴스 변수\n",
    "\n",
    "class FourCal:\n",
    "    count = 0 # 클래스 변수\n",
    "    def setdata(self,first,second):\n",
    "        self.first = first\n",
    "        self.second = second\n",
    "\n",
    "    def sum(self):\n",
    "        result = self.first + self.second\n",
    "        FourCal.count += 1 # Fourcal.sum을 쓸 때마다 FourCal이라는 클래스의 횟수를 증가시킴\n",
    "        return result\n",
    "    \n",
    "a = FourCal() # 인스턴스 생성\n",
    "b = FourCal() # 인스턴스 생성\n",
    "\n",
    "a.setdata(4,2) # 인스턴스 메소드 실행\n",
    "print(a.first) # = self.first >> 4      \n",
    "print(a.second) # = self.second >> 2\n",
    "print(a.sum()) # 메소드 실행, self만 매개변수 >> 6\n",
    "print(FourCal.count) # 클래스변수 >> 1\n",
    "\n",
    "b.setdata(7,8) # 인스턴스 메소드 실행\n",
    "print(b.sum()) # 메소드 실행 >> 15\n",
    "print(FourCal.count) # 클래스변수 >>2\n",
    "print(a.sum()) # 메소드 실행 >>6\n",
    "print(FourCal.count) # 클래스변수 >>3\n",
    "print(b.sum()) # 메소드 실행 >>15\n",
    "print(FourCal.count) # 클래스변수 >>4\n",
    "print(a.count) # = FourCal.count, 클래스변수 >>4\n",
    "print(b.count) # = FourCal.count, 클래스변수 >>4"
   ]
  },
  {
   "cell_type": "code",
   "execution_count": 74,
   "metadata": {},
   "outputs": [],
   "source": [
    "# class 클래스명:\n",
    "#     클래스 속성 = 값\n",
    "    \n",
    "#     def __init__(self,*args, *kwargs):\n",
    "#         self.인스턴스 속성 = 값\n",
    "        \n",
    "#     ..."
   ]
  },
  {
   "cell_type": "code",
   "execution_count": 75,
   "metadata": {},
   "outputs": [
    {
     "name": "stdout",
     "output_type": "stream",
     "text": [
      "--클래스 속성 변경--\n",
      "10 10\n",
      "--인스턴스 속성 변경--\n",
      "20 10\n",
      "--속성(Attribute) 출력--\n",
      "{'instance_value': 0, 'class_value': 20}\n",
      "{'instance_value': 0}\n"
     ]
    }
   ],
   "source": [
    "class Daeheeyun:\n",
    "    \n",
    "    class_value = 0\n",
    "    \n",
    "    def __init__(self):\n",
    "        self.instance_value = 0\n",
    "        \n",
    "    def set_class_value(self):\n",
    "        Daeheeyun.class_value = 10\n",
    "        \n",
    "    def set_instance_value(self):\n",
    "        self.class_value = 20\n",
    "        \n",
    "instance1 = Daeheeyun()\n",
    "instance2 = Daeheeyun()\n",
    "\n",
    "print('--클래스 속성 변경--')\n",
    "instance1.set_class_value()\n",
    "print(instance1.class_value, instance2.class_value)\n",
    "\n",
    "print('--인스턴스 속성 변경--')\n",
    "instance1.set_instance_value()\n",
    "print(instance1.class_value, instance2.class_value)\n",
    "\n",
    "print('--속성(Attribute) 출력--')\n",
    "print(instance1.__dict__)\n",
    "print(instance2.__dict__)"
   ]
  },
  {
   "cell_type": "code",
   "execution_count": 76,
   "metadata": {},
   "outputs": [],
   "source": [
    "# 초기자(생성자, Initializer)"
   ]
  },
  {
   "attachments": {},
   "cell_type": "markdown",
   "metadata": {},
   "source": [
    "---"
   ]
  },
  {
   "cell_type": "code",
   "execution_count": 77,
   "metadata": {},
   "outputs": [],
   "source": [
    "# 클래스의 상속\n",
    "# 상속 : 어떤 클래스를 만들 때 다른 클래스의 기능을 물려받을 수 있게 만드는 것\n",
    "# class 클래스명(상속할 클래스명)"
   ]
  },
  {
   "cell_type": "code",
   "execution_count": 78,
   "metadata": {},
   "outputs": [
    {
     "name": "stdout",
     "output_type": "stream",
     "text": [
      "16\n",
      "6\n",
      "4\n"
     ]
    }
   ],
   "source": [
    "# Example1\n",
    "class FourCal:\n",
    "    def __init__(self, first, second):\n",
    "        self.first = first\n",
    "        self.second = second\n",
    "\n",
    "    def sum(self):\n",
    "        result = self.first + self.second\n",
    "        return result\n",
    "    \n",
    "class MoreFourCal(FourCal): # FourCal 로 부터 상속받음\n",
    "    def pow(self):\n",
    "        result = self.first ** self.second\n",
    "        return result\n",
    "    \n",
    "m = MoreFourCal(4,2)\n",
    "print(m.pow()) # 현재 클래스 메소드 실행\n",
    "print(m.sum()) # 부모 클래스 메소드 실행\n",
    "print(m.first)"
   ]
  },
  {
   "cell_type": "code",
   "execution_count": 79,
   "metadata": {},
   "outputs": [
    {
     "name": "stdout",
     "output_type": "stream",
     "text": [
      "36\n"
     ]
    }
   ],
   "source": [
    "# Example2\n",
    "class Calculator: # 부모 클래스\n",
    "    def __init__(self, first, second):\n",
    "        self.first = first\n",
    "        self.second = second\n",
    "        \n",
    "    def add(self):\n",
    "        result = self.first + self.second\n",
    "        return result\n",
    "    \n",
    "    def mul(self):\n",
    "        result = self.first * self.second\n",
    "        return result\n",
    "    \n",
    "    def sub(self):\n",
    "        result = self.first - self.second\n",
    "    \n",
    "    def div(self):\n",
    "        result = self.first / self.second\n",
    "        return result\n",
    "    \n",
    "\n",
    "class Scientific_calculator(Calculator): # 자식 클래스\n",
    "    pass\n",
    "\n",
    "Scientific_1 = Scientific_calculator(6,6)\n",
    "print(Scientific_1.mul())"
   ]
  },
  {
   "cell_type": "code",
   "execution_count": 80,
   "metadata": {},
   "outputs": [
    {
     "name": "stdout",
     "output_type": "stream",
     "text": [
      "BaseClass's myfunc\n",
      "None\n",
      "InhClass's myfunc\n",
      "None\n"
     ]
    }
   ],
   "source": [
    "# 만약 같은 이름의 멤버변수나 멤버함수가 부모, 자식클래스에 공통으로 있다면\n",
    "# 자식클래스의 것으로 덮어쓰기가 됨.\n",
    "# Example\n",
    "class BaseClass:\n",
    "    def myfunc(self):\n",
    "        print(\"BaseClass's myfunc\")\n",
    "        \n",
    "class InhClass(BaseClass):\n",
    "    def myfunc(self):\n",
    "        print(\"InhClass's myfunc\")\n",
    "        \n",
    "\n",
    "ex1 = BaseClass()\n",
    "print(ex1.myfunc())\n",
    "\n",
    "ex2 = InhClass()\n",
    "print(ex2.myfunc())\n",
    "\n",
    "## None은 무시 ## print()로 인한 생성텍스트"
   ]
  },
  {
   "attachments": {},
   "cell_type": "markdown",
   "metadata": {},
   "source": [
    "---"
   ]
  },
  {
   "cell_type": "code",
   "execution_count": 81,
   "metadata": {},
   "outputs": [
    {
     "name": "stdout",
     "output_type": "stream",
     "text": [
      "Base1\n",
      "None\n",
      "400\n",
      "None\n"
     ]
    }
   ],
   "source": [
    "# 다중 상속\n",
    "# 여러 개의 부모클래스로부터 상속받을 수 있음\n",
    "# class 새로운_클래스(베이스클래스1,베이스클래스2, ...):\n",
    "#     ...\n",
    "    \n",
    "# Example\n",
    "class Base1:\n",
    "    def myfunc(self):\n",
    "        print('Base1')\n",
    "        \n",
    "    \n",
    "class Base2:\n",
    "    member1 = 100\n",
    "    member2 = 200\n",
    "    \n",
    "\n",
    "class Base3:\n",
    "    def myfunc2(self,a,b):\n",
    "        print(a+b)\n",
    "        \n",
    "        \n",
    "class InhClass(Base1,Base2,Base3):\n",
    "    member3 = 300\n",
    "    \n",
    "    \n",
    "ex1 = InhClass()\n",
    "print(ex1.myfunc())\n",
    "print(ex1.myfunc2(ex1.member1,ex1.member3))\n",
    "\n",
    "## None은 무시 ## print()로 인한 생성텍스트"
   ]
  },
  {
   "cell_type": "code",
   "execution_count": 82,
   "metadata": {},
   "outputs": [
    {
     "name": "stdout",
     "output_type": "stream",
     "text": [
      "안녕하세요. B입니다.\n",
      "None\n",
      "[<class '__main__.D'>, <class '__main__.B'>, <class '__main__.C'>, <class 'object'>]\n"
     ]
    }
   ],
   "source": [
    "# 다중 상속시 우선 순위 : mro(메소드 탐색 순서, Method Resolution Order, MRO)\n",
    "\n",
    "# Example\n",
    "class A:\n",
    "    def greeting(self):\n",
    "        print('안녕하세요. A입니다.')\n",
    "        \n",
    "        \n",
    "class B:\n",
    "    def greeting(self):\n",
    "        print('안녕하세요. B입니다.')\n",
    "\n",
    "\n",
    "class C:\n",
    "    def greeting(self):\n",
    "        print('안녕하세요. C입니다.')\n",
    "        \n",
    "\n",
    "class D(B,C):\n",
    "    pass\n",
    "\n",
    "x=D()\n",
    "print(x.greeting())\n",
    "\n",
    "print(D.mro()) # >> 메소드 우선순위 D -> B -> C\n"
   ]
  },
  {
   "cell_type": "code",
   "execution_count": 83,
   "metadata": {},
   "outputs": [
    {
     "name": "stdout",
     "output_type": "stream",
     "text": [
      "안녕하세요\n",
      "None\n",
      "안녕하세요\n",
      "저는 파이썬 코딩 도장 학생입니다\n",
      "None\n"
     ]
    }
   ],
   "source": [
    "# 메소드 오버라이딩(Overriding, 덮어쓰기)\n",
    "# 부모 클래스 상속한 클래스 에 있는 메서드를 동일한 이름으로 다시 만드는 것\n",
    "# 만약 부모 클래스에 정의된 메서드의 이름과 동일한 이름으로 자식 클래스에 생성한다\n",
    "# 면 부모 클래스의 메서드는 무시되고 자식 클래스의 메서드가 실행\n",
    "\n",
    "# !!!! super(). 메서드 이름 을 사용해 부모 클래스의 메서드를 호출할 수 있음 !!!!\n",
    "\n",
    "# Example\n",
    "class Person:\n",
    "    def greeting(self):\n",
    "        print('안녕하세요')\n",
    "        \n",
    "        \n",
    "class Student(Person):\n",
    "    def greeting(self):\n",
    "        super().greeting() # 부모 클래스의 메소드 호출\n",
    "        print('저는 파이썬 코딩 도장 학생입니다') # 추가 메소드\n",
    "        \n",
    "        \n",
    "tom = Person()\n",
    "print(tom.greeting())\n",
    "\n",
    "james = Student()\n",
    "print(james.greeting())"
   ]
  },
  {
   "cell_type": "code",
   "execution_count": 84,
   "metadata": {},
   "outputs": [
    {
     "name": "stdout",
     "output_type": "stream",
     "text": [
      "42\n",
      "홍길동님 당신의 점수는 A입니다\n"
     ]
    }
   ],
   "source": [
    "class Data:\n",
    "    def __init__(self, data):\n",
    "        tmp = data.split('|') # | 를 기준으로 text 분해\n",
    "        self.name = tmp[0]\n",
    "        self.age = tmp[1]\n",
    "        self.grade = tmp[2]\n",
    "        \n",
    "    def print_age(self):\n",
    "        print(self.age)\n",
    "        \n",
    "    def print_grade(self):\n",
    "        print(f'{self.name}님 당신의 점수는 {self.grade}입니다')\n",
    "        \n",
    "data = Data('홍길동|42|A')\n",
    "data.print_age()\n",
    "\n",
    "data.print_grade()"
   ]
  },
  {
   "attachments": {},
   "cell_type": "markdown",
   "metadata": {},
   "source": [
    "---"
   ]
  },
  {
   "cell_type": "code",
   "execution_count": 85,
   "metadata": {},
   "outputs": [],
   "source": [
    "# '_' 이라는 언더스코어 용도\n",
    "# 1.\n",
    "# 인터프리터\n",
    "# 내 : 마지막 저장값\n",
    "# 2.\n",
    "# 값을\n",
    "# 무시하는 용도로 사용\n",
    "# 3.\n",
    "# 네이밍\n",
    "# : 한 모듈 내부에서만 사용하는 private 클래스 함수 변수 메서드를 선언할 때 사\n",
    "# 용하는 컨벤션 . from module import 시 로 시작하는 것들은 모두 임포트에서 무시\n",
    "# ex) __\n",
    "# init"
   ]
  },
  {
   "cell_type": "code",
   "execution_count": 86,
   "metadata": {},
   "outputs": [
    {
     "data": {
      "text/plain": [
       "3"
      ]
     },
     "execution_count": 86,
     "metadata": {},
     "output_type": "execute_result"
    }
   ],
   "source": [
    "a = 3\n",
    "a"
   ]
  },
  {
   "cell_type": "code",
   "execution_count": 87,
   "metadata": {},
   "outputs": [
    {
     "data": {
      "text/plain": [
       "14"
      ]
     },
     "execution_count": 87,
     "metadata": {},
     "output_type": "execute_result"
    }
   ],
   "source": [
    "_ + 5"
   ]
  },
  {
   "cell_type": "code",
   "execution_count": 88,
   "metadata": {},
   "outputs": [
    {
     "data": {
      "text/plain": [
       "90"
      ]
     },
     "execution_count": 88,
     "metadata": {},
     "output_type": "execute_result"
    }
   ],
   "source": [
    "_ * 10"
   ]
  },
  {
   "cell_type": "code",
   "execution_count": 89,
   "metadata": {},
   "outputs": [
    {
     "name": "stdout",
     "output_type": "stream",
     "text": [
      "1 3\n"
     ]
    }
   ],
   "source": [
    "x, _, y = (1,2,3) # x = 1, y = 3, 특정값 무시\n",
    "print(x,y)"
   ]
  },
  {
   "cell_type": "code",
   "execution_count": 90,
   "metadata": {},
   "outputs": [
    {
     "name": "stdout",
     "output_type": "stream",
     "text": [
      "1 5\n"
     ]
    }
   ],
   "source": [
    "x,*_, y = (1,2,3,4,5) # x = 1, y = 5, 여러개의 값 무시\n",
    "print(x,y)"
   ]
  },
  {
   "cell_type": "code",
   "execution_count": 91,
   "metadata": {},
   "outputs": [
    {
     "name": "stdout",
     "output_type": "stream",
     "text": [
      "xxxxxxxxxx"
     ]
    }
   ],
   "source": [
    "for _ in range(10):\n",
    "    print('x', end = '') # 인덱스 무시"
   ]
  },
  {
   "attachments": {},
   "cell_type": "markdown",
   "metadata": {},
   "source": [
    "[목차로 돌아가기](#목차)"
   ]
  },
  {
   "attachments": {},
   "cell_type": "markdown",
   "metadata": {},
   "source": [
    "# Numpy"
   ]
  },
  {
   "cell_type": "code",
   "execution_count": 92,
   "metadata": {},
   "outputs": [],
   "source": [
    "# 배열 연산, 다차원 데이터 저장 등에 강점\n",
    "# Array(배열)\n",
    "# 동일한 자료형을 가지는 값들이 격자판 형태로 이루어짐\n",
    "# 각 값들은 양의 정수 튜플로 색인(indexing)\n",
    "# list와 유사하지만 list는 이종의 자료형이 가능하고, 수치연산의 형태가 상이하다."
   ]
  },
  {
   "cell_type": "code",
   "execution_count": 93,
   "metadata": {},
   "outputs": [],
   "source": [
    "# Numpy의 ndarray\n",
    "# vs\n",
    "# python의 array\n",
    "\n",
    "# 둘다 리스트이지만 ndarray가 수식활용에 특화된 리스트이다\n",
    "# x = [1,2,3,4]\n",
    "# y = [9,8,7,6]\n",
    "# 일반적으로 x-y는 불가능하지만\n",
    "# x = np.array(x); x-y는 가능하다\n",
    "# 이때 type(x) >> numpy.ndarray\n",
    "# type(y) >> list"
   ]
  },
  {
   "cell_type": "code",
   "execution_count": 94,
   "metadata": {},
   "outputs": [
    {
     "name": "stdout",
     "output_type": "stream",
     "text": [
      "(3,)\n",
      "1\n",
      "int32\n",
      "3\n",
      "4\n"
     ]
    }
   ],
   "source": [
    "# ndarray 속성\n",
    "import numpy as np\n",
    "a = np.array([1,2,3])\n",
    "print(a.shape)\n",
    "print(a.ndim)\n",
    "print(a.dtype)\n",
    "print(a.size)\n",
    "print(a.itemsize)"
   ]
  },
  {
   "cell_type": "code",
   "execution_count": 95,
   "metadata": {},
   "outputs": [],
   "source": [
    "# !!! 중요 !!!\n",
    "# 1.\n",
    "# 넘파이 배열 ndarray를 생성할 때, 반드시 대괄호 [] 를 사용하여\n",
    "# 리스트 형식의 데이터를 만들어야 한다.\n",
    "a = np.array([1,2,3,4])\n",
    "# a = np.array(1,2,3,4) >> 오류"
   ]
  },
  {
   "cell_type": "code",
   "execution_count": 96,
   "metadata": {},
   "outputs": [],
   "source": [
    "# 2.\n",
    "# 넘파이의 ndarray는 리스트와 달리, 서로 다른 자료형의 값을 원소로 가질 수 없다.\n",
    "# a = np.array([1,'two', 3, 4], dtype = np.int32) >> 오류"
   ]
  },
  {
   "cell_type": "code",
   "execution_count": 97,
   "metadata": {},
   "outputs": [
    {
     "data": {
      "text/plain": [
       "array(['1', 'two', '3', '4'], dtype='<U11')"
      ]
     },
     "execution_count": 97,
     "metadata": {},
     "output_type": "execute_result"
    }
   ],
   "source": [
    "# 다음과 같이 자료형을 명시하지 않을 경우 str형으로 자동형 변환이 일어난다.\n",
    "# 따라서 덤셈 뺄셈 등의 연산이 사용 불가능 하다.\n",
    "a = np.array([1,'two', 3, 4])\n",
    "a"
   ]
  },
  {
   "cell_type": "code",
   "execution_count": 98,
   "metadata": {},
   "outputs": [
    {
     "name": "stdout",
     "output_type": "stream",
     "text": [
      "[2, 4, 5]\n"
     ]
    },
    {
     "data": {
      "text/plain": [
       "[2, 4, 5]"
      ]
     },
     "execution_count": 98,
     "metadata": {},
     "output_type": "execute_result"
    }
   ],
   "source": [
    "# 배열과 리스트\n",
    "a = [2,4,5]\n",
    "print(a)\n",
    "a"
   ]
  },
  {
   "cell_type": "code",
   "execution_count": 99,
   "metadata": {},
   "outputs": [
    {
     "name": "stdout",
     "output_type": "stream",
     "text": [
      "[2 4 5]\n"
     ]
    }
   ],
   "source": [
    "aa =  np.array(a)\n",
    "print(aa)"
   ]
  },
  {
   "cell_type": "code",
   "execution_count": 100,
   "metadata": {},
   "outputs": [
    {
     "name": "stdout",
     "output_type": "stream",
     "text": [
      "4\n",
      "4\n"
     ]
    }
   ],
   "source": [
    "print(aa[1])\n",
    "print(a[1])"
   ]
  },
  {
   "attachments": {},
   "cell_type": "markdown",
   "metadata": {},
   "source": [
    "---"
   ]
  },
  {
   "cell_type": "code",
   "execution_count": 101,
   "metadata": {},
   "outputs": [
    {
     "data": {
      "text/plain": [
       "array([0, 1, 2, 3, 4, 5, 6, 7, 8, 9])"
      ]
     },
     "execution_count": 101,
     "metadata": {},
     "output_type": "execute_result"
    }
   ],
   "source": [
    "# 참조 : 배열복사\n",
    "arr = np.arange(10)\n",
    "arr"
   ]
  },
  {
   "cell_type": "code",
   "execution_count": 102,
   "metadata": {},
   "outputs": [
    {
     "name": "stdout",
     "output_type": "stream",
     "text": [
      "5\n",
      "[5 6 7]\n"
     ]
    }
   ],
   "source": [
    "print(arr[5])\n",
    "print(arr[5:8])"
   ]
  },
  {
   "cell_type": "code",
   "execution_count": 103,
   "metadata": {},
   "outputs": [
    {
     "data": {
      "text/plain": [
       "array([ 0,  1,  2,  3,  4, 12, 12, 12,  8,  9])"
      ]
     },
     "execution_count": 103,
     "metadata": {},
     "output_type": "execute_result"
    }
   ],
   "source": [
    "# 브로드캐스팅, 배열 슬라이스에 스칼라 값을 대입하면\n",
    "# 그 범위에 값이 전파됨\n",
    "arr[5:8] = 12\n",
    "arr"
   ]
  },
  {
   "cell_type": "code",
   "execution_count": 104,
   "metadata": {},
   "outputs": [
    {
     "name": "stdout",
     "output_type": "stream",
     "text": [
      "[ 0  1  2  3  4 12 12 12  8  9]\n"
     ]
    }
   ],
   "source": [
    "# 배열 슬라이스는 값을 복사하는게 아니다\n",
    "# 그러므로 배열 슬라이스의 값을 바꿔도 원본에 반영된다.\n",
    "\n",
    "arr_slice = arr[5:8]\n",
    "print(arr)"
   ]
  },
  {
   "cell_type": "code",
   "execution_count": 105,
   "metadata": {},
   "outputs": [
    {
     "name": "stdout",
     "output_type": "stream",
     "text": [
      "[    0     1     2     3     4    12 12345    12     8     9]\n"
     ]
    }
   ],
   "source": [
    "arr_slice[1] = 12345\n",
    "print(arr)"
   ]
  },
  {
   "cell_type": "code",
   "execution_count": 106,
   "metadata": {},
   "outputs": [
    {
     "name": "stdout",
     "output_type": "stream",
     "text": [
      "[ 0  1  2  3  4 64 64 64  8  9]\n"
     ]
    }
   ],
   "source": [
    "arr_slice[:] = 64\n",
    "print(arr)"
   ]
  },
  {
   "cell_type": "code",
   "execution_count": 107,
   "metadata": {},
   "outputs": [
    {
     "name": "stdout",
     "output_type": "stream",
     "text": [
      "[64 64 64]\n",
      "[ 0  1  2  3  4 64 64 64  8  9]\n"
     ]
    }
   ],
   "source": [
    "# 뷰 대신에 슬라이스의 복사본을 얻고 싶다면\n",
    "arr_slice_copy = arr[5:8].copy()\n",
    "print (arr_slice_copy)\n",
    "print (arr)"
   ]
  },
  {
   "cell_type": "code",
   "execution_count": 108,
   "metadata": {},
   "outputs": [
    {
     "name": "stdout",
     "output_type": "stream",
     "text": [
      "[8 8 8]\n",
      "[ 0  1  2  3  4 64 64 64  8  9]\n"
     ]
    }
   ],
   "source": [
    "arr_slice_copy[:] = 8\n",
    "print (arr_slice_copy)\n",
    "print (arr)"
   ]
  },
  {
   "cell_type": "code",
   "execution_count": 109,
   "metadata": {},
   "outputs": [
    {
     "name": "stdout",
     "output_type": "stream",
     "text": [
      "[0. 0. 0.]\n",
      "[[0. 0. 0.]]\n",
      "\n",
      "[1. 1. 1.]\n",
      "[[1. 1. 1.]]\n",
      "\n",
      "[[[1. 1. 1. 1.]\n",
      "  [1. 1. 1. 1.]\n",
      "  [1. 1. 1. 1.]]\n",
      "\n",
      " [[1. 1. 1. 1.]\n",
      "  [1. 1. 1. 1.]\n",
      "  [1. 1. 1. 1.]]]\n",
      "\n",
      "[1 2 3 4 5 6]\n",
      "\n",
      "[[1. 0. 0.]\n",
      " [0. 1. 0.]\n",
      " [0. 0. 1.]]\n"
     ]
    }
   ],
   "source": [
    "# zeros(), ones(), arange(), eye() 이용 배열\n",
    "a2 = np.zeros(3)\n",
    "\n",
    "a2_1 = np.zeros((1,3))\n",
    "\n",
    "a3 = np.ones(3)\n",
    "a3_1 = np.ones((1,3))\n",
    "a3_2 = np.ones([2,3,4])\n",
    "\n",
    "a4 = np.arange(1,7)\n",
    "\n",
    "a5 = np.eye(3)\n",
    "\n",
    "\n",
    "print(a2) # 1 * 3열 1차원 배열 벡터 생성 --> 0으로 된 배열\n",
    "print(a2_1) # 2차원\n",
    "print()\n",
    "\n",
    "print(a3) # 1 * 3열 1차원 배열 벡터 색성 --> 1로 된 배열\n",
    "print(a3_1) # 2차원\n",
    "print()\n",
    "print(a3_2) # 3 * 4열 짜리 2개가 겹쳐진 형태\n",
    "print()\n",
    "\n",
    "print(a4) # 1부터 7미만까지 1씩 증가\n",
    "print()\n",
    "\n",
    "print(a5) # 단위행렬 3 * 3 생성"
   ]
  },
  {
   "cell_type": "code",
   "execution_count": 110,
   "metadata": {},
   "outputs": [
    {
     "name": "stdout",
     "output_type": "stream",
     "text": [
      "1\n",
      "(6,)\n"
     ]
    }
   ],
   "source": [
    "# 배열의 차원, 형태\n",
    "a1 = np.array([1,2,3,4,5,6])\n",
    "print(a1.ndim) # ndim 배열의 차원, 제일 바깥 []의 개수\n",
    "print(a1.shape) # shape 배열의 형태 ex) (6,) : 1차원 6개 원소 배열"
   ]
  },
  {
   "cell_type": "code",
   "execution_count": 111,
   "metadata": {},
   "outputs": [
    {
     "data": {
      "text/plain": [
       "array([1, 2, 3, 4])"
      ]
     },
     "execution_count": 111,
     "metadata": {},
     "output_type": "execute_result"
    }
   ],
   "source": [
    "# 배열의 형태 변환\n",
    "c = np.array([1,2,3,4])\n",
    "c"
   ]
  },
  {
   "cell_type": "code",
   "execution_count": 112,
   "metadata": {},
   "outputs": [
    {
     "data": {
      "text/plain": [
       "array([[1, 2],\n",
       "       [3, 4]])"
      ]
     },
     "execution_count": 112,
     "metadata": {},
     "output_type": "execute_result"
    }
   ],
   "source": [
    "c.shape=(2,2)\n",
    "c"
   ]
  },
  {
   "cell_type": "code",
   "execution_count": 113,
   "metadata": {},
   "outputs": [
    {
     "data": {
      "text/plain": [
       "array([1, 2, 3, 4])"
      ]
     },
     "execution_count": 113,
     "metadata": {},
     "output_type": "execute_result"
    }
   ],
   "source": [
    "c.shape=(4,)\n",
    "c"
   ]
  },
  {
   "cell_type": "code",
   "execution_count": 114,
   "metadata": {},
   "outputs": [
    {
     "name": "stdout",
     "output_type": "stream",
     "text": [
      "[[3 3]\n",
      " [3 3]]\n"
     ]
    }
   ],
   "source": [
    "# full() 함수 : 모든 배열의 값을 해당 값으로 채움\n",
    "b = np.full((2,2),3)\n",
    "print(b)"
   ]
  },
  {
   "cell_type": "code",
   "execution_count": 115,
   "metadata": {},
   "outputs": [
    {
     "name": "stdout",
     "output_type": "stream",
     "text": [
      "[[0.06687874 0.29863366]\n",
      " [0.01500147 0.51329611]]\n"
     ]
    }
   ],
   "source": [
    "# random.random() 0~1사이 임의의 실수 값으로 채워진 배열 생성\n",
    "k = np.random.random((2,2))\n",
    "print(k)"
   ]
  },
  {
   "cell_type": "code",
   "execution_count": 116,
   "metadata": {},
   "outputs": [
    {
     "name": "stdout",
     "output_type": "stream",
     "text": [
      "[[1 2]\n",
      " [3 4]\n",
      " [5 6]]\n",
      "[1 2 3 4 5 6] \n",
      " [1 2 3 4 5 6] \n",
      " [1 2 3 4 5 6]\n",
      "[[100   2]\n",
      " [  3   4]\n",
      " [  5   6]]\n",
      "[1 2 3 4 5 6]\n",
      "[100   2   3   4   5   6]\n",
      "[100   2   3   4   5   6]\n"
     ]
    }
   ],
   "source": [
    "# reshape() 배열 변형\n",
    "a5 = a4.reshape(3,2) # 3행 2열 형태로 변형\n",
    "print(a5)\n",
    "\n",
    "\n",
    "# flatten()  또는    reshape(-1)  또는 ravel()    : 압축\n",
    "a5_1 = a5.flatten()      # 원본과 동기화가 되지 않음 >> a5의 값을 바꾸어도 a5_1은 바뀌지 않음\n",
    "a5_2 = a5.reshape(-1)    # 원본과 동기화 됨 >> a5의 값을 바꾸면 a5_2도 바뀜\n",
    "a5_3 = a5.ravel()        # 원본과 동기화 됨 >> a5의 값을 바꾸면 a5_3도 바뀜\n",
    "\n",
    "\n",
    "print(a5_1,'\\n',a5_2,'\\n',a5_3)\n",
    "\n",
    "a5[0][0] = 100\n",
    "print(a5)\n",
    "print(a5_1)\n",
    "print(a5_2)\n",
    "print(a5_3)\n"
   ]
  },
  {
   "cell_type": "code",
   "execution_count": 117,
   "metadata": {},
   "outputs": [
    {
     "name": "stdout",
     "output_type": "stream",
     "text": [
      "[[1 2 3 4]\n",
      " [5 6 7 8]]\n"
     ]
    }
   ],
   "source": [
    "# 배열 index\n",
    "na = np.array([1,2,3,4,5,6,7,8])\n",
    "print(na.reshape(2,4))"
   ]
  },
  {
   "cell_type": "code",
   "execution_count": 118,
   "metadata": {},
   "outputs": [
    {
     "name": "stdout",
     "output_type": "stream",
     "text": [
      "6\n",
      "6\n"
     ]
    }
   ],
   "source": [
    "a = na.reshape(2,4)\n",
    "print(a[1,1])   # 1행 1열\n",
    "print(a[1][1])  # 1행 1열"
   ]
  },
  {
   "cell_type": "code",
   "execution_count": 119,
   "metadata": {},
   "outputs": [
    {
     "name": "stdout",
     "output_type": "stream",
     "text": [
      "[[[  0   1   2   3]\n",
      "  [  4   5   6   7]\n",
      "  [  8   9  10  11]]\n",
      "\n",
      " [[  0   1   2   3]\n",
      "  [  4   5 100   7]\n",
      "  [  8   9  10  11]]] (2, 3, 4)\n"
     ]
    }
   ],
   "source": [
    "# 3차원 배열 생성\n",
    "array = np.array([\n",
    "    [[0,1,2,3],\n",
    "     [4,5,6,7,],\n",
    "     [8,9,10,11]],\n",
    "    [[0,1,2,3,],\n",
    "     [4,5,100,7],\n",
    "     [8,9,10,11]]\n",
    "    ])\n",
    "\n",
    "print(array, array.shape)"
   ]
  },
  {
   "cell_type": "code",
   "execution_count": 120,
   "metadata": {},
   "outputs": [
    {
     "name": "stdout",
     "output_type": "stream",
     "text": [
      "[[ 6.  8.]\n",
      " [10. 12.]]\n",
      "[[ 6.  8.]\n",
      " [10. 12.]]\n",
      "[[-4. -4.]\n",
      " [-4. -4.]]\n",
      "[[-4. -4.]\n",
      " [-4. -4.]]\n",
      "[[ 5. 12.]\n",
      " [21. 32.]]\n",
      "[[ 5. 12.]\n",
      " [21. 32.]]\n",
      "[[0.2        0.33333333]\n",
      " [0.42857143 0.5       ]]\n",
      "[[0.2        0.33333333]\n",
      " [0.42857143 0.5       ]]\n",
      "[[1.         1.41421356]\n",
      " [1.73205081 2.        ]]\n"
     ]
    }
   ],
   "source": [
    "# 배열 4칙 연산\n",
    "x = np.array([[1,2],[3,4]], dtype=np.float64)\n",
    "y = np.array([[5,6],[7,8]], dtype=np.float64)\n",
    "\n",
    "# 요소 별 합\n",
    "print(x+y)\n",
    "print(np.add(x,y))\n",
    "\n",
    "# 요소 별 차\n",
    "print(x-y)\n",
    "print(np.subtract(x,y))\n",
    "\n",
    "# 요소 별 곱 ## 행렬 연산이 아님 ##\n",
    "print(x*y)\n",
    "print(np.multiply(x,y))\n",
    "\n",
    "# 행렬 연산(내적곱)\n",
    "x@y\n",
    "np.dot(x,y)\n",
    "x.dot(y)\n",
    "\n",
    "# 요소 별 나눗셈\n",
    "print(x/y)\n",
    "print(np.divide(x,y))\n",
    "\n",
    "# 요소 별 제곱근\n",
    "print(np.sqrt(x))"
   ]
  },
  {
   "cell_type": "code",
   "execution_count": 121,
   "metadata": {},
   "outputs": [
    {
     "name": "stdout",
     "output_type": "stream",
     "text": [
      "219\n",
      "219\n",
      "[29. 67.]\n",
      "[29. 67.]\n",
      "[[19. 22.]\n",
      " [43. 50.]]\n",
      "[[19. 22.]\n",
      " [43. 50.]]\n"
     ]
    }
   ],
   "source": [
    "# 배열 행렬 연산\n",
    "x = np.array([[1,2],[3,4]], dtype=np.float64)\n",
    "y = np.array([[5,6],[7,8]], dtype=np.float64)\n",
    "\n",
    "v = np.array([9,10])\n",
    "w = np.array([11,12])\n",
    "\n",
    "# 벡터의 내적\n",
    "print(v.dot(w))\n",
    "print(np.dot(v,w))\n",
    "\n",
    "# 행렬과 벡터의 곱\n",
    "print(x.dot(v))\n",
    "print(np.dot(x,v))\n",
    "\n",
    "# 행렬 곱\n",
    "print(x.dot(y))\n",
    "print(np.dot(x,y))"
   ]
  },
  {
   "cell_type": "code",
   "execution_count": 122,
   "metadata": {},
   "outputs": [
    {
     "data": {
      "text/plain": [
       "array([[0, 1, 2, 3, 4],\n",
       "       [5, 6, 7, 8, 9]])"
      ]
     },
     "execution_count": 122,
     "metadata": {},
     "output_type": "execute_result"
    }
   ],
   "source": [
    "# list와 np.array비교\n",
    "# array 생성\n",
    "# 인덱싱과 슬라이싱\n",
    "# 원소 검색\n",
    "# array 연산\n",
    "\n",
    "# !! 중요 !!\n",
    "np.arange(10).reshape(2,5)"
   ]
  },
  {
   "cell_type": "code",
   "execution_count": 123,
   "metadata": {},
   "outputs": [
    {
     "name": "stdout",
     "output_type": "stream",
     "text": [
      "5\n",
      "0\n",
      "5\n",
      "0\n"
     ]
    }
   ],
   "source": [
    "# 수학 통계 함수\n",
    "# 자료 타입 : dtype\n",
    "# 자료 형변환\n",
    "\n",
    "\n",
    "# !! 중요 !!\n",
    "ar = np.array([1,2,3,4,5,6])\n",
    "print(np.argmax(ar))\n",
    "print(np.argmin(ar))\n",
    "\n",
    "from numpy import argmax, argmin\n",
    "print(argmax(ar))\n",
    "print(argmin(ar))"
   ]
  },
  {
   "cell_type": "code",
   "execution_count": 124,
   "metadata": {},
   "outputs": [
    {
     "name": "stdout",
     "output_type": "stream",
     "text": [
      "[[0 1 2 3]\n",
      " [4 5 6 7]]\n",
      "\n",
      "[ 4  6  8 10]\n",
      "[ 6 22]\n"
     ]
    }
   ],
   "source": [
    "# Example1\n",
    "import numpy as np\n",
    "a = np.arange(8).reshape(2,4)\n",
    "print(a)\n",
    "print('')\n",
    "print(np.sum(a, axis = 0))\n",
    "print(np.sum(a, axis = 1))"
   ]
  },
  {
   "cell_type": "code",
   "execution_count": 125,
   "metadata": {},
   "outputs": [
    {
     "data": {
      "text/plain": [
       "array([2, 2, 2, 2, 4, 4, 6, 6])"
      ]
     },
     "execution_count": 125,
     "metadata": {},
     "output_type": "execute_result"
    }
   ],
   "source": [
    "# Exmaple2\n",
    "import numpy as np\n",
    "a = np.array([2,4,6,8,10])\n",
    "idx = np.array([0,0,0,0,1,1,2,2])\n",
    "c = a[idx]\n",
    "c"
   ]
  },
  {
   "attachments": {},
   "cell_type": "markdown",
   "metadata": {},
   "source": [
    "[목차로 돌아가기](#목차)"
   ]
  },
  {
   "attachments": {},
   "cell_type": "markdown",
   "metadata": {},
   "source": [
    "# Pandas"
   ]
  },
  {
   "cell_type": "code",
   "execution_count": 126,
   "metadata": {},
   "outputs": [
    {
     "name": "stdout",
     "output_type": "stream",
     "text": [
      "float64\n"
     ]
    },
    {
     "data": {
      "text/plain": [
       "0    1.0\n",
       "1    2.0\n",
       "2    NaN\n",
       "3    4.0\n",
       "dtype: float64"
      ]
     },
     "execution_count": 126,
     "metadata": {},
     "output_type": "execute_result"
    }
   ],
   "source": [
    "import numpy as np\n",
    "import pandas as pd\n",
    "\n",
    "se = pd.Series([1,2, np.nan, 4]) # np.nan은 결측값\n",
    "print(se.dtype) # 데이터 타입\n",
    "se"
   ]
  },
  {
   "cell_type": "code",
   "execution_count": 127,
   "metadata": {},
   "outputs": [
    {
     "name": "stdout",
     "output_type": "stream",
     "text": [
      "0    False\n",
      "1    False\n",
      "2     True\n",
      "3    False\n",
      "dtype: bool\n"
     ]
    },
    {
     "data": {
      "text/plain": [
       "(1.0, 2.0)"
      ]
     },
     "execution_count": 127,
     "metadata": {},
     "output_type": "execute_result"
    }
   ],
   "source": [
    "# 결측치 확인\n",
    "# np.nan인 결측치 값만 True를 반환\n",
    "print(se.isna())\n",
    "se[0], se[1]"
   ]
  },
  {
   "cell_type": "code",
   "execution_count": 128,
   "metadata": {},
   "outputs": [
    {
     "name": "stdout",
     "output_type": "stream",
     "text": [
      "[1, 2, nan, 4]\n",
      "\n",
      "a    1.0\n",
      "b    2.0\n",
      "c    NaN\n",
      "d    4.0\n",
      "dtype: float64\n"
     ]
    }
   ],
   "source": [
    "data = [1,2,np.nan,4]\n",
    "indexed_se = pd.Series(data, index = ['a','b','c','d'])\n",
    "# 인덱스를 지정해줌\n",
    "\n",
    "print(data)\n",
    "print()\n",
    "print(indexed_se)"
   ]
  },
  {
   "cell_type": "code",
   "execution_count": 129,
   "metadata": {},
   "outputs": [
    {
     "data": {
      "text/plain": [
       "(1.0, 2.0)"
      ]
     },
     "execution_count": 129,
     "metadata": {},
     "output_type": "execute_result"
    }
   ],
   "source": [
    "indexed_se['a'], indexed_se['b'] # 인덱스가 'a', 'b'인 데이터 값"
   ]
  },
  {
   "cell_type": "code",
   "execution_count": 130,
   "metadata": {},
   "outputs": [
    {
     "data": {
      "text/plain": [
       "(1.0, 2.0)"
      ]
     },
     "execution_count": 130,
     "metadata": {},
     "output_type": "execute_result"
    }
   ],
   "source": [
    "indexed_se[0], indexed_se[1] # 인덱스가 0번째 1번째인 값"
   ]
  },
  {
   "cell_type": "code",
   "execution_count": 131,
   "metadata": {},
   "outputs": [
    {
     "name": "stdout",
     "output_type": "stream",
     "text": [
      "동윤이네 상점 수익\n",
      "1월    9500\n",
      "2월    6200\n",
      "3월    6050\n",
      "4월    7000\n",
      "dtype: int64\n"
     ]
    }
   ],
   "source": [
    "# 데이터를 딕셔너리 형으로 저장했을 경우\n",
    "# key값이 인덱스, value 값이 데이터 값으로 지정된다.\n",
    "income = {'1월' : 9500, '2월' : 6200, '3월' : 6050, '4월' : 7000}\n",
    "income_se = pd.Series(income)\n",
    "print('동윤이네 상점 수익')\n",
    "print(income_se)"
   ]
  },
  {
   "cell_type": "code",
   "execution_count": 132,
   "metadata": {},
   "outputs": [
    {
     "name": "stdout",
     "output_type": "stream",
     "text": [
      "0    100\n",
      "1    101\n",
      "2    102\n",
      "3    103\n",
      "4    104\n",
      "5    105\n",
      "dtype: int64\n"
     ]
    }
   ],
   "source": [
    "from pandas import Series, DataFrame\n",
    "k = Series([100,101,102,103,104,105])\n",
    "print(k)"
   ]
  },
  {
   "cell_type": "code",
   "execution_count": 133,
   "metadata": {},
   "outputs": [
    {
     "name": "stdout",
     "output_type": "stream",
     "text": [
      "2018-11-01    100\n",
      "2018-11-02    101\n",
      "2018-11-03    102\n",
      "2018-11-04    103\n",
      "2018-11-05    104\n",
      "2018-11-06    105\n",
      "dtype: int64\n"
     ]
    }
   ],
   "source": [
    "k1 = Series([100,101,102,103,104,105], index = ['2018-11-01','2018-11-02','2018-11-03','2018-11-04','2018-11-05','2018-11-06'])\n",
    "print(k1)"
   ]
  },
  {
   "cell_type": "code",
   "execution_count": 134,
   "metadata": {},
   "outputs": [
    {
     "name": "stdout",
     "output_type": "stream",
     "text": [
      "2018-11-01\n",
      "2018-11-02\n",
      "2018-11-03\n",
      "2018-11-04\n",
      "2018-11-05\n",
      "2018-11-06\n",
      "100\n",
      "101\n",
      "102\n",
      "103\n",
      "104\n",
      "105\n"
     ]
    }
   ],
   "source": [
    "# Series의 index와 values를 통해 원하는 값에 접근 가능\n",
    "for date in k1.index:\n",
    "    print(date)\n",
    "    \n",
    "for money in k1.values:\n",
    "    print(money)"
   ]
  },
  {
   "cell_type": "code",
   "execution_count": 135,
   "metadata": {},
   "outputs": [
    {
     "name": "stdout",
     "output_type": "stream",
     "text": [
      "korean     80\n",
      "english    70\n",
      "math       80\n",
      "dtype: int64\n"
     ]
    }
   ],
   "source": [
    "# Series의 브로드캐스트 기능 - 인덱스가 달라도 연산가능\n",
    "\n",
    "# 인덱스가 같은 경우\n",
    "\n",
    "mine = Series([10,20,30], index = ['korean','english','math'])\n",
    "friend = Series([70,50,50], index = ['korean','english','math'])\n",
    "\n",
    "merge = mine + friend\n",
    "print(merge)"
   ]
  },
  {
   "cell_type": "code",
   "execution_count": 136,
   "metadata": {},
   "outputs": [
    {
     "name": "stdout",
     "output_type": "stream",
     "text": [
      "kt       40\n",
      "naver    40\n",
      "sk       40\n",
      "dtype: int64\n"
     ]
    }
   ],
   "source": [
    "# 인덱스가 다른 경우\n",
    "\n",
    "from pandas import Series, DataFrame\n",
    "\n",
    "mine = Series([10,20,30], index = ['naver', 'sk', 'kt'])\n",
    "friend = Series([10,30,20], index = ['kt','naver','sk'])\n",
    "\n",
    "merge = mine + friend\n",
    "print(merge)"
   ]
  },
  {
   "cell_type": "code",
   "execution_count": 137,
   "metadata": {},
   "outputs": [
    {
     "data": {
      "text/html": [
       "<div>\n",
       "<style scoped>\n",
       "    .dataframe tbody tr th:only-of-type {\n",
       "        vertical-align: middle;\n",
       "    }\n",
       "\n",
       "    .dataframe tbody tr th {\n",
       "        vertical-align: top;\n",
       "    }\n",
       "\n",
       "    .dataframe thead th {\n",
       "        text-align: right;\n",
       "    }\n",
       "</style>\n",
       "<table border=\"1\" class=\"dataframe\">\n",
       "  <thead>\n",
       "    <tr style=\"text-align: right;\">\n",
       "      <th></th>\n",
       "      <th>0</th>\n",
       "      <th>1</th>\n",
       "      <th>2</th>\n",
       "    </tr>\n",
       "  </thead>\n",
       "  <tbody>\n",
       "    <tr>\n",
       "      <th>0</th>\n",
       "      <td>1</td>\n",
       "      <td>2</td>\n",
       "      <td>3</td>\n",
       "    </tr>\n",
       "    <tr>\n",
       "      <th>1</th>\n",
       "      <td>4</td>\n",
       "      <td>5</td>\n",
       "      <td>6</td>\n",
       "    </tr>\n",
       "  </tbody>\n",
       "</table>\n",
       "</div>"
      ],
      "text/plain": [
       "   0  1  2\n",
       "0  1  2  3\n",
       "1  4  5  6"
      ]
     },
     "metadata": {},
     "output_type": "display_data"
    },
    {
     "data": {
      "text/html": [
       "<div>\n",
       "<style scoped>\n",
       "    .dataframe tbody tr th:only-of-type {\n",
       "        vertical-align: middle;\n",
       "    }\n",
       "\n",
       "    .dataframe tbody tr th {\n",
       "        vertical-align: top;\n",
       "    }\n",
       "\n",
       "    .dataframe thead th {\n",
       "        text-align: right;\n",
       "    }\n",
       "</style>\n",
       "<table border=\"1\" class=\"dataframe\">\n",
       "  <thead>\n",
       "    <tr style=\"text-align: right;\">\n",
       "      <th></th>\n",
       "      <th>a</th>\n",
       "      <th>b</th>\n",
       "      <th>c</th>\n",
       "    </tr>\n",
       "  </thead>\n",
       "  <tbody>\n",
       "    <tr>\n",
       "      <th>0</th>\n",
       "      <td>1</td>\n",
       "      <td>1</td>\n",
       "      <td>2</td>\n",
       "    </tr>\n",
       "    <tr>\n",
       "      <th>1</th>\n",
       "      <td>3</td>\n",
       "      <td>2</td>\n",
       "      <td>4</td>\n",
       "    </tr>\n",
       "  </tbody>\n",
       "</table>\n",
       "</div>"
      ],
      "text/plain": [
       "   a  b  c\n",
       "0  1  1  2\n",
       "1  3  2  4"
      ]
     },
     "metadata": {},
     "output_type": "display_data"
    }
   ],
   "source": [
    "# 1. DataFrame 만들기\n",
    "import numpy as np\n",
    "import pandas as pd\n",
    "nparray1 = np.array([[1,2,3,],[4,5,6]]) # numpy array\n",
    "display(pd.DataFrame(nparray1))\n",
    "\n",
    "dictionary1 = {'a':['1','3'], 'b' : ['1','2'], 'c' : ['2','4']} # dictionary\n",
    "display(pd.DataFrame(dictionary1))"
   ]
  },
  {
   "cell_type": "code",
   "execution_count": 138,
   "metadata": {},
   "outputs": [
    {
     "name": "stdout",
     "output_type": "stream",
     "text": [
      "   col0  col1  col2\n",
      "0     1    10   100\n",
      "1     2    20   200\n",
      "2     3    30   300\n",
      "3     4    40   400\n"
     ]
    }
   ],
   "source": [
    "from pandas import Series, DataFrame\n",
    "raw_data = {'col0':[1,2,3,4],\n",
    "            'col1':[10,20,30,40],\n",
    "            'col2':[100,200,300,400]}\n",
    "\n",
    "data = DataFrame(raw_data)\n",
    "print(data)"
   ]
  },
  {
   "cell_type": "code",
   "execution_count": 139,
   "metadata": {},
   "outputs": [
    {
     "name": "stdout",
     "output_type": "stream",
     "text": [
      "0    1\n",
      "1    2\n",
      "2    3\n",
      "3    4\n",
      "Name: col0, dtype: int64\n",
      "0    10\n",
      "1    20\n",
      "2    30\n",
      "3    40\n",
      "Name: col1, dtype: int64\n",
      "0    100\n",
      "1    200\n",
      "2    300\n",
      "3    400\n",
      "Name: col2, dtype: int64\n"
     ]
    }
   ],
   "source": [
    "print(data['col0'])\n",
    "print(data['col1'])\n",
    "print(data['col2'])"
   ]
  },
  {
   "cell_type": "code",
   "execution_count": 140,
   "metadata": {},
   "outputs": [
    {
     "name": "stdout",
     "output_type": "stream",
     "text": [
      "    open   high    low  close\n",
      "0  11650  12100  11600  11900\n",
      "1  11100  11000  11050  11600\n",
      "2  11200  11200  10900  11000\n",
      "3  11100  11100  10950  11100\n",
      "4  11000  11150  10900  11050\n"
     ]
    }
   ],
   "source": [
    "# Example1\n",
    "\n",
    "daeshin = {'open':[11650,11100,11200,11100,11000],\n",
    "           'high':[12100,11000,11200,11100,11150],\n",
    "           'low':[11600,11050,10900,10950,10900],\n",
    "           'close':[11900,11600,11000,11100,11050]}\n",
    "\n",
    "daeshin_day = DataFrame(daeshin)\n",
    "print(daeshin_day)"
   ]
  },
  {
   "cell_type": "code",
   "execution_count": 141,
   "metadata": {},
   "outputs": [
    {
     "name": "stdout",
     "output_type": "stream",
     "text": [
      "           open   high    low  close\n",
      "16.02.29  11650  12100  11600  11900\n",
      "16.02.26  11100  11000  11050  11600\n",
      "16.02.25  11200  11200  10900  11000\n",
      "16.02.24  11100  11100  10950  11100\n",
      "16.02.23  11000  11150  10900  11050\n",
      "Index(['open', 'high', 'low', 'close'], dtype='object')\n",
      "Index(['16.02.29', '16.02.26', '16.02.25', '16.02.24', '16.02.23'], dtype='object')\n"
     ]
    }
   ],
   "source": [
    "# Example1\n",
    "\n",
    "# 행의 index 및 cloumns 키워드 지정하기\n",
    "date = ['16.02.29','16.02.26','16.02.25','16.02.24','16.02.23']\n",
    "daeshin_day = DataFrame(daeshin, columns = ['open','high','low','close'], index = date)\n",
    "\n",
    "print(daeshin_day)\n",
    "print(daeshin_day.columns) # 컬럼명\n",
    "print(daeshin_day.index) # 인덱스"
   ]
  },
  {
   "cell_type": "code",
   "execution_count": 142,
   "metadata": {},
   "outputs": [
    {
     "name": "stdout",
     "output_type": "stream",
     "text": [
      "16.02.29    11900\n",
      "16.02.26    11600\n",
      "16.02.25    11000\n",
      "16.02.24    11100\n",
      "16.02.23    11050\n",
      "Name: close, dtype: int64\n"
     ]
    }
   ],
   "source": [
    "# 행 및 열 선택\n",
    "close = daeshin_day['close'] # close라는 열만 선택\n",
    "print(close)\n",
    "\n",
    "\n",
    "# print(daeshin_day['16.02.24']) --> 오류\n",
    "# 인덱스 지정은 다른 함수"
   ]
  },
  {
   "cell_type": "code",
   "execution_count": 143,
   "metadata": {},
   "outputs": [
    {
     "name": "stdout",
     "output_type": "stream",
     "text": [
      "open     11100\n",
      "high     11100\n",
      "low      10950\n",
      "close    11100\n",
      "Name: 16.02.24, dtype: int64\n",
      "<class 'pandas.core.series.Series'>\n"
     ]
    }
   ],
   "source": [
    "# 인덱스 지정\n",
    "# ~~~.loc[인덱스명]\n",
    "day_data = daeshin_day.loc['16.02.24']\n",
    "print(day_data)\n",
    "print(type(day_data))"
   ]
  },
  {
   "cell_type": "code",
   "execution_count": 144,
   "metadata": {},
   "outputs": [
    {
     "name": "stdout",
     "output_type": "stream",
     "text": [
      "   A\n",
      "0  4\n",
      "1  5\n",
      "2  6\n",
      "3  7\n",
      "                         0\n",
      "United Kingdom      London\n",
      "India            New Delhi\n",
      "United States   Washington\n",
      "Belgium           Brussels\n"
     ]
    }
   ],
   "source": [
    "dataframe1 = pd.DataFrame(data=[4,5,6,7], index = range(0,4), columns=['A']) # dataframe\n",
    "print(pd.DataFrame(dataframe1))\n",
    "\n",
    "series1 = pd.Series({'United Kingdom' : 'London', 'India' : 'New Delhi', 'United States' : 'Washington', 'Belgium' : 'Brussels'})\n",
    "# Series 는 Pandas 의 벡터 데이터형\n",
    "print(pd.DataFrame(series1))"
   ]
  },
  {
   "cell_type": "code",
   "execution_count": 145,
   "metadata": {},
   "outputs": [
    {
     "name": "stdout",
     "output_type": "stream",
     "text": [
      "   10  11  12\n",
      "0   1   2   3\n",
      "1   4   5   6\n",
      "2   7   8   9\n",
      "길이 : 3\n",
      "컬럼명 : Int64Index([10, 11, 12], dtype='int64')\n",
      "   A  B  C\n",
      "0  1  2  3\n",
      "1  4  5  6\n",
      "2  7  8  9\n"
     ]
    }
   ],
   "source": [
    "# 2. DataFrame 다루기\n",
    "import numpy as np\n",
    "import pandas as pd\n",
    "\n",
    "df = pd.DataFrame(np.array([[1,2,3],[4,5,6],[7,8,9]]), columns = [10,11,12])\n",
    "print(df)\n",
    "print('길이 :',len(df))\n",
    "print('컬럼명 :',df.columns)\n",
    "df.columns = ['A','B','C']\n",
    "print(df)"
   ]
  },
  {
   "cell_type": "code",
   "execution_count": 146,
   "metadata": {},
   "outputs": [
    {
     "name": "stdout",
     "output_type": "stream",
     "text": [
      "0    1\n",
      "1    4\n",
      "2    7\n",
      "Name: A, dtype: int32\n",
      "   A  B\n",
      "0  1  2\n",
      "1  4  5\n",
      "2  7  8\n"
     ]
    }
   ],
   "source": [
    "# 3. 인덱싱과 슬라이싱\n",
    "print(df['A']) # 컬럼 1개 선택\n",
    "print(df[['A','B']]) # 컬럼 다중 선택"
   ]
  },
  {
   "cell_type": "code",
   "execution_count": 147,
   "metadata": {},
   "outputs": [
    {
     "data": {
      "text/plain": [
       "0    2\n",
       "1    5\n",
       "Name: B, dtype: int32"
      ]
     },
     "execution_count": 147,
     "metadata": {},
     "output_type": "execute_result"
    }
   ],
   "source": [
    "df['B'][0:2] # 'B' 컬럼 중 0~1 인덱스"
   ]
  },
  {
   "cell_type": "code",
   "execution_count": 148,
   "metadata": {},
   "outputs": [
    {
     "name": "stdout",
     "output_type": "stream",
     "text": [
      "A    1\n",
      "B    2\n",
      "C    3\n",
      "Name: 0, dtype: int32\n",
      "   A  B  C\n",
      "0  1  2  3\n",
      "1  4  5  6\n",
      "\n",
      "0    2\n",
      "1    5\n",
      "Name: B, dtype: int32\n"
     ]
    }
   ],
   "source": [
    "# 인덱스 위치 지정\n",
    "# ~~~.iloc[인덱스 위치]\n",
    "print(df.iloc[0]) # index 0 선택\n",
    "print(df.iloc[0:2]) # index 0~1 선택\n",
    "print()\n",
    "print(df.iloc[0:2]['B']) # B컬럼 중 index 0~1선택\n",
    "\n",
    "\n",
    "# !!!! 중요 !!!!\n",
    "# 하지만 df.loc[0:2] 는 index 0에서 2까지\n",
    "# df.iloc[0:2]는 index 0에서 1까지임"
   ]
  },
  {
   "cell_type": "code",
   "execution_count": 149,
   "metadata": {},
   "outputs": [
    {
     "name": "stdout",
     "output_type": "stream",
     "text": [
      "    0   1   2\n",
      "0   1   2   3\n",
      "1   4   5   6\n",
      "2   7   8   9\n",
      "3  10  11  12\n",
      "4  13  14  15\n",
      "    A   B   C  D\n",
      "0   1   2   3  d\n",
      "1   4   5   6  d\n",
      "2   7   8   9  d\n",
      "3  10  11  12  d\n",
      "4  13  14  15  d\n"
     ]
    }
   ],
   "source": [
    "# 4. 데이터 추가\n",
    "df = pd.DataFrame(np.array([[1,2,3],[4,5,6],[7,8,9]]))\n",
    "\n",
    "# 행 전체를 추가 할 경우 ~~~.loc[인덱스 명] = [데이터 값1, 데이터 값2, ...]\n",
    "df.loc[3] = [10,11,12]\n",
    "df.loc[4] = [13,14,15]\n",
    "print(df)\n",
    "\n",
    "\n",
    "# 열 전체를 추가 할 경우\n",
    "df.columns = list('ABC') # 컬럼명 변경\n",
    "df['D'] = list('ddddd') # 컬럼명으로 추가\n",
    "print(df)\n"
   ]
  },
  {
   "cell_type": "code",
   "execution_count": 150,
   "metadata": {},
   "outputs": [
    {
     "name": "stdout",
     "output_type": "stream",
     "text": [
      "    A   B   C  D  4\n",
      "0   1   2   3  d  4\n",
      "1   4   5   6  d  4\n",
      "2   7   8   9  d  4\n",
      "3  10  11  12  d  4\n",
      "4  13  14  15  d  4\n"
     ]
    }
   ],
   "source": [
    "df[4] = [4]*5\n",
    "print(df)\n",
    "\n",
    "df[7] = [7]*5"
   ]
  },
  {
   "cell_type": "code",
   "execution_count": 151,
   "metadata": {},
   "outputs": [
    {
     "name": "stdout",
     "output_type": "stream",
     "text": [
      "    A   B   C  D  4\n",
      "0   1   2   3  d  4\n",
      "1   4   5   6  d  4\n",
      "2   7   8   9  d  4\n",
      "3  10  11  12  d  4\n",
      "4  13  14  15  d  4\n"
     ]
    }
   ],
   "source": [
    "# 5. 데이터 삭제\n",
    "df = df.drop(7, axis = 1) # 컬럼 삭제\n",
    "print(df)"
   ]
  },
  {
   "cell_type": "code",
   "execution_count": 152,
   "metadata": {},
   "outputs": [
    {
     "name": "stdout",
     "output_type": "stream",
     "text": [
      "    A   B   C\n",
      "0   1   2   3\n",
      "1   4   5   6\n",
      "2   7   8   9\n",
      "3  10  11  12\n",
      "4  13  14  15\n"
     ]
    }
   ],
   "source": [
    "df = df.drop([4,'D'], axis = 1) # 다중 컬럼 삭제\n",
    "print(df)"
   ]
  },
  {
   "cell_type": "code",
   "execution_count": 153,
   "metadata": {},
   "outputs": [
    {
     "name": "stdout",
     "output_type": "stream",
     "text": [
      "    A   B   C\n",
      "0   1   2   3\n",
      "1   4   5   6\n",
      "2   7   8   9\n",
      "3  10  11  12\n"
     ]
    }
   ],
   "source": [
    "df = df.drop(4, axis = 0) # 행 삭제\n",
    "print(df)"
   ]
  },
  {
   "cell_type": "code",
   "execution_count": 154,
   "metadata": {},
   "outputs": [
    {
     "name": "stdout",
     "output_type": "stream",
     "text": [
      "   A  B  C\n",
      "0  1  2  3\n",
      "1  4  5  6\n"
     ]
    }
   ],
   "source": [
    "df = df.drop([2,3], axis = 0) # 다중 행 삭제\n",
    "print(df)"
   ]
  },
  {
   "cell_type": "code",
   "execution_count": 155,
   "metadata": {},
   "outputs": [
    {
     "name": "stdout",
     "output_type": "stream",
     "text": [
      "     A  B  C\n",
      "0  100  2  3\n",
      "1    4  5  6\n"
     ]
    }
   ],
   "source": [
    "# 6. 데이터 변경\n",
    "df.loc[0][0] = 100 # label 기준 변경(불일치시 index 기준)\n",
    "print(df)"
   ]
  },
  {
   "cell_type": "code",
   "execution_count": 156,
   "metadata": {},
   "outputs": [
    {
     "name": "stdout",
     "output_type": "stream",
     "text": [
      "     A    B  C\n",
      "0  100  100  3\n",
      "1    4    5  6\n"
     ]
    }
   ],
   "source": [
    "df.loc[0]['B'] = 100\n",
    "print(df)"
   ]
  },
  {
   "cell_type": "code",
   "execution_count": 157,
   "metadata": {},
   "outputs": [
    {
     "name": "stdout",
     "output_type": "stream",
     "text": [
      "     A    B  C\n",
      "0  100  100  3\n",
      "1    4  100  6\n"
     ]
    }
   ],
   "source": [
    "df.iloc[1][1] = 100  # index 기준 변경(불일치시 label 기준)\n",
    "print(df)"
   ]
  },
  {
   "cell_type": "code",
   "execution_count": 158,
   "metadata": {},
   "outputs": [
    {
     "name": "stdout",
     "output_type": "stream",
     "text": [
      "     A    B    C\n",
      "0  100  100    3\n",
      "1    4  100  200\n"
     ]
    }
   ],
   "source": [
    "df.iloc[1]['C'] = 200\n",
    "print(df)"
   ]
  },
  {
   "cell_type": "code",
   "execution_count": 159,
   "metadata": {},
   "outputs": [
    {
     "name": "stdout",
     "output_type": "stream",
     "text": [
      "   A    B    C\n",
      "0  1    2    3\n",
      "1  4  100  200\n"
     ]
    }
   ],
   "source": [
    "df.iloc[0][0:2] = [1,2] # 다중 데이터 변경\n",
    "print(df)"
   ]
  },
  {
   "cell_type": "code",
   "execution_count": 160,
   "metadata": {},
   "outputs": [
    {
     "name": "stdout",
     "output_type": "stream",
     "text": [
      "   A    B  C\n",
      "0  1    2  3\n",
      "1  4  100  6\n"
     ]
    }
   ],
   "source": [
    "df['C'] = [3,6] # 컬럼 변경\n",
    "print(df)"
   ]
  },
  {
   "cell_type": "code",
   "execution_count": 161,
   "metadata": {},
   "outputs": [
    {
     "name": "stdout",
     "output_type": "stream",
     "text": [
      "   clutser org  time\n",
      "0        1   a     8\n",
      "1        1   a     6\n",
      "2        2   h    34\n",
      "3        1   c    23\n",
      "4        2   d    74\n",
      "5        3   w     6\n",
      "   clutser org  time\n",
      "4        2   d    74\n",
      "2        2   h    34\n",
      "3        1   c    23\n",
      "0        1   a     8\n",
      "1        1   a     6\n",
      "5        3   w     6\n",
      "   clutser org  time\n",
      "0        2   d    74\n",
      "1        2   h    34\n",
      "2        1   c    23\n",
      "3        1   a     8\n",
      "4        1   a     6\n",
      "5        3   w     6\n"
     ]
    }
   ],
   "source": [
    "# 7. 데이터 정렬\n",
    "df = pd.DataFrame({'clutser' : [1,1,2,1,2,3], 'org' : ['a','a','h','c','d','w'],\n",
    "                   'time' : [8,6,34,23,74,6]}); print(df) # df 생성\n",
    "\n",
    "df = df.sort_values(['time'], ascending=[False]); print(df) # 'time'컬럼 역순 정렬\n",
    "\n",
    "df = df.reset_index(drop=True); print(df) # index 재정리"
   ]
  },
  {
   "cell_type": "code",
   "execution_count": 162,
   "metadata": {},
   "outputs": [
    {
     "name": "stdout",
     "output_type": "stream",
     "text": [
      "   clutser org  time\n",
      "0        1   a     8\n",
      "1        1   a     6\n",
      "2        2   h    34\n",
      "3        1   c    23\n",
      "4        2   d    74\n",
      "5        3   w     6\n",
      "        clutser       time\n",
      "count  6.000000   6.000000\n",
      "mean   1.666667  25.166667\n",
      "std    0.816497  26.445542\n",
      "min    1.000000   6.000000\n",
      "25%    1.000000   6.500000\n",
      "50%    1.500000  15.500000\n",
      "75%    2.000000  31.250000\n",
      "max    3.000000  74.000000\n",
      "   clutser org  time\n",
      "0        1   a     8\n",
      "1        1   a     6\n",
      "   clutser org  time\n",
      "3        1   c    23\n",
      "4        2   d    74\n",
      "5        3   w     6\n",
      "         0  1   2   3   4  5\n",
      "clutser  1  1   2   1   2  3\n",
      "org      a  a   h   c   d  w\n",
      "time     8  6  34  23  74  6\n"
     ]
    }
   ],
   "source": [
    "# 8. 기본 함수\n",
    "df = pd.DataFrame({'clutser' : [1,1,2,1,2,3], 'org' : ['a','a','h','c','d','w'],\n",
    "                   'time' : [8,6,34,23,74,6]}); print(df) # df 생성\n",
    "\n",
    "print(df.describe()) # 기초 통계량\n",
    "print(df.head(2)) # 앞에서 2줄\n",
    "print(df.tail(3)) # 뒤에서 3줄\n",
    "print(df.T) # transpose"
   ]
  },
  {
   "cell_type": "code",
   "execution_count": 163,
   "metadata": {},
   "outputs": [
    {
     "name": "stdout",
     "output_type": "stream",
     "text": [
      "0     8\n",
      "1     6\n",
      "2    34\n",
      "3    23\n",
      "4    74\n",
      "5     6\n",
      "Name: time, dtype: int64\n",
      "   clutser org  time\n",
      "0        1   a     8\n",
      "1        1   a     6\n",
      "5        3   w     6\n"
     ]
    }
   ],
   "source": [
    "print(df.time) # 또는 df['time']\n",
    "print(df[df.time<10])"
   ]
  },
  {
   "cell_type": "code",
   "execution_count": 164,
   "metadata": {},
   "outputs": [
    {
     "data": {
      "text/plain": [
       "0     8\n",
       "1     6\n",
       "2    34\n",
       "3    23\n",
       "4    74\n",
       "5     6\n",
       "Name: time, dtype: int64"
      ]
     },
     "execution_count": 164,
     "metadata": {},
     "output_type": "execute_result"
    }
   ],
   "source": [
    "df['time']"
   ]
  },
  {
   "cell_type": "code",
   "execution_count": 165,
   "metadata": {},
   "outputs": [
    {
     "data": {
      "text/html": [
       "<div>\n",
       "<style scoped>\n",
       "    .dataframe tbody tr th:only-of-type {\n",
       "        vertical-align: middle;\n",
       "    }\n",
       "\n",
       "    .dataframe tbody tr th {\n",
       "        vertical-align: top;\n",
       "    }\n",
       "\n",
       "    .dataframe thead th {\n",
       "        text-align: right;\n",
       "    }\n",
       "</style>\n",
       "<table border=\"1\" class=\"dataframe\">\n",
       "  <thead>\n",
       "    <tr style=\"text-align: right;\">\n",
       "      <th></th>\n",
       "      <th>월</th>\n",
       "      <th>수익</th>\n",
       "      <th>지출</th>\n",
       "    </tr>\n",
       "  </thead>\n",
       "  <tbody>\n",
       "    <tr>\n",
       "      <th>0</th>\n",
       "      <td>1월</td>\n",
       "      <td>9500</td>\n",
       "      <td>5040</td>\n",
       "    </tr>\n",
       "    <tr>\n",
       "      <th>1</th>\n",
       "      <td>2월</td>\n",
       "      <td>6200</td>\n",
       "      <td>2350</td>\n",
       "    </tr>\n",
       "    <tr>\n",
       "      <th>2</th>\n",
       "      <td>3월</td>\n",
       "      <td>6050</td>\n",
       "      <td>2300</td>\n",
       "    </tr>\n",
       "    <tr>\n",
       "      <th>3</th>\n",
       "      <td>4월</td>\n",
       "      <td>7000</td>\n",
       "      <td>4800</td>\n",
       "    </tr>\n",
       "  </tbody>\n",
       "</table>\n",
       "</div>"
      ],
      "text/plain": [
       "    월    수익    지출\n",
       "0  1월  9500  5040\n",
       "1  2월  6200  2350\n",
       "2  3월  6050  2300\n",
       "3  4월  7000  4800"
      ]
     },
     "execution_count": 165,
     "metadata": {},
     "output_type": "execute_result"
    }
   ],
   "source": [
    "# 데이터프레임 Example\n",
    "month_ex = pd.Series(['1월','2월','3월','4월'])\n",
    "income_ex = pd.Series([9500, 6200, 6050, 7000])\n",
    "expenses_ex = pd.Series([5040,2350,2300,4800])\n",
    "\n",
    "df = pd.DataFrame({'월':month_ex, '수익':income_ex, '지출':expenses_ex})\n",
    "df"
   ]
  },
  {
   "cell_type": "code",
   "execution_count": 166,
   "metadata": {},
   "outputs": [
    {
     "data": {
      "text/html": [
       "<div>\n",
       "<style scoped>\n",
       "    .dataframe tbody tr th:only-of-type {\n",
       "        vertical-align: middle;\n",
       "    }\n",
       "\n",
       "    .dataframe tbody tr th {\n",
       "        vertical-align: top;\n",
       "    }\n",
       "\n",
       "    .dataframe thead th {\n",
       "        text-align: right;\n",
       "    }\n",
       "</style>\n",
       "<table border=\"1\" class=\"dataframe\">\n",
       "  <thead>\n",
       "    <tr style=\"text-align: right;\">\n",
       "      <th></th>\n",
       "      <th>2007</th>\n",
       "      <th>2008</th>\n",
       "      <th>2009</th>\n",
       "      <th>2010</th>\n",
       "      <th>2011</th>\n",
       "    </tr>\n",
       "  </thead>\n",
       "  <tbody>\n",
       "    <tr>\n",
       "      <th>China</th>\n",
       "      <td>7.71</td>\n",
       "      <td>7.95</td>\n",
       "      <td>11.96</td>\n",
       "      <td>15.84</td>\n",
       "      <td>16.33</td>\n",
       "    </tr>\n",
       "    <tr>\n",
       "      <th>EU</th>\n",
       "      <td>19.02</td>\n",
       "      <td>17.71</td>\n",
       "      <td>15.00</td>\n",
       "      <td>16.70</td>\n",
       "      <td>17.48</td>\n",
       "    </tr>\n",
       "    <tr>\n",
       "      <th>US</th>\n",
       "      <td>10.47</td>\n",
       "      <td>8.45</td>\n",
       "      <td>5.58</td>\n",
       "      <td>7.60</td>\n",
       "      <td>8.40</td>\n",
       "    </tr>\n",
       "    <tr>\n",
       "      <th>Japan</th>\n",
       "      <td>10.87</td>\n",
       "      <td>10.83</td>\n",
       "      <td>7.55</td>\n",
       "      <td>9.09</td>\n",
       "      <td>7.88</td>\n",
       "    </tr>\n",
       "    <tr>\n",
       "      <th>Korea</th>\n",
       "      <td>4.04</td>\n",
       "      <td>3.78</td>\n",
       "      <td>3.45</td>\n",
       "      <td>4.20</td>\n",
       "      <td>4.62</td>\n",
       "    </tr>\n",
       "    <tr>\n",
       "      <th>Mexico</th>\n",
       "      <td>2.01</td>\n",
       "      <td>2.05</td>\n",
       "      <td>1.50</td>\n",
       "      <td>2.25</td>\n",
       "      <td>2.54</td>\n",
       "    </tr>\n",
       "  </tbody>\n",
       "</table>\n",
       "</div>"
      ],
      "text/plain": [
       "         2007   2008   2009   2010   2011\n",
       "China    7.71   7.95  11.96  15.84  16.33\n",
       "EU      19.02  17.71  15.00  16.70  17.48\n",
       "US      10.47   8.45   5.58   7.60   8.40\n",
       "Japan   10.87  10.83   7.55   9.09   7.88\n",
       "Korea    4.04   3.78   3.45   4.20   4.62\n",
       "Mexico   2.01   2.05   1.50   2.25   2.54"
      ]
     },
     "execution_count": 166,
     "metadata": {},
     "output_type": "execute_result"
    }
   ],
   "source": [
    "# 데이터프레임 Example2\n",
    "path = 'https://github.com/dongupak/DataML/raw/main/csv/'\n",
    "file = path + 'vehicle_prod.csv'\n",
    "df = pd.read_csv(file, index_col = 0)\n",
    "df"
   ]
  },
  {
   "cell_type": "code",
   "execution_count": 167,
   "metadata": {},
   "outputs": [
    {
     "name": "stdout",
     "output_type": "stream",
     "text": [
      "Index(['2007', '2008', '2009', '2010', '2011'], dtype='object')\n",
      "Index(['China', 'EU', 'US', 'Japan', 'Korea', 'Mexico'], dtype='object')\n"
     ]
    }
   ],
   "source": [
    "print(df.columns) # 컬럼명\n",
    "print(df.index) # 인덱스명"
   ]
  },
  {
   "cell_type": "code",
   "execution_count": 168,
   "metadata": {},
   "outputs": [
    {
     "name": "stdout",
     "output_type": "stream",
     "text": [
      "['2007', '2008', '2009', '2010', '2011']\n",
      "[7.71, 19.02, 10.47, 10.87, 4.04, 2.01]\n"
     ]
    }
   ],
   "source": [
    "print(df.columns.tolist()) # 컬럼들을 리스트형으로 반환\n",
    "print(df['2007'].tolist()) # 2007년도 컬럼의 값들을 리스트형으로 반환"
   ]
  },
  {
   "cell_type": "code",
   "execution_count": 169,
   "metadata": {},
   "outputs": [
    {
     "data": {
      "text/html": [
       "<div>\n",
       "<style scoped>\n",
       "    .dataframe tbody tr th:only-of-type {\n",
       "        vertical-align: middle;\n",
       "    }\n",
       "\n",
       "    .dataframe tbody tr th {\n",
       "        vertical-align: top;\n",
       "    }\n",
       "\n",
       "    .dataframe thead th {\n",
       "        text-align: right;\n",
       "    }\n",
       "</style>\n",
       "<table border=\"1\" class=\"dataframe\">\n",
       "  <thead>\n",
       "    <tr style=\"text-align: right;\">\n",
       "      <th></th>\n",
       "      <th>2007</th>\n",
       "      <th>2008</th>\n",
       "      <th>2009</th>\n",
       "      <th>2010</th>\n",
       "      <th>2011</th>\n",
       "      <th>total</th>\n",
       "      <th>mean</th>\n",
       "    </tr>\n",
       "  </thead>\n",
       "  <tbody>\n",
       "    <tr>\n",
       "      <th>China</th>\n",
       "      <td>7.71</td>\n",
       "      <td>7.95</td>\n",
       "      <td>11.96</td>\n",
       "      <td>15.84</td>\n",
       "      <td>16.33</td>\n",
       "      <td>59.79</td>\n",
       "      <td>19.930000</td>\n",
       "    </tr>\n",
       "    <tr>\n",
       "      <th>EU</th>\n",
       "      <td>19.02</td>\n",
       "      <td>17.71</td>\n",
       "      <td>15.00</td>\n",
       "      <td>16.70</td>\n",
       "      <td>17.48</td>\n",
       "      <td>85.91</td>\n",
       "      <td>28.636667</td>\n",
       "    </tr>\n",
       "    <tr>\n",
       "      <th>US</th>\n",
       "      <td>10.47</td>\n",
       "      <td>8.45</td>\n",
       "      <td>5.58</td>\n",
       "      <td>7.60</td>\n",
       "      <td>8.40</td>\n",
       "      <td>40.50</td>\n",
       "      <td>13.500000</td>\n",
       "    </tr>\n",
       "    <tr>\n",
       "      <th>Japan</th>\n",
       "      <td>10.87</td>\n",
       "      <td>10.83</td>\n",
       "      <td>7.55</td>\n",
       "      <td>9.09</td>\n",
       "      <td>7.88</td>\n",
       "      <td>46.22</td>\n",
       "      <td>15.406667</td>\n",
       "    </tr>\n",
       "    <tr>\n",
       "      <th>Korea</th>\n",
       "      <td>4.04</td>\n",
       "      <td>3.78</td>\n",
       "      <td>3.45</td>\n",
       "      <td>4.20</td>\n",
       "      <td>4.62</td>\n",
       "      <td>20.09</td>\n",
       "      <td>6.696667</td>\n",
       "    </tr>\n",
       "    <tr>\n",
       "      <th>Mexico</th>\n",
       "      <td>2.01</td>\n",
       "      <td>2.05</td>\n",
       "      <td>1.50</td>\n",
       "      <td>2.25</td>\n",
       "      <td>2.54</td>\n",
       "      <td>10.35</td>\n",
       "      <td>3.450000</td>\n",
       "    </tr>\n",
       "  </tbody>\n",
       "</table>\n",
       "</div>"
      ],
      "text/plain": [
       "         2007   2008   2009   2010   2011  total       mean\n",
       "China    7.71   7.95  11.96  15.84  16.33  59.79  19.930000\n",
       "EU      19.02  17.71  15.00  16.70  17.48  85.91  28.636667\n",
       "US      10.47   8.45   5.58   7.60   8.40  40.50  13.500000\n",
       "Japan   10.87  10.83   7.55   9.09   7.88  46.22  15.406667\n",
       "Korea    4.04   3.78   3.45   4.20   4.62  20.09   6.696667\n",
       "Mexico   2.01   2.05   1.50   2.25   2.54  10.35   3.450000"
      ]
     },
     "execution_count": 169,
     "metadata": {},
     "output_type": "execute_result"
    }
   ],
   "source": [
    "# 새로운 열 생성 : total값 구하기\n",
    "df['total'] = df.sum(axis = 1)\n",
    "df['mean'] = df.mean(axis = 1)\n",
    "df"
   ]
  },
  {
   "cell_type": "code",
   "execution_count": 170,
   "metadata": {},
   "outputs": [
    {
     "data": {
      "text/html": [
       "<div>\n",
       "<style scoped>\n",
       "    .dataframe tbody tr th:only-of-type {\n",
       "        vertical-align: middle;\n",
       "    }\n",
       "\n",
       "    .dataframe tbody tr th {\n",
       "        vertical-align: top;\n",
       "    }\n",
       "\n",
       "    .dataframe thead th {\n",
       "        text-align: right;\n",
       "    }\n",
       "</style>\n",
       "<table border=\"1\" class=\"dataframe\">\n",
       "  <thead>\n",
       "    <tr style=\"text-align: right;\">\n",
       "      <th></th>\n",
       "      <th>2008</th>\n",
       "      <th>2009</th>\n",
       "      <th>2010</th>\n",
       "      <th>2011</th>\n",
       "      <th>total</th>\n",
       "      <th>mean</th>\n",
       "    </tr>\n",
       "  </thead>\n",
       "  <tbody>\n",
       "    <tr>\n",
       "      <th>China</th>\n",
       "      <td>7.95</td>\n",
       "      <td>11.96</td>\n",
       "      <td>15.84</td>\n",
       "      <td>16.33</td>\n",
       "      <td>52.08</td>\n",
       "      <td>13.0200</td>\n",
       "    </tr>\n",
       "    <tr>\n",
       "      <th>EU</th>\n",
       "      <td>17.71</td>\n",
       "      <td>15.00</td>\n",
       "      <td>16.70</td>\n",
       "      <td>17.48</td>\n",
       "      <td>66.89</td>\n",
       "      <td>16.7225</td>\n",
       "    </tr>\n",
       "    <tr>\n",
       "      <th>US</th>\n",
       "      <td>8.45</td>\n",
       "      <td>5.58</td>\n",
       "      <td>7.60</td>\n",
       "      <td>8.40</td>\n",
       "      <td>30.03</td>\n",
       "      <td>7.5075</td>\n",
       "    </tr>\n",
       "    <tr>\n",
       "      <th>Japan</th>\n",
       "      <td>10.83</td>\n",
       "      <td>7.55</td>\n",
       "      <td>9.09</td>\n",
       "      <td>7.88</td>\n",
       "      <td>35.35</td>\n",
       "      <td>8.8375</td>\n",
       "    </tr>\n",
       "    <tr>\n",
       "      <th>Korea</th>\n",
       "      <td>3.78</td>\n",
       "      <td>3.45</td>\n",
       "      <td>4.20</td>\n",
       "      <td>4.62</td>\n",
       "      <td>16.05</td>\n",
       "      <td>4.0125</td>\n",
       "    </tr>\n",
       "    <tr>\n",
       "      <th>Mexico</th>\n",
       "      <td>2.05</td>\n",
       "      <td>1.50</td>\n",
       "      <td>2.25</td>\n",
       "      <td>2.54</td>\n",
       "      <td>8.34</td>\n",
       "      <td>2.0850</td>\n",
       "    </tr>\n",
       "  </tbody>\n",
       "</table>\n",
       "</div>"
      ],
      "text/plain": [
       "         2008   2009   2010   2011  total     mean\n",
       "China    7.95  11.96  15.84  16.33  52.08  13.0200\n",
       "EU      17.71  15.00  16.70  17.48  66.89  16.7225\n",
       "US       8.45   5.58   7.60   8.40  30.03   7.5075\n",
       "Japan   10.83   7.55   9.09   7.88  35.35   8.8375\n",
       "Korea    3.78   3.45   4.20   4.62  16.05   4.0125\n",
       "Mexico   2.05   1.50   2.25   2.54   8.34   2.0850"
      ]
     },
     "execution_count": 170,
     "metadata": {},
     "output_type": "execute_result"
    }
   ],
   "source": [
    "df.drop('2007', inplace = True, axis = 1) # 2007년인 컬럼 삭제\n",
    "df['total'] = df[['2008','2009','2010','2011']].sum(axis=1) # 2008년 부터 합계 다시 구하기\n",
    "df['mean'] = df[['2008','2009','2010','2011']].mean(axis=1) # 2008년 부터 평균 다시 구하기\n",
    "df"
   ]
  },
  {
   "cell_type": "code",
   "execution_count": 171,
   "metadata": {},
   "outputs": [
    {
     "data": {
      "text/html": [
       "<div>\n",
       "<style scoped>\n",
       "    .dataframe tbody tr th:only-of-type {\n",
       "        vertical-align: middle;\n",
       "    }\n",
       "\n",
       "    .dataframe tbody tr th {\n",
       "        vertical-align: top;\n",
       "    }\n",
       "\n",
       "    .dataframe thead th {\n",
       "        text-align: right;\n",
       "    }\n",
       "</style>\n",
       "<table border=\"1\" class=\"dataframe\">\n",
       "  <thead>\n",
       "    <tr style=\"text-align: right;\">\n",
       "      <th></th>\n",
       "      <th>2008</th>\n",
       "      <th>2009</th>\n",
       "      <th>2010</th>\n",
       "      <th>2011</th>\n",
       "      <th>total</th>\n",
       "      <th>mean</th>\n",
       "    </tr>\n",
       "  </thead>\n",
       "  <tbody>\n",
       "    <tr>\n",
       "      <th>China</th>\n",
       "      <td>7.95</td>\n",
       "      <td>11.96</td>\n",
       "      <td>15.84</td>\n",
       "      <td>16.33</td>\n",
       "      <td>52.08</td>\n",
       "      <td>13.0200</td>\n",
       "    </tr>\n",
       "    <tr>\n",
       "      <th>EU</th>\n",
       "      <td>17.71</td>\n",
       "      <td>15.00</td>\n",
       "      <td>16.70</td>\n",
       "      <td>17.48</td>\n",
       "      <td>66.89</td>\n",
       "      <td>16.7225</td>\n",
       "    </tr>\n",
       "    <tr>\n",
       "      <th>US</th>\n",
       "      <td>8.45</td>\n",
       "      <td>5.58</td>\n",
       "      <td>7.60</td>\n",
       "      <td>8.40</td>\n",
       "      <td>30.03</td>\n",
       "      <td>7.5075</td>\n",
       "    </tr>\n",
       "    <tr>\n",
       "      <th>Japan</th>\n",
       "      <td>10.83</td>\n",
       "      <td>7.55</td>\n",
       "      <td>9.09</td>\n",
       "      <td>7.88</td>\n",
       "      <td>35.35</td>\n",
       "      <td>8.8375</td>\n",
       "    </tr>\n",
       "    <tr>\n",
       "      <th>Korea</th>\n",
       "      <td>3.78</td>\n",
       "      <td>3.45</td>\n",
       "      <td>4.20</td>\n",
       "      <td>4.62</td>\n",
       "      <td>16.05</td>\n",
       "      <td>4.0125</td>\n",
       "    </tr>\n",
       "    <tr>\n",
       "      <th>Mexico</th>\n",
       "      <td>2.05</td>\n",
       "      <td>1.50</td>\n",
       "      <td>2.25</td>\n",
       "      <td>2.54</td>\n",
       "      <td>8.34</td>\n",
       "      <td>2.0850</td>\n",
       "    </tr>\n",
       "    <tr>\n",
       "      <th>total</th>\n",
       "      <td>50.77</td>\n",
       "      <td>45.04</td>\n",
       "      <td>55.68</td>\n",
       "      <td>57.25</td>\n",
       "      <td>208.74</td>\n",
       "      <td>52.1850</td>\n",
       "    </tr>\n",
       "  </tbody>\n",
       "</table>\n",
       "</div>"
      ],
      "text/plain": [
       "         2008   2009   2010   2011   total     mean\n",
       "China    7.95  11.96  15.84  16.33   52.08  13.0200\n",
       "EU      17.71  15.00  16.70  17.48   66.89  16.7225\n",
       "US       8.45   5.58   7.60   8.40   30.03   7.5075\n",
       "Japan   10.83   7.55   9.09   7.88   35.35   8.8375\n",
       "Korea    3.78   3.45   4.20   4.62   16.05   4.0125\n",
       "Mexico   2.05   1.50   2.25   2.54    8.34   2.0850\n",
       "total   50.77  45.04  55.68  57.25  208.74  52.1850"
      ]
     },
     "execution_count": 171,
     "metadata": {},
     "output_type": "execute_result"
    }
   ],
   "source": [
    "df.loc['total'] = df.sum(axis = 0) # total이라는 행 추가(합계를 통해)\n",
    "df"
   ]
  },
  {
   "cell_type": "code",
   "execution_count": 172,
   "metadata": {},
   "outputs": [
    {
     "data": {
      "text/html": [
       "<div>\n",
       "<style scoped>\n",
       "    .dataframe tbody tr th:only-of-type {\n",
       "        vertical-align: middle;\n",
       "    }\n",
       "\n",
       "    .dataframe tbody tr th {\n",
       "        vertical-align: top;\n",
       "    }\n",
       "\n",
       "    .dataframe thead th {\n",
       "        text-align: right;\n",
       "    }\n",
       "</style>\n",
       "<table border=\"1\" class=\"dataframe\">\n",
       "  <thead>\n",
       "    <tr style=\"text-align: right;\">\n",
       "      <th></th>\n",
       "      <th>2008</th>\n",
       "      <th>2009</th>\n",
       "      <th>2010</th>\n",
       "      <th>2011</th>\n",
       "      <th>total</th>\n",
       "      <th>mean</th>\n",
       "    </tr>\n",
       "  </thead>\n",
       "  <tbody>\n",
       "    <tr>\n",
       "      <th>China</th>\n",
       "      <td>7.95</td>\n",
       "      <td>11.96</td>\n",
       "      <td>15.84</td>\n",
       "      <td>16.33</td>\n",
       "      <td>52.08</td>\n",
       "      <td>13.0200</td>\n",
       "    </tr>\n",
       "    <tr>\n",
       "      <th>EU</th>\n",
       "      <td>17.71</td>\n",
       "      <td>15.00</td>\n",
       "      <td>16.70</td>\n",
       "      <td>17.48</td>\n",
       "      <td>66.89</td>\n",
       "      <td>16.7225</td>\n",
       "    </tr>\n",
       "    <tr>\n",
       "      <th>US</th>\n",
       "      <td>8.45</td>\n",
       "      <td>5.58</td>\n",
       "      <td>7.60</td>\n",
       "      <td>8.40</td>\n",
       "      <td>30.03</td>\n",
       "      <td>7.5075</td>\n",
       "    </tr>\n",
       "    <tr>\n",
       "      <th>Japan</th>\n",
       "      <td>10.83</td>\n",
       "      <td>7.55</td>\n",
       "      <td>9.09</td>\n",
       "      <td>7.88</td>\n",
       "      <td>35.35</td>\n",
       "      <td>8.8375</td>\n",
       "    </tr>\n",
       "    <tr>\n",
       "      <th>Korea</th>\n",
       "      <td>3.78</td>\n",
       "      <td>3.45</td>\n",
       "      <td>4.20</td>\n",
       "      <td>4.62</td>\n",
       "      <td>16.05</td>\n",
       "      <td>4.0125</td>\n",
       "    </tr>\n",
       "    <tr>\n",
       "      <th>total</th>\n",
       "      <td>50.77</td>\n",
       "      <td>45.04</td>\n",
       "      <td>55.68</td>\n",
       "      <td>57.25</td>\n",
       "      <td>208.74</td>\n",
       "      <td>52.1850</td>\n",
       "    </tr>\n",
       "  </tbody>\n",
       "</table>\n",
       "</div>"
      ],
      "text/plain": [
       "        2008   2009   2010   2011   total     mean\n",
       "China   7.95  11.96  15.84  16.33   52.08  13.0200\n",
       "EU     17.71  15.00  16.70  17.48   66.89  16.7225\n",
       "US      8.45   5.58   7.60   8.40   30.03   7.5075\n",
       "Japan  10.83   7.55   9.09   7.88   35.35   8.8375\n",
       "Korea   3.78   3.45   4.20   4.62   16.05   4.0125\n",
       "total  50.77  45.04  55.68  57.25  208.74  52.1850"
      ]
     },
     "execution_count": 172,
     "metadata": {},
     "output_type": "execute_result"
    }
   ],
   "source": [
    "df.drop('Mexico', axis=0, inplace = True) # 'Mexico'행 삭제, 원본에 동기화\n",
    "df"
   ]
  },
  {
   "cell_type": "code",
   "execution_count": 173,
   "metadata": {},
   "outputs": [
    {
     "data": {
      "text/html": [
       "<div>\n",
       "<style scoped>\n",
       "    .dataframe tbody tr th:only-of-type {\n",
       "        vertical-align: middle;\n",
       "    }\n",
       "\n",
       "    .dataframe tbody tr th {\n",
       "        vertical-align: top;\n",
       "    }\n",
       "\n",
       "    .dataframe thead th {\n",
       "        text-align: right;\n",
       "    }\n",
       "</style>\n",
       "<table border=\"1\" class=\"dataframe\">\n",
       "  <thead>\n",
       "    <tr style=\"text-align: right;\">\n",
       "      <th></th>\n",
       "      <th>2007</th>\n",
       "      <th>2008</th>\n",
       "      <th>2009</th>\n",
       "      <th>2010</th>\n",
       "      <th>2011</th>\n",
       "    </tr>\n",
       "  </thead>\n",
       "  <tbody>\n",
       "    <tr>\n",
       "      <th>China</th>\n",
       "      <td>7.71</td>\n",
       "      <td>7.95</td>\n",
       "      <td>11.96</td>\n",
       "      <td>15.84</td>\n",
       "      <td>16.33</td>\n",
       "    </tr>\n",
       "    <tr>\n",
       "      <th>EU</th>\n",
       "      <td>19.02</td>\n",
       "      <td>17.71</td>\n",
       "      <td>15.00</td>\n",
       "      <td>16.70</td>\n",
       "      <td>17.48</td>\n",
       "    </tr>\n",
       "    <tr>\n",
       "      <th>US</th>\n",
       "      <td>10.47</td>\n",
       "      <td>8.45</td>\n",
       "      <td>5.58</td>\n",
       "      <td>7.60</td>\n",
       "      <td>8.40</td>\n",
       "    </tr>\n",
       "    <tr>\n",
       "      <th>Japan</th>\n",
       "      <td>10.87</td>\n",
       "      <td>10.83</td>\n",
       "      <td>7.55</td>\n",
       "      <td>9.09</td>\n",
       "      <td>7.88</td>\n",
       "    </tr>\n",
       "    <tr>\n",
       "      <th>Korea</th>\n",
       "      <td>4.04</td>\n",
       "      <td>3.78</td>\n",
       "      <td>3.45</td>\n",
       "      <td>4.20</td>\n",
       "      <td>4.62</td>\n",
       "    </tr>\n",
       "  </tbody>\n",
       "</table>\n",
       "</div>"
      ],
      "text/plain": [
       "        2007   2008   2009   2010   2011\n",
       "China   7.71   7.95  11.96  15.84  16.33\n",
       "EU     19.02  17.71  15.00  16.70  17.48\n",
       "US     10.47   8.45   5.58   7.60   8.40\n",
       "Japan  10.87  10.83   7.55   9.09   7.88\n",
       "Korea   4.04   3.78   3.45   4.20   4.62"
      ]
     },
     "execution_count": 173,
     "metadata": {},
     "output_type": "execute_result"
    }
   ],
   "source": [
    "# 위의 파일 다시 불러오기\n",
    "df = pd.read_csv(file, index_col = 0)\n",
    "df.head()"
   ]
  },
  {
   "cell_type": "code",
   "execution_count": 174,
   "metadata": {},
   "outputs": [
    {
     "name": "stdout",
     "output_type": "stream",
     "text": [
      "         2007   2008  2009  2010  2011\n",
      "US      10.47   8.45  5.58  7.60  8.40\n",
      "Japan   10.87  10.83  7.55  9.09  7.88\n",
      "Korea    4.04   3.78  3.45  4.20  4.62\n",
      "Mexico   2.01   2.05  1.50  2.25  2.54\n",
      "2007    4.04\n",
      "2008    3.78\n",
      "2009    3.45\n",
      "2010    4.20\n",
      "2011    4.62\n",
      "Name: Korea, dtype: float64\n",
      "        2007  2008  2009  2010  2011\n",
      "US     10.47  8.45  5.58   7.6  8.40\n",
      "Korea   4.04  3.78  3.45   4.2  4.62\n",
      "China    16.33\n",
      "Korea     4.62\n",
      "Name: 2011, dtype: float64\n",
      "4.62\n"
     ]
    }
   ],
   "source": [
    "print(df[2:6])\n",
    "print(df.loc['Korea'])\n",
    "print(df.loc[['US','Korea']])\n",
    "print(df['2011'][[0,4]])\n",
    "print(df.loc['Korea','2011'])"
   ]
  },
  {
   "attachments": {},
   "cell_type": "markdown",
   "metadata": {},
   "source": [
    "---"
   ]
  },
  {
   "cell_type": "code",
   "execution_count": 175,
   "metadata": {},
   "outputs": [
    {
     "name": "stdout",
     "output_type": "stream",
     "text": [
      "(3653, 3)\n"
     ]
    },
    {
     "data": {
      "text/html": [
       "<div>\n",
       "<style scoped>\n",
       "    .dataframe tbody tr th:only-of-type {\n",
       "        vertical-align: middle;\n",
       "    }\n",
       "\n",
       "    .dataframe tbody tr th {\n",
       "        vertical-align: top;\n",
       "    }\n",
       "\n",
       "    .dataframe thead th {\n",
       "        text-align: right;\n",
       "    }\n",
       "</style>\n",
       "<table border=\"1\" class=\"dataframe\">\n",
       "  <thead>\n",
       "    <tr style=\"text-align: right;\">\n",
       "      <th></th>\n",
       "      <th>평균기온</th>\n",
       "      <th>최대풍속</th>\n",
       "      <th>평균풍속</th>\n",
       "    </tr>\n",
       "    <tr>\n",
       "      <th>일시</th>\n",
       "      <th></th>\n",
       "      <th></th>\n",
       "      <th></th>\n",
       "    </tr>\n",
       "  </thead>\n",
       "  <tbody>\n",
       "    <tr>\n",
       "      <th>2010-08-01</th>\n",
       "      <td>28.7</td>\n",
       "      <td>8.3</td>\n",
       "      <td>3.4</td>\n",
       "    </tr>\n",
       "    <tr>\n",
       "      <th>2010-08-02</th>\n",
       "      <td>25.2</td>\n",
       "      <td>8.7</td>\n",
       "      <td>3.8</td>\n",
       "    </tr>\n",
       "    <tr>\n",
       "      <th>2010-08-03</th>\n",
       "      <td>22.1</td>\n",
       "      <td>6.3</td>\n",
       "      <td>2.9</td>\n",
       "    </tr>\n",
       "    <tr>\n",
       "      <th>2010-08-04</th>\n",
       "      <td>25.3</td>\n",
       "      <td>6.6</td>\n",
       "      <td>4.2</td>\n",
       "    </tr>\n",
       "    <tr>\n",
       "      <th>2010-08-05</th>\n",
       "      <td>27.2</td>\n",
       "      <td>9.1</td>\n",
       "      <td>5.6</td>\n",
       "    </tr>\n",
       "    <tr>\n",
       "      <th>...</th>\n",
       "      <td>...</td>\n",
       "      <td>...</td>\n",
       "      <td>...</td>\n",
       "    </tr>\n",
       "    <tr>\n",
       "      <th>2020-07-27</th>\n",
       "      <td>22.1</td>\n",
       "      <td>4.2</td>\n",
       "      <td>1.7</td>\n",
       "    </tr>\n",
       "    <tr>\n",
       "      <th>2020-07-28</th>\n",
       "      <td>21.9</td>\n",
       "      <td>4.5</td>\n",
       "      <td>1.6</td>\n",
       "    </tr>\n",
       "    <tr>\n",
       "      <th>2020-07-29</th>\n",
       "      <td>21.6</td>\n",
       "      <td>3.2</td>\n",
       "      <td>1.0</td>\n",
       "    </tr>\n",
       "    <tr>\n",
       "      <th>2020-07-30</th>\n",
       "      <td>22.9</td>\n",
       "      <td>9.7</td>\n",
       "      <td>2.4</td>\n",
       "    </tr>\n",
       "    <tr>\n",
       "      <th>2020-07-31</th>\n",
       "      <td>25.7</td>\n",
       "      <td>4.8</td>\n",
       "      <td>2.5</td>\n",
       "    </tr>\n",
       "  </tbody>\n",
       "</table>\n",
       "<p>3653 rows × 3 columns</p>\n",
       "</div>"
      ],
      "text/plain": [
       "            평균기온  최대풍속  평균풍속\n",
       "일시                          \n",
       "2010-08-01  28.7   8.3   3.4\n",
       "2010-08-02  25.2   8.7   3.8\n",
       "2010-08-03  22.1   6.3   2.9\n",
       "2010-08-04  25.3   6.6   4.2\n",
       "2010-08-05  27.2   9.1   5.6\n",
       "...          ...   ...   ...\n",
       "2020-07-27  22.1   4.2   1.7\n",
       "2020-07-28  21.9   4.5   1.6\n",
       "2020-07-29  21.6   3.2   1.0\n",
       "2020-07-30  22.9   9.7   2.4\n",
       "2020-07-31  25.7   4.8   2.5\n",
       "\n",
       "[3653 rows x 3 columns]"
      ]
     },
     "execution_count": 175,
     "metadata": {},
     "output_type": "execute_result"
    }
   ],
   "source": [
    "# 데이터프레임 Example3\n",
    "weather_file = path + 'weather.csv'\n",
    "weather = pd.read_csv(weather_file, index_col = 0, encoding = 'cp949')\n",
    "\n",
    "print(weather.shape) # (행,열)\n",
    "weather"
   ]
  },
  {
   "cell_type": "code",
   "execution_count": 176,
   "metadata": {},
   "outputs": [
    {
     "name": "stdout",
     "output_type": "stream",
     "text": [
      "평균------------------\n",
      "평균기온    12.942102\n",
      "최대풍속     7.911099\n",
      "평균풍속     3.936441\n",
      "dtype: float64\n",
      "표준편차---------------\n",
      "평균기온    8.538507\n",
      "최대풍속    3.029862\n",
      "평균풍속    1.888473\n",
      "dtype: float64\n"
     ]
    }
   ],
   "source": [
    "# weather.describe()\n",
    "print('평균------------------')\n",
    "print(weather.mean())\n",
    "print('표준편차---------------')\n",
    "print(weather.std())"
   ]
  },
  {
   "cell_type": "code",
   "execution_count": 177,
   "metadata": {},
   "outputs": [
    {
     "data": {
      "text/plain": [
       "평균기온    3653\n",
       "최대풍속    3649\n",
       "평균풍속    3647\n",
       "dtype: int64"
      ]
     },
     "execution_count": 177,
     "metadata": {},
     "output_type": "execute_result"
    }
   ],
   "source": [
    "weather.count()"
   ]
  },
  {
   "cell_type": "code",
   "execution_count": 178,
   "metadata": {},
   "outputs": [
    {
     "name": "stdout",
     "output_type": "stream",
     "text": [
      "            평균기온  최대풍속  평균풍속\n",
      "일시                          \n",
      "2012-02-11  -0.7   NaN   NaN\n",
      "2012-02-12   0.4   NaN   NaN\n",
      "2012-02-13   4.0   NaN   NaN\n",
      "2015-03-22  10.1  11.6   NaN\n",
      "2015-04-01   7.3  12.1   NaN\n",
      "2019-04-18  15.7  11.7   NaN\n",
      "평균기온    0\n",
      "최대풍속    4\n",
      "평균풍속    6\n",
      "dtype: int64\n"
     ]
    }
   ],
   "source": [
    "# 결측치 파악\n",
    "missing_data = weather[weather['평균풍속'].isna()]\n",
    "print(missing_data)\n",
    "\n",
    "# 결측치 총 개수\n",
    "print(weather.isna().sum())"
   ]
  },
  {
   "cell_type": "code",
   "execution_count": 179,
   "metadata": {},
   "outputs": [
    {
     "name": "stdout",
     "output_type": "stream",
     "text": [
      "평균기온    0\n",
      "최대풍속    0\n",
      "평균풍속    0\n",
      "dtype: int64\n"
     ]
    }
   ],
   "source": [
    "# 결측치 처리\n",
    "# 1. 삭제\n",
    "print(weather.dropna(axis=0, inplace = False).isna().sum()) # inplace = False 한 이유 : 뒤에 데이터를 계속 쓰려고"
   ]
  },
  {
   "cell_type": "code",
   "execution_count": 180,
   "metadata": {},
   "outputs": [
    {
     "name": "stdout",
     "output_type": "stream",
     "text": [
      "평균기온   -0.7\n",
      "최대풍속    0.0\n",
      "평균풍속    0.0\n",
      "Name: 2012-02-11, dtype: float64\n"
     ]
    }
   ],
   "source": [
    "# 2. 0으로 대체\n",
    "weather.fillna(0, inplace = True)\n",
    "print(weather.loc['2012-02-11'])"
   ]
  },
  {
   "cell_type": "code",
   "execution_count": 181,
   "metadata": {},
   "outputs": [
    {
     "name": "stdout",
     "output_type": "stream",
     "text": [
      "평균기온   -0.7\n",
      "최대풍속    0.0\n",
      "평균풍속    0.0\n",
      "Name: 2012-02-11, dtype: float64\n"
     ]
    }
   ],
   "source": [
    "# 3. 평균값으로 대체\n",
    "weather.fillna(weather['평균풍속'].mean(), inplace = True)\n",
    "print(weather.loc['2012-02-11'])"
   ]
  },
  {
   "attachments": {},
   "cell_type": "markdown",
   "metadata": {},
   "source": [
    "---"
   ]
  },
  {
   "cell_type": "code",
   "execution_count": 182,
   "metadata": {},
   "outputs": [
    {
     "name": "stdout",
     "output_type": "stream",
     "text": [
      "Int64Index([2018, 2018, 2018, 2018], dtype='int64')\n",
      "Int64Index([1, 1, 1, 1], dtype='int64')\n",
      "Int64Index([3, 3, 5, 6], dtype='int64')\n"
     ]
    }
   ],
   "source": [
    "# 시계열 데이터\n",
    "d_list = ['01/03/2018', '01-03-2018','2018-01-05', '2018/01/06']\n",
    "print(pd.DatetimeIndex(d_list).year)    # 년도 값을 출력함\n",
    "print(pd.DatetimeIndex(d_list).month)   # 월 값을 출력함\n",
    "print(pd.DatetimeIndex(d_list).day)     # 일 값을 출력함"
   ]
  },
  {
   "cell_type": "code",
   "execution_count": 183,
   "metadata": {},
   "outputs": [
    {
     "name": "stdout",
     "output_type": "stream",
     "text": [
      "Int64Index([11, 11], dtype='int64')\n",
      "Int64Index([12, 22], dtype='int64')\n"
     ]
    }
   ],
   "source": [
    "dt_list = ['01,03,2018 11:12:13', '01-03-2018 11:22:13']\n",
    "print(pd.DatetimeIndex(dt_list).hour)      # 시 값을 출력함\n",
    "print(pd.DatetimeIndex(dt_list).minute)    # 분 값을 출력함"
   ]
  },
  {
   "cell_type": "code",
   "execution_count": 184,
   "metadata": {},
   "outputs": [
    {
     "data": {
      "text/html": [
       "<div>\n",
       "<style scoped>\n",
       "    .dataframe tbody tr th:only-of-type {\n",
       "        vertical-align: middle;\n",
       "    }\n",
       "\n",
       "    .dataframe tbody tr th {\n",
       "        vertical-align: top;\n",
       "    }\n",
       "\n",
       "    .dataframe thead th {\n",
       "        text-align: right;\n",
       "    }\n",
       "</style>\n",
       "<table border=\"1\" class=\"dataframe\">\n",
       "  <thead>\n",
       "    <tr style=\"text-align: right;\">\n",
       "      <th></th>\n",
       "      <th>일시</th>\n",
       "      <th>평균기온</th>\n",
       "      <th>최대풍속</th>\n",
       "      <th>평균풍속</th>\n",
       "    </tr>\n",
       "  </thead>\n",
       "  <tbody>\n",
       "    <tr>\n",
       "      <th>0</th>\n",
       "      <td>2010</td>\n",
       "      <td>28.7</td>\n",
       "      <td>8.3</td>\n",
       "      <td>3.4</td>\n",
       "    </tr>\n",
       "    <tr>\n",
       "      <th>1</th>\n",
       "      <td>2010</td>\n",
       "      <td>25.2</td>\n",
       "      <td>8.7</td>\n",
       "      <td>3.8</td>\n",
       "    </tr>\n",
       "    <tr>\n",
       "      <th>2</th>\n",
       "      <td>2010</td>\n",
       "      <td>22.1</td>\n",
       "      <td>6.3</td>\n",
       "      <td>2.9</td>\n",
       "    </tr>\n",
       "    <tr>\n",
       "      <th>3</th>\n",
       "      <td>2010</td>\n",
       "      <td>25.3</td>\n",
       "      <td>6.6</td>\n",
       "      <td>4.2</td>\n",
       "    </tr>\n",
       "    <tr>\n",
       "      <th>4</th>\n",
       "      <td>2010</td>\n",
       "      <td>27.2</td>\n",
       "      <td>9.1</td>\n",
       "      <td>5.6</td>\n",
       "    </tr>\n",
       "    <tr>\n",
       "      <th>...</th>\n",
       "      <td>...</td>\n",
       "      <td>...</td>\n",
       "      <td>...</td>\n",
       "      <td>...</td>\n",
       "    </tr>\n",
       "    <tr>\n",
       "      <th>3648</th>\n",
       "      <td>2020</td>\n",
       "      <td>22.1</td>\n",
       "      <td>4.2</td>\n",
       "      <td>1.7</td>\n",
       "    </tr>\n",
       "    <tr>\n",
       "      <th>3649</th>\n",
       "      <td>2020</td>\n",
       "      <td>21.9</td>\n",
       "      <td>4.5</td>\n",
       "      <td>1.6</td>\n",
       "    </tr>\n",
       "    <tr>\n",
       "      <th>3650</th>\n",
       "      <td>2020</td>\n",
       "      <td>21.6</td>\n",
       "      <td>3.2</td>\n",
       "      <td>1.0</td>\n",
       "    </tr>\n",
       "    <tr>\n",
       "      <th>3651</th>\n",
       "      <td>2020</td>\n",
       "      <td>22.9</td>\n",
       "      <td>9.7</td>\n",
       "      <td>2.4</td>\n",
       "    </tr>\n",
       "    <tr>\n",
       "      <th>3652</th>\n",
       "      <td>2020</td>\n",
       "      <td>25.7</td>\n",
       "      <td>4.8</td>\n",
       "      <td>2.5</td>\n",
       "    </tr>\n",
       "  </tbody>\n",
       "</table>\n",
       "<p>3653 rows × 4 columns</p>\n",
       "</div>"
      ],
      "text/plain": [
       "        일시  평균기온  최대풍속  평균풍속\n",
       "0     2010  28.7   8.3   3.4\n",
       "1     2010  25.2   8.7   3.8\n",
       "2     2010  22.1   6.3   2.9\n",
       "3     2010  25.3   6.6   4.2\n",
       "4     2010  27.2   9.1   5.6\n",
       "...    ...   ...   ...   ...\n",
       "3648  2020  22.1   4.2   1.7\n",
       "3649  2020  21.9   4.5   1.6\n",
       "3650  2020  21.6   3.2   1.0\n",
       "3651  2020  22.9   9.7   2.4\n",
       "3652  2020  25.7   4.8   2.5\n",
       "\n",
       "[3653 rows x 4 columns]"
      ]
     },
     "execution_count": 184,
     "metadata": {},
     "output_type": "execute_result"
    }
   ],
   "source": [
    "weather = pd.read_csv(weather_file, encoding = 'cp949')\n",
    "weather['일시'] = pd.DatetimeIndex(weather['일시']).year\n",
    "weather"
   ]
  },
  {
   "cell_type": "code",
   "execution_count": 185,
   "metadata": {},
   "outputs": [
    {
     "name": "stdout",
     "output_type": "stream",
     "text": [
      "                일시       평균기온      최대풍속      평균풍속\n",
      "month                                            \n",
      "1      2015.081577  12.942102  7.911099  3.936441\n"
     ]
    }
   ],
   "source": [
    "weather['month'] = pd.DatetimeIndex(weather['일시']).month\n",
    "monthly_means = weather.groupby('month').mean()\n",
    "print(monthly_means)"
   ]
  },
  {
   "cell_type": "code",
   "execution_count": 186,
   "metadata": {},
   "outputs": [
    {
     "data": {
      "text/html": [
       "<div>\n",
       "<style scoped>\n",
       "    .dataframe tbody tr th:only-of-type {\n",
       "        vertical-align: middle;\n",
       "    }\n",
       "\n",
       "    .dataframe tbody tr th {\n",
       "        vertical-align: top;\n",
       "    }\n",
       "\n",
       "    .dataframe thead th {\n",
       "        text-align: right;\n",
       "    }\n",
       "</style>\n",
       "<table border=\"1\" class=\"dataframe\">\n",
       "  <thead>\n",
       "    <tr style=\"text-align: right;\">\n",
       "      <th></th>\n",
       "      <th>상품</th>\n",
       "      <th>재질</th>\n",
       "      <th>가격</th>\n",
       "    </tr>\n",
       "  </thead>\n",
       "  <tbody>\n",
       "    <tr>\n",
       "      <th>0</th>\n",
       "      <td>시계</td>\n",
       "      <td>금</td>\n",
       "      <td>500000</td>\n",
       "    </tr>\n",
       "    <tr>\n",
       "      <th>1</th>\n",
       "      <td>반지</td>\n",
       "      <td>은</td>\n",
       "      <td>20000</td>\n",
       "    </tr>\n",
       "    <tr>\n",
       "      <th>2</th>\n",
       "      <td>반지</td>\n",
       "      <td>백금</td>\n",
       "      <td>350000</td>\n",
       "    </tr>\n",
       "    <tr>\n",
       "      <th>3</th>\n",
       "      <td>목걸이</td>\n",
       "      <td>금</td>\n",
       "      <td>300000</td>\n",
       "    </tr>\n",
       "    <tr>\n",
       "      <th>4</th>\n",
       "      <td>팔찌</td>\n",
       "      <td>은</td>\n",
       "      <td>60000</td>\n",
       "    </tr>\n",
       "  </tbody>\n",
       "</table>\n",
       "</div>"
      ],
      "text/plain": [
       "    상품  재질      가격\n",
       "0   시계   금  500000\n",
       "1   반지   은   20000\n",
       "2   반지  백금  350000\n",
       "3  목걸이   금  300000\n",
       "4   팔찌   은   60000"
      ]
     },
     "execution_count": 186,
     "metadata": {},
     "output_type": "execute_result"
    }
   ],
   "source": [
    "# 데이터 구조를 변경하는 pivot()\n",
    "\n",
    "df = pd.DataFrame({'상품':['시계','반지','반지','목걸이','팔찌'],\n",
    "                   '재질':['금','은','백금','금','은'],\n",
    "                   '가격':[500000,20000,350000,300000,60000]})\n",
    "\n",
    "df"
   ]
  },
  {
   "cell_type": "code",
   "execution_count": 187,
   "metadata": {},
   "outputs": [
    {
     "data": {
      "text/html": [
       "<div>\n",
       "<style scoped>\n",
       "    .dataframe tbody tr th:only-of-type {\n",
       "        vertical-align: middle;\n",
       "    }\n",
       "\n",
       "    .dataframe tbody tr th {\n",
       "        vertical-align: top;\n",
       "    }\n",
       "\n",
       "    .dataframe thead th {\n",
       "        text-align: right;\n",
       "    }\n",
       "</style>\n",
       "<table border=\"1\" class=\"dataframe\">\n",
       "  <thead>\n",
       "    <tr style=\"text-align: right;\">\n",
       "      <th>재질</th>\n",
       "      <th>금</th>\n",
       "      <th>백금</th>\n",
       "      <th>은</th>\n",
       "    </tr>\n",
       "    <tr>\n",
       "      <th>상품</th>\n",
       "      <th></th>\n",
       "      <th></th>\n",
       "      <th></th>\n",
       "    </tr>\n",
       "  </thead>\n",
       "  <tbody>\n",
       "    <tr>\n",
       "      <th>목걸이</th>\n",
       "      <td>300000.0</td>\n",
       "      <td>0.0</td>\n",
       "      <td>0.0</td>\n",
       "    </tr>\n",
       "    <tr>\n",
       "      <th>반지</th>\n",
       "      <td>0.0</td>\n",
       "      <td>350000.0</td>\n",
       "      <td>20000.0</td>\n",
       "    </tr>\n",
       "    <tr>\n",
       "      <th>시계</th>\n",
       "      <td>500000.0</td>\n",
       "      <td>0.0</td>\n",
       "      <td>0.0</td>\n",
       "    </tr>\n",
       "    <tr>\n",
       "      <th>팔찌</th>\n",
       "      <td>0.0</td>\n",
       "      <td>0.0</td>\n",
       "      <td>60000.0</td>\n",
       "    </tr>\n",
       "  </tbody>\n",
       "</table>\n",
       "</div>"
      ],
      "text/plain": [
       "재질          금        백금        은\n",
       "상품                              \n",
       "목걸이  300000.0       0.0      0.0\n",
       "반지        0.0  350000.0  20000.0\n",
       "시계   500000.0       0.0      0.0\n",
       "팔찌        0.0       0.0  60000.0"
      ]
     },
     "execution_count": 187,
     "metadata": {},
     "output_type": "execute_result"
    }
   ],
   "source": [
    "new_df = df.pivot(index = '상품',columns='재질', values = '가격')\n",
    "new_df.fillna(value = 0) # pivot을 할 때 연속이 아닌 범주형인 값을 index로 놓는것이 편하다(연속형일 경우 테이블이 매우 커짐)"
   ]
  },
  {
   "cell_type": "code",
   "execution_count": 188,
   "metadata": {},
   "outputs": [],
   "source": [
    "# 두 개의 데이터프레임을 하나로 합치는 concat()\n",
    "df_1 = pd.DataFrame({'A' : ['a10', 'a11','a12'],\n",
    "                     'B' : ['b10', 'b12','b13'],\n",
    "                     'C' : ['c10', 'c11','c12']},\n",
    "                    index = ['가','나','다'])\n",
    "\n",
    "df_2 = pd.DataFrame({'B' : ['b23','b24','b25'],\n",
    "                     'C' : ['c23','c24','c25'],\n",
    "                     'D' : ['d23','d24','d25']},\n",
    "                    index = ['다','라','마'])"
   ]
  },
  {
   "cell_type": "code",
   "execution_count": 189,
   "metadata": {},
   "outputs": [
    {
     "name": "stdout",
     "output_type": "stream",
     "text": [
      "     A    B    C\n",
      "가  a10  b10  c10\n",
      "나  a11  b12  c11\n",
      "다  a12  b13  c12\n",
      "     B    C    D\n",
      "다  b23  c23  d23\n",
      "라  b24  c24  d24\n",
      "마  b25  c25  d25\n"
     ]
    }
   ],
   "source": [
    "print(df_1)\n",
    "print(df_2)"
   ]
  },
  {
   "cell_type": "code",
   "execution_count": 190,
   "metadata": {},
   "outputs": [
    {
     "name": "stdout",
     "output_type": "stream",
     "text": [
      "     A    B    C    D\n",
      "가  a10  b10  c10  NaN\n",
      "나  a11  b12  c11  NaN\n",
      "다  a12  b13  c12  NaN\n",
      "다  NaN  b23  c23  d23\n",
      "라  NaN  b24  c24  d24\n",
      "마  NaN  b25  c25  d25\n"
     ]
    }
   ],
   "source": [
    "df_3 = pd.concat([df_1,df_2])\n",
    "print(df_3)"
   ]
  },
  {
   "cell_type": "code",
   "execution_count": 191,
   "metadata": {},
   "outputs": [
    {
     "name": "stdout",
     "output_type": "stream",
     "text": [
      "     B    C\n",
      "가  b10  c10\n",
      "나  b12  c11\n",
      "다  b13  c12\n",
      "다  b23  c23\n",
      "라  b24  c24\n",
      "마  b25  c25\n"
     ]
    }
   ],
   "source": [
    "df_4 = pd.concat([df_1,df_2], join = 'inner')\n",
    "print(df_4)"
   ]
  },
  {
   "cell_type": "code",
   "execution_count": 192,
   "metadata": {},
   "outputs": [
    {
     "name": "stdout",
     "output_type": "stream",
     "text": [
      "left outer \n",
      "      A    B  C_x  C_y    D\n",
      "0  a10  b10  c10  NaN  NaN\n",
      "1  a11  b12  c11  NaN  NaN\n",
      "2  a12  b13  c12  NaN  NaN \n",
      "\n",
      "right outer \n",
      "      A    B  C_x  C_y    D\n",
      "0  NaN  b23  NaN  c23  d23\n",
      "1  NaN  b24  NaN  c24  d24\n",
      "2  NaN  b25  NaN  c25  d25 \n",
      "\n",
      "full outer \n",
      "      A    B  C_x  C_y    D\n",
      "0  a10  b10  c10  NaN  NaN\n",
      "1  a11  b12  c11  NaN  NaN\n",
      "2  a12  b13  c12  NaN  NaN\n",
      "3  NaN  b23  NaN  c23  d23\n",
      "4  NaN  b24  NaN  c24  d24\n",
      "5  NaN  b25  NaN  c25  d25 \n",
      "\n",
      "inner \n",
      " Empty DataFrame\n",
      "Columns: [A, B, C_x, C_y, D]\n",
      "Index: []\n"
     ]
    }
   ],
   "source": [
    "# concat()은 Pandas 함수로, 결합을 위하여 하나 이상의 데이터프레임을 인자로 받음\n",
    "# merge()는 데이터프레임의 메소드이며, 두 데이터프레임을 각 데이터에 존재하는 고유값(key)을 기준으로 병합할 때 사용한다.\n",
    "\n",
    "print('left outer \\n', df_1.merge(df_2, how = 'left', on = 'B'), '\\n')\n",
    "print('right outer \\n', df_1.merge(df_2, how='right', on='B'), '\\n')\n",
    "print('full outer \\n', df_1.merge(df_2, how='outer', on='B'), '\\n')\n",
    "print('inner \\n', df_1.merge(df_2, how='inner', on='B'))"
   ]
  },
  {
   "cell_type": "code",
   "execution_count": 193,
   "metadata": {},
   "outputs": [
    {
     "name": "stdout",
     "output_type": "stream",
     "text": [
      "     A    B  C_x  C_y    D\n",
      "0  a10  b10  c10  NaN  NaN\n",
      "1  a11  b12  c11  NaN  NaN\n",
      "2  a12  b13  c12  NaN  NaN\n",
      "3  NaN  b23  NaN  c23  d23\n",
      "4  NaN  b24  NaN  c24  d24\n",
      "5  NaN  b25  NaN  c25  d25\n"
     ]
    }
   ],
   "source": [
    "df_3 = df_1.merge(df_2, how = 'outer', on = 'B')\n",
    "print(df_3)"
   ]
  },
  {
   "cell_type": "code",
   "execution_count": 194,
   "metadata": {},
   "outputs": [
    {
     "name": "stdout",
     "output_type": "stream",
     "text": [
      "     A  B_x  C_x  B_y  C_y    D\n",
      "가  a10  b10  c10  NaN  NaN  NaN\n",
      "나  a11  b12  c11  NaN  NaN  NaN\n",
      "다  a12  b13  c12  b23  c23  d23\n",
      "라  NaN  NaN  NaN  b24  c24  d24\n",
      "마  NaN  NaN  NaN  b25  c25  d25\n"
     ]
    }
   ],
   "source": [
    "df_3 = df_1.merge(df_2, how = 'outer',\n",
    "                  left_index = True, right_index = True)\n",
    "print(df_3)"
   ]
  },
  {
   "cell_type": "code",
   "execution_count": 195,
   "metadata": {},
   "outputs": [
    {
     "data": {
      "text/html": [
       "<div>\n",
       "<style scoped>\n",
       "    .dataframe tbody tr th:only-of-type {\n",
       "        vertical-align: middle;\n",
       "    }\n",
       "\n",
       "    .dataframe tbody tr th {\n",
       "        vertical-align: top;\n",
       "    }\n",
       "\n",
       "    .dataframe thead th {\n",
       "        text-align: right;\n",
       "    }\n",
       "</style>\n",
       "<table border=\"1\" class=\"dataframe\">\n",
       "  <thead>\n",
       "    <tr style=\"text-align: right;\">\n",
       "      <th></th>\n",
       "      <th>number</th>\n",
       "      <th>height</th>\n",
       "      <th>weight</th>\n",
       "    </tr>\n",
       "  </thead>\n",
       "  <tbody>\n",
       "    <tr>\n",
       "      <th>0</th>\n",
       "      <td>32</td>\n",
       "      <td>179</td>\n",
       "      <td>81</td>\n",
       "    </tr>\n",
       "    <tr>\n",
       "      <th>1</th>\n",
       "      <td>1</td>\n",
       "      <td>181</td>\n",
       "      <td>46</td>\n",
       "    </tr>\n",
       "    <tr>\n",
       "      <th>2</th>\n",
       "      <td>23</td>\n",
       "      <td>154</td>\n",
       "      <td>67</td>\n",
       "    </tr>\n",
       "    <tr>\n",
       "      <th>3</th>\n",
       "      <td>23</td>\n",
       "      <td>165</td>\n",
       "      <td>56</td>\n",
       "    </tr>\n",
       "  </tbody>\n",
       "</table>\n",
       "</div>"
      ],
      "text/plain": [
       "   number  height  weight\n",
       "0      32     179      81\n",
       "1       1     181      46\n",
       "2      23     154      67\n",
       "3      23     165      56"
      ]
     },
     "execution_count": 195,
     "metadata": {},
     "output_type": "execute_result"
    }
   ],
   "source": [
    "df = pd.read_csv('C:/Users/admin/Desktop/빅데이터/2주차 _ 파이썬(전홍배교수)/data/data.csv')\n",
    "\n",
    "df.loc[3] = [23,165,56] # 행추가\n",
    "df\n"
   ]
  },
  {
   "cell_type": "code",
   "execution_count": 196,
   "metadata": {},
   "outputs": [],
   "source": [
    "df.to_csv('data2.csv') # 파일 저장"
   ]
  },
  {
   "cell_type": "code",
   "execution_count": 197,
   "metadata": {},
   "outputs": [],
   "source": [
    "# pip install --user pandas-profiling\n",
    "# pip install ipywidgets"
   ]
  },
  {
   "cell_type": "code",
   "execution_count": null,
   "metadata": {},
   "outputs": [],
   "source": [
    "import pandas as pd\n",
    "import pandas_profiling as pp\n",
    "import ipywidgets\n",
    "\n",
    "df = pd.read_csv('C:/Users/admin/Desktop/빅데이터/2주차 _ 파이썬(전홍배교수)/data/Heart.csv')\n",
    "df.tail(12)\n",
    "ppr = pp.ProfileReport(df)\n",
    "ppr.to_widgets()\n",
    "ppr.to_notebook_iframe()\n",
    "ppr.to_file(output_file='Heart.ppr.html')"
   ]
  },
  {
   "attachments": {},
   "cell_type": "markdown",
   "metadata": {},
   "source": [
    "[목차로 돌아가기](#목차)"
   ]
  },
  {
   "attachments": {},
   "cell_type": "markdown",
   "metadata": {},
   "source": [
    "# 4. 예외처리"
   ]
  },
  {
   "attachments": {},
   "cell_type": "markdown",
   "metadata": {},
   "source": [
    "- 문법오류(StntaxError)\n",
    "- 파일 없음 오류(FileNotFoundError)\n"
   ]
  },
  {
   "cell_type": "code",
   "execution_count": 199,
   "metadata": {},
   "outputs": [],
   "source": [
    "# try:\n",
    "#     에러가 의심가는 코드\n",
    "# except:\n",
    "#     에러 발생시 수행할 코드\n",
    "# else:\n",
    "#     에러가 발생하지 않았으면 수행할 코드\n",
    "# finally:\n",
    "#     에러가 발생했던 안했던 무조건 수행할 코드"
   ]
  },
  {
   "cell_type": "code",
   "execution_count": 200,
   "metadata": {},
   "outputs": [
    {
     "name": "stdout",
     "output_type": "stream",
     "text": [
      "[오류메시지] 파일이 존재하지 않습니다.\n"
     ]
    }
   ],
   "source": [
    "# 오류시 종료\n",
    "fname = input('[내용 확인하고 싶은 파일 이름을 입력하세요] >')\n",
    "\n",
    "while fname:  #fname이 제대로 입력되면 반복(오류시 종료)\n",
    "    try:\n",
    "        myfile = open(fname,'r')\n",
    "        print(myfile.read())\n",
    "        fname = input('> \\n[내용 확인하고 싶은 파일 이름을 입력하세요] >')\n",
    "    except FileNotFoundError:\n",
    "        print('[오류메시지] 파일이 존재하지 않습니다.')\n",
    "        fname=''\n",
    "    "
   ]
  },
  {
   "cell_type": "code",
   "execution_count": 201,
   "metadata": {},
   "outputs": [],
   "source": [
    "# 반복\n",
    "fname = input('[내용 확인하고 싶은 파일 이름을 입력하세요] > ')\n",
    "while fname: # fname이 제대로 입력되면 반복 (Null 이면 종료)\n",
    "    try:\n",
    "        myfile = open(fname,'r')\n",
    "    except FileNotFoundError: # 오류인 경우 다시 입력 요청\n",
    "        fname = input('[오류] 파일 이름을 다시 입력하세요: > ')\n",
    "    else:\n",
    "        print(myfile.read()) # 정상인 경우 출력하고 다시 반복\n",
    "        fname = input('> \\n[내용 확인하고 싶은 파일 이름을 입력하세요] > ')\n"
   ]
  },
  {
   "cell_type": "code",
   "execution_count": 202,
   "metadata": {},
   "outputs": [
    {
     "name": "stdout",
     "output_type": "stream",
     "text": [
      "[입력 오류]\n"
     ]
    }
   ],
   "source": [
    "# 날짜 오류1\n",
    "\n",
    "days = (31, 29, 31, 30, 31, 30, 31, 31, 30, 31, 30, 31)\n",
    "date=True\n",
    "\n",
    "while date: # date 값이 True인 경우 반복 (Null 이면 종료)\n",
    "    try:\n",
    "        date = input('날짜 <월 일>을 입력하세요: > ')\n",
    "        mm, dd = date.split()\n",
    "        mm, dd = int(mm), int(dd)\n",
    "        while mm<1 or mm>12 or dd<1 or dd>days[mm-1]: # 범위 확인\n",
    "            date = input('[월/일-오류] 다시 입력하세요: > ')\n",
    "            mm, dd = date.split()\n",
    "            mm, dd = int(mm), int(dd)\n",
    "\n",
    "    except : # 입력 오류시 오류 메시지 출력\n",
    "        print('[입력 오류]')\n",
    "    else: # 정상 입력시 월-일 출\n",
    "        print('%d월 %d일'%(mm, dd))\n",
    "        mm = False"
   ]
  },
  {
   "cell_type": "code",
   "execution_count": 203,
   "metadata": {},
   "outputs": [
    {
     "name": "stdout",
     "output_type": "stream",
     "text": [
      "[입력 오류] not enough values to unpack (expected 2, got 0)\n"
     ]
    }
   ],
   "source": [
    "# 날짜 오류2\n",
    "\n",
    "days = (31, 29, 31, 30, 31, 30, 31, 31, 30, 31, 30, 31)\n",
    "date=True\n",
    "while date: # date 값이 True인 경우 반복 (Null 이면 종료)\n",
    "    try:\n",
    "        date = input('날짜 <월 일>을 입력하세요: > ')\n",
    "        mm, dd = date.split()\n",
    "        mm, dd = int(mm), int(dd)\n",
    "        if mm < 1 or mm > 12 : # 범위 오류시 ValueError 발생\n",
    "            raise ValueError('월은 1에서 12 까지')\n",
    "        if dd < 1 or dd > days[mm-1]: # 범위 오류시 ValueError 발생\n",
    "            raise ValueError('일은 1에서 %d 까지'%days[mm-1])\n",
    "    \n",
    "    except ValueError as e: # 입력 값 오류시 오류 메시지 출력\n",
    "        print('[입력 오류]', e)\n",
    "    \n",
    "    else: # 정상 입력시 월-일 출력\n",
    "        print('%d월 %d일'%(mm, dd))\n",
    "        \n",
    "# except ValueError as e: # 어떤 오류가 날지 알 수 없는 상황에서, 그 오류e를 출력\n",
    "#     print('[입력 오류]', e)"
   ]
  },
  {
   "cell_type": "code",
   "execution_count": 204,
   "metadata": {},
   "outputs": [
    {
     "name": "stdout",
     "output_type": "stream",
     "text": [
      "['apple', 'banana', 'grape', 'watermelon']\n",
      "소수점은 사용할 수 없습니다.\n",
      "--------------------------\n",
      "소수점은 사용할 수 없습니다.\n",
      "--------------------------\n",
      "소수점은 사용할 수 없습니다.\n",
      "--------------------------\n",
      "소수점은 사용할 수 없습니다.\n",
      "--------------------------\n",
      "소수점은 사용할 수 없습니다.\n",
      "--------------------------\n",
      "소수점은 사용할 수 없습니다.\n",
      "--------------------------\n",
      "소수점은 사용할 수 없습니다.\n",
      "--------------------------\n",
      "소수점은 사용할 수 없습니다.\n",
      "--------------------------\n",
      "소수점은 사용할 수 없습니다.\n",
      "--------------------------\n",
      "소수점은 사용할 수 없습니다.\n",
      "--------------------------\n",
      "소수점은 사용할 수 없습니다.\n",
      "--------------------------\n",
      "소수점은 사용할 수 없습니다.\n",
      "--------------------------\n",
      "소수점은 사용할 수 없습니다.\n",
      "--------------------------\n",
      "소수점은 사용할 수 없습니다.\n",
      "--------------------------\n",
      "소수점은 사용할 수 없습니다.\n",
      "--------------------------\n",
      "소수점은 사용할 수 없습니다.\n",
      "--------------------------\n",
      "소수점은 사용할 수 없습니다.\n",
      "--------------------------\n",
      "소수점은 사용할 수 없습니다.\n",
      "--------------------------\n",
      "소수점은 사용할 수 없습니다.\n",
      "--------------------------\n",
      "소수점은 사용할 수 없습니다.\n",
      "--------------------------\n",
      "소수점은 사용할 수 없습니다.\n",
      "--------------------------\n",
      "소수점은 사용할 수 없습니다.\n",
      "--------------------------\n"
     ]
    }
   ],
   "source": [
    "# raise : 강제 오류 발생\n",
    "fruit = ['apple','banana','grape','watermelon']\n",
    "print(fruit)\n",
    "\n",
    "while True:\n",
    "    index = input('과일 색인 값 선택:')\n",
    "    \n",
    "    try:\n",
    "        index = int(index)\n",
    "        \n",
    "        \n",
    "        if index == 1:\n",
    "            raise NameError\n",
    "        \n",
    "        else:\n",
    "            print(fruit[index])\n",
    "            \n",
    "    except NameError:\n",
    "        print('바나나는 불가능합니다')\n",
    "        \n",
    "    \n",
    "    except IndexError:\n",
    "        print('해당 색인은 호출할 수 없습니다')\n",
    "        \n",
    "    \n",
    "    except ValueError:\n",
    "        print('소수점은 사용할 수 없습니다.')\n",
    "        \n",
    "    print('--------------------------')"
   ]
  },
  {
   "cell_type": "code",
   "execution_count": null,
   "metadata": {},
   "outputs": [],
   "source": [
    "# 사용자 정의 오류\n",
    "class NumberCheckError(Exception):\n",
    "    def __init__(self, msg = 'Error'):\n",
    "        self.msg = msg\n",
    "    def __str__(self):\n",
    "        return self.msg\n",
    "    \n",
    "try:\n",
    "    number = int(input('숫자를 입력하세요> '))\n",
    "    if number < 0:\n",
    "        raise NumberCheckError('0보다 작습니다.')\n",
    "    \n",
    "except NumberCheckError as e:\n",
    "    print(e)"
   ]
  },
  {
   "cell_type": "code",
   "execution_count": null,
   "metadata": {},
   "outputs": [],
   "source": [
    "# 사용자 정의 오류 발생\n",
    "class AdminError(Exception):\n",
    "    pass\n",
    "\n",
    "while True:\n",
    "    admin = input('관리자 계정 입력: ')\n",
    "    \n",
    "    try:\n",
    "        if admin != 'yundaehee':\n",
    "            raise AdminError()\n",
    "        \n",
    "        else:\n",
    "            print('관리자 계정입니다')\n",
    "        \n",
    "        \n",
    "    except AdminError:\n",
    "        print('관리자 계정이 아닙니다')\n",
    "    \n",
    "    print('-------------------')"
   ]
  },
  {
   "attachments": {},
   "cell_type": "markdown",
   "metadata": {},
   "source": [
    "[목차로 돌아가기](#목차)"
   ]
  },
  {
   "cell_type": "code",
   "execution_count": null,
   "metadata": {},
   "outputs": [],
   "source": [
    "import re\n",
    "with open('C:/Users/admin/Desktop/빅데이터/2주차 _ 파이썬(전홍배교수)/data/news.txt', mode='r') as file:\n",
    "    text = file.read()\n",
    "    \n",
    "    # 숫자만 뽑아, 리스트로 출력\n",
    "    ex1 = r'\\d'\n",
    "    print('ex1 : ', re.findall(ex1, text)) \n",
    "    \n",
    "    # 영어 단어만 뽑기\n",
    "    ex2 = r'([a-zA-Z]+)'\n",
    "    print('ex2 : ', re.findall(ex2, text))\n",
    "    \n",
    "    # '베트남'을 포함하는 단어들을 뽑기\n",
    "    ex3 = r'\\s베트남[가-힝]'\n",
    "    print('ex3 : ', re.findall(ex3, text)) "
   ]
  }
 ],
 "metadata": {
  "kernelspec": {
   "display_name": "base",
   "language": "python",
   "name": "python3"
  },
  "language_info": {
   "codemirror_mode": {
    "name": "ipython",
    "version": 3
   },
   "file_extension": ".py",
   "mimetype": "text/x-python",
   "name": "python",
   "nbconvert_exporter": "python",
   "pygments_lexer": "ipython3",
   "version": "3.9.12"
  },
  "orig_nbformat": 4
 },
 "nbformat": 4,
 "nbformat_minor": 2
}
