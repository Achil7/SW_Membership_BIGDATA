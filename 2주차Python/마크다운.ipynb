{
 "cells": [
  {
   "cell_type": "markdown",
   "id": "c03b7078",
   "metadata": {},
   "source": [
    "# 글꼴크기\n",
    "## 글꼴크기\n",
    "### 글꼴크기\n",
    "#### 글꼴크기\n",
    "##### 글꼴크기"
   ]
  },
  {
   "cell_type": "code",
   "execution_count": null,
   "id": "25c2526f-e237-4c29-9808-b990ee33dc36",
   "metadata": {},
   "outputs": [],
   "source": [
    "# 글꼴크기\n",
    "## 글꼴크기\n",
    "### 글꼴크기\n",
    "#### 글꼴크기\n",
    "##### 글꼴크기"
   ]
  },
  {
   "cell_type": "markdown",
   "id": "67d67966-4095-4354-bde5-139c5dbddd52",
   "metadata": {},
   "source": [
    "---"
   ]
  },
  {
   "cell_type": "markdown",
   "id": "c40cdf45",
   "metadata": {},
   "source": [
    "> 들여쓰기\n",
    ">> 들여쓰기\n",
    ">>> 들여쓰기\n",
    "\n",
    "- 블릿1\n",
    "    1. 내용1\n",
    "    2. 내용2\n",
    "        - 서브블릿1\n",
    "        - 서브블릿2\n",
    "            3. 내용3"
   ]
  },
  {
   "cell_type": "markdown",
   "id": "dc47f989",
   "metadata": {},
   "source": [
    "> 들여쓰기\n",
    ">> 들여쓰기\n",
    ">>> 들여쓰기\n",
    "\n",
    "- 블릿1\n",
    "    1. 내용1\n",
    "    2. 내용2\n",
    "        - 서브블릿1\n",
    "        - 서브블릿2\n",
    "            3. 내용3"
   ]
  },
  {
   "cell_type": "markdown",
   "id": "7dc2e06e-7d9b-469e-9a4f-62d9fc955e3f",
   "metadata": {},
   "source": [
    "---"
   ]
  },
  {
   "cell_type": "markdown",
   "id": "0b58a7a2",
   "metadata": {},
   "source": [
    "`강조` \\\n",
    "~취소선~"
   ]
  },
  {
   "cell_type": "code",
   "execution_count": null,
   "id": "7b907fa8-0cfb-4ae0-b205-97d9e9f95925",
   "metadata": {},
   "outputs": [],
   "source": [
    "`강조`\n",
    "~취소선~"
   ]
  },
  {
   "cell_type": "markdown",
   "id": "40f2e5d6-9ee9-46fd-9024-1c4b2bdbf8d3",
   "metadata": {},
   "source": [
    "---"
   ]
  },
  {
   "cell_type": "markdown",
   "id": "9c8db2f6",
   "metadata": {},
   "source": [
    "_이태릭_ \\\n",
    "*이태릭*\n",
    "\n",
    "__볼드__ \\\n",
    "**볼드**"
   ]
  },
  {
   "cell_type": "code",
   "execution_count": null,
   "id": "96112bd5-feba-43e0-888b-89a3ba52338b",
   "metadata": {},
   "outputs": [],
   "source": [
    "_이태릭_\n",
    "*이태릭*\n",
    "\n",
    "__볼드__\n",
    "**볼드**"
   ]
  },
  {
   "cell_type": "markdown",
   "id": "bbd4362c-6357-4093-a4f7-76da40abc9e8",
   "metadata": {},
   "source": [
    "---"
   ]
  },
  {
   "cell_type": "markdown",
   "id": "77d88f4b",
   "metadata": {},
   "source": [
    "|기본값|왼쪽 정렬|가운데 정렬|오른쪽 정렬|\n",
    "|---|:---|:---:|---:|\n",
    "|내용 1|내용 2|내용 3|내용 4|\n",
    "|내용 5|내용 6|내용 7|내용 8|\n",
    "|내용 9|내용 10|내용 11|내용 12|"
   ]
  },
  {
   "cell_type": "code",
   "execution_count": null,
   "id": "3dced5db-58ae-4806-b398-b002e382219a",
   "metadata": {},
   "outputs": [],
   "source": [
    "|기본값|왼쪽 정렬|가운데 정렬|오른쪽 정렬|\n",
    "|---|:---|:---:|---:|\n",
    "|내용 1|내용 2|내용 3|내용 4|\n",
    "|내용 5|내용 6|내용 7|내용 8|\n",
    "|내용 9|내용 10|내용 11|내용 12|"
   ]
  },
  {
   "cell_type": "markdown",
   "id": "1bedb921-3971-46af-8ddf-9c047d6ba5c7",
   "metadata": {},
   "source": [
    "---"
   ]
  },
  {
   "cell_type": "markdown",
   "id": "d3e11d4b",
   "metadata": {},
   "source": [
    "![구글](https://encrypted-tbn0.gstatic.com/images?q=tbn:ANd9GcQ-xHQ4qZR6qkvxQVRiYqLgAGQ5H70KoYMh2Q&usqp=CAU)"
   ]
  },
  {
   "cell_type": "code",
   "execution_count": null,
   "id": "7b97c203-1f65-469b-955c-ee9c0c5946bf",
   "metadata": {},
   "outputs": [],
   "source": [
    "![구글](https://encrypted-tbn0.gstatic.com/images?q=tbn:ANd9GcQ-xHQ4qZR6qkvxQVRiYqLgAGQ5H70KoYMh2Q&usqp=CAU)"
   ]
  },
  {
   "cell_type": "markdown",
   "id": "fe8bd29b-2fb4-4c4c-b54d-d9c19a89f3c2",
   "metadata": {},
   "source": [
    "---"
   ]
  },
  {
   "cell_type": "markdown",
   "id": "3796c0d7",
   "metadata": {},
   "source": [
    "[구글사과](https://encrypted-tbn0.gstatic.com/images?q=tbn:ANd9GcQ-xHQ4qZR6qkvxQVRiYqLgAGQ5H70KoYMh2Q&usqp=CAU)\\\n",
    "[네이버 하이퍼링크](https://www.naver.com/)"
   ]
  },
  {
   "cell_type": "code",
   "execution_count": null,
   "id": "17392706-671a-4f45-bfd3-02c18237001c",
   "metadata": {},
   "outputs": [],
   "source": [
    "[구글사과](https://encrypted-tbn0.gstatic.com/images?q=tbn:ANd9GcQ-xHQ4qZR6qkvxQVRiYqLgAGQ5H70KoYMh2Q&usqp=CAU)\n",
    "[네이버 하이퍼링크](https://www.naver.com/)"
   ]
  },
  {
   "cell_type": "markdown",
   "id": "bbd4acf2",
   "metadata": {},
   "source": [
    "---"
   ]
  },
  {
   "cell_type": "markdown",
   "id": "18d4f91f",
   "metadata": {},
   "source": [
    "## 목차만들기(내부링크)\n",
    "\n",
    "[보여질 이름(글꼴크기로 이동)](#글꼴크기)\n",
    "\n",
    "**규칙**\n",
    "1. 띄어쓰기는 ' - '로 구분한다. ex) #(여기로-이동)\n",
    "2. 영문자는 무조건 소문자만 인식한다\n",
    "3. 점, 반점, 특수문자, 괄호가 들어갔을 경우 무시한다\n",
    "4. 이름이 유일해야 한다. 만약 유일하지 않으면 가장 가까운 같은 이름으로 이동한다.\\\n",
    "   이 때 팁은 [보여질 이름 ] 와 같이 이름 뒤에 스페이스바로 한 칸 띄어주면 된다\n",
    "5. '#' 으로 제목처리된 곳으로만 갈 수 있다( # 또는 ### 처럼 개수는 상관 없으나, ### 로 갈 때도 목차명에 # 한개만 써야한다)"
   ]
  }
 ],
 "metadata": {
  "kernelspec": {
   "display_name": "Python 3 (ipykernel)",
   "language": "python",
   "name": "python3"
  },
  "language_info": {
   "codemirror_mode": {
    "name": "ipython",
    "version": 3
   },
   "file_extension": ".py",
   "mimetype": "text/x-python",
   "name": "python",
   "nbconvert_exporter": "python",
   "pygments_lexer": "ipython3",
   "version": "3.10.9"
  }
 },
 "nbformat": 4,
 "nbformat_minor": 5
}
