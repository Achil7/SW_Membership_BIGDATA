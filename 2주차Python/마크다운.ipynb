{
 "cells": [
  {
   "cell_type": "markdown",
   "id": "c03b7078",
   "metadata": {},
   "source": [
    "# 글꼴크기\n",
    "## 글꼴크기\n",
    "### 글꼴크기\n",
    "#### 글꼴크기\n",
    "##### 글꼴크기"
   ]
  },
  {
   "cell_type": "markdown",
   "id": "c40cdf45",
   "metadata": {},
   "source": [
    "> 들여쓰기\n",
    ">> 들여쓰기\n",
    ">>> 들여쓰기\n",
    "\n",
    "- 블릿1\n",
    "    1. 내용1\n",
    "    2. 내용2\n",
    "        - 서브블릿1\n",
    "        - 서브블릿2\n",
    "            3. 내용3"
   ]
  },
  {
   "cell_type": "markdown",
   "id": "3a05ee3a",
   "metadata": {},
   "source": [
    "----------\n",
    "구분선"
   ]
  },
  {
   "cell_type": "markdown",
   "id": "0b58a7a2",
   "metadata": {},
   "source": [
    "`강조` \\\n",
    "~취소선~"
   ]
  },
  {
   "cell_type": "markdown",
   "id": "9c8db2f6",
   "metadata": {},
   "source": [
    "_이태릭_ \\\n",
    "*이태릭*\n",
    "\n",
    "__볼드__ \\\n",
    "**볼드**\n",
    "\n",
    "___이태릭볼드___ \\\n",
    "***볼드***"
   ]
  },
  {
   "cell_type": "markdown",
   "id": "77d88f4b",
   "metadata": {},
   "source": [
    "|기본값|왼쪽 정렬|가운데 정렬|오른쪽 정렬|\n",
    "|---|:---|:---:|---:|\n",
    "|내용 1|내용 2|내용 3|내용 4|\n",
    "|내용 5|내용 6|내용 7|내용 8|\n",
    "|내용 9|내용 10|내용 11|내용 12|"
   ]
  },
  {
   "cell_type": "markdown",
   "id": "d3e11d4b",
   "metadata": {},
   "source": [
    "![구글](https://encrypted-tbn0.gstatic.com/images?q=tbn:ANd9GcQ-xHQ4qZR6qkvxQVRiYqLgAGQ5H70KoYMh2Q&usqp=CAU)"
   ]
  },
  {
   "cell_type": "markdown",
   "id": "9061ca21",
   "metadata": {},
   "source": [
    "[구글사과](https://encrypted-tbn0.gstatic.com/images?q=tbn:ANd9GcQ-xHQ4qZR6qkvxQVRiYqLgAGQ5H70KoYMh2Q&usqp=CAU)"
   ]
  },
  {
   "cell_type": "markdown",
   "id": "3796c0d7",
   "metadata": {},
   "source": [
    "[네이버 하이퍼링크](https://www.naver.com/)"
   ]
  }
 ],
 "metadata": {
  "kernelspec": {
   "display_name": "Python 3 (ipykernel)",
   "language": "python",
   "name": "python3"
  },
  "language_info": {
   "codemirror_mode": {
    "name": "ipython",
    "version": 3
   },
   "file_extension": ".py",
   "mimetype": "text/x-python",
   "name": "python",
   "nbconvert_exporter": "python",
   "pygments_lexer": "ipython3",
   "version": "3.10.9"
  }
 },
 "nbformat": 4,
 "nbformat_minor": 5
}
