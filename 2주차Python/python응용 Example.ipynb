{
 "cells": [
  {
   "cell_type": "code",
   "execution_count": 41,
   "metadata": {},
   "outputs": [],
   "source": [
    "# Python 응용 Example"
   ]
  },
  {
   "attachments": {},
   "cell_type": "markdown",
   "metadata": {},
   "source": [
    "### 목차\n",
    "\n",
    "[1. Class ](#Class-Example)\\\n",
    "[2. Numpy ](#Numpy-Example)\\\n",
    "[3. Pandas ](#Pandas-Example)\\\n",
    "[4. 예외처리 ](#예외처리)"
   ]
  },
  {
   "attachments": {},
   "cell_type": "markdown",
   "metadata": {},
   "source": [
    "# Class Example"
   ]
  },
  {
   "cell_type": "code",
   "execution_count": 42,
   "metadata": {},
   "outputs": [],
   "source": [
    "# Q1. 다음과 같은 기능을 가지는 클래스를 정의하고 인스턴스를 생성하라\n",
    "# 1. 이름(name)과 나이(age)를 속성으로 가지는 Dog클래스를 정의\n",
    "# 2. 이름으로 'Mango', 나이로 3의 값을 가지는 my_dog 인스턴스를 생성\n",
    "# 3. my_dog의 이름과 나이를 다음과 같이 출력하라\n",
    "\n",
    "# 결과\n",
    "# my_dog의 이름은 Mango이고, 나이는 3살 입니다."
   ]
  },
  {
   "cell_type": "code",
   "execution_count": 43,
   "metadata": {},
   "outputs": [
    {
     "name": "stdout",
     "output_type": "stream",
     "text": [
      "<class '__main__.Dog'>\n",
      "my_dog의 이름은 Mango이고, 나이는 3살 입니다.\n"
     ]
    }
   ],
   "source": [
    "class Dog:\n",
    "    def __init__(self, name, age):\n",
    "        self.name = name\n",
    "        self.age = age\n",
    "\n",
    "my_dog = Dog('Mango',3)\n",
    "print(type(my_dog))\n",
    "print(f'my_dog의 이름은 {my_dog.name}이고, 나이는 {my_dog.age}살 입니다.')"
   ]
  },
  {
   "cell_type": "code",
   "execution_count": 44,
   "metadata": {},
   "outputs": [],
   "source": [
    "# Q2.\n",
    "# 문제에서 정의한 Dog 클래스에 대하여 문자 열화 메소드 __str__()를 구현하여\n",
    "# print(my_dog)의 출력이 다음과 같이 나타나도록 하여라.\n",
    "\n",
    "# 결과\n",
    "# 이름은 Mango이고, 나이는 3살 입니다."
   ]
  },
  {
   "cell_type": "code",
   "execution_count": 45,
   "metadata": {},
   "outputs": [
    {
     "name": "stdout",
     "output_type": "stream",
     "text": [
      "my_dog의 이름은 Mango이고, 나이는 3살 입니다.\n"
     ]
    }
   ],
   "source": [
    "class Dog:\n",
    "    def __init__(self, name, age):\n",
    "        self.name = name\n",
    "        self.age = age\n",
    "    def __str__(self):\n",
    "        return f'my_dog의 이름은 {my_dog.name}이고, 나이는 {my_dog.age}살 입니다.'\n",
    "\n",
    "my_dog = Dog('Mango',3)\n",
    "print(my_dog)"
   ]
  },
  {
   "cell_type": "code",
   "execution_count": 46,
   "metadata": {},
   "outputs": [
    {
     "name": "stdout",
     "output_type": "stream",
     "text": [
      "3\n"
     ]
    }
   ],
   "source": [
    "# Q3. 상속\n",
    "# UpgradeCalculator\n",
    "# 다음은 Calculator 클래스이다.\n",
    "\n",
    "class Calculator:\n",
    "    def __init__(self):\n",
    "        self.value = 0\n",
    "        \n",
    "    def add(self, val):\n",
    "        self.value += val\n",
    "        \n",
    "# 위 클래스를 상속하는 UpgradeCalculator를 만들고 값을 뺄 수 있는 minus 메소드를 추가하시오.\n",
    "\n",
    "class UpgradeCalculator(Calculator):\n",
    "    def minus(self, val):\n",
    "        self.value -= val\n",
    "        \n",
    "cal = UpgradeCalculator()\n",
    "cal.add(10)\n",
    "cal.minus(7)\n",
    "\n",
    "print(cal.value) # 10에서 7을 뺀 3을 출력"
   ]
  },
  {
   "cell_type": "code",
   "execution_count": 47,
   "metadata": {},
   "outputs": [
    {
     "name": "stdout",
     "output_type": "stream",
     "text": [
      "100\n"
     ]
    }
   ],
   "source": [
    "# Q4. 상속조건\n",
    "# MaxLimitCalculator\n",
    "# 객체변수 value가 100이상의 값은 가질 수 없도록 제한하는 클래스이다.\n",
    "\n",
    "# 실행 결과\n",
    "'''\n",
    "\n",
    "cal = MaxLimitCalculator()\n",
    "cal.add(50) # 50 더하기\n",
    "cal.add(60) # 60 더하기\n",
    "\n",
    "print(cal.value) # 100 출력\n",
    "\n",
    "'''\n",
    "\n",
    "# 조건 : Calculator 클래스를 상속해서 만들기\n",
    "\n",
    "class Calculator:\n",
    "    def __init__(self):\n",
    "        self.value = 0\n",
    "        \n",
    "    def add(self, val):\n",
    "        self.value += val\n",
    "        \n",
    "class MaxLimitCalculator(Calculator):\n",
    "        def add(self, val):\n",
    "            super().add(val)\n",
    "            if self.value >= 100:\n",
    "                self.value = 100\n",
    "        \n",
    "cal = MaxLimitCalculator()\n",
    "cal.add(50)\n",
    "cal.add(60)\n",
    "\n",
    "print(cal.value)"
   ]
  },
  {
   "cell_type": "code",
   "execution_count": 48,
   "metadata": {},
   "outputs": [
    {
     "name": "stdout",
     "output_type": "stream",
     "text": [
      "15\n",
      "3.0\n",
      "40\n",
      "8.0\n"
     ]
    }
   ],
   "source": [
    "# Q5. class 리스트 값 입력\n",
    "# 다음과 같은 동작하는 클래스를 작성\n",
    "\n",
    "# 결과\n",
    "'''\n",
    "\n",
    "cal1 = Calculator([1,2,3,4,5])\n",
    "print(cal1.sum()) # 15\n",
    "print(cal1.avg()) # 3.0\n",
    "\n",
    "cal2 = Calculator([6,7,8,9,10])\n",
    "print(cal2.sum()) # 40\n",
    "print(cal2.avg()) # 8.0\n",
    "\n",
    "\n",
    "'''\n",
    "\n",
    "class Calculator:\n",
    "    def __init__(self, lst):\n",
    "        self.sum1 = 0\n",
    "        self.avg1 = 0\n",
    "        self.lst = lst\n",
    "        \n",
    "    def sum(self):\n",
    "        for i in self.lst:\n",
    "            self.sum1 += i\n",
    "        return self.sum1\n",
    "    \n",
    "    def avg(self):\n",
    "        self.avg1 = sum(self.lst)/len(self.lst)\n",
    "        return self.avg1\n",
    "        \n",
    "        \n",
    "\n",
    "cal1 = Calculator([1,2,3,4,5])\n",
    "print(cal1.sum())\n",
    "print(cal1.avg())\n",
    "\n",
    "cal2 = Calculator([6,7,8,9,10])\n",
    "print(cal2.sum())\n",
    "print(cal2.avg())"
   ]
  },
  {
   "attachments": {},
   "cell_type": "markdown",
   "metadata": {},
   "source": [
    "[목차로 돌아가기](#목차)"
   ]
  },
  {
   "attachments": {},
   "cell_type": "markdown",
   "metadata": {},
   "source": [
    "# Numpy Example"
   ]
  },
  {
   "cell_type": "code",
   "execution_count": 49,
   "metadata": {},
   "outputs": [
    {
     "name": "stdout",
     "output_type": "stream",
     "text": [
      "[[15 16 17]\n",
      " [18 19 20]\n",
      " [21 22 23]]\n"
     ]
    }
   ],
   "source": [
    "# Q1.\n",
    "# 숫자 15에서 23까지 배열을 만들고 이를 3*3 행렬로 변환하여 출력\n",
    "import numpy as np\n",
    "q1 = np.arange(15,24).reshape(3,3)\n",
    "print(q1)"
   ]
  },
  {
   "cell_type": "code",
   "execution_count": 50,
   "metadata": {},
   "outputs": [
    {
     "name": "stdout",
     "output_type": "stream",
     "text": [
      "[1 2 3 4]\n",
      "[5 6 7 8]\n",
      "[False False False False]\n"
     ]
    }
   ],
   "source": [
    "# Q2.\n",
    "# 다음의 두 array를 만드시오\n",
    "# [1 2 3 4]\n",
    "# [5 6 7 8]\n",
    "q2_1 = np.arange(1,5)\n",
    "print(q2_1)\n",
    "\n",
    "q2_2 = np.arange(5,9)\n",
    "print(q2_2)\n",
    "\n",
    "\n",
    "# 위의 두 array를 이용해서 아래와 같은 값이 나오도록 하라\n",
    "# [False False False False]\n",
    "\n",
    "print(np.array(q2_1 == q2_2))"
   ]
  },
  {
   "cell_type": "code",
   "execution_count": 51,
   "metadata": {},
   "outputs": [
    {
     "name": "stdout",
     "output_type": "stream",
     "text": [
      "중간고사 평균 : 53.333333333333336\n",
      "중간고사 표준편차 : 35.19785346990479 \n",
      "철수의 최종 점수는 58.400000000000006\n"
     ]
    }
   ],
   "source": [
    "# Q3.\n",
    "# 아래와 같이 3학생의 중간고사, 기말고사 과제의 점수가 있다.\n",
    "\n",
    "# 이름 = (철수, 영희, 민재)\n",
    "# 중간고사 = (15,100,45)\n",
    "# 기말고사 = (78,25,90)\n",
    "# 과제 = (81,45,99)\n",
    "\n",
    "name = np.array(['철수','영희','민재'])\n",
    "mid_test = np.array([15,100,45])\n",
    "fin_test = np.array([78,25,90])\n",
    "hw = np.array([81,45,99])\n",
    "\n",
    "\n",
    "score = np.array(mid_test*0.4 + fin_test*0.4 + hw*0.2 + 5)\n",
    "print(f'''중간고사 평균 : {mid_test.mean()}\n",
    "중간고사 표준편차 : {mid_test.std()} ''')\n",
    "\n",
    "print(f'{name[0]}의 최종 점수는 {score[0]}')"
   ]
  },
  {
   "cell_type": "code",
   "execution_count": 52,
   "metadata": {},
   "outputs": [
    {
     "name": "stdout",
     "output_type": "stream",
     "text": [
      "[ 1  2  3  4  5  6  7  8  9 10]\n",
      "[10  9  8  7  6  5  4  3  2  1]\n",
      "[[10  9  8  7  6]\n",
      " [ 5  4  3  2  1]]\n",
      "[[10  9]\n",
      " [ 8  7]\n",
      " [ 6  5]\n",
      " [ 4  3]\n",
      " [ 2  1]]\n"
     ]
    }
   ],
   "source": [
    "# Q4.\n",
    "# 1 에서 10 까지의 정수 값을 가지는 크기가 10인 1차원 배열 a를\n",
    "# arrange() 함수 사용하여 출력\n",
    "\n",
    "# 결과\n",
    "# a = [1 2 3 4 5 6 7 8 9 10]\n",
    "import numpy as np\n",
    "a = np.arange(1,11)\n",
    "print(a)\n",
    "\n",
    "# 역순 출력\n",
    "b = a[::-1]\n",
    "print(b)\n",
    "\n",
    "# b에 reshape를 사용하여 (2,5) 행렬로 변경하라\n",
    "c = b.reshape(2,5)\n",
    "print(c)\n",
    "\n",
    "# c에 reshape를 사용하여 (5,2) 행렬로 변경하라\n",
    "d = c.reshape(5,2)\n",
    "print(d)"
   ]
  },
  {
   "cell_type": "code",
   "execution_count": 53,
   "metadata": {},
   "outputs": [
    {
     "name": "stdout",
     "output_type": "stream",
     "text": [
      "[[ 1  2  3  4]\n",
      " [ 5  6  7  8]\n",
      " [ 9 10 11 12]\n",
      " [13 14 15 16]]\n"
     ]
    }
   ],
   "source": [
    "# Q5.\n",
    "# 1에서 16까지의 정수값을 가지는 4x4 크기의 배열을 만들어서 다음과 같이 출력\n",
    "# 이때 arange와 reshape을 사용하라\n",
    "q5 = np.arange(1,17).reshape(4,4)\n",
    "print(q5)"
   ]
  },
  {
   "cell_type": "code",
   "execution_count": 54,
   "metadata": {},
   "outputs": [
    {
     "name": "stdout",
     "output_type": "stream",
     "text": [
      "[0.36573574 0.37229872 0.62101451 0.63668746 0.69075256 0.1214648\n",
      " 0.89985176 0.16400246 0.94166697 0.74501501]\n",
      " 최대값 : 0.9416669708107521\n",
      "최소값 : 0.12146480182847064\n",
      "평균값 : 0.5558490000432524\n"
     ]
    }
   ],
   "source": [
    "# Q6.\n",
    "# random.random을 사용해서 10개의 난수값을 생성하여 다음과 같이 출력하라\n",
    "# 그리고 이 수들 중 최댓값, 최소값, 평균값을 각각 출력하라\n",
    "import random\n",
    "q6 = np.random.random(10)\n",
    "print(q6)\n",
    "print(f''' 최대값 : {q6.max()}\n",
    "최소값 : {q6.min()}\n",
    "평균값 : {q6.mean()}''')"
   ]
  },
  {
   "cell_type": "code",
   "execution_count": 55,
   "metadata": {},
   "outputs": [
    {
     "data": {
      "text/plain": [
       "'\\n실행 결과\\n\\nn을 입력하시오 : 5\\na 행렬\\n[[1 1 1 1 1]\\n [1 1 1 1 1]\\n [1 1 1 1 1]\\n [1 1 1 1 1]\\n [1 1 1 1 1]]\\nb 행렬\\n[[1 1 1 1 1]\\n [1 0 0 0 1]\\n [1 0 0 0 1]\\n [1 0 0 0 1]\\n [1 1 1 1 1]]\\n\\n'"
      ]
     },
     "execution_count": 55,
     "metadata": {},
     "output_type": "execute_result"
    }
   ],
   "source": [
    "# Q7. array 슬라이싱\n",
    "# 사용자로부터 2이상의 수 n을 입력으로 받아서 모든 원소의 값을 1로 가지는 (n, n) shape 행렬 a를 만드시오\n",
    "# 그리고 아래 그림과 같이 이 행렬 a의 경계 값을 제외한 내부의 값을 모두 0으로 가지는 행렬 b를 만드시오\n",
    "\n",
    "# HINT\n",
    "# p.ones((n, n), dtype='int32')로 모든 원소를 1로 가지는 행렬을 생성한 후 [1:-1, 1:-1] 인덱스를 사용하시오).\n",
    "\n",
    "'''\n",
    "실행 결과\n",
    "\n",
    "n을 입력하시오 : 5\n",
    "a 행렬\n",
    "[[1 1 1 1 1]\n",
    " [1 1 1 1 1]\n",
    " [1 1 1 1 1]\n",
    " [1 1 1 1 1]\n",
    " [1 1 1 1 1]]\n",
    "b 행렬\n",
    "[[1 1 1 1 1]\n",
    " [1 0 0 0 1]\n",
    " [1 0 0 0 1]\n",
    " [1 0 0 0 1]\n",
    " [1 1 1 1 1]]\n",
    "\n",
    "'''"
   ]
  },
  {
   "cell_type": "code",
   "execution_count": 56,
   "metadata": {},
   "outputs": [
    {
     "name": "stdout",
     "output_type": "stream",
     "text": [
      "a의 행렬 \n",
      " [[1 1 1 1 1]\n",
      " [1 1 1 1 1]\n",
      " [1 1 1 1 1]\n",
      " [1 1 1 1 1]\n",
      " [1 1 1 1 1]]\n",
      "b의 행렬 \n",
      " [[1 1 1 1 1]\n",
      " [1 0 0 0 1]\n",
      " [1 0 0 0 1]\n",
      " [1 0 0 0 1]\n",
      " [1 1 1 1 1]]\n"
     ]
    }
   ],
   "source": [
    "q7 = int(input('2이상의 n을 입력하시오 :'))\n",
    "a = np.ones((q7,q7), dtype='int32')\n",
    "print('a의 행렬','\\n',a)\n",
    "\n",
    "# array copy 동기화\n",
    "b = a\n",
    "b[1:-1, 1:-1] = 0\n",
    "print('b의 행렬','\\n',b)"
   ]
  },
  {
   "cell_type": "code",
   "execution_count": 57,
   "metadata": {},
   "outputs": [
    {
     "name": "stdout",
     "output_type": "stream",
     "text": [
      "[ True False  True False False False]\n"
     ]
    }
   ],
   "source": [
    "# Q8.\n",
    "# 다음과 같은 두 배열 a와 b가 있을 경우 a배열의 원소내에 b 배열의 원소가 있는지 없는지\n",
    "# 판단하여 출력하는 프로그램을 작성하시오.\n",
    "# 이 때 a배열 내의 원소가 b에 있을 경우는 True, 없을경우는 False를 출력\n",
    "\n",
    "a = np.array([0,10,20,40,60,80])\n",
    "b = np.array([0,20])\n",
    "\n",
    "t = np.full(a.shape, False)\n",
    "ind = 0\n",
    "for x in a:\n",
    "    if x in b:\n",
    "        t[ind] = True\n",
    "    ind += 1\n",
    "    \n",
    "print(t)"
   ]
  },
  {
   "cell_type": "code",
   "execution_count": 58,
   "metadata": {},
   "outputs": [
    {
     "name": "stdout",
     "output_type": "stream",
     "text": [
      "배열 a : \n",
      " [[0 0 0 0 0]\n",
      " [0 1 1 1 0]\n",
      " [0 1 2 1 0]\n",
      " [0 1 1 1 0]\n",
      " [0 0 0 0 0]]\n"
     ]
    }
   ],
   "source": [
    "# Q9. array 슬라이싱\n",
    "# 다음과 같은 5x5 크기의 2차원 배열 a가 있다. 이 배열을 슬라이싱하여 다음과 같은 배열 b, c, d, e를 완성하여라.\n",
    "'''\n",
    "배열 a :\n",
    "[[0 0 0 0 0]\n",
    " [0 1 1 1 0]\n",
    " [0 1 2 1 0]\n",
    " [0 1 1 1 0]\n",
    " [0 0 0 0 0]]\n",
    "\n",
    "''' \n",
    "\n",
    "a = np.zeros((5,5), dtype='int32')\n",
    "b = a\n",
    "b[1:-1, 1:-1] = 1\n",
    "c = b\n",
    "c[2,2] = 2\n",
    "print('배열 a :','\\n',a)"
   ]
  },
  {
   "cell_type": "code",
   "execution_count": 59,
   "metadata": {},
   "outputs": [
    {
     "name": "stdout",
     "output_type": "stream",
     "text": [
      "배열 b : \n",
      " [[1 1 1]\n",
      " [1 2 1]\n",
      " [1 1 1]]\n"
     ]
    }
   ],
   "source": [
    "'''\n",
    "1) 배열 b :\n",
    "실행 결과\n",
    "\n",
    "[[1 1 1]\n",
    " [1 2 1]\n",
    " [1 1 1]]\n",
    "'''\n",
    "\n",
    "b = a[1:4,1:4]\n",
    "print('배열 b :','\\n',b)"
   ]
  },
  {
   "cell_type": "code",
   "execution_count": 60,
   "metadata": {},
   "outputs": [
    {
     "name": "stdout",
     "output_type": "stream",
     "text": [
      "배열 c : \n",
      " [[0 0 0]\n",
      " [0 1 1]\n",
      " [0 1 2]]\n"
     ]
    }
   ],
   "source": [
    "'''\n",
    "2) 배열 c :\n",
    "실행 결과\n",
    "\n",
    "[[0 0 0]\n",
    " [0 1 1]\n",
    " [0 1 2]]\n",
    "'''\n",
    "\n",
    "c = a[0:3,0:3]\n",
    "print('배열 c :','\\n',c)"
   ]
  },
  {
   "cell_type": "code",
   "execution_count": 61,
   "metadata": {},
   "outputs": [
    {
     "name": "stdout",
     "output_type": "stream",
     "text": [
      "배열 d : \n",
      " [[0 0 0]\n",
      " [1 1 1]\n",
      " [1 2 1]]\n"
     ]
    }
   ],
   "source": [
    "'''\n",
    "3) 배열 d :\n",
    "실행 결과\n",
    "\n",
    "[[0 0 0]\n",
    " [1 1 1]\n",
    " [1 2 1]]\n",
    "'''\n",
    "\n",
    "d = a[0:3,1:4]\n",
    "print('배열 d :','\\n',d)"
   ]
  },
  {
   "cell_type": "code",
   "execution_count": 62,
   "metadata": {},
   "outputs": [
    {
     "name": "stdout",
     "output_type": "stream",
     "text": [
      "배열 e : \n",
      " [[1 1 0]\n",
      " [2 1 0]\n",
      " [1 1 0]]\n"
     ]
    }
   ],
   "source": [
    "'''\n",
    "4) 배열 e :\n",
    "실행 결과\n",
    "\n",
    "[[1 1 0]\n",
    " [2 1 0]\n",
    " [1 1 0]]\n",
    "'''\n",
    "\n",
    "e = a[1:4,2:5]\n",
    "print('배열 e :','\\n',e)"
   ]
  },
  {
   "cell_type": "code",
   "execution_count": 63,
   "metadata": {},
   "outputs": [
    {
     "name": "stdout",
     "output_type": "stream",
     "text": [
      "배열 f : \n",
      " [0 1 2 1 0]\n"
     ]
    }
   ],
   "source": [
    "'''\n",
    "5) 배열 f :\n",
    "실행 결과\n",
    "\n",
    "[0 1 2 1 0]\n",
    "'''\n",
    "\n",
    "f = a[2,:]\n",
    "print('배열 f :','\\n',f)"
   ]
  },
  {
   "attachments": {},
   "cell_type": "markdown",
   "metadata": {},
   "source": [
    "[목차로 돌아가기](#목차)"
   ]
  },
  {
   "attachments": {},
   "cell_type": "markdown",
   "metadata": {},
   "source": [
    "# Pandas Example"
   ]
  },
  {
   "cell_type": "code",
   "execution_count": null,
   "metadata": {},
   "outputs": [],
   "source": []
  },
  {
   "attachments": {},
   "cell_type": "markdown",
   "metadata": {},
   "source": [
    "[목차로 돌아가기](#목차)"
   ]
  },
  {
   "attachments": {},
   "cell_type": "markdown",
   "metadata": {},
   "source": [
    "# 쉬어가는 문제\n"
   ]
  },
  {
   "cell_type": "code",
   "execution_count": 64,
   "metadata": {},
   "outputs": [
    {
     "data": {
      "text/plain": [
       "['One', 'Two', 'Three', 'Four']"
      ]
     },
     "execution_count": 64,
     "metadata": {},
     "output_type": "execute_result"
    }
   ],
   "source": [
    "# Q1.\n",
    "# ['one','two','three','four']의 단어로 구성된 리스트에서\n",
    "# 다음과 같이 각 단어의 첫 글자를 대문자로 하는 리스트를 생성하시오\n",
    "\n",
    "# 실행결과\n",
    "# ['One','Tow','Three','Four']\n",
    "# 1. For 문과 슬라이싱, upper() 를 사용하시오\n",
    "\n",
    "text = ['one','two','three','four']\n",
    "text_upper = []\n",
    "for i in text:\n",
    "    text_upper.append(i[0].upper() + i[1:])\n",
    "    \n",
    "text_upper"
   ]
  },
  {
   "cell_type": "code",
   "execution_count": 65,
   "metadata": {},
   "outputs": [
    {
     "data": {
      "text/plain": [
       "['One', 'Two', 'Three', 'Four']"
      ]
     },
     "execution_count": 65,
     "metadata": {},
     "output_type": "execute_result"
    }
   ],
   "source": [
    "# 2. map함수와 람다함수를 사용하여 Q1를 다시 해결하여라\n",
    "text = ['one','two','three','four']\n",
    "text_upper = list(map(lambda x: x[0].upper() + x[1:], text))\n",
    "text_upper"
   ]
  },
  {
   "cell_type": "code",
   "execution_count": 66,
   "metadata": {},
   "outputs": [
    {
     "data": {
      "text/plain": [
       "['One', 'Two', 'Three', 'Four']"
      ]
     },
     "execution_count": 66,
     "metadata": {},
     "output_type": "execute_result"
    }
   ],
   "source": [
    "# 3. 리스트 축약 표현을 이용하여 위의 문제를 해결하여라\n",
    "text = ['one','two','three','four']\n",
    "text_upper = [x[0].upper() + x[1:] for x in text]\n",
    "text_upper"
   ]
  },
  {
   "attachments": {},
   "cell_type": "markdown",
   "metadata": {},
   "source": [
    "---"
   ]
  },
  {
   "cell_type": "code",
   "execution_count": 67,
   "metadata": {},
   "outputs": [
    {
     "name": "stdout",
     "output_type": "stream",
     "text": [
      "['SUN', 'MON', 'TUE', 'WED', 'THU', 'FRI', 'SAT']\n"
     ]
    }
   ],
   "source": [
    "# Q2.\n",
    "# ['sunday','monday','tuesday','wednesday','thursday','friday','saturday']\n",
    "# 로 이루어진 리스트로부터 다음과 같은 리스트를 생성하라\n",
    "\n",
    "# 실행결과\n",
    "['SUN','MON','TUE','WED','THU','FRI','SAT']\n",
    "\n",
    "# 1. for 문과 슬라이싱, upper() 를 사용하여 문제를 해결\n",
    "week = ['sunday','monday','tuesday','wednesday','thursday','friday','saturday']\n",
    "short_week = []\n",
    "\n",
    "for i in week:\n",
    "    short_week.append(i[:3].upper())\n",
    "    \n",
    "print(short_week)"
   ]
  },
  {
   "cell_type": "code",
   "execution_count": 68,
   "metadata": {},
   "outputs": [
    {
     "data": {
      "text/plain": [
       "['SUN', 'MON', 'TUE', 'WED', 'THU', 'FRI', 'SAT']"
      ]
     },
     "execution_count": 68,
     "metadata": {},
     "output_type": "execute_result"
    }
   ],
   "source": [
    "# 2. map 함수와 람다 함수를 사용하여 해결\n",
    "short_week = list(map(lambda x : x[:3].upper(), week))\n",
    "short_week"
   ]
  },
  {
   "cell_type": "code",
   "execution_count": 69,
   "metadata": {},
   "outputs": [
    {
     "data": {
      "text/plain": [
       "['SUN', 'MON', 'TUE', 'WED', 'THU', 'FRI', 'SAT']"
      ]
     },
     "execution_count": 69,
     "metadata": {},
     "output_type": "execute_result"
    }
   ],
   "source": [
    "# 3. 리스트 축약을 이용하여 해결\n",
    "short_week = [x[:3].upper() for x in week]\n",
    "short_week"
   ]
  },
  {
   "attachments": {},
   "cell_type": "markdown",
   "metadata": {},
   "source": [
    "---"
   ]
  },
  {
   "cell_type": "code",
   "execution_count": 70,
   "metadata": {},
   "outputs": [
    {
     "name": "stdout",
     "output_type": "stream",
     "text": [
      "Americano\t 가격 : 3,000원\n",
      "Ice Americano\t 가격 : 3,500원\n",
      "Cappuccino\t 가격 : 4,000원\n",
      "Cafe Latte\t 가격 : 4,500원\n",
      "Espresso\t 가격 : 3,600원\n"
     ]
    }
   ],
   "source": [
    "# Q3. Dictionary\n",
    "# 동윤이가 새로 문을 열고 운영하는 커피 가게에는\n",
    "# Americano, Ice Americano, Cappuccino, Caffe Latte, Espresso\n",
    "# 의 5가지 메뉴가 있으며 각 메뉴의 가격은 각각\n",
    "# 3,000원, 3,500원, 4,000원, 4,500원, 3,600원이다\n",
    "# 이 목록을 menu라는 딕셔너리로 작성하라.\n",
    "\n",
    "### 1) 이 menu의 내용을 for key in menu: 구문을 사용하여 다음과 같이 출력하여라.\n",
    "\n",
    "'''\n",
    "\n",
    "실행 결과\n",
    "\n",
    "Americano         가격 : 3,000원\n",
    "Ice Americano     가격 : 3,500원\n",
    "Cappuccino        가격 : 4,000원\n",
    "Cafe Latte        가격 : 4,500원\n",
    "Espresso          가격 : 3,600원\n",
    "\n",
    "'''\n",
    "menu = {'Americano' : 3000, 'Ice Americano' : 3500, 'Cappuccino' : 4000, 'Cafe Latte' : 4500, 'Espresso' : 3600}\n",
    "menu.get('Americano')\n",
    "for k in menu.keys():\n",
    "    print(f'{k}\\t 가격 : {menu[k]:,}원')"
   ]
  },
  {
   "cell_type": "code",
   "execution_count": 71,
   "metadata": {},
   "outputs": [
    {
     "name": "stdout",
     "output_type": "stream",
     "text": [
      "Espresso는 3,600원 입니다. 결제를 부탁합니다.\n"
     ]
    }
   ],
   "source": [
    "# 2)\n",
    "# 있는 메뉴라면\n",
    "# 위의 메뉴 중 하나를 선택하세요 : Espresso\n",
    "# Espresso는 3,600원 입니다. 결제를 부탁합니다.\n",
    "\n",
    "# 없는 메뉴라면\n",
    "# 위의 메뉴 중 하나를 선택하세요 : Fan Cake\n",
    "# 미안합니다. Fan Cake는 메뉴에 없습니다.\n",
    "\n",
    "choice = input('Americano, Ice Americano, Cappuccino, Caffe Latte, Espresso 중 하나를 선택하세요 :')\n",
    "while True:\n",
    "    if choice in menu:\n",
    "        print(f'{choice}는 {menu[choice]:,}원 입니다. 결제를 부탁합니다.')\n",
    "        break\n",
    "    else:\n",
    "        print(f'미안합니다. {choice}는 메뉴에 없습니다.')\n",
    "        break"
   ]
  },
  {
   "cell_type": "code",
   "execution_count": 72,
   "metadata": {},
   "outputs": [
    {
     "name": "stdout",
     "output_type": "stream",
     "text": [
      "[224, 587, 29, 37]\n"
     ]
    }
   ],
   "source": [
    "# Q4.\n",
    "# 1)\n",
    "# 다음과 같은 문자열 리스트로부터 'No.' 부분을 제외한 숫자 부분을 정수 리스트로 반환\n",
    "\n",
    "# 결과\n",
    "# test_list = ['No. 224', 'No. 587', 'No. 29', 'No. 37']\n",
    "# num_list = [224,587,29,37]\n",
    "\n",
    "\n",
    "test_list = ['No. 224', 'No. 587', 'No. 29', 'No. 37']\n",
    "num_list = []\n",
    "for i in test_list:\n",
    "    num_list.append(int(i.replace('No. ','')))\n",
    "\n",
    "print(num_list)"
   ]
  },
  {
   "cell_type": "code",
   "execution_count": 73,
   "metadata": {},
   "outputs": [
    {
     "data": {
      "text/plain": [
       "[224, 587, 29, 37]"
      ]
     },
     "execution_count": 73,
     "metadata": {},
     "output_type": "execute_result"
    }
   ],
   "source": [
    "# 2)\n",
    "# 리스트 축약을 사용하여 출력\n",
    "num_list = [int(x.replace('No. ', '')) for x in test_list]\n",
    "num_list"
   ]
  },
  {
   "cell_type": "code",
   "execution_count": 74,
   "metadata": {},
   "outputs": [],
   "source": [
    "# Q5.\n",
    "## 9.10 다음과 같은 기능을 가지는 은행계좌 클래스 BankAccount 클래스를 구현하여라\n",
    "# 그리고 이 클래스를 이용하여 인스턴스를 생성하여라\n",
    "# 이 클래스는 다음과 같은 속성과 동작을 가진다.\n",
    "\n",
    "'''\n",
    "* 속성\n",
    "  * 이름(name)\n",
    "  * 계좌번호(account_num)\n",
    "  * 잔액(balance)\n",
    "\n",
    "* 행동\n",
    "  * 예금 기능 : deposit(money)\n",
    "    * money 만큼의 돈을 balance에 추가한다.\n",
    "  * 출금 기능 : withdraw(money)\n",
    "    * money 만큼의 돈이 balance에서 빠져나간다(balance가 money보다 작으면 출금이 되지 않는다).\n",
    "'''\n",
    "\n",
    "class BankAccount:\n",
    "    def __init__(self, name, account_num, balance = 0):\n",
    "      self.name = name\n",
    "      self.account_num = account_num\n",
    "      self.balance = balance\n",
    "    \n",
    "    def get_name():\n",
    "      return self.name\n",
    "    def get_account_num():\n",
    "      return self.account_num\n",
    "    def get_balance():\n",
    "      return self.balance\n",
    "      \n",
    "    def deposit(self,money):\n",
    "      self.balance += money\n",
    "      print(f'{money:,}원이 입금되었습니다. 잔고는 {self.balance:,} 입니다.')\n",
    "    \n",
    "    def withdraw(self,money):\n",
    "      if self.balance - money > 0:\n",
    "        self.balance -= money\n",
    "      else:\n",
    "        print(f'계좌 잔고는 {self.balance:,}원으로 인출 요구 금액 {money:,}원보다 작습니다.')\n",
    "        \n",
    "        \n",
    "    def __str__(self):\n",
    "      return f'{self.name}님의 계좌 {self.account_num}의 잔고는 {self.balance:,}입니다.'"
   ]
  },
  {
   "cell_type": "code",
   "execution_count": 75,
   "metadata": {},
   "outputs": [
    {
     "name": "stdout",
     "output_type": "stream",
     "text": [
      "홍길동님의 계좌 1234-0001의 잔고는 0입니다.\n",
      "2,000원이 입금되었습니다. 잔고는 2,000 입니다.\n",
      "홍길동님의 계좌 1234-0001의 잔고는 2,000입니다.\n",
      "홍길동님의 계좌 1234-0001의 잔고는 1,500입니다.\n",
      "계좌 잔고는 1,500원으로 인출 요구 금액 5,000원보다 작습니다.\n"
     ]
    }
   ],
   "source": [
    "# BankAccount라는 클래스를 만든 후 다음과 같이 account1이라는 계좌를 생성하고 2000원을 입금하여라\n",
    "# 이 계좌 정보를 출력한 후 500원을 출금한 후 다음과 같이 계좌 정보를 출력하여라\n",
    "# 마지막으로 5000원을 출금하여라.\n",
    "\n",
    "\n",
    "account1 = BankAccount(\"홍길동\", \"1234-0001\")\n",
    "print(account1)\n",
    "account1.deposit(2000)\n",
    "print(account1)\n",
    "account1.withdraw(500)\n",
    "print(account1)\n",
    "account1.withdraw(5000)"
   ]
  },
  {
   "attachments": {},
   "cell_type": "markdown",
   "metadata": {},
   "source": [
    "[목차로 돌아가기](#목차)"
   ]
  },
  {
   "attachments": {},
   "cell_type": "markdown",
   "metadata": {},
   "source": [
    "# 4. 예외처리"
   ]
  },
  {
   "cell_type": "code",
   "execution_count": 76,
   "metadata": {},
   "outputs": [
    {
     "name": "stdout",
     "output_type": "stream",
     "text": [
      "[입력 값이 정수나 실수가 아님]\n"
     ]
    }
   ],
   "source": [
    "# a = [1,2,3,4,5]\n",
    "# a의 원소를 하나 선택하시오 : 삼\n",
    "# 오류 : 입력 값이 정수나 실수가 아님\n",
    "a = [1,2,3,4,5]\n",
    "try:\n",
    "    num = int(input('a의 원소를 하나 선택하시오>'))\n",
    "    print(f'{num}은 {a.index(num)+1}번째 원소입니다')\n",
    "\n",
    "except:\n",
    "    print('[입력 값이 정수나 실수가 아님]')"
   ]
  },
  {
   "attachments": {},
   "cell_type": "markdown",
   "metadata": {},
   "source": [
    "[목차로 돌아가기](#목차)"
   ]
  },
  {
   "attachments": {},
   "cell_type": "markdown",
   "metadata": {},
   "source": [
    "# 5. 기타 라이브러리"
   ]
  },
  {
   "cell_type": "code",
   "execution_count": 77,
   "metadata": {},
   "outputs": [],
   "source": [
    "# pip install pillow"
   ]
  },
  {
   "cell_type": "code",
   "execution_count": null,
   "metadata": {},
   "outputs": [],
   "source": [
    "# PIL 모듈에서 몇 개의 클래스를 포함시킨다\n",
    "from PIL import Image, ImageTk\n",
    "\n",
    "# tkinter 모듈을 포함시킨다\n",
    "import tkinter as tk\n",
    "\n",
    "# 윈도우를 생성하고 윈도우 안에 캔버스를 생성한다\n",
    "window = tk.Tk()\n",
    "canvas = tk.Canvas(window, width=500, height=700)\n",
    "canvas.pack()\n",
    "\n",
    "#윈도우를 생성하고 윈도우 안에 캔버스를 생성한다\n",
    "img = Image.open (\"C:/Users/admin/Desktop/빅데이터/특강/아바타.jpg\")\n",
    "\n",
    "\n",
    "#tk 형식으로 영상을 변환한다 .\n",
    "tk_img = ImageTk.PhotoImage(img)\n",
    "\n",
    "# tkinter의 캔버스에 영상을 표시\n",
    "canvas.create_image(300, 400, image = tk_img)\n",
    "window.mainloop()"
   ]
  },
  {
   "cell_type": "code",
   "execution_count": null,
   "metadata": {},
   "outputs": [],
   "source": [
    "from PIL import Image,ImageTk\n",
    "import tkinter as tk\n",
    "window = tk.Tk()\n",
    "canvas = tk.Canvas(window, width=500, height=500)\n",
    "canvas.pack()\n",
    "\n",
    "# 영상 파일을 연다\n",
    "im = Image.open (\"C:/Users/admin/Desktop/빅데이터/특강/아바타.jpg\")\n",
    "\n",
    "# 영상을 45 도 회전한다\n",
    "out = im.rotate(45)\n",
    "\n",
    "# 영상을 tkinter 형식으로 변환한다\n",
    "tk_img = ImageTk.PhotoImage(out)\n",
    "\n",
    "# 영상을 tkinter 에서 화면에 표시한다\n",
    "canvas.create_image(250, 250, image = tk_img)\n",
    "window.mainloop()"
   ]
  },
  {
   "cell_type": "code",
   "execution_count": null,
   "metadata": {},
   "outputs": [],
   "source": [
    "from PIL import Image,ImageTk, ImageFilter\n",
    "import tkinter as tk\n",
    "window = tk.Tk()\n",
    "canvas = tk.Canvas(window, width=500, height=500)\n",
    "canvas.pack()\n",
    "\n",
    "# 영상 파일을 연다\n",
    "im = Image.open (\"C:/Users/admin/Desktop/빅데이터/특강/아바타.jpg\")\n",
    "\n",
    "# 영상을 흐리게 한다\n",
    "out = im.filter(ImageFilter.BLUR)\n",
    "\n",
    "# 영상을 tkinter 형식으로 변환한다\n",
    "tk_img = ImageTk.PhotoImage(out)\n",
    "\n",
    "# 영상을 tkinter 에서 화면에 표시한다\n",
    "canvas.create_image(250, 250, image = tk_img)\n",
    "window.mainloop()"
   ]
  },
  {
   "cell_type": "code",
   "execution_count": null,
   "metadata": {},
   "outputs": [],
   "source": [
    "# 메뉴 만들기\n",
    "import tkinter as tk\n",
    "def open():\n",
    "    pass\n",
    "\n",
    "def quit():\n",
    "    window.quit()\n",
    "\n",
    "window = tk.Tk()\n",
    "menubar = tk.Menu(window)\n",
    "filemenu = tk.Menu(menubar)\n",
    "\n",
    "filemenu.add_command(label = '열기', command=open)\n",
    "filemenu.add_command(label = '종료', command=quit)\n",
    "\n",
    "menubar.add_cascade(label = '파일', menu=filemenu)\n",
    "window.config(menu = menubar)\n",
    "window.mainloop()"
   ]
  },
  {
   "cell_type": "code",
   "execution_count": null,
   "metadata": {},
   "outputs": [],
   "source": [
    "from PIL import Image, ImageTk , ImageFilter\n",
    "import tkinter as tk\n",
    "from tkinter import filedialog as fd\n",
    "im = None\n",
    "tk_img = None\n",
    "\n",
    "# 파일 메뉴에서 열기를 선택하였을 때 호출되는 함수\n",
    "def open():\n",
    "    global im , tk_img\n",
    "    fname = fd.askopenfilename\n",
    "    im = Image.open(fname)\n",
    "    tk_img = ImageTk.PhotoImage(im)\n",
    "    canvas.create_image(250, 250, image = tk_img)\n",
    "    window.update()\n",
    "\n",
    "# 파일 메뉴에서 종료를 선택하였을 때 호출되는 함수\n",
    "def quit():\n",
    "    window.quit()"
   ]
  },
  {
   "cell_type": "code",
   "execution_count": null,
   "metadata": {},
   "outputs": [],
   "source": [
    "# 영상처리 메뉴에서 “열기”를 선택하였을 때 호출되는 함수\n",
    "def image_rotate():\n",
    "    global im , tk_img\n",
    "    out = im.rotate(45)\n",
    "    tk_img = ImageTk.PhotoImage(out)\n",
    "    canvas.create_image(250, 250, image = tk_img)\n",
    "    window.update()\n",
    "    \n",
    "# 영상처리 메뉴에서 “열기”를 선택하였을 때 호출되는 함수\n",
    "def image_blur():\n",
    "    global im , tk_img\n",
    "    out = im.filter(ImageFilter.BLUR)\n",
    "    tk_img = ImageTk.PhotoImage(out)\n",
    "    canvas.create_image(250, 250, image = tk_img)\n",
    "    window.update()\n",
    "\n",
    "# 윈도우를 생성한다\n",
    "window = tk.Tk()\n",
    "canvas = tk.Canvas(window, width=500, height=500)\n",
    "canvas.pack()"
   ]
  },
  {
   "cell_type": "code",
   "execution_count": null,
   "metadata": {},
   "outputs": [],
   "source": [
    "# 메뉴를 생성한다\n",
    "menubar = tk.Menu(window)\n",
    "filemenu = tk.Menu(menubar)\n",
    "ipmenu = tk.Menu(menubar)\n",
    "filemenu.add_command(label= '열기', command=open)\n",
    "filemenu.add_command(label= '종료', command=quit)\n",
    "filemenu.add_command(label= '영상회전', command=image_rotate)\n",
    "filemenu.add_command(label= '영상흐리게', command=image_blur)\n",
    "menubar.add_cascade(label= '파일', menu = filemenu)\n",
    "menubar.add_cascade(label= '파일', menu = ipmenu)\n",
    "\n",
    "window.config(menu=menubar)\n",
    "window.mainloop()"
   ]
  },
  {
   "attachments": {},
   "cell_type": "markdown",
   "metadata": {},
   "source": [
    "[목차로 돌아가기](#목차)"
   ]
  }
 ],
 "metadata": {
  "kernelspec": {
   "display_name": "base",
   "language": "python",
   "name": "python3"
  },
  "language_info": {
   "codemirror_mode": {
    "name": "ipython",
    "version": 3
   },
   "file_extension": ".py",
   "mimetype": "text/x-python",
   "name": "python",
   "nbconvert_exporter": "python",
   "pygments_lexer": "ipython3",
   "version": "3.9.12"
  },
  "orig_nbformat": 4
 },
 "nbformat": 4,
 "nbformat_minor": 2
}
