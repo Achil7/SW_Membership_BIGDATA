{
 "cells": [
  {
   "cell_type": "markdown",
   "metadata": {},
   "source": [
    "# Python 기초"
   ]
  },
  {
   "cell_type": "markdown",
   "metadata": {},
   "source": [
    "### 목차\n",
    "\n",
    "[1. 문자열 ](#문자열)\\\n",
    "[2. List ](#List)\\\n",
    "[3. Tuple ](#Tuple)\\\n",
    "[4. Dictionary ](#Dictionary)\\\n",
    "[5. Set ](#Set)\\\n",
    "[6. 조건문 ](#조건문)\\\n",
    "[7-1. 반복문 While ](#반복문-While)\\\n",
    "[7-2. 반복문 For ](#반복문-For)\\\n",
    "[8-1. 함수 ](#Function)\\\n",
    "[8-2. 기타 함수 ](#기타-함수)\\\n",
    "[9. 입출력 ](#입출력)\\\n",
    "[10. 모듈과 패키지](#Module-&-Package)"
   ]
  },
  {
   "cell_type": "markdown",
   "metadata": {},
   "source": [
    "# 문자열"
   ]
  },
  {
   "cell_type": "code",
   "execution_count": 1,
   "metadata": {},
   "outputs": [
    {
     "name": "stdout",
     "output_type": "stream",
     "text": [
      "나의 이름은 : 홍길동\n",
      "나의 나이는 : 27\n",
      "나의 키는 179 cm입니다\n",
      "10+20 = 30\n",
      "10*20 = 200\n"
     ]
    }
   ],
   "source": [
    "print('나의 이름은 :','홍길동')\n",
    "print('나의 나이는 :', 27)\n",
    "print('나의 키는', 179, 'cm입니다')\n",
    "print('10+20 =', 10+20)\n",
    "print('10*20 =', 10*20)"
   ]
  },
  {
   "cell_type": "code",
   "execution_count": 2,
   "metadata": {},
   "outputs": [
    {
     "data": {
      "text/plain": [
       "int"
      ]
     },
     "execution_count": 2,
     "metadata": {},
     "output_type": "execute_result"
    }
   ],
   "source": [
    "num = 85\n",
    "type(num)"
   ]
  },
  {
   "cell_type": "code",
   "execution_count": 3,
   "metadata": {},
   "outputs": [
    {
     "data": {
      "text/plain": [
       "float"
      ]
     },
     "execution_count": 3,
     "metadata": {},
     "output_type": "execute_result"
    }
   ],
   "source": [
    "pi = 3.14159\n",
    "type(pi)"
   ]
  },
  {
   "cell_type": "code",
   "execution_count": 4,
   "metadata": {},
   "outputs": [
    {
     "data": {
      "text/plain": [
       "str"
      ]
     },
     "execution_count": 4,
     "metadata": {},
     "output_type": "execute_result"
    }
   ],
   "source": [
    "message = 'good morning'\n",
    "type(message)"
   ]
  },
  {
   "cell_type": "code",
   "execution_count": 5,
   "metadata": {},
   "outputs": [
    {
     "name": "stdout",
     "output_type": "stream",
     "text": [
      "123\n",
      "<class 'int'>\n"
     ]
    }
   ],
   "source": [
    "a = 123\n",
    "print(a)\n",
    "print(type(a))"
   ]
  },
  {
   "cell_type": "code",
   "execution_count": 6,
   "metadata": {},
   "outputs": [
    {
     "name": "stdout",
     "output_type": "stream",
     "text": [
      "<class 'int'>\n",
      "<class 'float'>\n",
      "<class 'float'>\n"
     ]
    }
   ],
   "source": [
    "a = -345\n",
    "b = 1.23\n",
    "c = a/b\n",
    "print(type(a))\n",
    "print(type(b))\n",
    "print(type(c))"
   ]
  },
  {
   "cell_type": "code",
   "execution_count": 7,
   "metadata": {},
   "outputs": [
    {
     "name": "stdout",
     "output_type": "stream",
     "text": [
      "<class 'int'>\n",
      "<class 'tuple'>\n",
      "<class 'tuple'>\n"
     ]
    }
   ],
   "source": [
    "a=(4)\n",
    "print(type(a))\n",
    "\n",
    "b=(1,2)\n",
    "print(type(b))\n",
    "\n",
    "a=(3,)\n",
    "print(type(a))"
   ]
  },
  {
   "cell_type": "code",
   "execution_count": 8,
   "metadata": {},
   "outputs": [
    {
     "name": "stdout",
     "output_type": "stream",
     "text": [
      "1\n",
      "1.4142135623730951\n",
      "1.7320508075688772\n"
     ]
    }
   ],
   "source": [
    "print(5%2)\n",
    "print(2**(1/2))\n",
    "print(3**(1/2))"
   ]
  },
  {
   "cell_type": "code",
   "execution_count": 9,
   "metadata": {},
   "outputs": [
    {
     "data": {
      "text/plain": [
       "bool"
      ]
     },
     "execution_count": 9,
     "metadata": {},
     "output_type": "execute_result"
    }
   ],
   "source": [
    "type(True)"
   ]
  },
  {
   "cell_type": "code",
   "execution_count": 10,
   "metadata": {},
   "outputs": [
    {
     "name": "stdout",
     "output_type": "stream",
     "text": [
      "False\n",
      "True\n",
      "False\n",
      "True\n",
      "False\n"
     ]
    }
   ],
   "source": [
    "a,b = 100,200\n",
    "print(a == b)\n",
    "print(a!=b)\n",
    "print(a>b)\n",
    "print(a<b)\n",
    "print(a > b)"
   ]
  },
  {
   "cell_type": "code",
   "execution_count": 11,
   "metadata": {},
   "outputs": [
    {
     "name": "stdout",
     "output_type": "stream",
     "text": [
      "False\n",
      "True\n",
      "True\n",
      "False\n",
      "True\n"
     ]
    }
   ],
   "source": [
    "a,b,c,d, = 10,20,30,40\n",
    "print((a>b) and (c<d))\n",
    "print((a>b) or (c<d))\n",
    "print((a<b) and(c<d))\n",
    "print((a<b) and False)\n",
    "print((a>b) or True)"
   ]
  },
  {
   "cell_type": "code",
   "execution_count": 12,
   "metadata": {},
   "outputs": [
    {
     "name": "stdout",
     "output_type": "stream",
     "text": [
      "True\n",
      "False\n",
      "False\n",
      "True\n",
      "False\n",
      "True\n",
      "True\n"
     ]
    }
   ],
   "source": [
    "print(bool(-1))\n",
    "print(bool(0))\n",
    "print(bool(''))\n",
    "print(bool('Hello'))\n",
    "print(bool([]))\n",
    "print(bool([10,20]))\n",
    "print(bool(1,))"
   ]
  },
  {
   "cell_type": "code",
   "execution_count": 13,
   "metadata": {},
   "outputs": [
    {
     "name": "stdout",
     "output_type": "stream",
     "text": [
      "70.0\n",
      "70.0\n",
      "70.0\n"
     ]
    }
   ],
   "source": [
    "a = {'국어' : 80, '영어' : 75, '수학' : 55}\n",
    "\n",
    "print(sum(a.values())/3)  # 1\n",
    "print((a['국어'] + a['수학'] + a['영어']) / 3) # 2\n",
    "print((80 + 75 + 55) /3)  # 3"
   ]
  },
  {
   "cell_type": "code",
   "execution_count": 14,
   "metadata": {},
   "outputs": [
    {
     "data": {
      "text/plain": [
       "\"친구가 '햇님이 좋아!' 라고 말했다\""
      ]
     },
     "execution_count": 14,
     "metadata": {},
     "output_type": "execute_result"
    }
   ],
   "source": [
    "txt1 = '친구가 \\'햇님이 좋아!\\' 라고 말했다'\n",
    "txt1"
   ]
  },
  {
   "cell_type": "code",
   "execution_count": 15,
   "metadata": {},
   "outputs": [
    {
     "name": "stdout",
     "output_type": "stream",
     "text": [
      "banana\n",
      "apple\n",
      "orange\n",
      "banana\tapple\torange\n",
      "banana\bapple\borange\n"
     ]
    }
   ],
   "source": [
    "print('banana\\napple\\norange')\n",
    "print('banana\\tapple\\torange')\n",
    "print('banana\\bapple\\borange')"
   ]
  },
  {
   "cell_type": "code",
   "execution_count": 16,
   "metadata": {},
   "outputs": [
    {
     "data": {
      "text/plain": [
       "'python is fun!'"
      ]
     },
     "execution_count": 16,
     "metadata": {},
     "output_type": "execute_result"
    }
   ],
   "source": [
    "head = 'python'\n",
    "tail = ' is fun!'\n",
    "head + tail"
   ]
  },
  {
   "cell_type": "code",
   "execution_count": 17,
   "metadata": {},
   "outputs": [
    {
     "name": "stdout",
     "output_type": "stream",
     "text": [
      "==================================================\n",
      "my program\n",
      "==================================================\n"
     ]
    }
   ],
   "source": [
    "print('=' * 50)\n",
    "print('my program')\n",
    "print('=' * 50)"
   ]
  },
  {
   "cell_type": "code",
   "execution_count": 18,
   "metadata": {},
   "outputs": [
    {
     "name": "stdout",
     "output_type": "stream",
     "text": [
      "l\n",
      "s\n",
      "n\n",
      "too\n",
      "iei o\n",
      "34\n",
      "l\n",
      "n\n",
      "n\n",
      "life\n",
      "life\n",
      "life\n",
      "\n",
      "you need python\n",
      "life is too short, you need python\n"
     ]
    }
   ],
   "source": [
    "a = 'life is too short, you need python'\n",
    "print(a[0])\n",
    "print(a[12])\n",
    "print(a[-1])\n",
    "print(a[8:11])\n",
    "print(a[1:11:2]) # 1부터 10까지 2씩 증가\n",
    "\n",
    "print(len(a))\n",
    "print(a[0])\n",
    "print(a[33])\n",
    "print(a[-1])\n",
    "print(a[0] + a[1] + a[2] + a[3])\n",
    "print(a[0:4])\n",
    "print(a[:4])\n",
    "print(a[4:0])\n",
    "print(a[19:34])\n",
    "print(a[:])"
   ]
  },
  {
   "cell_type": "code",
   "execution_count": 19,
   "metadata": {},
   "outputs": [
    {
     "name": "stdout",
     "output_type": "stream",
     "text": [
      "2001\n",
      "0331\n",
      "Rainy\n"
     ]
    }
   ],
   "source": [
    "a = '20010331Rainy'\n",
    "year = a[:4]\n",
    "day = a[4:8]\n",
    "weather = a[8:]\n",
    "print(year)\n",
    "print(day)\n",
    "print(weather)"
   ]
  },
  {
   "cell_type": "code",
   "execution_count": 20,
   "metadata": {},
   "outputs": [
    {
     "ename": "TypeError",
     "evalue": "'str' object does not support item assignment",
     "output_type": "error",
     "traceback": [
      "\u001b[1;31m---------------------------------------------------------------------------\u001b[0m",
      "\u001b[1;31mTypeError\u001b[0m                                 Traceback (most recent call last)",
      "Cell \u001b[1;32mIn[20], line 2\u001b[0m\n\u001b[0;32m      1\u001b[0m greeting \u001b[38;5;241m=\u001b[39m \u001b[38;5;124m'\u001b[39m\u001b[38;5;124mhello, world\u001b[39m\u001b[38;5;124m'\u001b[39m\n\u001b[1;32m----> 2\u001b[0m greeting[\u001b[38;5;241m0\u001b[39m] \u001b[38;5;241m=\u001b[39m \u001b[38;5;124m'\u001b[39m\u001b[38;5;124mJ\u001b[39m\u001b[38;5;124m'\u001b[39m\n",
      "\u001b[1;31mTypeError\u001b[0m: 'str' object does not support item assignment"
     ]
    }
   ],
   "source": [
    "greeting = 'hello, world'\n",
    "greeting[0] = 'J' # >> 에러"
   ]
  },
  {
   "cell_type": "code",
   "execution_count": 21,
   "metadata": {},
   "outputs": [
    {
     "data": {
      "text/plain": [
       "['사과', '바나나']"
      ]
     },
     "execution_count": 21,
     "metadata": {},
     "output_type": "execute_result"
    }
   ],
   "source": [
    "a = ['사가','바나나']\n",
    "a[0] = '사과'\n",
    "a"
   ]
  },
  {
   "cell_type": "code",
   "execution_count": 22,
   "metadata": {},
   "outputs": [
    {
     "data": {
      "text/plain": [
       "'python'"
      ]
     },
     "execution_count": 22,
     "metadata": {},
     "output_type": "execute_result"
    }
   ],
   "source": [
    "a = 'pithon'\n",
    "a = a[:1] + 'y' + a[2:]\n",
    "a"
   ]
  },
  {
   "cell_type": "code",
   "execution_count": 23,
   "metadata": {},
   "outputs": [
    {
     "name": "stdout",
     "output_type": "stream",
     "text": [
      "i eat 3 apples\n",
      "i eat five apples.\n",
      "i eat 3 apples\n",
      "i ate 10 apples. so i was sick for three days.\n",
      "rate is 3.234\n",
      "error is 98%\n"
     ]
    }
   ],
   "source": [
    "print('i eat %d apples' % 3)\n",
    "print('i eat %s apples.' % 'five')\n",
    "number = 3;print('i eat %d apples' % number)\n",
    "number = 10; day = 'three'; print('i ate %d apples. so i was sick for %s days.' %(number,day))\n",
    "print('rate is %s' % 3.234)\n",
    "print('error is %d%%' % 98)"
   ]
  },
  {
   "cell_type": "code",
   "execution_count": 24,
   "metadata": {},
   "outputs": [
    {
     "name": "stdout",
     "output_type": "stream",
     "text": [
      "appl\n",
      "es\n",
      "appl\n"
     ]
    }
   ],
   "source": [
    "a = 'apples'\n",
    "print(a[:-2])\n",
    "print(a[-2:])\n",
    "print(a[:4])"
   ]
  },
  {
   "cell_type": "code",
   "execution_count": 25,
   "metadata": {},
   "outputs": [
    {
     "name": "stdout",
     "output_type": "stream",
     "text": [
      "        hi\n",
      "hi        jane\n"
     ]
    }
   ],
   "source": [
    "print('%10s' % 'hi')\n",
    "print('%-10sjane' % 'hi')"
   ]
  },
  {
   "cell_type": "code",
   "execution_count": 26,
   "metadata": {},
   "outputs": [
    {
     "name": "stdout",
     "output_type": "stream",
     "text": [
      "3.4121\n",
      "3.1241\n"
     ]
    }
   ],
   "source": [
    "print('%0.4f' % 3.412123)\n",
    "print('%.4f' % 3.12412432)"
   ]
  },
  {
   "cell_type": "code",
   "execution_count": 27,
   "metadata": {},
   "outputs": [
    {
     "name": "stdout",
     "output_type": "stream",
     "text": [
      "i eat 3 apples\n",
      "i eat five apples\n"
     ]
    }
   ],
   "source": [
    "print('i eat {} apples'.format(3))\n",
    "print('i eat {} apples'.format('five'))"
   ]
  },
  {
   "cell_type": "code",
   "execution_count": 28,
   "metadata": {},
   "outputs": [
    {
     "name": "stdout",
     "output_type": "stream",
     "text": [
      "i ate 10 apples, so i was sick forthree dats\n",
      "i ate 10 apples. so i was sick for 3 days\n"
     ]
    }
   ],
   "source": [
    "number = 10\n",
    "day = 'three'\n",
    "print('i ate {0} apples, so i was sick for{1} dats'.format(number,day))\n",
    "print('i ate {number} apples. so i was sick for {day} days'.format(number = 10, day=3))"
   ]
  },
  {
   "cell_type": "code",
   "execution_count": 29,
   "metadata": {},
   "outputs": [
    {
     "name": "stdout",
     "output_type": "stream",
     "text": [
      "2.1232\n",
      "    3.4213\n",
      "2.1232\n",
      "    3.4213\n"
     ]
    }
   ],
   "source": [
    "x = 2.123234\n",
    "y = 3.42132412\n",
    "print('{0:0.4f}'.format(x,y))\n",
    "print('{1:10.4f}'.format(x,y))\n",
    "print(f'{x:0.4f}')\n",
    "print(f'{y:10.4f}')"
   ]
  },
  {
   "cell_type": "code",
   "execution_count": 30,
   "metadata": {},
   "outputs": [
    {
     "name": "stdout",
     "output_type": "stream",
     "text": [
      "나의 이름은 홍길동 입니다. 나이는 30살 입니다.\n",
      "나는 내년이면 31살이 된다\n"
     ]
    }
   ],
   "source": [
    "name = '홍길동';age = 30; print(f'나의 이름은 {name} 입니다. 나이는 {age}살 입니다.')\n",
    "print(f'나는 내년이면 {age +1 }살이 된다')"
   ]
  },
  {
   "cell_type": "code",
   "execution_count": 31,
   "metadata": {},
   "outputs": [
    {
     "name": "stdout",
     "output_type": "stream",
     "text": [
      "aasdbasdcasdd\n",
      "aasd asdbasd asdcasd asdd\n"
     ]
    }
   ],
   "source": [
    "a = 'asd'\n",
    "print(a.join('abcd'))\n",
    "print(a.join('a b c d'))"
   ]
  },
  {
   "cell_type": "code",
   "execution_count": 32,
   "metadata": {},
   "outputs": [
    {
     "data": {
      "text/plain": [
       "'HELLO'"
      ]
     },
     "execution_count": 32,
     "metadata": {},
     "output_type": "execute_result"
    }
   ],
   "source": [
    "a='hello'\n",
    "a.upper()"
   ]
  },
  {
   "cell_type": "code",
   "execution_count": 33,
   "metadata": {},
   "outputs": [
    {
     "data": {
      "text/plain": [
       "'hi   '"
      ]
     },
     "execution_count": 33,
     "metadata": {},
     "output_type": "execute_result"
    }
   ],
   "source": [
    "a='      hi   '\n",
    "a.lstrip()"
   ]
  },
  {
   "cell_type": "code",
   "execution_count": 34,
   "metadata": {},
   "outputs": [
    {
     "data": {
      "text/plain": [
       "'      hi'"
      ]
     },
     "execution_count": 34,
     "metadata": {},
     "output_type": "execute_result"
    }
   ],
   "source": [
    "a.rstrip()"
   ]
  },
  {
   "cell_type": "code",
   "execution_count": 35,
   "metadata": {},
   "outputs": [
    {
     "data": {
      "text/plain": [
       "'hi'"
      ]
     },
     "execution_count": 35,
     "metadata": {},
     "output_type": "execute_result"
    }
   ],
   "source": [
    "a.strip()"
   ]
  },
  {
   "cell_type": "code",
   "execution_count": 36,
   "metadata": {},
   "outputs": [
    {
     "data": {
      "text/plain": [
       "'music is good'"
      ]
     },
     "execution_count": 36,
     "metadata": {},
     "output_type": "execute_result"
    }
   ],
   "source": [
    "a = 'life is good'\n",
    "a.replace('life', 'music')"
   ]
  },
  {
   "cell_type": "code",
   "execution_count": 37,
   "metadata": {},
   "outputs": [
    {
     "name": "stdout",
     "output_type": "stream",
     "text": [
      "Long Live The King!\n",
      "Long live the king!\n"
     ]
    }
   ],
   "source": [
    "s1 = 'long live the king!'\n",
    "print(s1.title())\n",
    "print(s1.capitalize())"
   ]
  },
  {
   "cell_type": "code",
   "execution_count": 38,
   "metadata": {},
   "outputs": [
    {
     "data": {
      "text/plain": [
       "['X', 'Y', 'Z']"
      ]
     },
     "execution_count": 38,
     "metadata": {},
     "output_type": "execute_result"
    }
   ],
   "source": [
    "'X:Y:Z'.split(':')"
   ]
  },
  {
   "cell_type": "code",
   "execution_count": 39,
   "metadata": {},
   "outputs": [
    {
     "data": {
      "text/plain": [
       "['life', 'is', 'too', 'short']"
      ]
     },
     "execution_count": 39,
     "metadata": {},
     "output_type": "execute_result"
    }
   ],
   "source": [
    "a = 'life is too short'\n",
    "a.split()"
   ]
  },
  {
   "cell_type": "code",
   "execution_count": 40,
   "metadata": {},
   "outputs": [
    {
     "data": {
      "text/plain": [
       "['a', 'b', 'c', 'd']"
      ]
     },
     "execution_count": 40,
     "metadata": {},
     "output_type": "execute_result"
    }
   ],
   "source": [
    "a = 'a:b:c:d'\n",
    "a.split(\":\")"
   ]
  },
  {
   "cell_type": "markdown",
   "metadata": {},
   "source": [
    "[목차로 돌아가기](#목차)"
   ]
  },
  {
   "cell_type": "markdown",
   "metadata": {},
   "source": [
    "# List"
   ]
  },
  {
   "cell_type": "code",
   "execution_count": 41,
   "metadata": {},
   "outputs": [
    {
     "data": {
      "text/plain": [
       "[1, 3, 5, 7, 9]"
      ]
     },
     "execution_count": 41,
     "metadata": {},
     "output_type": "execute_result"
    }
   ],
   "source": [
    "list(range(1,11,2))"
   ]
  },
  {
   "cell_type": "code",
   "execution_count": 42,
   "metadata": {},
   "outputs": [
    {
     "name": "stdout",
     "output_type": "stream",
     "text": [
      "1\n",
      "3\n",
      "['a', 'b', 'c']\n",
      "3\n",
      "['a', 'b', 'c']\n",
      "a\n"
     ]
    }
   ],
   "source": [
    "a = [1,2,3,['a','b','c']]\n",
    "print(a[0])\n",
    "print(a[2])\n",
    "print(a[-1])\n",
    "print(a[0]+a[1])\n",
    "print(a[3])\n",
    "print(a[3][0])"
   ]
  },
  {
   "cell_type": "code",
   "execution_count": 43,
   "metadata": {},
   "outputs": [
    {
     "name": "stdout",
     "output_type": "stream",
     "text": [
      "[1, 2]\n",
      "[1, 2]\n",
      "[3, 4, 5]\n"
     ]
    }
   ],
   "source": [
    "a = [1,2,3,4,5]\n",
    "print(a[0:2])\n",
    "print(a[:2])\n",
    "print(a[2:])"
   ]
  },
  {
   "cell_type": "code",
   "execution_count": 44,
   "metadata": {},
   "outputs": [
    {
     "name": "stdout",
     "output_type": "stream",
     "text": [
      "[3, ['a', 'b', 'c'], 4]\n",
      "['a', 'b']\n"
     ]
    }
   ],
   "source": [
    "a=[1,2,3,['a','b','c'],4,5]\n",
    "print(a[2:5])\n",
    "print(a[3][:2])"
   ]
  },
  {
   "cell_type": "code",
   "execution_count": 45,
   "metadata": {},
   "outputs": [
    {
     "name": "stdout",
     "output_type": "stream",
     "text": [
      "10\n",
      "[10]\n"
     ]
    }
   ],
   "source": [
    "a = [10,20,30,40]\n",
    "print(a[0]) # 인덱스만 주면 int형태\n",
    "print(a[0:1]) # 슬라이스 주면 list형태"
   ]
  },
  {
   "cell_type": "code",
   "execution_count": 46,
   "metadata": {},
   "outputs": [
    {
     "name": "stdout",
     "output_type": "stream",
     "text": [
      "[0, 1, 2, 3, 4, 5, 6, 7, 8, 9]\n",
      "[9, 8, 7, 6, 5, 4, 3, 2, 1, 0]\n",
      "[1, 0]\n",
      "[1, 6]\n"
     ]
    }
   ],
   "source": [
    "a = list(range(10))\n",
    "print(a)\n",
    "print(a[::-1]) #역순\n",
    "print(a[1::-1])\n",
    "print(a[1::5])"
   ]
  },
  {
   "cell_type": "code",
   "execution_count": 47,
   "metadata": {},
   "outputs": [
    {
     "name": "stdout",
     "output_type": "stream",
     "text": [
      "False\n",
      "True\n"
     ]
    }
   ],
   "source": [
    "list1=[1,2,3,4]\n",
    "list2=[2,2,3,4]\n",
    "print(list1>list2)\n",
    "print(list1<list2)\n",
    "\n",
    "# [index]의 앞쪽 숫자가 더 클수록 크다.\n",
    "# 간단히 생각!"
   ]
  },
  {
   "cell_type": "code",
   "execution_count": 48,
   "metadata": {},
   "outputs": [
    {
     "data": {
      "text/plain": [
       "[1, 2, 3, 4]"
      ]
     },
     "execution_count": 48,
     "metadata": {},
     "output_type": "execute_result"
    }
   ],
   "source": [
    "a = [1,2,3]\n",
    "a.append(4)\n",
    "a"
   ]
  },
  {
   "cell_type": "code",
   "execution_count": 49,
   "metadata": {},
   "outputs": [
    {
     "data": {
      "text/plain": [
       "[1, 2, 3, 4, [5, 6]]"
      ]
     },
     "execution_count": 49,
     "metadata": {},
     "output_type": "execute_result"
    }
   ],
   "source": [
    "a.append([5,6])\n",
    "a"
   ]
  },
  {
   "cell_type": "code",
   "execution_count": 50,
   "metadata": {},
   "outputs": [
    {
     "data": {
      "text/plain": [
       "[1, 2, 3, 4, 5]"
      ]
     },
     "execution_count": 50,
     "metadata": {},
     "output_type": "execute_result"
    }
   ],
   "source": [
    "# a의 메모리 주소(내부적으로)가 달라지지 않음\n",
    "a = [1,2,3]\n",
    "a.extend([4,5])\n",
    "a"
   ]
  },
  {
   "cell_type": "code",
   "execution_count": 51,
   "metadata": {},
   "outputs": [
    {
     "data": {
      "text/plain": [
       "[1, 2, 3, 4, 5]"
      ]
     },
     "execution_count": 51,
     "metadata": {},
     "output_type": "execute_result"
    }
   ],
   "source": [
    "# a 메모리 주소가 달라짐\n",
    "# a에 다시 할당을 했기 때문에\n",
    "a = [1,2,3]\n",
    "a=a+[4,5]\n",
    "a"
   ]
  },
  {
   "cell_type": "code",
   "execution_count": 52,
   "metadata": {},
   "outputs": [
    {
     "name": "stdout",
     "output_type": "stream",
     "text": [
      "3\n",
      "2\n"
     ]
    },
    {
     "data": {
      "text/plain": [
       "[1]"
      ]
     },
     "execution_count": 52,
     "metadata": {},
     "output_type": "execute_result"
    }
   ],
   "source": [
    "# pop() : 맨 마지막 요소를 보여주고 삭제함\n",
    "# pop(x): x번째 요소를 보여주고 삭제함\n",
    "a = [1,2,3]\n",
    "print(a.pop())\n",
    "print(a.pop(1))\n",
    "a"
   ]
  },
  {
   "cell_type": "code",
   "execution_count": 53,
   "metadata": {},
   "outputs": [
    {
     "data": {
      "text/plain": [
       "['a', 'b', 'c']"
      ]
     },
     "execution_count": 53,
     "metadata": {},
     "output_type": "execute_result"
    }
   ],
   "source": [
    "list1 = ['a','b','c','d']\n",
    "list1.remove(list1[-1])\n",
    "list1"
   ]
  },
  {
   "cell_type": "code",
   "execution_count": 54,
   "metadata": {},
   "outputs": [
    {
     "data": {
      "text/plain": [
       "[10, 20, 30, 40, 50]"
      ]
     },
     "execution_count": 54,
     "metadata": {},
     "output_type": "execute_result"
    }
   ],
   "source": [
    "list1 = [20,10,40,50,30]\n",
    "list1.sort()\n",
    "list1"
   ]
  },
  {
   "cell_type": "code",
   "execution_count": 55,
   "metadata": {},
   "outputs": [
    {
     "data": {
      "text/plain": [
       "[50, 40, 30, 20, 10]"
      ]
     },
     "execution_count": 55,
     "metadata": {},
     "output_type": "execute_result"
    }
   ],
   "source": [
    "list1.sort(reverse=True)\n",
    "list1"
   ]
  },
  {
   "cell_type": "markdown",
   "metadata": {},
   "source": [
    "[목차로 돌아가기](#목차)"
   ]
  },
  {
   "cell_type": "markdown",
   "metadata": {},
   "source": [
    "# Tuple"
   ]
  },
  {
   "cell_type": "code",
   "execution_count": 56,
   "metadata": {},
   "outputs": [
    {
     "data": {
      "text/plain": [
       "(5, 6)"
      ]
     },
     "execution_count": 56,
     "metadata": {},
     "output_type": "execute_result"
    }
   ],
   "source": [
    "a = ((1,2),(3,4),(5,6))\n",
    "a[2]"
   ]
  },
  {
   "cell_type": "code",
   "execution_count": 57,
   "metadata": {},
   "outputs": [
    {
     "data": {
      "text/plain": [
       "tuple"
      ]
     },
     "execution_count": 57,
     "metadata": {},
     "output_type": "execute_result"
    }
   ],
   "source": [
    "p = 1,3,2,5,7\n",
    "type(p)"
   ]
  },
  {
   "cell_type": "code",
   "execution_count": 58,
   "metadata": {},
   "outputs": [
    {
     "data": {
      "text/plain": [
       "(1, 7, 5, 3, 9)"
      ]
     },
     "execution_count": 58,
     "metadata": {},
     "output_type": "execute_result"
    }
   ],
   "source": [
    "tuple([1,7,5,3,9])"
   ]
  },
  {
   "cell_type": "code",
   "execution_count": 59,
   "metadata": {},
   "outputs": [
    {
     "data": {
      "text/plain": [
       "('a', 'b', 'c', 'd', 'e')"
      ]
     },
     "execution_count": 59,
     "metadata": {},
     "output_type": "execute_result"
    }
   ],
   "source": [
    "tuple('abcde')"
   ]
  },
  {
   "cell_type": "code",
   "execution_count": 60,
   "metadata": {},
   "outputs": [
    {
     "name": "stdout",
     "output_type": "stream",
     "text": [
      "True\n",
      "False\n",
      "True\n"
     ]
    }
   ],
   "source": [
    "print('a' in ('a','b','c'))\n",
    "print(5 in ('a','b','c'))\n",
    "print(5 not in ('a','b','c'))"
   ]
  },
  {
   "cell_type": "code",
   "execution_count": 61,
   "metadata": {},
   "outputs": [
    {
     "name": "stdout",
     "output_type": "stream",
     "text": [
      "변경 전: ('apple', 'orange', 'water melon')\n",
      "변경 후: ('apple', 'kiwi', 'water melon')\n"
     ]
    }
   ],
   "source": [
    "t_fruits = ('apple', 'orange','water melon')\n",
    "print('변경 전:', t_fruits)\n",
    "f_list = list(t_fruits) # 1 튜플을 리스트로 변환\n",
    "f_list[1] = 'kiwi' # 2 리스트의 두 번째 항목 값을 kiwi 로 변경\n",
    "t_fruits = tuple(f_list) # 3 리스트를 튜플로 다시 변환함\n",
    "print('변경 후:', t_fruits)"
   ]
  },
  {
   "cell_type": "markdown",
   "metadata": {},
   "source": [
    "[목차로 돌아가기](#목차)"
   ]
  },
  {
   "cell_type": "markdown",
   "metadata": {},
   "source": [
    "# Dictionary"
   ]
  },
  {
   "cell_type": "code",
   "execution_count": 62,
   "metadata": {},
   "outputs": [
    {
     "data": {
      "text/plain": [
       "{'name': 'pey', 'phone': '01199998888', 'birth': '1117'}"
      ]
     },
     "execution_count": 62,
     "metadata": {},
     "output_type": "execute_result"
    }
   ],
   "source": [
    "dic = {'name' : 'pey', 'phone' : '01199998888', 'birth' : '1117'}\n",
    "dic"
   ]
  },
  {
   "cell_type": "code",
   "execution_count": 63,
   "metadata": {},
   "outputs": [
    {
     "data": {
      "text/plain": [
       "{'a': [1, 2, 3]}"
      ]
     },
     "execution_count": 63,
     "metadata": {},
     "output_type": "execute_result"
    }
   ],
   "source": [
    "a = {'a':[1,2,3]}\n",
    "a"
   ]
  },
  {
   "cell_type": "code",
   "execution_count": 64,
   "metadata": {},
   "outputs": [
    {
     "name": "stdout",
     "output_type": "stream",
     "text": [
      "홍길동\n",
      "26\n",
      "82\n"
     ]
    }
   ],
   "source": [
    "person = {'이름' : '홍길동', '나이':26, '몸무게' :82}\n",
    "print(person['이름'])\n",
    "print(person['나이'])\n",
    "print(person['몸무게'])"
   ]
  },
  {
   "cell_type": "code",
   "execution_count": 65,
   "metadata": {},
   "outputs": [
    {
     "data": {
      "text/plain": [
       "{'이름': '홍길동', '나이': 26, '몸무게': 82, '키': 180, 1998: '생일'}"
      ]
     },
     "execution_count": 65,
     "metadata": {},
     "output_type": "execute_result"
    }
   ],
   "source": [
    "# 변수 및 값 추가\n",
    "person['키'] = 180\n",
    "person[1998] = '생일'\n",
    "person"
   ]
  },
  {
   "cell_type": "code",
   "execution_count": 66,
   "metadata": {},
   "outputs": [
    {
     "data": {
      "text/plain": [
       "{'n': 1}"
      ]
     },
     "execution_count": 66,
     "metadata": {},
     "output_type": "execute_result"
    }
   ],
   "source": [
    "a = dict(n=1)\n",
    "a"
   ]
  },
  {
   "cell_type": "code",
   "execution_count": 67,
   "metadata": {},
   "outputs": [
    {
     "data": {
      "text/plain": [
       "{'n': 1, 'is': 1, 'short': 2}"
      ]
     },
     "execution_count": 67,
     "metadata": {},
     "output_type": "execute_result"
    }
   ],
   "source": [
    "a = dict([('n',1),('is',1),('short',2)])\n",
    "a"
   ]
  },
  {
   "cell_type": "code",
   "execution_count": 68,
   "metadata": {},
   "outputs": [
    {
     "data": {
      "text/plain": [
       "{'이름': '홍길동', '몸무게': 82, '키': 180, 1998: '생일'}"
      ]
     },
     "execution_count": 68,
     "metadata": {},
     "output_type": "execute_result"
    }
   ],
   "source": [
    "del person['나이']\n",
    "person"
   ]
  },
  {
   "cell_type": "code",
   "execution_count": 69,
   "metadata": {},
   "outputs": [
    {
     "data": {
      "text/plain": [
       "dict_keys(['이름', '몸무게', '키', 1998])"
      ]
     },
     "execution_count": 69,
     "metadata": {},
     "output_type": "execute_result"
    }
   ],
   "source": [
    "person.keys()"
   ]
  },
  {
   "cell_type": "code",
   "execution_count": 70,
   "metadata": {},
   "outputs": [
    {
     "name": "stdout",
     "output_type": "stream",
     "text": [
      "이름\n",
      "몸무게\n",
      "키\n",
      "1998\n"
     ]
    }
   ],
   "source": [
    "for k in person.keys():\n",
    "    print(k)"
   ]
  },
  {
   "cell_type": "code",
   "execution_count": 71,
   "metadata": {},
   "outputs": [
    {
     "name": "stdout",
     "output_type": "stream",
     "text": [
      "dict_items([('n', 1), ('is', 1), ('short', 2)])\n",
      "[('n', 1), ('is', 1), ('short', 2)]\n"
     ]
    }
   ],
   "source": [
    "print(a.items())\n",
    "print(list(a.items()))"
   ]
  },
  {
   "cell_type": "code",
   "execution_count": 72,
   "metadata": {},
   "outputs": [
    {
     "data": {
      "text/plain": [
       "{}"
      ]
     },
     "execution_count": 72,
     "metadata": {},
     "output_type": "execute_result"
    }
   ],
   "source": [
    "a.clear()\n",
    "a"
   ]
  },
  {
   "cell_type": "code",
   "execution_count": 73,
   "metadata": {},
   "outputs": [
    {
     "data": {
      "text/plain": [
       "'pey'"
      ]
     },
     "execution_count": 73,
     "metadata": {},
     "output_type": "execute_result"
    }
   ],
   "source": [
    "# key로 value얻기(get)\n",
    "a = {'name':'pey', 'phone':'01029123294','birth':'1118'}\n",
    "a.get('name','hi')"
   ]
  },
  {
   "cell_type": "code",
   "execution_count": 74,
   "metadata": {},
   "outputs": [
    {
     "name": "stdout",
     "output_type": "stream",
     "text": [
      "True\n",
      "False\n"
     ]
    }
   ],
   "source": [
    "# 해당 key가 딕셔너리 안에 있는지 조사하기(in)\n",
    "print('name' in a)\n",
    "print('email' in a)"
   ]
  },
  {
   "cell_type": "code",
   "execution_count": 75,
   "metadata": {},
   "outputs": [
    {
     "name": "stdout",
     "output_type": "stream",
     "text": [
      "넷\n"
     ]
    }
   ],
   "source": [
    "# 딕셔너리 추가\n",
    "# 1\n",
    "a = {'one':'하나','two':'둘','three':'셋'}\n",
    "a[\"four\"] = '넷'\n",
    "print(a['four'])"
   ]
  },
  {
   "cell_type": "code",
   "execution_count": 76,
   "metadata": {},
   "outputs": [
    {
     "name": "stdout",
     "output_type": "stream",
     "text": [
      "{'one': '하나', 'two': '둘', 'three': '셋', 'four': '넷', 'five': '다섯', 'six': '여섯'}\n"
     ]
    }
   ],
   "source": [
    "# 2\n",
    "a.update({'five':'다섯','six':'여섯'})\n",
    "print(a)"
   ]
  },
  {
   "cell_type": "code",
   "execution_count": 77,
   "metadata": {},
   "outputs": [
    {
     "name": "stdout",
     "output_type": "stream",
     "text": [
      "{'one': '하나', 'two': '셋', 'three': '둘', 'four': '넷', 'five': '다섯', 'six': '여섯'}\n"
     ]
    }
   ],
   "source": [
    "# 딕셔너리 수정\n",
    "a['three'] = '둘'\n",
    "a.update(two='셋')\n",
    "print(a)"
   ]
  },
  {
   "cell_type": "code",
   "execution_count": 78,
   "metadata": {},
   "outputs": [
    {
     "name": "stdout",
     "output_type": "stream",
     "text": [
      "{'one': '하나', 'two': '둘', 'three': '셋', 'five': '다섯', 'six': '여섯'}\n",
      "{'five': '다섯', 'six': '여섯'}\n"
     ]
    }
   ],
   "source": [
    "# 딕셔너리 병합\n",
    "a = {'one' : '하나', 'two' : '둘', 'three' : '셋'}\n",
    "b = {'five' : '다섯', 'six' : '여섯'}\n",
    "\n",
    "a.update(b)\n",
    "print(a)\n",
    "print(b)"
   ]
  },
  {
   "cell_type": "code",
   "execution_count": 79,
   "metadata": {},
   "outputs": [
    {
     "name": "stdout",
     "output_type": "stream",
     "text": [
      "{'one': '하나', 'two': '둘'}\n",
      "{}\n"
     ]
    }
   ],
   "source": [
    "# 딕셔너리 삭제\n",
    "\n",
    "a = {'one' : '하나', 'two' : '둘', 'three' : '셋'}\n",
    "del a['three']\n",
    "# a.pop('three')\n",
    "# a.popitem()\n",
    "print(a)\n",
    "\n",
    "a.clear()\n",
    "print(a)"
   ]
  },
  {
   "cell_type": "code",
   "execution_count": 80,
   "metadata": {},
   "outputs": [
    {
     "name": "stdout",
     "output_type": "stream",
     "text": [
      "dict_items([('one', '하나'), ('two', '둘'), ('three', '셋')])\n",
      "dict_keys(['one', 'two', 'three'])\n",
      "dict_values(['하나', '둘', '셋'])\n",
      "True\n",
      "True\n"
     ]
    }
   ],
   "source": [
    "# 딕셔너리 조사\n",
    "\n",
    "a = {'one' : '하나', 'two' : '둘', 'three' : '셋'}\n",
    "print(a.items())\n",
    "print(a.keys())\n",
    "print(a.values())\n",
    "print('one' in a)\n",
    "print('four' not in a)"
   ]
  },
  {
   "cell_type": "code",
   "execution_count": 81,
   "metadata": {},
   "outputs": [
    {
     "name": "stdout",
     "output_type": "stream",
     "text": [
      "pop(0) 이전: [11, 22, 33, 44, 55]\n",
      "pop(0) 이전 lst[1] = 22\n",
      "pop(0) 이후: [22, 33, 44, 55]\n",
      "pop(0) 이후 lst[1] = 33\n"
     ]
    }
   ],
   "source": [
    "lst = [11, 22, 33, 44, 55]\n",
    "print('pop(0) 이전:', lst)\n",
    "print('pop(0) 이전 lst[1] =' ,lst[1])\n",
    "lst.pop(0) # 인덱스 0 을 이용하여 리스트의 첫 항목을 삭제한다\n",
    "print('pop(0) 이후:', lst)\n",
    "print('pop(0) 이후 lst[1] =', lst[1])  # lst[1] 이 참조하는 값이 바뀐다"
   ]
  },
  {
   "cell_type": "markdown",
   "metadata": {},
   "source": [
    "[목차로 돌아가기](#목차)"
   ]
  },
  {
   "cell_type": "markdown",
   "metadata": {},
   "source": [
    "# Set"
   ]
  },
  {
   "cell_type": "code",
   "execution_count": 82,
   "metadata": {},
   "outputs": [
    {
     "data": {
      "text/plain": [
       "{100, 200, 300, 400}"
      ]
     },
     "execution_count": 82,
     "metadata": {},
     "output_type": "execute_result"
    }
   ],
   "source": [
    "s = {100,100,200,200,300,400}\n",
    "s"
   ]
  },
  {
   "cell_type": "code",
   "execution_count": 83,
   "metadata": {},
   "outputs": [
    {
     "data": {
      "text/plain": [
       "{100, 200, 300, 400, 500}"
      ]
     },
     "execution_count": 83,
     "metadata": {},
     "output_type": "execute_result"
    }
   ],
   "source": [
    "s.add(500) # 값 추가\n",
    "s\n",
    "# 여러개 추가 : update([])"
   ]
  },
  {
   "cell_type": "code",
   "execution_count": 84,
   "metadata": {},
   "outputs": [
    {
     "data": {
      "text/plain": [
       "{200, 300, 400, 500}"
      ]
     },
     "execution_count": 84,
     "metadata": {},
     "output_type": "execute_result"
    }
   ],
   "source": [
    "s.discard(100) # 값 삭제\n",
    "s"
   ]
  },
  {
   "cell_type": "code",
   "execution_count": 85,
   "metadata": {},
   "outputs": [
    {
     "data": {
      "text/plain": [
       "{'a', 'b', 'c'}"
      ]
     },
     "execution_count": 85,
     "metadata": {},
     "output_type": "execute_result"
    }
   ],
   "source": [
    "s = {'a','b','c'}\n",
    "s"
   ]
  },
  {
   "cell_type": "code",
   "execution_count": 86,
   "metadata": {},
   "outputs": [],
   "source": [
    "# id : 변수 메모리 주소\n",
    "# 리스트는 원본과 사본이 동기화 된다."
   ]
  },
  {
   "cell_type": "code",
   "execution_count": 87,
   "metadata": {},
   "outputs": [],
   "source": [
    "# Deepcopy\n",
    "# 리스트인 a를 b로 복사할 때\n",
    "# b = a로 복사하는 경우 주소가 복사되는 것이기 때문에\n",
    "# a 값 중 하나가 변경되어도 b가 같이 복사됨(동기화됨)\n",
    "\n",
    "# 하지만\n",
    "\n",
    "# slice    또는   copy함수를 통해 \n",
    "# b = a[:] 또는 b = copy(a)를 할 경우\n",
    "# 주소 복사가 아닌 값 복사만 된다.\n",
    "\n",
    "# 예외적으로 slice인 경우 [리스트[리스트]]인 목록형 데이터인 경우 값이 동기화가 된다. >> shallow copy"
   ]
  },
  {
   "cell_type": "markdown",
   "metadata": {},
   "source": [
    "[목차로 돌아가기](#목차)"
   ]
  },
  {
   "cell_type": "markdown",
   "metadata": {},
   "source": [
    "# 조건문"
   ]
  },
  {
   "cell_type": "markdown",
   "metadata": {},
   "source": [
    "__구조__\\\n",
    "if 조건식 :\\\n",
    "(들여쓰기)조건이 참일 때 수행되는 블록"
   ]
  },
  {
   "cell_type": "code",
   "execution_count": 88,
   "metadata": {},
   "outputs": [
    {
     "name": "stdout",
     "output_type": "stream",
     "text": [
      "청소년 할인\n"
     ]
    }
   ],
   "source": [
    "# example1\n",
    "age = 15\n",
    "if age < 20:\n",
    "    print('청소년 할인')"
   ]
  },
  {
   "cell_type": "code",
   "execution_count": 89,
   "metadata": {},
   "outputs": [
    {
     "name": "stdout",
     "output_type": "stream",
     "text": [
      "bye\n",
      "hi\n",
      "bye\n",
      "hi\n",
      "bye\n",
      "hi\n",
      "bye\n",
      "hi\n",
      "bye\n",
      "hi\n"
     ]
    }
   ],
   "source": [
    "# example2\n",
    "for i in range(1,11):\n",
    "    if i%2==0:\n",
    "        print('hi')\n",
    "    else:\n",
    "        print('bye')"
   ]
  },
  {
   "cell_type": "code",
   "execution_count": 90,
   "metadata": {},
   "outputs": [
    {
     "name": "stdout",
     "output_type": "stream",
     "text": [
      "381\n",
      "<class 'str'>\n",
      "381\n",
      "<class 'float'>\n",
      "381\n",
      "<class 'int'>\n"
     ]
    }
   ],
   "source": [
    "#######\n",
    "####### 임의의 숫자 입력값 받아오기\n",
    "#######\n",
    "print(type(input()))\n",
    "# >> string\n",
    "# 따라서 int, float와 같은 형태를 지정해줘야 함\n",
    "print(type(float(input())))\n",
    "print(type(int(input())))\n"
   ]
  },
  {
   "cell_type": "code",
   "execution_count": 91,
   "metadata": {},
   "outputs": [],
   "source": [
    "# if - elif - else 구문\n",
    "# 다중 조건"
   ]
  },
  {
   "cell_type": "code",
   "execution_count": 92,
   "metadata": {},
   "outputs": [],
   "source": [
    "# pass 키워드\n",
    "# 조건문에서 아무일도 일어나지 않게 하려면\n",
    "# example\n",
    "pocket = ['paper', 'money', 'cellphone']\n",
    "if 'money' in pocket:\n",
    "    pass # pass를 안쓰게 되면 오류가 남\n",
    "else:\n",
    "    print('카드를 꺼내라')"
   ]
  },
  {
   "cell_type": "code",
   "execution_count": 93,
   "metadata": {},
   "outputs": [],
   "source": [
    "# 조건부 간편 표현식\n",
    "# message = 'success' if score >= 60 else 'failure'\n",
    "# 조건이 참인 경우 if 조건문 else 조건문이 거짓인 경우"
   ]
  },
  {
   "cell_type": "markdown",
   "metadata": {},
   "source": [
    "[목차로 돌아가기](#목차)"
   ]
  },
  {
   "cell_type": "markdown",
   "metadata": {},
   "source": [
    "# 반복문 While"
   ]
  },
  {
   "cell_type": "code",
   "execution_count": 94,
   "metadata": {},
   "outputs": [
    {
     "name": "stdout",
     "output_type": "stream",
     "text": [
      "welcome\n",
      "welcome\n",
      "welcome\n",
      "welcome\n",
      "welcome\n"
     ]
    }
   ],
   "source": [
    "# 형식\n",
    "# while 조건식:\n",
    "# (들여쓰기) 실행할 코드 블록\n",
    "\n",
    "# example1\n",
    "i = 0\n",
    "while i < 5:\n",
    "    print('welcome')\n",
    "    i += 1"
   ]
  },
  {
   "cell_type": "code",
   "execution_count": 95,
   "metadata": {},
   "outputs": [
    {
     "name": "stdout",
     "output_type": "stream",
     "text": [
      "나무를 1번 찍었습니다.\n",
      "나무를 2번 찍었습니다.\n",
      "나무를 3번 찍었습니다.\n",
      "나무를 4번 찍었습니다.\n",
      "나무를 5번 찍었습니다.\n",
      "나무를 6번 찍었습니다.\n",
      "나무를 7번 찍었습니다.\n",
      "나무를 8번 찍었습니다.\n",
      "나무를 9번 찍었습니다.\n",
      "나무를 10번 찍었습니다.\n",
      "나무 넘어갑니다.\n"
     ]
    }
   ],
   "source": [
    "# example2\n",
    "treehit = 0\n",
    "while treehit < 10:\n",
    "    treehit += 1\n",
    "    print('나무를 %d번 찍었습니다.' %treehit)\n",
    "    if treehit == 10:\n",
    "        print('나무 넘어갑니다.')"
   ]
  },
  {
   "cell_type": "code",
   "execution_count": 96,
   "metadata": {},
   "outputs": [
    {
     "name": "stdout",
     "output_type": "stream",
     "text": [
      "\n",
      "1. Add\n",
      "2. Del\n",
      "3. List\n",
      "4. Quit\n",
      "\n",
      "Enter number: \n",
      "1\n",
      "\n",
      "1. Add\n",
      "2. Del\n",
      "3. List\n",
      "4. Quit\n",
      "\n",
      "Enter number: \n",
      "2\n",
      "\n",
      "1. Add\n",
      "2. Del\n",
      "3. List\n",
      "4. Quit\n",
      "\n",
      "Enter number: \n",
      "3\n",
      "\n",
      "1. Add\n",
      "2. Del\n",
      "3. List\n",
      "4. Quit\n",
      "\n",
      "Enter number: \n",
      "4\n"
     ]
    }
   ],
   "source": [
    "# example3\n",
    "prompt = '''\n",
    "1. Add\n",
    "2. Del\n",
    "3. List\n",
    "4. Quit\n",
    "\n",
    "Enter number: '''\n",
    "number = 0\n",
    "while number != 4:\n",
    "    print(prompt)\n",
    "    number = int(input())"
   ]
  },
  {
   "cell_type": "code",
   "execution_count": 97,
   "metadata": {},
   "outputs": [
    {
     "name": "stdout",
     "output_type": "stream",
     "text": [
      "돈을 넣어주세요 :900\n",
      "거스름돈 600 를 주고 커피를 줍니다\n",
      "남은 돈은 600원 입니다\n",
      "남은 커피의 양은 2개 입니다\n",
      "돈을 넣어주세요 :600\n",
      "거스름돈 300 를 주고 커피를 줍니다\n",
      "남은 돈은 300원 입니다\n",
      "남은 커피의 양은 1개 입니다\n",
      "돈을 넣어주세요 :300\n",
      "커피를 줍니다\n",
      "남은 돈은 0원 입니다\n",
      "남은 커피의 양은 0개 입니다\n",
      "커피가 다 떨어졌습니다. 판매를 중지합니다\n"
     ]
    }
   ],
   "source": [
    "coffee = 3\n",
    "while True:\n",
    "    money = int(input('돈을 넣어주세요 :'))\n",
    "    if money == 300:\n",
    "        print('커피를 줍니다')\n",
    "        coffee -= 1\n",
    "        money = money - 300\n",
    "        print('남은 돈은 %d원 입니다' % money)\n",
    "        print('남은 커피의 양은 %d개 입니다' %coffee)\n",
    "    \n",
    "    elif money > 300:\n",
    "        print('거스름돈 %d 를 주고 커피를 줍니다' %(money-300))\n",
    "        coffee -= 1\n",
    "        money = money - 300\n",
    "        print('남은 돈은 %d원 입니다' % money)\n",
    "        print('남은 커피의 양은 %d개 입니다' %coffee)\n",
    "        \n",
    "    else:\n",
    "        print('돈을 다시 돌려주고 커피를 주지 않습니다')\n",
    "        print('남은 커피의 양은 %d개 입니다' %coffee)\n",
    "        break\n",
    "    \n",
    "    if not coffee:\n",
    "        print('커피가 다 떨어졌습니다. 판매를 중지합니다')\n",
    "        break"
   ]
  },
  {
   "cell_type": "markdown",
   "metadata": {},
   "source": [
    "[목차로 돌아가기](#목차)\n"
   ]
  },
  {
   "cell_type": "markdown",
   "metadata": {},
   "source": [
    "# 반복문 For"
   ]
  },
  {
   "cell_type": "code",
   "execution_count": 98,
   "metadata": {},
   "outputs": [
    {
     "name": "stdout",
     "output_type": "stream",
     "text": [
      "11 22 33 44 55 66 \n",
      "1.1 2.5 3.7 5.6 9.2 11.3 6.8 "
     ]
    }
   ],
   "source": [
    "# 형식\n",
    "# for 변수 in 리스트(또는 튜플, 문자열):\n",
    "#(들여쓰기) 수행할 문장1\n",
    "#(들여쓰기) 수행할 문장2\n",
    "#        .\n",
    "#        .\n",
    "#        .\n",
    "\n",
    "# example1\n",
    "numbers = [11,22,33,44,55,66]\n",
    "for n in numbers:\n",
    "    print(n, end= ' ')\n",
    "print()\n",
    "\n",
    "# example2\n",
    "f_numbers = [1.1, 2.5, 3.7, 5.6, 9.2, 11.3, 6.8]\n",
    "for f in f_numbers:\n",
    "    print(f, end = ' ')"
   ]
  },
  {
   "cell_type": "code",
   "execution_count": 99,
   "metadata": {},
   "outputs": [
    {
     "name": "stdout",
     "output_type": "stream",
     "text": [
      "2*1 =  2 2*2 =  4 2*3 =  6 2*4 =  8 2*5 = 10 2*6 = 12 2*7 = 14 2*8 = 16 2*9 = 18 \n",
      "3*1 =  3 3*2 =  6 3*3 =  9 3*4 = 12 3*5 = 15 3*6 = 18 3*7 = 21 3*8 = 24 3*9 = 27 \n",
      "4*1 =  4 4*2 =  8 4*3 = 12 4*4 = 16 4*5 = 20 4*6 = 24 4*7 = 28 4*8 = 32 4*9 = 36 \n",
      "5*1 =  5 5*2 = 10 5*3 = 15 5*4 = 20 5*5 = 25 5*6 = 30 5*7 = 35 5*8 = 40 5*9 = 45 \n",
      "6*1 =  6 6*2 = 12 6*3 = 18 6*4 = 24 6*5 = 30 6*6 = 36 6*7 = 42 6*8 = 48 6*9 = 54 \n",
      "7*1 =  7 7*2 = 14 7*3 = 21 7*4 = 28 7*5 = 35 7*6 = 42 7*7 = 49 7*8 = 56 7*9 = 63 \n",
      "8*1 =  8 8*2 = 16 8*3 = 24 8*4 = 32 8*5 = 40 8*6 = 48 8*7 = 56 8*8 = 64 8*9 = 72 \n",
      "9*1 =  9 9*2 = 18 9*3 = 27 9*4 = 36 9*5 = 45 9*6 = 54 9*7 = 63 9*8 = 72 9*9 = 81 \n"
     ]
    }
   ],
   "source": [
    "# 이중 For 문\n",
    "# example\n",
    "for i in range(2,10):\n",
    "    for j in range(1,10):\n",
    "        print('{}*{} = {:2d}'.format(i,j,i*j), end = ' ')\n",
    "    print()"
   ]
  },
  {
   "cell_type": "code",
   "execution_count": 100,
   "metadata": {},
   "outputs": [
    {
     "name": "stdout",
     "output_type": "stream",
     "text": [
      "range(0, 10)\n",
      "[0, 1, 2, 3, 4, 5, 6, 7, 8, 9]\n",
      "(0, 1, 2, 3, 4, 5, 6, 7, 8, 9)\n"
     ]
    }
   ],
   "source": [
    "# range()\n",
    "\n",
    "a = range(10)\n",
    "print(a)\n",
    "print(list(a))\n",
    "print(tuple(a))"
   ]
  },
  {
   "cell_type": "code",
   "execution_count": 101,
   "metadata": {},
   "outputs": [
    {
     "name": "stdout",
     "output_type": "stream",
     "text": [
      "welcome\n",
      "welcome\n",
      "welcome\n",
      "welcome\n",
      "welcome\n"
     ]
    }
   ],
   "source": [
    "# example1\n",
    "for i in range(5):\n",
    "    print('welcome')"
   ]
  },
  {
   "cell_type": "code",
   "execution_count": 102,
   "metadata": {},
   "outputs": [
    {
     "name": "stdout",
     "output_type": "stream",
     "text": [
      "one\n",
      "two\n",
      "three\n"
     ]
    }
   ],
   "source": [
    "# example2\n",
    "test_list = ['one','two','three']\n",
    "for i in test_list:\n",
    "    print(i)"
   ]
  },
  {
   "cell_type": "code",
   "execution_count": 103,
   "metadata": {},
   "outputs": [
    {
     "name": "stdout",
     "output_type": "stream",
     "text": [
      "3\n",
      "7\n",
      "11\n"
     ]
    }
   ],
   "source": [
    "# example3\n",
    "a = [(1,2),(3,4),(5,6)]\n",
    "for (first,last) in a:\n",
    "    print(first + last)"
   ]
  },
  {
   "cell_type": "code",
   "execution_count": 104,
   "metadata": {},
   "outputs": [
    {
     "name": "stdout",
     "output_type": "stream",
     "text": [
      "1번 학생은 합격입니다\n",
      "2번 학생은 불합격입니다.\n",
      "3번 학생은 합격입니다\n",
      "4번 학생은 불합격입니다.\n",
      "5번 학생은 합격입니다\n"
     ]
    }
   ],
   "source": [
    "# example4\n",
    "marks = [92,25,67,45,80]\n",
    "number = 0\n",
    "for mark in marks:\n",
    "    number = number + 1\n",
    "    if mark >= 60:\n",
    "        print(\"%d번 학생은 합격입니다\" %number)\n",
    "    else:\n",
    "        print('%d번 학생은 불합격입니다.' %number)"
   ]
  },
  {
   "cell_type": "code",
   "execution_count": 105,
   "metadata": {},
   "outputs": [
    {
     "name": "stdout",
     "output_type": "stream",
     "text": [
      "1번 학생 축하합니다.\n",
      "3번 학생 축하합니다.\n",
      "5번 학생 축하합니다.\n"
     ]
    }
   ],
   "source": [
    "# example5\n",
    "marks = [90,25,67,45,80]\n",
    "for number in range(len(marks)):\n",
    "    if marks[number] < 60: continue\n",
    "    print('%d번 학생 축하합니다.' % (number + 1))"
   ]
  },
  {
   "cell_type": "code",
   "execution_count": 106,
   "metadata": {},
   "outputs": [
    {
     "name": "stdout",
     "output_type": "stream",
     "text": [
      "0 A\n",
      "1 B\n",
      "2 C\n"
     ]
    }
   ],
   "source": [
    "# for문 enumerate함수\n",
    "# >> 순서를 같이 출력하고자 할 때\n",
    "names = ['A','B','C']\n",
    "for x, name in enumerate(names):\n",
    "    print(x,name)"
   ]
  },
  {
   "cell_type": "code",
   "execution_count": 107,
   "metadata": {},
   "outputs": [
    {
     "name": "stdout",
     "output_type": "stream",
     "text": [
      "A 70\n",
      "B 80\n",
      "C 90\n"
     ]
    }
   ],
   "source": [
    "# for문 zip함수\n",
    "# >> 길이가 같은 두개의 리스트를 for 문에서 같이 돌릴 때\n",
    "names = ['A','B','C']\n",
    "scores = [70,80,90]\n",
    "\n",
    "for name, score in zip(names, scores):\n",
    "    print(name,score)"
   ]
  },
  {
   "cell_type": "code",
   "execution_count": 108,
   "metadata": {},
   "outputs": [
    {
     "name": "stdout",
     "output_type": "stream",
     "text": [
      "0 python 파이썬\n",
      "1 076923 076923\n",
      "2 yundahee 윤대희\n"
     ]
    }
   ],
   "source": [
    "# for 다중색인 변환\n",
    "data1 = ['python', '076923', 'yundahee', 'x']\n",
    "data2 = ['파이썬', '076923', '윤대희']\n",
    "\n",
    "for i,(datum1,datum2) in enumerate(zip(data1,data2)):\n",
    "    print(i,datum1,datum2)\n"
   ]
  },
  {
   "cell_type": "code",
   "execution_count": 109,
   "metadata": {},
   "outputs": [
    {
     "name": "stdout",
     "output_type": "stream",
     "text": [
      "[2, 4, 6, 8, 10, 12, 14, 16, 18, 20, 22, 24, 26, 28, 30, 32, 34, 36, 38, 40, 42, 44, 46, 48, 50, 52, 54, 56, 58, 60, 62, 64, 66, 68, 70, 72, 74, 76, 78, 80, 82, 84, 86, 88, 90, 92, 94, 96, 98, 100]\n",
      "[2, 4, 6, 8, 10, 12, 14, 16, 18, 20, 22, 24, 26, 28, 30, 32, 34, 36, 38, 40, 42, 44, 46, 48, 50, 52, 54, 56, 58, 60, 62, 64, 66, 68, 70, 72, 74, 76, 78, 80, 82, 84, 86, 88, 90, 92, 94, 96, 98, 100]\n"
     ]
    }
   ],
   "source": [
    "# 리스트 내포를 활용한 1에서 100까지 짝수인 수\n",
    "result_1 = [x for x in range(2,101,2)]\n",
    "print(result_1)\n",
    "# 또는\n",
    "result_2 = [x for x in range(1,101) if x%2 ==0]\n",
    "print(result_2)"
   ]
  },
  {
   "cell_type": "code",
   "execution_count": 110,
   "metadata": {},
   "outputs": [
    {
     "name": "stdout",
     "output_type": "stream",
     "text": [
      "[4, 6, 8, 10, 12, 14, 16, 18, 6, 9, 12, 15, 18, 21, 24, 27, 8, 12, 16, 20, 24, 28, 32, 36, 10, 15, 20, 25, 30, 35, 40, 45, 12, 18, 24, 30, 36, 42, 48, 54, 14, 21, 28, 35, 42, 49, 56, 63, 16, 24, 32, 40, 48, 56, 64, 72, 18, 27, 36, 45, 54, 63, 72, 81]\n"
     ]
    }
   ],
   "source": [
    "result = [x*y for x in range(2,10) for y in range(2,10)]\n",
    "print(result)"
   ]
  },
  {
   "cell_type": "markdown",
   "metadata": {},
   "source": [
    "[목차로 돌아가기](#목차)\n"
   ]
  },
  {
   "cell_type": "markdown",
   "metadata": {},
   "source": [
    "# Function"
   ]
  },
  {
   "cell_type": "code",
   "execution_count": 111,
   "metadata": {},
   "outputs": [
    {
     "name": "stdout",
     "output_type": "stream",
     "text": [
      "10과 20의 합 : 30\n",
      "두 수의 합 : 300\n"
     ]
    }
   ],
   "source": [
    "## 형식\n",
    "# def func_name(x1,x2,...):\n",
    "#(들여쓰기)code1\n",
    "#(들여쓰기)code2\n",
    "#       .\n",
    "#       .\n",
    "#       .\n",
    "# return n1[, n2, ...] # >> 생략가능\n",
    "\n",
    "# example1\n",
    "def print_star():\n",
    "    print('***************')\n",
    "\n",
    "# example2\n",
    "def get_sum(a,b):\n",
    "    result = a+b\n",
    "    return(result)\n",
    "\n",
    "n1 = get_sum(10,20)\n",
    "print('10과 20의 합 :', n1)\n",
    "\n",
    "\n",
    "# examaple3\n",
    "def get_sum(a,b):\n",
    "    return a+b\n",
    "result = get_sum(100,200)\n",
    "print('두 수의 합 :', result)"
   ]
  },
  {
   "cell_type": "code",
   "execution_count": 112,
   "metadata": {},
   "outputs": [
    {
     "name": "stdout",
     "output_type": "stream",
     "text": [
      "2.0\n",
      "2.0\n"
     ]
    },
    {
     "data": {
      "text/plain": [
       "1.0"
      ]
     },
     "execution_count": 112,
     "metadata": {},
     "output_type": "execute_result"
    }
   ],
   "source": [
    "# function 매개변수\n",
    "def div(a,b=2):\n",
    "    return a/b\n",
    "\n",
    "# b=2가 디폴트값으로 지정안되었을 경우 2\n",
    "# 다른 값이 지정될 경우 지정 값 사용\n",
    "\n",
    "print(div(4))\n",
    "print(div(6,3))\n",
    "\n",
    "\n",
    "# ! 예외적인 경우 !  \n",
    "# 디폴트 값 지정을 맨 앞 변수에 지정할 경우 에러남\n",
    "\n",
    "#### def div(a=2,b):\n",
    "####    return a/b\n",
    "#### >> 오류남\n",
    "\n",
    "\n",
    "# 모든 값에 디폴트를 지정가능\n",
    "def div(a=2,b=2):\n",
    "    return a/b\n",
    "div()"
   ]
  },
  {
   "cell_type": "code",
   "execution_count": 113,
   "metadata": {},
   "outputs": [
    {
     "name": "stdout",
     "output_type": "stream",
     "text": [
      "2.0 -4.0\n",
      "2.0 -4.0\n"
     ]
    }
   ],
   "source": [
    "### 키워드인자 전달방법 vs 위치인자 전달방법\n",
    "def get_root (a, b, c):\n",
    "    r1 = (- b + (b ** 2 - 4 * a * c) ** 0.5) / (2 * a)\n",
    "    r2 = (- b - (b ** 2 - 4 * a * c) ** 0.5) / (2 * a)\n",
    "    return r1, r2\n",
    "\n",
    "result1, result2 = get_root(a=1, b=2, c = -8) #   >> O\n",
    "print(result1, result2)\n",
    "# result1, result2 = get_root(a=1, b=2, -8)   #   >> X   # 위치인자가 무조건 앞에 와야한다.\n",
    "result1, result2 = get_root(1, 2, c=-8)     #   >> O\n",
    "print(result1, result2)"
   ]
  },
  {
   "cell_type": "code",
   "execution_count": 114,
   "metadata": {},
   "outputs": [
    {
     "name": "stdout",
     "output_type": "stream",
     "text": [
      "6\n",
      "21\n"
     ]
    }
   ],
   "source": [
    "# 가변적인 인자전달\n",
    "# example\n",
    "def sum_many(*args):\n",
    "    sum = 0\n",
    "    for i in args:\n",
    "        sum = sum + i\n",
    "    return sum\n",
    "\n",
    "print(sum_many(1,2,3))\n",
    "print(sum_many(1,2,3,4,5,6))\n"
   ]
  },
  {
   "cell_type": "code",
   "execution_count": 115,
   "metadata": {},
   "outputs": [
    {
     "name": "stdout",
     "output_type": "stream",
     "text": [
      "()\n"
     ]
    }
   ],
   "source": [
    "# 가변인자는 입력값이 없어도 에러가 나지 않음\n",
    "# 말 그대로 가변인자이기 때문에 값이 Null이어도 상관이 없음\n",
    "def func(*args):\n",
    "    print(args)\n",
    "    \n",
    "func()"
   ]
  },
  {
   "cell_type": "code",
   "execution_count": 116,
   "metadata": {},
   "outputs": [
    {
     "name": "stdout",
     "output_type": "stream",
     "text": [
      "{'a': 1}\n",
      "{'name': 'foo', 'age': 3}\n"
     ]
    }
   ],
   "source": [
    "# 키워드 인자\n",
    "# 가변인자와 달리 ' ** '와 같은 별 표시가 두개 사용된다.\n",
    "# 결과는 Dictionary에 저장되고 딕셔너리 변수이다.\n",
    "def func(**def_name):\n",
    "    print(def_name)\n",
    "\n",
    "func(a=1)\n",
    "func(name='foo', age =3)"
   ]
  },
  {
   "cell_type": "code",
   "execution_count": 117,
   "metadata": {},
   "outputs": [
    {
     "name": "stdout",
     "output_type": "stream",
     "text": [
      "120 개입니다\n"
     ]
    }
   ],
   "source": [
    "# 가변인자 + 키워드인자 Example1\n",
    "def func(*data, **method):\n",
    "    num = sum(data) * method['scale']\n",
    "    print(num, method['unit'] + '입니다')\n",
    "\n",
    "func(3,4,5, scale = 10, unit = '개')"
   ]
  },
  {
   "cell_type": "code",
   "execution_count": 118,
   "metadata": {},
   "outputs": [
    {
     "name": "stdout",
     "output_type": "stream",
     "text": [
      "계산된 값입니다\n",
      "120 개입니다\n"
     ]
    }
   ],
   "source": [
    "# 가변인자 + 키워드인자 Example2\n",
    "def func(*data, message, **method):\n",
    "    print(message)\n",
    "    \n",
    "    num = sum(data) * method['scale']\n",
    "    print(num, method['unit'] + '입니다')\n",
    "\n",
    "func(3,4,5, message = '계산된 값입니다', scale = 10, unit = '개')"
   ]
  },
  {
   "cell_type": "code",
   "execution_count": 119,
   "metadata": {},
   "outputs": [
    {
     "name": "stdout",
     "output_type": "stream",
     "text": [
      "계산된 값입니다\n",
      "값이 10배 커집니다\n",
      "120 개입니다\n"
     ]
    }
   ],
   "source": [
    "# 가변인자 + 키워드인자 Example3\n",
    "# 위치인자는 항상 key(키)를 갖고 있기에 *data 보다 뒤에 올 수 있다.\n",
    "# 위치인자가 *data보다 뒤에 있을 경우, key를 명시해야 한다\n",
    "# 위치인자가 *data보다 앞에 있을 경우, key를 명시하지 않아도 된다.\n",
    "def func(message1, message2, *data, **method):\n",
    "    print(message1)\n",
    "    print(message2)\n",
    "    \n",
    "    num = sum(data) * method['scale']\n",
    "    print(num, method['unit'] + '입니다')\n",
    "\n",
    "func('계산된 값입니다', '값이 10배 커집니다', 3,4,5, scale = 10, unit = '개')"
   ]
  },
  {
   "cell_type": "code",
   "execution_count": 120,
   "metadata": {},
   "outputs": [
    {
     "name": "stdout",
     "output_type": "stream",
     "text": [
      "print_sum() 내부 : 10 과 20 의 합은 30 입니다\n",
      "print_sum() 내부 : 10 과 20 의 합은 30 입니다\n"
     ]
    }
   ],
   "source": [
    "# 전역변수\n",
    "# 함수 밖에서 선언되거나 전체 영역에서 사용 가능한 변수\n",
    "\n",
    "# Example1\n",
    "\n",
    "def print_sum():\n",
    "    result = a + b\n",
    "    print('print_sum() 내부 :', a, '과', b, '의 합은', result, '입니다')\n",
    "    \n",
    "a = 10  # 전역변수a\n",
    "b = 20  # 전역변수b\n",
    "print_sum()\n",
    "result = a+b\n",
    "print('print_sum() 내부 :', a, '과', b, '의 합은', result, '입니다')"
   ]
  },
  {
   "cell_type": "code",
   "execution_count": 121,
   "metadata": {},
   "outputs": [
    {
     "name": "stdout",
     "output_type": "stream",
     "text": [
      "print_sum() 내부 : 100 과 200 의 합은 300 입니다\n"
     ]
    }
   ],
   "source": [
    "# 전역변수\n",
    "# Example2\n",
    "def print_sum():\n",
    "    a = 100\n",
    "    b = 200\n",
    "    result = a + b\n",
    "    print('print_sum() 내부 :', a, '과', b, '의 합은', result, '입니다')\n",
    "\n",
    "a = 10\n",
    "b = 20\n",
    "print_sum()"
   ]
  },
  {
   "cell_type": "code",
   "execution_count": 122,
   "metadata": {},
   "outputs": [],
   "source": [
    "# 전역변수\n",
    "# Example3\n",
    "\n",
    "param = 10\n",
    "strdata = '전역변수'\n",
    "def func1():\n",
    "    strdata = '지역변수'\n",
    "    print(strdata)\n",
    "\n",
    "def func2(param):\n",
    "    param = 1\n",
    "    \n",
    "def func3():\n",
    "    global param  ### 'param이라고 하는 변수는 전역변수다' 라고하는 함수 : global\n",
    "    param = 50"
   ]
  },
  {
   "cell_type": "code",
   "execution_count": 123,
   "metadata": {},
   "outputs": [
    {
     "name": "stdout",
     "output_type": "stream",
     "text": [
      "지역변수\n",
      "전역변수\n",
      "10\n",
      "10\n",
      "50\n"
     ]
    }
   ],
   "source": [
    "func1()         # 지역변수\n",
    "print(strdata)  # 전역변수\n",
    "\n",
    "print(param)    # 10\n",
    "func2(param)    # print가 없기 때문에 값이 나오지 않음\n",
    "print(param)    # 10\n",
    "\n",
    "func3()         # print가 없기 때문에 값이 나오지 않음\n",
    "print(param)    # 50 >> global로 지정해줬기 때문에 이후의 param값은 50이 된다."
   ]
  },
  {
   "cell_type": "code",
   "execution_count": 124,
   "metadata": {},
   "outputs": [
    {
     "name": "stdout",
     "output_type": "stream",
     "text": [
      "2\n"
     ]
    }
   ],
   "source": [
    "# 전역함수 - Return 사용\n",
    "\n",
    "a = 1\n",
    "def vartest(a):\n",
    "    a += 1\n",
    "    return a\n",
    "\n",
    "a = vartest(a)\n",
    "print(a)"
   ]
  },
  {
   "cell_type": "code",
   "execution_count": 125,
   "metadata": {},
   "outputs": [
    {
     "name": "stdout",
     "output_type": "stream",
     "text": [
      "2\n"
     ]
    }
   ],
   "source": [
    "# 전역함수 - Return 사용\n",
    "\n",
    "a = 1\n",
    "def vartest():\n",
    "    global a\n",
    "    a += 1\n",
    "    \n",
    "vartest()\n",
    "print(a)"
   ]
  },
  {
   "cell_type": "code",
   "execution_count": 126,
   "metadata": {},
   "outputs": [
    {
     "name": "stdout",
     "output_type": "stream",
     "text": [
      "print_sum() 내부 : 100 과 200 의 합은 300 입니다\n",
      "print_sum() 외부 : 100 과 200 의 합은 300 입니다\n"
     ]
    }
   ],
   "source": [
    "# 전역변수 \n",
    "# Example4\n",
    "def print_sum():\n",
    "    global a,b\n",
    "    a = 100\n",
    "    b = 200\n",
    "    result = a + b\n",
    "    print('print_sum() 내부 :', a, '과', b, '의 합은', result, '입니다')\n",
    "\n",
    "a = 10\n",
    "b = 20\n",
    "print_sum()\n",
    "result = a + b\n",
    "print('print_sum() 외부 :', a, '과', b, '의 합은', result, '입니다')"
   ]
  },
  {
   "cell_type": "code",
   "execution_count": 127,
   "metadata": {},
   "outputs": [
    {
     "name": "stdout",
     "output_type": "stream",
     "text": [
      "[1, 2, 4, 5, 23]\n",
      "[2, 4, 1, 51, 3]\n"
     ]
    }
   ],
   "source": [
    "# 내장함수 sorted\n",
    "\n",
    "a = [2,4,1,5,23]\n",
    "a.sort()\n",
    "print(a)  # 원본이 바뀜\n",
    "\n",
    "b = [2,4,1,51,3]\n",
    "sorted(b)\n",
    "print(b)  # 원본이 바뀌지 않음"
   ]
  },
  {
   "cell_type": "code",
   "execution_count": 128,
   "metadata": {},
   "outputs": [
    {
     "name": "stdout",
     "output_type": "stream",
     "text": [
      "<class 'str'>\n",
      "<class 'int'>\n"
     ]
    }
   ],
   "source": [
    "# 내장함수 eval\n",
    "# 숫자로된 문자열을 숫자형으로 바꾸어줌\n",
    "a = '343+391+495'\n",
    "print(type(a))\n",
    "b = eval('343+391+495')\n",
    "print(type(b))"
   ]
  },
  {
   "cell_type": "code",
   "execution_count": 129,
   "metadata": {},
   "outputs": [
    {
     "data": {
      "text/plain": [
       "datetime.datetime(2023, 4, 26, 9, 57, 18, 91962)"
      ]
     },
     "execution_count": 129,
     "metadata": {},
     "output_type": "execute_result"
    }
   ],
   "source": [
    "## 함수 모듈, 라이브러리\n",
    "\n",
    "# 현재시간\n",
    "import datetime\n",
    "datetime.datetime.now()"
   ]
  },
  {
   "cell_type": "code",
   "execution_count": 130,
   "metadata": {},
   "outputs": [
    {
     "name": "stdout",
     "output_type": "stream",
     "text": [
      "5초간 프로그램을 정지합니다\n",
      "5초가 지났습니다.\n"
     ]
    }
   ],
   "source": [
    "# 타임슬립\n",
    "import time\n",
    "\n",
    "print('5초간 프로그램을 정지합니다')\n",
    "time.sleep(5)\n",
    "print('5초가 지났습니다.')"
   ]
  },
  {
   "cell_type": "markdown",
   "metadata": {},
   "source": [
    "[목차로 돌아가기](#목차)\n"
   ]
  },
  {
   "cell_type": "markdown",
   "metadata": {},
   "source": [
    "# 기타 함수"
   ]
  },
  {
   "cell_type": "code",
   "execution_count": 131,
   "metadata": {},
   "outputs": [
    {
     "data": {
      "text/plain": [
       "7"
      ]
     },
     "execution_count": 131,
     "metadata": {},
     "output_type": "execute_result"
    }
   ],
   "source": [
    "# 람다 함수\n",
    "sum = lambda a,b : a+b\n",
    "sum(3,4)"
   ]
  },
  {
   "cell_type": "code",
   "execution_count": 132,
   "metadata": {},
   "outputs": [],
   "source": [
    "def sum(a,b):\n",
    "    return a+b"
   ]
  },
  {
   "cell_type": "code",
   "execution_count": 133,
   "metadata": {},
   "outputs": [
    {
     "name": "stdout",
     "output_type": "stream",
     "text": [
      "[<function <lambda> at 0x00000268915ED7E0>, <function <lambda> at 0x00000268915ED750>]\n",
      "<function <lambda> at 0x00000268915ED7E0>\n",
      "7\n",
      "12\n"
     ]
    }
   ],
   "source": [
    "mylist = [lambda a,b:a+b, lambda a,b:a*b]\n",
    "\n",
    "print(mylist)\n",
    "print(mylist[0])\n",
    "print(mylist[0](3,4))\n",
    "print(mylist[1](3,4))"
   ]
  },
  {
   "cell_type": "code",
   "execution_count": 134,
   "metadata": {},
   "outputs": [
    {
     "name": "stdout",
     "output_type": "stream",
     "text": [
      "1\n",
      "3\n",
      "27\n"
     ]
    }
   ],
   "source": [
    "f = lambda : 1\n",
    "print(f())\n",
    "\n",
    "g = lambda x,y:x+y\n",
    "print(g(1,2))\n",
    "\n",
    "print((lambda x:x**x)(3))\n"
   ]
  },
  {
   "cell_type": "code",
   "execution_count": 135,
   "metadata": {},
   "outputs": [
    {
     "name": "stdout",
     "output_type": "stream",
     "text": [
      "100과 200의 합 : 300\n"
     ]
    }
   ],
   "source": [
    "# 람다 함수 간단 표현법\n",
    "print('100과 200의 합 :', (lambda x,y:x+y)(100,200))"
   ]
  },
  {
   "cell_type": "code",
   "execution_count": 136,
   "metadata": {},
   "outputs": [
    {
     "name": "stdout",
     "output_type": "stream",
     "text": [
      "14\n"
     ]
    }
   ],
   "source": [
    "f = lambda * x: max(x) * 2\n",
    "print(f(1,3,7))"
   ]
  },
  {
   "cell_type": "code",
   "execution_count": 137,
   "metadata": {},
   "outputs": [
    {
     "name": "stdout",
     "output_type": "stream",
     "text": [
      "2\n",
      "3\n",
      "4\n"
     ]
    }
   ],
   "source": [
    "f = [lambda x: x+1, lambda x: x+2, lambda x: x+3]\n",
    "\n",
    "print(f[0](1))\n",
    "print(f[1](1))\n",
    "print(f[2](1))"
   ]
  },
  {
   "cell_type": "markdown",
   "metadata": {},
   "source": [
    "---"
   ]
  },
  {
   "cell_type": "code",
   "execution_count": 138,
   "metadata": {},
   "outputs": [
    {
     "name": "stdout",
     "output_type": "stream",
     "text": [
      "[-5, -4, -3, -2, -1, 0, 1, 2, 3, 4]\n"
     ]
    }
   ],
   "source": [
    "def func(x):\n",
    "    if x>0:\n",
    "        return x\n",
    "    else:\n",
    "        return x - 100\n",
    "    \n",
    "print(list(filter(func, range(-5,5))))"
   ]
  },
  {
   "cell_type": "code",
   "execution_count": 139,
   "metadata": {},
   "outputs": [
    {
     "name": "stdout",
     "output_type": "stream",
     "text": [
      "[-4, -2, 0, 2, 4]\n"
     ]
    }
   ],
   "source": [
    "def func(x):\n",
    "    if (x>2) - 1 > 0:\n",
    "        return True\n",
    "    elif x % 2 == 0:\n",
    "        return True\n",
    "    else:\n",
    "        return False\n",
    "    \n",
    "print(list(filter(func, range(-5,5))))"
   ]
  },
  {
   "cell_type": "code",
   "execution_count": 140,
   "metadata": {},
   "outputs": [
    {
     "name": "stdout",
     "output_type": "stream",
     "text": [
      "나이 리스트 :\n",
      "34 39 20 54 "
     ]
    }
   ],
   "source": [
    "def adult_func(n):\n",
    "    # 19세 이상값이 들어오면 True 그렇지 않으면 False를 반환\n",
    "    if n >= 19:\n",
    "        return True\n",
    "    else:\n",
    "        return False\n",
    "\n",
    "ages = [34,39,20,18,13,54]\n",
    "print('나이 리스트 :')\n",
    "for a in filter(adult_func,ages): # filter를 사용한 ages의 필터\n",
    "    print(a,end=' ')"
   ]
  },
  {
   "cell_type": "code",
   "execution_count": 141,
   "metadata": {},
   "outputs": [
    {
     "name": "stdout",
     "output_type": "stream",
     "text": [
      "나이 리스트 :\n",
      "34 39 20 54 "
     ]
    }
   ],
   "source": [
    "ages = [34,39,20,18,13,54]\n",
    "print('나이 리스트 :')\n",
    "for a in filter(lambda x: x>=19, ages): # filter를 사용한 ages의 필터\n",
    "    print(a,end=' ')"
   ]
  },
  {
   "cell_type": "markdown",
   "metadata": {},
   "source": [
    "---"
   ]
  },
  {
   "cell_type": "code",
   "execution_count": 142,
   "metadata": {},
   "outputs": [
    {
     "name": "stdout",
     "output_type": "stream",
     "text": [
      "[1, 4, 9, 16, 25, 36, 49]\n",
      "[1, 4, 9, 16, 25, 36, 49]\n"
     ]
    }
   ],
   "source": [
    "# Map 함수\n",
    "a = [1,2,3,4,5,6,7]\n",
    "square_a = []\n",
    "for n in a:\n",
    "    square_a.append(n**2)\n",
    "    \n",
    "print(square_a)\n",
    "\n",
    "\n",
    "# >>>\n",
    "\n",
    "def square(x):\n",
    "    return x ** 2\n",
    "\n",
    "a = [1,2,3,4,5,6,7]\n",
    "square_a = list(map(square,a))\n",
    "print(square_a)"
   ]
  },
  {
   "cell_type": "code",
   "execution_count": 143,
   "metadata": {},
   "outputs": [
    {
     "name": "stdout",
     "output_type": "stream",
     "text": [
      "[1, 4, 9, 16, 25, 36, 49]\n"
     ]
    }
   ],
   "source": [
    "a = [1,2,3,4,5,6,7]\n",
    "square_a = list(map(lambda x:x**2,a))\n",
    "print(square_a)"
   ]
  },
  {
   "cell_type": "code",
   "execution_count": 144,
   "metadata": {},
   "outputs": [
    {
     "name": "stdout",
     "output_type": "stream",
     "text": [
      "[('Y', 1, '하나'), ('U', 2, '둘'), ('N', 3, '셋')]\n",
      "{('Y', 1, '하나'), ('N', 3, '셋'), ('U', 2, '둘')}\n",
      "{'Y': 1, 'U': 2, 'N': 3}\n"
     ]
    }
   ],
   "source": [
    "# Zip 집 함수\n",
    "# Example1\n",
    "\n",
    "a = 'YUN'\n",
    "b = [1,2,3]\n",
    "c = ('하나','둘','셋')\n",
    "\n",
    "print(list(zip(a,b,c)))\n",
    "print(set(zip(a,b,c)))\n",
    "print(dict(zip(a,b)))"
   ]
  },
  {
   "cell_type": "code",
   "execution_count": 145,
   "metadata": {},
   "outputs": [
    {
     "name": "stdout",
     "output_type": "stream",
     "text": [
      "[1, 2, 3] [4, 5, 6]\n",
      "[(1, 4), (2, 5), (3, 6)]\n",
      "[(1, 4), (2, 5), (3, 6)]\n"
     ]
    }
   ],
   "source": [
    "numbers = [[1,2,3],[4,5,6]]\n",
    "\n",
    "print(*numbers)\n",
    "print(list(zip(*numbers)))\n",
    "print(list(zip([1,2,3],[4,5,6])))"
   ]
  },
  {
   "cell_type": "code",
   "execution_count": 146,
   "metadata": {},
   "outputs": [
    {
     "name": "stdout",
     "output_type": "stream",
     "text": [
      "10\n",
      "24\n"
     ]
    }
   ],
   "source": [
    "# 리듀스(reduce) 함수\n",
    "# 앞의 두 변수 먼저 조건식에 맞는 결과를 출력하고\n",
    "# 그 다음 변수에 조건식을 넣고\n",
    "# 계속해서 반복\n",
    "from functools import reduce\n",
    "a = [1,2,3,4]\n",
    "n = reduce(lambda x,y: x+y,a)\n",
    "print(n)\n",
    "\n",
    "b = [1,2,3,4]\n",
    "m = reduce(lambda x,y: x*y,a)\n",
    "print(m)"
   ]
  },
  {
   "cell_type": "markdown",
   "metadata": {},
   "source": [
    "---"
   ]
  },
  {
   "cell_type": "code",
   "execution_count": 147,
   "metadata": {},
   "outputs": [
    {
     "name": "stdout",
     "output_type": "stream",
     "text": [
      "[36, 49, 64, 81]\n",
      "[36, 64]\n",
      "[0, 1, 4, 9, 16, 5, 6, 7, 8, 9]\n"
     ]
    }
   ],
   "source": [
    "# 간소화 : comprehension\n",
    "# 리스트 comprehension(리스트 축약) \n",
    "# >> {표현식} for {변수} in {반복자/연속열} if {조건 표현식} ]\n",
    "# 또는 [{표현식} for {변수} in {반복자/연속열}]\n",
    "\n",
    "# Example1\n",
    "L1 = [i**2 for i in range(10) if (i > 5)]\n",
    "print(L1)\n",
    "\n",
    "L2 = [i**2 for i in range(10) if (i>5) and (i%2 ==0)]\n",
    "print(L2)\n",
    "\n",
    "L3 = [i**2 if i<5 else i for i in range(10)]\n",
    "print(L3)"
   ]
  },
  {
   "cell_type": "code",
   "execution_count": 148,
   "metadata": {},
   "outputs": [
    {
     "name": "stdout",
     "output_type": "stream",
     "text": [
      "(0, 7, 6, 9, 2, 3)\n"
     ]
    }
   ],
   "source": [
    "# Tuple comprehension\n",
    "data = [0,7,6,9,2,3]\n",
    "T = tuple((i for i in data))\n",
    "print(T)"
   ]
  },
  {
   "cell_type": "code",
   "execution_count": 149,
   "metadata": {},
   "outputs": [
    {
     "name": "stdout",
     "output_type": "stream",
     "text": [
      "{'Y', 'H', 'A', 'E', 'D', 'U', 'N'}\n",
      "{'Y', 'H', 'A', 'E', 'D', 'U', 'N'}\n"
     ]
    }
   ],
   "source": [
    "# Set comprehension\n",
    "# 주의 !!set은 중복을 허용하지 않는다!!\n",
    "# set은 순서가 중요하지 않다\n",
    "text = 'YUNDAHEE'\n",
    "S1 = set([i for i in text])\n",
    "print(S1)\n",
    "\n",
    "S2 = {i for i in text}\n",
    "print(S2)"
   ]
  },
  {
   "cell_type": "code",
   "execution_count": 150,
   "metadata": {},
   "outputs": [
    {
     "name": "stdout",
     "output_type": "stream",
     "text": [
      "{'c': 1, 'h': 1, 'e': 3, 's': 1}\n"
     ]
    }
   ],
   "source": [
    "# Dictionary comprehension\n",
    "text = 'cheese'\n",
    "D = {i : text.count(i) for i in text}\n",
    "print(D)"
   ]
  },
  {
   "cell_type": "markdown",
   "metadata": {},
   "source": [
    "---"
   ]
  },
  {
   "cell_type": "code",
   "execution_count": 151,
   "metadata": {},
   "outputs": [
    {
     "name": "stdout",
     "output_type": "stream",
     "text": [
      "나이 리스트 : [34, 39, 20, 54]\n",
      "나이 리스트 : [34, 39, 20, 54]\n"
     ]
    }
   ],
   "source": [
    "# If 조건식을 활용한 필터링\n",
    "# Example1\n",
    "ages = [34,39,20,18,13,54]\n",
    "adult_ages = list(filter(lambda x: x>= 19, ages))\n",
    "print('나이 리스트 :', adult_ages)\n",
    "\n",
    "ages = [34,39,20,18,13,54]\n",
    "print('나이 리스트 :', [x for x in ages if x>= 19])"
   ]
  },
  {
   "cell_type": "code",
   "execution_count": 152,
   "metadata": {},
   "outputs": [
    {
     "name": "stdout",
     "output_type": "stream",
     "text": [
      "정수를 여러개 입력하세요 : 12 13 14\n"
     ]
    },
    {
     "data": {
      "text/plain": [
       "[12, 13, 14]"
      ]
     },
     "execution_count": 152,
     "metadata": {},
     "output_type": "execute_result"
    }
   ],
   "source": [
    "# Example2\n",
    "[int(x) for x in input('정수를 여러개 입력하세요 : ').split()]"
   ]
  },
  {
   "cell_type": "code",
   "execution_count": 153,
   "metadata": {},
   "outputs": [
    {
     "name": "stdout",
     "output_type": "stream",
     "text": [
      "[2, 4, 6, 4, 8, 12, 6, 12, 18]\n",
      "[2, 4, 6, 4, 8, 12, 6, 12, 18]\n"
     ]
    }
   ],
   "source": [
    "# Example3\n",
    "product_xy = []\n",
    "for x in [1,2,3]:\n",
    "    for y in [2,4,6]:\n",
    "        product_xy.append(x*y)\n",
    "print(product_xy)\n",
    "\n",
    "# 또는\n",
    "product_xy = [x*y for x in [1,2,3] for y in [2,4,6]]\n",
    "print(product_xy)"
   ]
  },
  {
   "cell_type": "code",
   "execution_count": 154,
   "metadata": {},
   "outputs": [
    {
     "data": {
      "text/plain": [
       "[6, 12, 18, 24, 30]"
      ]
     },
     "execution_count": 154,
     "metadata": {},
     "output_type": "execute_result"
    }
   ],
   "source": [
    "# Example4\n",
    "[n for n in range(1,31) if n % 2 == 0 if n % 3 == 0]"
   ]
  },
  {
   "cell_type": "code",
   "execution_count": 155,
   "metadata": {},
   "outputs": [
    {
     "data": {
      "text/plain": [
       "[30]"
      ]
     },
     "execution_count": 155,
     "metadata": {},
     "output_type": "execute_result"
    }
   ],
   "source": [
    "# Exmaple5\n",
    "[n for n in range(1,31) if n % 2 == 0 if n % 3 == 0 if n % 5 == 0]"
   ]
  },
  {
   "cell_type": "markdown",
   "metadata": {},
   "source": [
    "---"
   ]
  },
  {
   "cell_type": "code",
   "execution_count": 156,
   "metadata": {},
   "outputs": [
    {
     "name": "stdout",
     "output_type": "stream",
     "text": [
      "1\n",
      "2\n",
      "3\n"
     ]
    }
   ],
   "source": [
    "# 반복자 iterator\n",
    "import numpy as np\n",
    "_str = iter('1234')\n",
    "_tuple = iter((1,2,3,4))\n",
    "_list = iter([1,2,3,4])\n",
    "_dict = iter({'a':1, 'b':2, 'c':3, '4':4})\n",
    "_set = iter({1,2,3,4})\n",
    "_array = iter(np.array([[1,2],[3,4]]))\n",
    "\n",
    "print(next(_str))\n",
    "print(next(_str))\n",
    "print(next(_str))"
   ]
  },
  {
   "cell_type": "code",
   "execution_count": 157,
   "metadata": {},
   "outputs": [
    {
     "data": {
      "text/plain": [
       "<list_iterator at 0x26890be3d90>"
      ]
     },
     "execution_count": 157,
     "metadata": {},
     "output_type": "execute_result"
    }
   ],
   "source": [
    "# 반복자 객체로 변환 가능한 리스트 형과 변환 불가능한 정수형\n",
    "\n",
    "l = [10,20,30]    # 반복가능 자료형인 리스트\n",
    "l_iter = iter(l)\n",
    "l_iter\n",
    "\n",
    "# n = 100\n",
    "# n_iter = iter(n)  # 반복불가능 자료형인 int\n",
    "# >> 오류"
   ]
  },
  {
   "cell_type": "code",
   "execution_count": 158,
   "metadata": {},
   "outputs": [
    {
     "name": "stdout",
     "output_type": "stream",
     "text": [
      "리스트는 iterable 객체입니다\n",
      "tuple은 iterable 객체입니다\n",
      "n은 iterable 객체가 아닙니다\n"
     ]
    }
   ],
   "source": [
    "# 리스트가 반복가능 객체인가 검사\n",
    "try:\n",
    "    l = [10,20,30]\n",
    "    iterator = iter(l)\n",
    "    \n",
    "except TypeError:\n",
    "    print('list는 iterable 객체가 아닙니다')\n",
    "\n",
    "else:\n",
    "    print('리스트는 iterable 객체입니다')\n",
    "    \n",
    "    \n",
    "# 튜플이 반복가능 객체인가 검사\n",
    "try:\n",
    "    t = ('홍길동', 22, 79.7)\n",
    "    iterator = iter(t)\n",
    "\n",
    "except TypeError:\n",
    "    print('tuple은 iterable 객체가 아닙니다')\n",
    "\n",
    "else:\n",
    "    print('tuple은 iterable 객체입니다')\n",
    "\n",
    "\n",
    "# 정수형이 반복가능 객체인가 검사\n",
    "try:\n",
    "    n=100\n",
    "    iterator = iter(n)\n",
    "\n",
    "except TypeError:\n",
    "    print('n은 iterable 객체가 아닙니다')\n",
    "\n",
    "else:\n",
    "    print('n은 iterable 객체입니다')\n"
   ]
  },
  {
   "cell_type": "code",
   "execution_count": 159,
   "metadata": {},
   "outputs": [
    {
     "name": "stdout",
     "output_type": "stream",
     "text": [
      "<class 'list_iterator'>\n",
      "10\n",
      "20\n",
      "30\n"
     ]
    },
    {
     "data": {
      "text/plain": [
       "StopIteration"
      ]
     },
     "execution_count": 159,
     "metadata": {},
     "output_type": "execute_result"
    }
   ],
   "source": [
    "lst = [10,20,30]\n",
    "l_iter = iter(lst) # 리스트형 객체를 반복자로 변형\n",
    "print(type(l_iter))\n",
    "print(next(l_iter))\n",
    "print(next(l_iter))\n",
    "print(next(l_iter))\n",
    "StopIteration"
   ]
  },
  {
   "cell_type": "code",
   "execution_count": 160,
   "metadata": {},
   "outputs": [
    {
     "name": "stdout",
     "output_type": "stream",
     "text": [
      "<class 'range'>\n",
      "<class 'range_iterator'>\n",
      "0\n",
      "1\n"
     ]
    },
    {
     "data": {
      "text/plain": [
       "StopIteration"
      ]
     },
     "execution_count": 160,
     "metadata": {},
     "output_type": "execute_result"
    }
   ],
   "source": [
    "print(type(range(3)))\n",
    "r_iter = iter(range(3)) # range형 객체를 반복자로 변형\n",
    "print(type(r_iter))\n",
    "print(next(r_iter))\n",
    "print(next(r_iter))\n",
    "StopIteration"
   ]
  },
  {
   "cell_type": "code",
   "execution_count": 161,
   "metadata": {},
   "outputs": [],
   "source": [
    "class OddCounter:\n",
    "    # 1부터 증가하는 홀수를 반환하는 클래스\n",
    "    def __init__(self, n=1): # 초기화 메소드, n을 1로 둔다\n",
    "        self.n=n\n",
    "    def __iter__(self): # 반복자는 __iter__()함수를 가져야 함\n",
    "        return self\n",
    "    def __next__(self): # 반복자는 __next__()함수를 가져야 함\n",
    "        t = self.n # self.n을 임시 변수 t에 저장해 두고\n",
    "        self.n += 2 # self.n을 2 증가시킨다\n",
    "        return t # t부터 출력해야 1이 가장 먼저 출력된다"
   ]
  },
  {
   "cell_type": "code",
   "execution_count": 162,
   "metadata": {},
   "outputs": [
    {
     "name": "stdout",
     "output_type": "stream",
     "text": [
      "1\n",
      "3\n",
      "5\n",
      "7\n"
     ]
    }
   ],
   "source": [
    "my_counter = OddCounter()\n",
    "print(next(my_counter))\n",
    "print(my_counter.__next__())\n",
    "print(my_counter.__next__())\n",
    "print(my_counter.__next__())"
   ]
  },
  {
   "cell_type": "code",
   "execution_count": 163,
   "metadata": {},
   "outputs": [
    {
     "name": "stdout",
     "output_type": "stream",
     "text": [
      "1 3 5 7 9 11 13 15 17 19 "
     ]
    }
   ],
   "source": [
    "class OddCounter:\n",
    "    # 1부터 증가하는 홀수를 반환하는 클래스\n",
    "    def __init__(self, n=1): # 초기화 메소드, n을 1로 둔다\n",
    "        self.n=n\n",
    "    def __iter__(self): # 반복자는 __iter__()함수를 가져야 함\n",
    "        return self\n",
    "    def __next__(self): # 반복자는 __next__()함수를 가져야 함\n",
    "        t = self.n # self.n을 임시 변수 t에 저장해 두고\n",
    "        self.n += 2 # self.n을 2 증가시킨다\n",
    "        return t # t부터 출력해야 1이 가장 먼저 출력된다\n",
    "\n",
    "my_counter = OddCounter()\n",
    "for x in my_counter:\n",
    "    if x>20:\n",
    "        break\n",
    "    print(x, end= ' ')"
   ]
  },
  {
   "cell_type": "code",
   "execution_count": 164,
   "metadata": {},
   "outputs": [
    {
     "name": "stdout",
     "output_type": "stream",
     "text": [
      "1 3 5 7 9 11 13 15 17 19 "
     ]
    }
   ],
   "source": [
    "class OddCounter:\n",
    "    def __init__(self, n=1):\n",
    "        self.n=n\n",
    "    def __iter__(self):\n",
    "        return self\n",
    "    def __next__(self):\n",
    "        if self.n < 20:\n",
    "            t = self.n\n",
    "            self.n += 2\n",
    "            return t\n",
    "        raise StopIteration\n",
    "    \n",
    "my_counter = OddCounter()\n",
    "for x in my_counter:\n",
    "    print(x,end=' ')"
   ]
  },
  {
   "cell_type": "code",
   "execution_count": 165,
   "metadata": {},
   "outputs": [
    {
     "data": {
      "text/plain": [
       "['2019.02.20']"
      ]
     },
     "execution_count": 165,
     "metadata": {},
     "output_type": "execute_result"
    }
   ],
   "source": [
    "# 반복가능 객체를 위한 내장함수\n",
    "time_str = '2019.02.20'\n",
    "time_str.split(',')"
   ]
  },
  {
   "cell_type": "markdown",
   "metadata": {},
   "source": [
    "---"
   ]
  },
  {
   "cell_type": "code",
   "execution_count": 166,
   "metadata": {},
   "outputs": [
    {
     "name": "stdout",
     "output_type": "stream",
     "text": [
      "['http:', '', 'www.naver.com', 'test']\n"
     ]
    }
   ],
   "source": [
    "# split\n",
    "url = 'http://www.naver.com/test'\n",
    "ret1 = url.split('/')\n",
    "print(ret1)"
   ]
  },
  {
   "cell_type": "code",
   "execution_count": 167,
   "metadata": {},
   "outputs": [
    {
     "name": "stdout",
     "output_type": "stream",
     "text": [
      "[4, 3, 2, 1, 0]\n",
      "<list_reverseiterator object at 0x0000026890BE2440>\n"
     ]
    }
   ],
   "source": [
    "# reverse\n",
    "listdata = list(range(5))\n",
    "listdata.reverse() # 원본 데이터가 역순으로 정렬됨\n",
    "print(listdata)\n",
    "\n",
    "listdata=list(range(5))\n",
    "ret1 = reversed(listdata) # 원본데이터가 역순으로 정렬되지는 않음, ret1은 역순 반복가능객체\n",
    "print(ret1)"
   ]
  },
  {
   "cell_type": "code",
   "execution_count": 168,
   "metadata": {},
   "outputs": [
    {
     "name": "stdout",
     "output_type": "stream",
     "text": [
      "[4, 3, 2, 1, 0]\n",
      "[4, 3, 2, 1, 0]\n",
      "[0, 1, 2, 3, 4]\n"
     ]
    }
   ],
   "source": [
    "ret2 = listdata[::-1]\n",
    "print(list(ret1))\n",
    "print(ret2)\n",
    "print(listdata)"
   ]
  },
  {
   "cell_type": "markdown",
   "metadata": {},
   "source": [
    "---"
   ]
  },
  {
   "cell_type": "code",
   "execution_count": 169,
   "metadata": {},
   "outputs": [
    {
     "name": "stdout",
     "output_type": "stream",
     "text": [
      "0.6546842338705852\n",
      "3.540007673445216\n",
      "4\n",
      "3\n",
      "8\n"
     ]
    }
   ],
   "source": [
    "# Random 모듈\n",
    "\n",
    "import random\n",
    "print(random.random())            # 0.0 <= x <= 1.0     실수형\n",
    "print(random.uniform(3.5,3.6))    # a   <= x <= b       실수형\n",
    "print(random.randrange(10))       # 0   <= x <  a       정수형\n",
    "print(random.randrange(3,7))      # a   <= x <  b       정수형\n",
    "print(random.randint(5,9))        # a   <= x <  b       정수형"
   ]
  },
  {
   "cell_type": "code",
   "execution_count": 170,
   "metadata": {},
   "outputs": [
    {
     "name": "stdout",
     "output_type": "stream",
     "text": [
      "100\n",
      "[10, 1000]\n",
      "[1000, 10, 1, 100]\n"
     ]
    }
   ],
   "source": [
    "L = [1,10,100,1000]\n",
    "print(random.choice(L))   # L에서 하나 고르기\n",
    "print(random.sample(L,2)) # 2개 랜덤뽑기\n",
    "\n",
    "random.shuffle(L)         # L의 순서를 섞음\n",
    "print(L)"
   ]
  },
  {
   "cell_type": "code",
   "execution_count": 171,
   "metadata": {},
   "outputs": [
    {
     "name": "stdout",
     "output_type": "stream",
     "text": [
      "[6, 9, 0, 2, 4]\n",
      "[7, 6, 4, 3, 2]\n",
      "[6, 9, 0, 2, 4]\n"
     ]
    }
   ],
   "source": [
    "# 난수 모듈\n",
    "import random\n",
    "random.seed(0)\n",
    "\n",
    "state = random.getstate()\n",
    "print(random.sample(range(10),k=5))\n",
    "print(random.sample(range(10),k=5))\n",
    "\n",
    "random.setstate(state)\n",
    "print(random.sample(range(10),k=5))"
   ]
  },
  {
   "cell_type": "markdown",
   "metadata": {},
   "source": [
    "[목차로 돌아가기](#목차)\n"
   ]
  },
  {
   "cell_type": "markdown",
   "metadata": {},
   "source": [
    "# 입출력"
   ]
  },
  {
   "cell_type": "code",
   "execution_count": 172,
   "metadata": {},
   "outputs": [],
   "source": [
    "# input 함수"
   ]
  },
  {
   "cell_type": "code",
   "execution_count": 174,
   "metadata": {},
   "outputs": [
    {
     "name": "stdout",
     "output_type": "stream",
     "text": [
      "세 정수를 입력하세요:12 14 15\n",
      "12 14 15\n",
      "세 정수를 입력하세요 :32 13 154\n",
      "32 13 154\n"
     ]
    }
   ],
   "source": [
    "# input 다중 데이터 입력\n",
    "num1,num2,num3 = input('세 정수를 입력하세요:').split()\n",
    "num1,num2,num3 = int(num1),int(num2),int(num3)\n",
    "print(num1,num2,num3)\n",
    "# 또는\n",
    "num1,num2,num3 = map(int, input('세 정수를 입력하세요 :').split())\n",
    "print(num1,num2,num3)"
   ]
  },
  {
   "cell_type": "code",
   "execution_count": 175,
   "metadata": {},
   "outputs": [
    {
     "name": "stdout",
     "output_type": "stream",
     "text": [
      "아무거나 입력하세요3*5-39*31\n",
      "-1194\n"
     ]
    }
   ],
   "source": [
    "# input, eval\n",
    "re = eval(input('아무거나 입력하세요'))\n",
    "# 3*5+92-45*3\n",
    "# >> -28\n",
    "print(re)"
   ]
  },
  {
   "cell_type": "code",
   "execution_count": 176,
   "metadata": {},
   "outputs": [
    {
     "name": "stdout",
     "output_type": "stream",
     "text": [
      "3명의 국어점수 입력:90,87,81\n",
      "90 87 81 합계: 258\n"
     ]
    }
   ],
   "source": [
    "# input 여러 개의 수를 사용자로부터 입력 받기\n",
    "# Example1\n",
    "cr= input('3명의 국어점수 입력:')\n",
    "# 90,87,81  그대로 입력\n",
    "k1,k2,k3 = eval(cr)\n",
    "print(k1,k2,k3, '합계:', k1+k2+k3)\n",
    "\n",
    "# 합계 258"
   ]
  },
  {
   "cell_type": "code",
   "execution_count": 177,
   "metadata": {},
   "outputs": [
    {
     "name": "stdout",
     "output_type": "stream",
     "text": [
      "사용자가 입력한 수열을 받아 평균을 출력해줍니다. 수열을 입력하세요1,3,6,3,8,4\n",
      "4.166666666666667\n"
     ]
    }
   ],
   "source": [
    "# input 여러 개의 수를 사용자로부터 입력 받기\n",
    "# Example2\n",
    "xx = input('사용자가 입력한 수열을 받아 평균을 출력해줍니다. 수열을 입력하세요')\n",
    "zz = xx.split(',')\n",
    "\n",
    "def cal(a):\n",
    "    result = 0\n",
    "    count = 0\n",
    "    while a:                # A 리스트에 값이 있는 동안\n",
    "        mark = a.pop()      # A 리스트의 가장 마지막 항목을 하나씩 뽑아냄\n",
    "        z = int(mark)\n",
    "        result += z\n",
    "        count += 1\n",
    "    average = result/count\n",
    "    return(average)\n",
    "print(cal(zz))"
   ]
  },
  {
   "cell_type": "code",
   "execution_count": 178,
   "metadata": {},
   "outputs": [],
   "source": [
    "# format을 이용한 출력\n",
    "# 고급 format() 메소드"
   ]
  },
  {
   "cell_type": "markdown",
   "metadata": {},
   "source": [
    "---"
   ]
  },
  {
   "cell_type": "code",
   "execution_count": 179,
   "metadata": {},
   "outputs": [
    {
     "data": {
      "text/plain": [
       "<function TextIOWrapper.close()>"
      ]
     },
     "execution_count": 179,
     "metadata": {},
     "output_type": "execute_result"
    }
   ],
   "source": [
    "# 파일 생성하기 - 현재 디렉토리에 생성함\n",
    "f = open('새파일.txt', 'w')\n",
    "f.close"
   ]
  },
  {
   "cell_type": "markdown",
   "metadata": {},
   "source": [
    "|파일열기모드|설명|\n",
    "|:---------:|:----|\n",
    "|r|읽기모드 - 파일을 읽기만 할 때 사용|\n",
    "|w|쓰기모드 - 파일에 내용을 쓸 때 사용|\n",
    "|a|추가모드 - 파일의 마지막에 새로운 내용을 추가 시킬 때 사용|"
   ]
  },
  {
   "cell_type": "code",
   "execution_count": 180,
   "metadata": {},
   "outputs": [],
   "source": [
    "# C:/doit 이라는 파일에 파일 생성\n",
    "f = open('C:/doit/새파일.txt', 'w')\n",
    "f.close()"
   ]
  },
  {
   "cell_type": "code",
   "execution_count": 181,
   "metadata": {},
   "outputs": [],
   "source": [
    "f = open('C:/doit/새파일.txt', 'w')\n",
    "for i in range(1,11):\n",
    "    data = '%d번째 줄입니다.\\n' % i\n",
    "    f.write(data)"
   ]
  },
  {
   "cell_type": "code",
   "execution_count": 182,
   "metadata": {},
   "outputs": [
    {
     "name": "stdout",
     "output_type": "stream",
     "text": [
      "1번째 줄입니다.\n",
      "\n",
      "2번째 줄입니다.\n",
      "\n",
      "3번째 줄입니다.\n",
      "\n",
      "4번째 줄입니다.\n",
      "\n",
      "5번째 줄입니다.\n",
      "\n",
      "6번째 줄입니다.\n",
      "\n",
      "7번째 줄입니다.\n",
      "\n",
      "8번째 줄입니다.\n",
      "\n",
      "9번째 줄입니다.\n",
      "\n",
      "10번째 줄입니다.\n",
      "\n"
     ]
    }
   ],
   "source": [
    "# readline() 함수 사용하기\n",
    "f = open('C:/doit/새파일.txt', 'r')\n",
    "while True:\n",
    "    line = f.readline()\n",
    "    if not line: break\n",
    "    print(line)\n",
    "f.close()"
   ]
  },
  {
   "cell_type": "code",
   "execution_count": 183,
   "metadata": {},
   "outputs": [
    {
     "name": "stdout",
     "output_type": "stream",
     "text": [
      "1번째 줄입니다.\n",
      "\n",
      "2번째 줄입니다.\n",
      "\n",
      "3번째 줄입니다.\n",
      "\n",
      "4번째 줄입니다.\n",
      "\n",
      "5번째 줄입니다.\n",
      "\n",
      "6번째 줄입니다.\n",
      "\n",
      "7번째 줄입니다.\n",
      "\n",
      "8번째 줄입니다.\n",
      "\n",
      "9번째 줄입니다.\n",
      "\n",
      "10번째 줄입니다.\n",
      "\n"
     ]
    }
   ],
   "source": [
    "# realines() 함수 사용하기\n",
    "f = open('C:/doit/새파일.txt', 'r')\n",
    "lines = f.readlines()\n",
    "for line in lines:\n",
    "    print(line)\n",
    "f.close()"
   ]
  },
  {
   "cell_type": "code",
   "execution_count": 184,
   "metadata": {},
   "outputs": [
    {
     "name": "stdout",
     "output_type": "stream",
     "text": [
      "1번째 줄입니다.\n",
      "2번째 줄입니다.\n",
      "3번째 줄입니다.\n",
      "4번째 줄입니다.\n",
      "5번째 줄입니다.\n",
      "6번째 줄입니다.\n",
      "7번째 줄입니다.\n",
      "8번째 줄입니다.\n",
      "9번째 줄입니다.\n",
      "10번째 줄입니다.\n",
      "\n"
     ]
    }
   ],
   "source": [
    "# read() 함수 사용하기\n",
    "f = open('C:/doit/새파일.txt', 'r')\n",
    "data = f.read()\n",
    "print(data)\n",
    "f.close()"
   ]
  },
  {
   "cell_type": "code",
   "execution_count": 185,
   "metadata": {},
   "outputs": [
    {
     "name": "stdout",
     "output_type": "stream",
     "text": [
      "['1번째 줄입니다.\\n', '2번째 줄입니다.\\n', '3번째 줄입니다.\\n', '4번째 줄입니다.\\n', '5번째 줄입니다.\\n', '6번째 줄입니다.\\n', '7번째 줄입니다.\\n', '8번째 줄입니다.\\n', '9번째 줄입니다.\\n', '10번째 줄입니다.\\n']\n",
      "['1번째 줄입니다.\\n', '2번째 줄입니다.\\n', '3번째 줄입니다.\\n', '4번째 줄입니다.\\n', '5번째 줄입니다.\\n', '6번째 줄입니다.\\n', '7번째 줄입니다.\\n', '8번째 줄입니다.\\n', '9번째 줄입니다.\\n', '10번째 줄입니다.\\n']\n"
     ]
    }
   ],
   "source": [
    "## 텍스트 파일 한 줄씩 읽기\n",
    "# with open의 장점은\n",
    "# 위의 예시인 f.open과 다르게\n",
    "# open을 하고 close를 반드시 하지 않아도 된다.\n",
    "with open('C:/doit/새파일.txt', mode='r') as file:\n",
    "    content = list()\n",
    "    \n",
    "    while True:\n",
    "        sentence = file.readline()\n",
    "        \n",
    "        if sentence:\n",
    "            content.append(sentence)\n",
    "        \n",
    "        else:\n",
    "            break\n",
    "        \n",
    "    print(content)\n",
    "    \n",
    "\n",
    "with open('C:/doit/새파일.txt', mode='r') as file:\n",
    "    content = list()\n",
    "    \n",
    "    for f in file:\n",
    "        content.append(f)\n",
    "        \n",
    "    print(content)"
   ]
  },
  {
   "cell_type": "code",
   "execution_count": 186,
   "metadata": {},
   "outputs": [],
   "source": [
    "### txt.파일을 읽어들일 때 가끔 오류나는 이유\n",
    "### ANSI코드 >> UTF-8코드로 변경하여 저장"
   ]
  },
  {
   "cell_type": "code",
   "execution_count": 187,
   "metadata": {},
   "outputs": [
    {
     "name": "stdout",
     "output_type": "stream",
     "text": [
      "['1번째 줄입니다.\\n', '2번째 줄입니다.\\n', '3번째 줄입니다.\\n', '4번째 줄입니다.\\n', '5번째 줄입니다.\\n', '6번째 줄입니다.\\n', '7번째 줄입니다.\\n', '8번째 줄입니다.\\n', '9번째 줄입니다.\\n', '10번째 줄입니다.\\n']\n",
      "\n",
      "1번째 줄입니다.\n",
      "2번째 줄입니다.\n",
      "3번째 줄입니다.\n",
      "4번째 줄입니다.\n",
      "5번째 줄입니다.\n",
      "6번째 줄입니다.\n",
      "7번째 줄입니다.\n",
      "8번째 줄입니다.\n",
      "9번째 줄입니다.\n",
      "10번째 줄입니다.\n",
      "\n"
     ]
    }
   ],
   "source": [
    "with open('C:/doit/새파일.txt', mode='r') as file:\n",
    "    lines = file.readlines()\n",
    "    print(lines)\n",
    "    \n",
    "print()\n",
    "\n",
    "with open('C:/doit/새파일.txt', mode='r') as file:\n",
    "    lines = file.read()\n",
    "    print(lines)"
   ]
  },
  {
   "cell_type": "code",
   "execution_count": 188,
   "metadata": {},
   "outputs": [],
   "source": [
    "# 파일에 새로운 내용 추가하기\n",
    "f = open('C:/doit/새파일.txt', 'a')\n",
    "for i in range(11,20):\n",
    "    data = '%d번째 줄입니다.\\n' % i\n",
    "    f.write(data)\n",
    "f.close()"
   ]
  },
  {
   "cell_type": "code",
   "execution_count": 189,
   "metadata": {},
   "outputs": [],
   "source": [
    "# 텍스트 파일 쓰기\n",
    "with open('C:/doit/새파일.txt', mode='w') as file:\n",
    "    words = ['python\\n', 'yundahee\\n', '076923\\n']\n",
    "    \n",
    "    file.write('start\\n')\n",
    "    file.writelines(words)\n",
    "    file.write('end')"
   ]
  },
  {
   "cell_type": "markdown",
   "metadata": {},
   "source": [
    "---"
   ]
  },
  {
   "cell_type": "code",
   "execution_count": 190,
   "metadata": {},
   "outputs": [
    {
     "data": {
      "text/plain": [
       "'\\n중요!! 새 파일로 만들기\\n파일이름 : sys1.py\\n\\nimport sys\\nargs = sys.argv[1:]\\nfor i in args:\\n    print(i)\\n\\n다음 코드만 입력\\n\\n>>\\n\\nAnaconda Prompt를 실행시킨 후 보이는 위치에 저장한 sys1.py를 옮겨준다\\n그리고\\npython sys1.py 10 20 안녕하세요~~ 등과 같이 sys1.py이후 쓰고 싶은 텍스트를 쓰면\\n파일 내부로 들어가 실행할 수 있게된다.\\n'"
      ]
     },
     "execution_count": 190,
     "metadata": {},
     "output_type": "execute_result"
    }
   ],
   "source": [
    "# Sys 모듈로 입력 인수 주기\n",
    "'''\n",
    "중요!! 새 파일로 만들기\n",
    "파일이름 : sys1.py\n",
    "\n",
    "import sys\n",
    "args = sys.argv[1:]\n",
    "for i in args:\n",
    "    print(i)\n",
    "\n",
    "다음 코드만 입력\n",
    "\n",
    ">>\n",
    "\n",
    "Anaconda Prompt를 실행시킨 후 보이는 위치에 저장한 sys1.py를 옮겨준다\n",
    "그리고\n",
    "python sys1.py 10 20 안녕하세요~~ 등과 같이 sys1.py이후 쓰고 싶은 텍스트를 쓰면\n",
    "파일 내부로 들어가 실행할 수 있게된다.\n",
    "'''"
   ]
  },
  {
   "cell_type": "code",
   "execution_count": 191,
   "metadata": {},
   "outputs": [
    {
     "data": {
      "text/plain": [
       "\"\\nsys2.py 파일로 다음 코드도 마찬가지로 같은 위치에 저장\\n\\nimport sys\\nargs = sys.argv[1:]\\nfor i in args:\\n    print(i,upper(), end=' ')\\n\""
      ]
     },
     "execution_count": 191,
     "metadata": {},
     "output_type": "execute_result"
    }
   ],
   "source": [
    "'''\n",
    "sys2.py 파일로 다음 코드도 마찬가지로 같은 위치에 저장\n",
    "\n",
    "import sys\n",
    "args = sys.argv[1:]\n",
    "for i in args:\n",
    "    print(i,upper(), end=' ')\n",
    "'''\n",
    "\n",
    "# life is too short, you need python\n",
    "# >> 결과\n",
    "# LIFE IS TOO SHORT, YOU NEED PYTHON"
   ]
  },
  {
   "cell_type": "code",
   "execution_count": 192,
   "metadata": {},
   "outputs": [
    {
     "data": {
      "text/plain": [
       "'\\n1. 스크립트를 실행할 때 인자를 받기 위해서 sys 모듈이 필요하다\\n2. 실행 인자는 sys.argv에 저장되어 있다. 리 리스트의 첫 인자는 스크립트\\n3. open()함수를 이용해서 파일을 텍스트 읽기모드로 열었다. 이 때 파일의 인코딩은 utf8이라고 본다.\\n4. 파일의 전체 내용을 읽어서 text_str에 할당한다. 이 값은 문자열 타입이다.\\n5. 파일의 내용을 출력한 후에 파일을 닫아준다.\\n\\nAnaconda Prompy에 sys_test.py C:/doit/새파일.txt\\n\\n!!! 이때 C:/doit/새파일.txt는 위에서 만든 폴더와 파일이다. !!!\\n'"
      ]
     },
     "execution_count": 192,
     "metadata": {},
     "output_type": "execute_result"
    }
   ],
   "source": [
    "# sys_test 파일로 다음 코드도 마찬가지로 같은 위치에 저장\n",
    "\n",
    "# import sys  # 1)\n",
    "# if len(sys.argv) > 1: # 2)\n",
    "#     filename = sys.argv[1]\n",
    "#     file = open(filename, 'r', encoding ='utf8') # 3)\n",
    "#     text_str = file.read() # 4)\n",
    "#     print(text_str)\n",
    "#     file.close() # 5)\n",
    "    \n",
    "'''\n",
    "1. 스크립트를 실행할 때 인자를 받기 위해서 sys 모듈이 필요하다\n",
    "2. 실행 인자는 sys.argv에 저장되어 있다. 리 리스트의 첫 인자는 스크립트\n",
    "3. open()함수를 이용해서 파일을 텍스트 읽기모드로 열었다. 이 때 파일의 인코딩은 utf8이라고 본다.\n",
    "4. 파일의 전체 내용을 읽어서 text_str에 할당한다. 이 값은 문자열 타입이다.\n",
    "5. 파일의 내용을 출력한 후에 파일을 닫아준다.\n",
    "\n",
    "Anaconda Prompy에 sys_test.py C:/doit/새파일.txt\n",
    "\n",
    "!!! 이때 C:/doit/새파일.txt는 위에서 만든 폴더와 파일이다. !!!\n",
    "'''"
   ]
  },
  {
   "cell_type": "markdown",
   "metadata": {},
   "source": [
    "---"
   ]
  },
  {
   "cell_type": "code",
   "execution_count": 193,
   "metadata": {},
   "outputs": [
    {
     "name": "stdout",
     "output_type": "stream",
     "text": [
      "[['asdas', 'ddsad'], ['asdas', 'sad'], ['asdas', 'asde']]\n"
     ]
    }
   ],
   "source": [
    "# CSV 파일 읽기\n",
    "# test1 이라는 엑셀파일에서 데이터를 임의로 넣고\n",
    "# csv(encoding utf8)로 저장한다\n",
    "import csv\n",
    "import pprint\n",
    "\n",
    "with open('C:/Users/admin/Desktop/빅데이터/000000000/예제문서파일/test1.csv', encoding='utf-8-sig') as file:\n",
    "    reader = csv.reader(file)\n",
    "    sample = list(reader)\n",
    "    \n",
    "pprint.pprint(sample)"
   ]
  },
  {
   "cell_type": "markdown",
   "metadata": {},
   "source": [
    "[목차로 돌아가기](#목차)\n"
   ]
  },
  {
   "cell_type": "markdown",
   "metadata": {},
   "source": [
    "# Module & Package"
   ]
  },
  {
   "cell_type": "markdown",
   "metadata": {},
   "source": [
    "- Module\n",
    "- import 모듈명 # 스크립트 확장자.py는 생략\n",
    "\n",
    "1. from 모듈명 import 함수면 as 명칭\n",
    "2. from 모듈명 import 클래스명 as 명칭\n",
    "3. from 모듈명 import 함수명1,함수명2 # 여러 함수를 불러올 때\n",
    "4. from 모듈명 import * # 모듈 내의 모든 내용을 불러올 때"
   ]
  },
  {
   "cell_type": "markdown",
   "metadata": {},
   "source": [
    "- Package\n",
    "1. import 패키지명\n",
    "2. from 패키지명 import 모듈명\n",
    "3. from 패키지명 import 모듈명1, 모듈명2\n",
    "4. from 패키지명 import *"
   ]
  },
  {
   "cell_type": "code",
   "execution_count": 194,
   "metadata": {},
   "outputs": [
    {
     "name": "stdout",
     "output_type": "stream",
     "text": [
      "안녕하세요. 반갑습니다.\n",
      "만나서 반갑습니다. 안녕히 가세요!\n"
     ]
    }
   ],
   "source": [
    "# Example1\n",
    "import test_package.say_hello, test_package.say_goodbye\n",
    "test_package.say_hello.hello()\n",
    "test_package.say_goodbye.goodbye()"
   ]
  },
  {
   "cell_type": "code",
   "execution_count": 195,
   "metadata": {},
   "outputs": [
    {
     "name": "stdout",
     "output_type": "stream",
     "text": [
      "안녕하세요. 반갑습니다.\n",
      "만나서 반갑습니다. 안녕히 가세요!\n"
     ]
    }
   ],
   "source": [
    "from test_package import say_hello, say_goodbye\n",
    "say_hello.hello()\n",
    "say_goodbye.goodbye()"
   ]
  },
  {
   "cell_type": "code",
   "execution_count": 196,
   "metadata": {},
   "outputs": [
    {
     "name": "stdout",
     "output_type": "stream",
     "text": [
      "3.141592\n",
      "12.566368\n",
      "7.5415920000000005\n"
     ]
    }
   ],
   "source": [
    "# __name__ == '__main__'\n",
    "# 파일을 직섭 실행(main으로 실행)시에는 실행하고\n",
    "# import 시에는 실행하지 않는 조건\n",
    "\n",
    "# 다음 코드를 mod2.py 파일로 새로 만듬\n",
    "PI = 3.141592\n",
    "class Math:\n",
    "    def solv(self, r):\n",
    "        return PI * (r**2)\n",
    "    \n",
    "def sum(a,b):\n",
    "    return a+b\n",
    "\n",
    "if __name__ == '__main__':\n",
    "    print(PI)\n",
    "    a = Math()\n",
    "    print(a.solv(2))\n",
    "    print(sum(PI,4.4))"
   ]
  },
  {
   "cell_type": "code",
   "execution_count": 197,
   "metadata": {},
   "outputs": [
    {
     "name": "stdout",
     "output_type": "stream",
     "text": [
      "3.141592\n",
      "12.566368\n",
      "7.5415920000000005\n"
     ]
    }
   ],
   "source": [
    "runfile('mod2.py')"
   ]
  },
  {
   "cell_type": "code",
   "execution_count": 198,
   "metadata": {},
   "outputs": [
    {
     "name": "stdout",
     "output_type": "stream",
     "text": [
      "3.141592\n",
      "12.566368\n",
      "7.5415920000000005\n"
     ]
    }
   ],
   "source": [
    "import mod2\n",
    "print(mod2.PI)\n",
    "\n",
    "a = mod2.Math()\n",
    "print(a.solv(2))\n",
    "\n",
    "print(mod2.sum(mod2.PI,4.4))"
   ]
  },
  {
   "cell_type": "code",
   "execution_count": 199,
   "metadata": {},
   "outputs": [],
   "source": [
    "# 현재 디렉토리 추가 및 삭제\n",
    "import sys\n",
    "# sys.path"
   ]
  },
  {
   "cell_type": "code",
   "execution_count": null,
   "metadata": {},
   "outputs": [],
   "source": [
    "pwd() # >> 현재 디렉토리, 저장불가능"
   ]
  },
  {
   "cell_type": "code",
   "execution_count": null,
   "metadata": {},
   "outputs": [],
   "source": [
    "import os\n",
    "os.getcwd() # >> 현재 디렉토리, 저장가능"
   ]
  },
  {
   "cell_type": "code",
   "execution_count": null,
   "metadata": {},
   "outputs": [],
   "source": [
    "# 디렉토리 추가\n",
    "sys.path.append(os.getcwd())\n",
    "sys.path"
   ]
  },
  {
   "cell_type": "code",
   "execution_count": null,
   "metadata": {},
   "outputs": [],
   "source": [
    "# 디렉토리 삭제\n",
    "sys.path.remove(os.getcwd())\n",
    "sys.path"
   ]
  },
  {
   "cell_type": "code",
   "execution_count": 204,
   "metadata": {},
   "outputs": [
    {
     "data": {
      "text/plain": [
       "'C:\\\\Users\\\\admin\\\\Desktop\\\\빅데이터'"
      ]
     },
     "execution_count": 204,
     "metadata": {},
     "output_type": "execute_result"
    }
   ],
   "source": [
    "# 작업 디렉토리 변경\n",
    "import os\n",
    "os.getcwd()\n",
    "os.chdir('C:/Users/admin/Desktop/빅데이터')\n",
    "os.getcwd()"
   ]
  },
  {
   "cell_type": "markdown",
   "metadata": {},
   "source": [
    "---"
   ]
  },
  {
   "cell_type": "markdown",
   "metadata": {},
   "source": [
    "- Numpy, Scipy, Sympy, Pandas, Matplotlib, Seaborn, StatsModels, Tensorflow, Keras 등"
   ]
  },
  {
   "cell_type": "code",
   "execution_count": 207,
   "metadata": {},
   "outputs": [],
   "source": [
    "# Numpy - csv파일 불러오기\n",
    "import numpy as np\n",
    "csv_data = np.loadtxt('파일이름.csv', delimiter=',')\n",
    "print(csv_data[0][0]) # 첫 번째 줄 첫 번째 데이터 출력"
   ]
  },
  {
   "cell_type": "code",
   "execution_count": 206,
   "metadata": {},
   "outputs": [
    {
     "data": {
      "text/html": [
       "<div>\n",
       "<style scoped>\n",
       "    .dataframe tbody tr th:only-of-type {\n",
       "        vertical-align: middle;\n",
       "    }\n",
       "\n",
       "    .dataframe tbody tr th {\n",
       "        vertical-align: top;\n",
       "    }\n",
       "\n",
       "    .dataframe thead th {\n",
       "        text-align: right;\n",
       "    }\n",
       "</style>\n",
       "<table border=\"1\" class=\"dataframe\">\n",
       "  <thead>\n",
       "    <tr style=\"text-align: right;\">\n",
       "      <th></th>\n",
       "      <th>0</th>\n",
       "      <th>1</th>\n",
       "    </tr>\n",
       "  </thead>\n",
       "  <tbody>\n",
       "    <tr>\n",
       "      <th>0</th>\n",
       "      <td>asdas</td>\n",
       "      <td>ddsad</td>\n",
       "    </tr>\n",
       "    <tr>\n",
       "      <th>1</th>\n",
       "      <td>asdas</td>\n",
       "      <td>sad</td>\n",
       "    </tr>\n",
       "    <tr>\n",
       "      <th>2</th>\n",
       "      <td>asdas</td>\n",
       "      <td>asde</td>\n",
       "    </tr>\n",
       "  </tbody>\n",
       "</table>\n",
       "</div>"
      ],
      "text/plain": [
       "       0      1\n",
       "0  asdas  ddsad\n",
       "1  asdas    sad\n",
       "2  asdas   asde"
      ]
     },
     "execution_count": 206,
     "metadata": {},
     "output_type": "execute_result"
    }
   ],
   "source": [
    "# Pandas - csv파일 불러오기 , 첫줄 header 무시\n",
    "import pandas as pd\n",
    "csv_data = pd.read_csv('C:/Users/admin/Desktop/빅데이터/00000000000/예제문서파일/test1.csv', header = None)\n",
    "csv_data"
   ]
  },
  {
   "cell_type": "markdown",
   "metadata": {},
   "source": [
    "[목차로 돌아가기](#목차)\n"
   ]
  }
 ],
 "metadata": {
  "kernelspec": {
   "display_name": "Python 3 (ipykernel)",
   "language": "python",
   "name": "python3"
  },
  "language_info": {
   "codemirror_mode": {
    "name": "ipython",
    "version": 3
   },
   "file_extension": ".py",
   "mimetype": "text/x-python",
   "name": "python",
   "nbconvert_exporter": "python",
   "pygments_lexer": "ipython3",
   "version": "3.10.9"
  }
 },
 "nbformat": 4,
 "nbformat_minor": 2
}
